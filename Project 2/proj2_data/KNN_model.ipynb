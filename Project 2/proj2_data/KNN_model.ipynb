{
 "cells": [
  {
   "cell_type": "code",
   "execution_count": 1,
   "metadata": {},
   "outputs": [],
   "source": [
    "from sklearn.model_selection import train_test_split, GridSearchCV, cross_val_score\n",
    "from sklearn.preprocessing import StandardScaler\n",
    "from sklearn.linear_model import LogisticRegression\n",
    "from sklearn.neighbors import KNeighborsClassifier\n",
    "from sklearn.naive_bayes import GaussianNB\n",
    "from sklearn import metrics\n",
    "from sklearn.metrics import f1_score, make_scorer, mean_squared_error\n",
    "from sklearn.svm import SVC\n",
    "from sklearn.tree import DecisionTreeClassifier\n",
    "from sklearn.ensemble import GradientBoostingClassifier\n",
    "from collections import Counter\n",
    "import math\n",
    "import pandas as pd\n",
    "import numpy as np\n",
    "import matplotlib.pyplot as plt\n",
    "import requests "
   ]
  },
  {
   "cell_type": "markdown",
   "metadata": {},
   "source": [
    "#r = requests.get(url = \"http://www.omdbapi.com/?i=tt3896198&apikey=2d492c2e\")\n",
    "r = requests.get(url='http://www.omdbapi.com/?apikey=2d492c2e&i=tt3896198')\n",
    "#print(r.json\n",
    "y = r.json()\n",
    "print(y[\"Ratings\"])\n",
    "for x in y[\"Ratings\"]:\n",
    "    print(x.get('Value'))\n",
    "    print(type(x.get('Value')))\n",
    "#print(type(r.json()))\n",
    "#print(r.json().get(\"Ratings\"))"
   ]
  },
  {
   "cell_type": "code",
<<<<<<< Updated upstream
<<<<<<< Updated upstream
   "execution_count": 11,
=======
   "execution_count": 3,
>>>>>>> Stashed changes
   "metadata": {},
   "outputs": [
    {
     "data": {
      "text/plain": [
       "\"[{'id': 107674, 'name': 'The Princess Diaries Collection', 'poster_path': '/wt5AMbxPTS4Kfjx7Fgm149qPfZl.jpg', 'backdrop_path': '/zSEtYD77pKRJlUPx34BJgUG9v1c.jpg'}]\""
      ]
     },
<<<<<<< Updated upstream
     "execution_count": 11,
=======
     "execution_count": 3,
>>>>>>> Stashed changes
     "metadata": {},
     "output_type": "execute_result"
    }
   ],
   "source": [
    "#df = pd.read_csv(\"train.csv\", header=0) \n",
    "df.belongs_to_collection.unique()[1]"
=======
   "execution_count": 3,
   "metadata": {},
   "outputs": [],
   "source": [
    "df = pd.read_csv(\"train.csv\")"
>>>>>>> Stashed changes
   ]
  },
  {
   "cell_type": "code",
<<<<<<< Updated upstream
<<<<<<< Updated upstream
   "execution_count": 28,
=======
   "execution_count": 22,
>>>>>>> Stashed changes
   "metadata": {},
   "outputs": [
    {
     "name": "stdout",
     "output_type": "stream",
     "text": [
<<<<<<< Updated upstream
      "                id        budget   popularity      runtime       revenue\n",
      "count  3000.000000  3.000000e+03  3000.000000  2998.000000  3.000000e+03\n",
      "mean   1500.500000  2.253133e+07     8.463274   107.856571  6.672585e+07\n",
      "std     866.169729  3.702609e+07    12.104000    22.086434  1.375323e+08\n",
      "min       1.000000  0.000000e+00     0.000001     0.000000  1.000000e+00\n",
      "25%     750.750000  0.000000e+00     4.018053    94.000000  2.379808e+06\n",
      "50%    1500.500000  8.000000e+06     7.374861   104.000000  1.680707e+07\n",
      "75%    2250.250000  2.900000e+07    10.890983   118.000000  6.891920e+07\n",
      "max    3000.000000  3.800000e+08   294.337037   338.000000  1.519558e+09\n",
      "\n",
      "\n",
      "['id', 'belongs_to_collection', 'budget', 'genres', 'homepage', 'imdb_id', 'original_language', 'original_title', 'overview', 'popularity', 'poster_path', 'production_companies', 'production_countries', 'release_date', 'runtime', 'spoken_languages', 'status', 'tagline', 'title', 'Keywords', 'cast', 'crew', 'revenue']\n",
      "\n",
      "\n",
      "0       [{'name': 'Paramount Pictures', 'id': 4}, {'na...\n",
      "1             [{'name': 'Walt Disney Pictures', 'id': 2}]\n",
      "2       [{'name': 'Bold Films', 'id': 2266}, {'name': ...\n",
      "3                                                     NaN\n",
      "4                                                     NaN\n",
      "                              ...                        \n",
      "2995    [{'name': 'Warner Bros.', 'id': 6194}, {'name'...\n",
      "2996    [{'name': 'Memfis Film', 'id': 321}, {'name': ...\n",
      "2997    [{'name': 'New Line Cinema', 'id': 12}, {'name...\n",
      "2998    [{'name': 'Jersey Films', 'id': 216}, {'name':...\n",
      "2999    [{'name': 'Lions Gate Films', 'id': 35}, {'nam...\n",
      "Name: production_companies, Length: 3000, dtype: object\n",
      "id                         int64\n",
      "belongs_to_collection     object\n",
      "budget                     int64\n",
      "genres                    object\n",
      "homepage                  object\n",
      "imdb_id                   object\n",
      "original_language         object\n",
      "original_title            object\n",
      "overview                  object\n",
      "popularity               float64\n",
      "poster_path               object\n",
      "production_companies      object\n",
      "production_countries      object\n",
      "release_date              object\n",
      "runtime                  float64\n",
      "spoken_languages          object\n",
      "status                    object\n",
      "tagline                   object\n",
      "title                     object\n",
      "Keywords                  object\n",
      "cast                      object\n",
      "crew                      object\n",
      "revenue                    int64\n",
      "dtype: object\n"
=======
      "[{'name': 'Paramount Pictures', 'id': 4}, {'name': 'United Artists', 'id': 60}, {'name': 'Metro-Goldwyn-Mayer (MGM)', 'id': 8411}]\n",
      "<class 'str'>\n",
      "{'name': 'Paramount Pictures', 'id': 4}, {'name': 'United Artists', 'id': 60}, {'name': 'Metro-Goldwyn-Mayer (MGM)', 'id': 8411}\n",
      "[\"[{'name':\", \"'Paramount\", \"Pictures',\", \"'id':\", '4},', \"{'name':\", \"'United\", \"Artists',\", \"'id':\", '60},', \"{'name':\", \"'Metro-Goldwyn-Mayer\", \"(MGM)',\", \"'id':\", '8411}]']\n",
      "['name', 'Paramount', 'Pictures', 'id', '4', 'name', 'United', 'Artists', 'id', '60', 'name', 'Metro', 'Goldwyn', 'Mayer', 'MGM', 'id', '8411']\n"
>>>>>>> Stashed changes
     ]
    }
   ],
=======
   "execution_count": null,
   "metadata": {},
   "outputs": [],
>>>>>>> Stashed changes
   "source": [
<<<<<<< Updated upstream
    "print(df.describe())\n",
    "print(\"\\n\")\n",
    "print((list(df.columns)))\n",
    "print(\"\\n\")\n",
    "print(df.production_companies)\n",
    "print(df.dtypes)\n",
    "\n",
    "#### Look into plotting revenue by production agencies.\n",
    "#Get the discorete agencies from each production, put that into a dictionary with the revenue from that movie.\n",
    "#Then we can just plot that revenue against the agencies. "
=======
    "import re\n",
    "#print(df.columns)\n",
    "#print(df.production_companies)\n",
    "#temp = json.dumps(df.production_companies)\n",
    "#print(temp)\n",
    "y = df.production_companies[0]\n",
    "print(y)\n",
    "print(type(y))\n",
    "print(y[1:-1])\n",
    "print(y.split())\n",
    "regex = r'\\w+'\n",
    "x = re.findall(regex,y)\n",
    "print(x)"
>>>>>>> Stashed changes
   ]
  },
  {
   "cell_type": "code",
<<<<<<< Updated upstream
   "execution_count": 6,
=======
   "execution_count": 2,
>>>>>>> Stashed changes
   "metadata": {},
   "outputs": [],
   "source": [
    "train_data = pd.read_csv(\"train.csv\", usecols=[\"budget\", \"popularity\", \"runtime\", \"revenue\"]) \n",
    "test_data = pd.read_csv(\"test.csv\", usecols=[\"budget\", \"popularity\", \"runtime\"]) \n",
    "test_data = test_data.dropna()\n",
    "train_data = train_data.dropna()\n",
    "Y_train = train_data[\"revenue\"]\n",
    "\n",
    "X_train = train_data.drop(\"revenue\", axis=1)\n",
    "\n",
    "X_test = test_data\n",
    "\n",
    "X_train = X_train.apply(lambda x: (x - np.min(x)) / (np.max(x) - np.min(x)))\n",
    "X_test = X_test.apply(lambda x: (x - np.min(x)) / (np.max(x) - np.min(x)))"
   ]
  },
  {
   "cell_type": "code",
<<<<<<< Updated upstream
<<<<<<< Updated upstream
   "execution_count": 31,
   "metadata": {},
   "outputs": [
    {
     "name": "stdout",
     "output_type": "stream",
     "text": [
      "[\"[{'name': 'Paramount Pictures', 'id': 4}, {'name': 'United Artists', 'id': 60}, {'name': 'Metro-Goldwyn-Mayer (MGM)', 'id': 8411}]\"]\n"
     ]
    }
   ],
   "source": [
    "df.production_companies[0]\n",
    "l = [df.production_companies[0]]\n",
    "print(l)"
=======
   "execution_count": 6,
=======
   "execution_count": 18,
>>>>>>> Stashed changes
   "metadata": {},
   "outputs": [
    {
     "data": {
      "text/html": [
       "<div>\n",
       "<style scoped>\n",
       "    .dataframe tbody tr th:only-of-type {\n",
       "        vertical-align: middle;\n",
       "    }\n",
       "\n",
       "    .dataframe tbody tr th {\n",
       "        vertical-align: top;\n",
       "    }\n",
       "\n",
       "    .dataframe thead th {\n",
       "        text-align: right;\n",
       "    }\n",
       "</style>\n",
       "<table border=\"1\" class=\"dataframe\">\n",
       "  <thead>\n",
       "    <tr style=\"text-align: right;\">\n",
       "      <th></th>\n",
       "      <th>budget</th>\n",
       "      <th>popularity</th>\n",
       "      <th>runtime</th>\n",
       "      <th>revenue</th>\n",
       "    </tr>\n",
       "  </thead>\n",
       "  <tbody>\n",
       "    <tr>\n",
       "      <th>count</th>\n",
       "      <td>2.998000e+03</td>\n",
       "      <td>2998.000000</td>\n",
       "      <td>2998.000000</td>\n",
       "      <td>2.998000e+03</td>\n",
       "    </tr>\n",
       "    <tr>\n",
       "      <th>mean</th>\n",
       "      <td>2.254436e+07</td>\n",
       "      <td>8.468822</td>\n",
       "      <td>107.856571</td>\n",
       "      <td>6.677033e+07</td>\n",
       "    </tr>\n",
       "    <tr>\n",
       "      <th>std</th>\n",
       "      <td>3.703492e+07</td>\n",
       "      <td>12.106130</td>\n",
       "      <td>22.086434</td>\n",
       "      <td>1.375674e+08</td>\n",
       "    </tr>\n",
       "    <tr>\n",
       "      <th>min</th>\n",
       "      <td>0.000000e+00</td>\n",
       "      <td>0.000001</td>\n",
       "      <td>0.000000</td>\n",
       "      <td>1.000000e+00</td>\n",
       "    </tr>\n",
       "    <tr>\n",
       "      <th>25%</th>\n",
       "      <td>0.000000e+00</td>\n",
       "      <td>4.033052</td>\n",
       "      <td>94.000000</td>\n",
       "      <td>2.400517e+06</td>\n",
       "    </tr>\n",
       "    <tr>\n",
       "      <th>50%</th>\n",
       "      <td>8.000000e+06</td>\n",
       "      <td>7.388592</td>\n",
       "      <td>104.000000</td>\n",
       "      <td>1.681996e+07</td>\n",
       "    </tr>\n",
       "    <tr>\n",
       "      <th>75%</th>\n",
       "      <td>2.900000e+07</td>\n",
       "      <td>10.892477</td>\n",
       "      <td>118.000000</td>\n",
       "      <td>6.892583e+07</td>\n",
       "    </tr>\n",
       "    <tr>\n",
       "      <th>max</th>\n",
       "      <td>3.800000e+08</td>\n",
       "      <td>294.337037</td>\n",
       "      <td>338.000000</td>\n",
       "      <td>1.519558e+09</td>\n",
       "    </tr>\n",
       "  </tbody>\n",
       "</table>\n",
       "</div>"
      ],
      "text/plain": [
       "             budget   popularity      runtime       revenue\n",
       "count  2.998000e+03  2998.000000  2998.000000  2.998000e+03\n",
       "mean   2.254436e+07     8.468822   107.856571  6.677033e+07\n",
       "std    3.703492e+07    12.106130    22.086434  1.375674e+08\n",
       "min    0.000000e+00     0.000001     0.000000  1.000000e+00\n",
       "25%    0.000000e+00     4.033052    94.000000  2.400517e+06\n",
       "50%    8.000000e+06     7.388592   104.000000  1.681996e+07\n",
       "75%    2.900000e+07    10.892477   118.000000  6.892583e+07\n",
       "max    3.800000e+08   294.337037   338.000000  1.519558e+09"
      ]
     },
<<<<<<< Updated upstream
     "execution_count": 6,
=======
     "execution_count": 18,
>>>>>>> Stashed changes
     "metadata": {},
     "output_type": "execute_result"
    }
   ],
   "source": [
    "train_data.describe()"
>>>>>>> Stashed changes
   ]
  },
  {
   "cell_type": "code",
<<<<<<< Updated upstream
   "execution_count": 7,
=======
   "execution_count": null,
>>>>>>> Stashed changes
   "metadata": {},
   "outputs": [],
   "source": [
    "scaler = StandardScaler()\n",
    "scaler.fit(X_train)\n",
    "sc_transform = scaler.transform(X_train)\n",
    "X_train = pd.DataFrame(sc_transform)"
   ]
  },
  {
   "cell_type": "code",
   "execution_count": null,
   "metadata": {},
   "outputs": [],
   "source": [
    "X_train.info()"
   ]
  },
  {
   "cell_type": "code",
   "execution_count": null,
   "metadata": {},
   "outputs": [],
   "source": [
    "svc = SVC()\n",
    "svc.fit(X_train, Y_train)\n",
    "model_pred = svc.predict(X_train)\n",
    "model_f1 = f1_score(Y_train, model_pred)\n",
    "\n",
    "print('Support Vector Classifier F1 score: %f' % model_f1)"
   ]
  },
  {
   "cell_type": "code",
   "execution_count": null,
   "metadata": {},
   "outputs": [],
   "source": [
    "svc = SVC()\n",
    "svc.fit(X_train, Y_train)\n",
    "model_pred = svc.predict(X_train)\n",
    "\n",
    "svc_scores = cross_val_score(svc, X_train, Y_train, cv=5, scoring = make_scorer(f1_score))\n",
    "print(svc_scores)\n",
    "print('cv_scores mean:{}'.format(np.mean(svc_scores)))"
   ]
  },
  {
   "cell_type": "code",
   "execution_count": null,
   "metadata": {},
   "outputs": [],
   "source": [
    "dt = DecisionTreeClassifier()\n",
    "dt.fit(X_train, Y_train)\n",
    "model_pred = dt.predict(X_train)\n",
    "\n",
    "dt_scores = cross_val_score(dt, X_train, Y_train, cv=5, scoring = make_scorer(f1_score))\n",
    "print(dt_scores)\n",
    "print('cv_scores mean:{}'.format(np.mean(dt_scores)))"
   ]
  },
  {
   "cell_type": "code",
   "execution_count": null,
   "metadata": {},
   "outputs": [],
   "source": [
    "from sklearn import metrics\n",
    "from sklearn.metrics import mean_squared_error,make_scorer\n",
    "lr = LogisticRegression()\n",
    "lr.fit(X_train, Y_train)\n",
    "\n",
    "model_pred = lr.predict(X_train)\n",
    "print((mean_squared_error(Y_train, model_pred,squared=False)))\n",
    "#y = make_scorer(mean_squared_error(Y_train, model_pred,squared=False))\n",
    "#lr_scores = cross_val_score(lr, X_train, Y_train, cv=5, scoring = y)\n",
    "#print(lr_scores)\n",
    "#print('cv_scores mean:{}'.format(np.mean(lr_scores)))"
   ]
  },
  {
   "cell_type": "code",
   "execution_count": null,
   "metadata": {},
   "outputs": [],
   "source": [
    "knn = KNeighborsClassifier()\n",
    "knn.fit(X_train, Y_train)\n",
    "model_pred = knn.predict(X_train)\n",
    "print((mean_squared_error(Y_train, model_pred,squared=False)))\n",
    "\n",
    "\n",
    "#knn_scores = cross_val_score(knn, X_train, Y_train, cv=5, scoring = make_scorer(f1_score))\n",
    "#print(knn_scores)\n",
    "#print('cv_scores mean:{}'.format(np.mean(knn_scores)))"
   ]
  },
  {
   "cell_type": "code",
   "execution_count": null,
   "metadata": {},
   "outputs": [],
   "source": [
    "nb = GaussianNB()\n",
    "nb.fit(X_train, Y_train)\n",
    "model_pred = nb.predict(X_train)\n",
    "\n",
    "nb_scores = cross_val_score(nb, X_train, Y_train, cv=5, scoring = make_scorer(f1_score))\n",
    "print(nb_scores)\n",
    "print('cv_scores mean:{}'.format(np.mean(nb_scores)))"
   ]
  },
  {
   "cell_type": "code",
   "execution_count": null,
   "metadata": {},
   "outputs": [],
   "source": [
    "knn = KNeighborsClassifier()"
   ]
  },
  {
   "cell_type": "code",
   "execution_count": null,
   "metadata": {},
   "outputs": [],
   "source": [
    "neighbors = list(range(1,30))\n",
    "\n",
    "hyperparameters = dict(n_neighbors=neighbors)"
   ]
  },
  {
   "cell_type": "code",
   "execution_count": null,
   "metadata": {},
   "outputs": [],
   "source": [
    "knn_2 = KNeighborsClassifier(p=2)\n",
    "\n",
    "clf = GridSearchCV(knn_2, hyperparameters, cv=5)\n",
    "\n",
    "clf.fit(X_train, Y_train)\n",
    "clf.grid_scores_"
   ]
  },
  {
   "cell_type": "code",
   "execution_count": null,
   "metadata": {},
   "outputs": [],
   "source": [
    "clf_mean_scores = [result.mean_validation_score for result in clf.grid_scores_]"
   ]
  },
  {
   "cell_type": "code",
   "execution_count": null,
   "metadata": {},
   "outputs": [],
   "source": [
    "plt.plot(neighbors, clf_mean_scores)\n",
    "plt.xlabel('Value of K for KNN')\n",
    "plt.ylabel('Cross-Validated Accuracy')"
   ]
  },
  {
   "cell_type": "code",
   "execution_count": null,
   "metadata": {},
   "outputs": [],
   "source": [
    "print('Best n_neighbors:', best_model.best_estimator_.get_params()['n_neighbors'])"
   ]
  },
  {
   "cell_type": "code",
   "execution_count": null,
   "metadata": {},
   "outputs": [],
   "source": [
    "neighbors_val = best_model.best_estimator_.get_params()['n_neighbors']"
   ]
  },
  {
   "cell_type": "code",
   "execution_count": null,
   "metadata": {},
   "outputs": [],
   "source": [
    "model = KNeighborsClassifier(n_neighbors = neighbors_val)\n",
    "model.fit(X_train, Y_train)\n",
    "model_pred = model.predict(X_train)\n",
    "model_f1 = f1_score(Y_train, model_pred)\n",
    "\n",
    "print('KNN Model F1 score after hyperparameter tuning: %f' % model_f1)"
   ]
  },
  {
   "cell_type": "code",
   "execution_count": null,
   "metadata": {},
   "outputs": [],
   "source": [
    "Y_pred = model.predict(X_test)\n",
    "\n",
    "test_data[\"class\"] = Y_pred\n",
    "result = test_data[[\"ID\",\"class\"]]\n",
    "result.to_csv(\"result.csv\", index=False)\n",
    "result.head()"
   ]
  },
  {
   "cell_type": "code",
   "execution_count": null,
   "metadata": {},
   "outputs": [],
   "source": [
    "result.describe()"
   ]
  },
  {
   "cell_type": "code",
   "execution_count": null,
   "metadata": {},
   "outputs": [],
   "source": []
  }
 ],
 "metadata": {
  "kernelspec": {
   "display_name": "Python 3",
   "language": "python",
   "name": "python3"
  },
  "language_info": {
   "codemirror_mode": {
    "name": "ipython",
    "version": 3
   },
   "file_extension": ".py",
   "mimetype": "text/x-python",
   "name": "python",
   "nbconvert_exporter": "python",
   "pygments_lexer": "ipython3",
   "version": "3.8.3"
  }
 },
 "nbformat": 4,
 "nbformat_minor": 2
}
