{
 "cells": [
  {
   "cell_type": "code",
   "execution_count": 1,
   "metadata": {},
   "outputs": [],
   "source": [
    "from sklearn.model_selection import train_test_split\n",
    "from sklearn import metrics\n",
    "from sklearn.svm import SVC\n",
    "import pandas as pd\n",
    "import numpy as np"
   ]
  },
  {
   "cell_type": "code",
   "execution_count": 3,
   "metadata": {},
   "outputs": [],
   "source": [
    "train_data = pd.read_csv(\"train.csv\", usecols=[\"class\", \"viewCount\", \"likeCount\",\"dislikeCount\",\"commentCount\",\"title\",\"user_comment_1\"\n",
    "                                              ,\"user_comment_2\",\"user_comment_3\",\"user_comment_4\"]) \n",
    "test_data = pd.read_csv(\"test_1.csv\", usecols=[\"ID\", \"viewCount\", \"likeCount\",\"dislikeCount\",\"commentCount\",\"title\",\"user_comment_1\"\n",
    "                                              ,\"user_comment_2\",\"user_comment_3\",\"user_comment_4\"])\n",
    "\n",
    "Y_train = train_data[\"class\"]\n",
    "\n",
    "X_train = train_data.drop(\"class\", axis=1)\n",
    "X_test = test_data.drop(\"ID\", axis=1)\n",
    "\n",
    "X_train[\"title\"] = X_train[\"title\"].apply(lambda x: len(x))\n",
    "X_test[\"title\"] = X_test[\"title\"].apply(lambda x: len(x))\n",
    "\n",
    "X_train[\"user_comment_1\"] = X_train[\"user_comment_1\"].apply(lambda x: len(x))\n",
    "X_test[\"user_comment_1\"] = X_test[\"user_comment_1\"].apply(lambda x: len(x))\n",
    "\n",
    "X_train[\"user_comment_2\"] = X_train[\"user_comment_2\"].apply(lambda x: len(x))\n",
    "X_test[\"user_comment_2\"] = X_test[\"user_comment_2\"].apply(lambda x: len(x))\n",
    "\n",
    "X_train[\"user_comment_3\"] = X_train[\"user_comment_3\"].apply(lambda x: len(x))\n",
    "X_test[\"user_comment_3\"] = X_test[\"user_comment_3\"].apply(lambda x: len(x))\n",
    "\n",
    "X_train[\"user_comment_4\"] = X_train[\"user_comment_4\"].apply(lambda x: len(x))\n",
    "X_test[\"user_comment_4\"] = X_test[\"user_comment_4\"].apply(lambda x: len(x))\n",
    "\n",
    "\n",
    "\n",
    "\n",
    "X_train = X_train.apply(lambda x: (x - np.min(x)) / (np.max(x) - np.min(x)))\n",
    "X_test = X_test.apply(lambda x: (x - np.min(x)) / (np.max(x) - np.min(x)))"
   ]
  },
  {
   "cell_type": "code",
   "execution_count": 4,
   "metadata": {},
   "outputs": [
    {
     "data": {
      "text/plain": [
       "SVC(C=150, gamma=0.3, probability=True)"
      ]
     },
     "execution_count": 4,
     "metadata": {},
     "output_type": "execute_result"
    }
   ],
   "source": [
    "svclassifier = SVC(kernel='rbf',C=150,gamma=0.3, probability=True)\n",
    "svclassifier.fit(X_train,Y_train)"
   ]
  },
  {
   "cell_type": "code",
   "execution_count": 5,
   "metadata": {},
   "outputs": [
    {
     "data": {
      "text/html": [
       "<div>\n",
       "<style scoped>\n",
       "    .dataframe tbody tr th:only-of-type {\n",
       "        vertical-align: middle;\n",
       "    }\n",
       "\n",
       "    .dataframe tbody tr th {\n",
       "        vertical-align: top;\n",
       "    }\n",
       "\n",
       "    .dataframe thead th {\n",
       "        text-align: right;\n",
       "    }\n",
       "</style>\n",
       "<table border=\"1\" class=\"dataframe\">\n",
       "  <thead>\n",
       "    <tr style=\"text-align: right;\">\n",
       "      <th></th>\n",
       "      <th>ID</th>\n",
       "      <th>class</th>\n",
       "    </tr>\n",
       "  </thead>\n",
       "  <tbody>\n",
       "    <tr>\n",
       "      <th>0</th>\n",
       "      <td>oRB8lJynqBA</td>\n",
       "      <td>True</td>\n",
       "    </tr>\n",
       "    <tr>\n",
       "      <th>1</th>\n",
       "      <td>of-UPoEnw_w</td>\n",
       "      <td>False</td>\n",
       "    </tr>\n",
       "    <tr>\n",
       "      <th>2</th>\n",
       "      <td>d28cz00HHto</td>\n",
       "      <td>False</td>\n",
       "    </tr>\n",
       "    <tr>\n",
       "      <th>3</th>\n",
       "      <td>Tftg_LnwTW0</td>\n",
       "      <td>True</td>\n",
       "    </tr>\n",
       "    <tr>\n",
       "      <th>4</th>\n",
       "      <td>qR0mkm65Whk</td>\n",
       "      <td>False</td>\n",
       "    </tr>\n",
       "  </tbody>\n",
       "</table>\n",
       "</div>"
      ],
      "text/plain": [
       "            ID  class\n",
       "0  oRB8lJynqBA   True\n",
       "1  of-UPoEnw_w  False\n",
       "2  d28cz00HHto  False\n",
       "3  Tftg_LnwTW0   True\n",
       "4  qR0mkm65Whk  False"
      ]
     },
     "execution_count": 5,
     "metadata": {},
     "output_type": "execute_result"
    }
   ],
   "source": [
    "Y_pred = svclassifier.predict(X_test)\n",
    "\n",
    "test_data[\"class\"] = Y_pred\n",
    "test_data[\"class\"] = test_data[\"class\"].map(lambda x: \"True\" if x==1 else \"False\")\n",
    "result = test_data[[\"ID\",\"class\"]]\n",
    "result.to_csv(\"baseline2_result.csv\", index=False)\n",
    "result.head()"
   ]
  },
  {
   "cell_type": "code",
   "execution_count": null,
   "metadata": {},
   "outputs": [],
   "source": []
  }
 ],
 "metadata": {
  "kernelspec": {
   "display_name": "Python 3",
   "language": "python",
   "name": "python3"
  },
  "language_info": {
   "codemirror_mode": {
    "name": "ipython",
    "version": 3
   },
   "file_extension": ".py",
   "mimetype": "text/x-python",
   "name": "python",
   "nbconvert_exporter": "python",
   "pygments_lexer": "ipython3",
   "version": "3.8.3"
  }
 },
 "nbformat": 4,
 "nbformat_minor": 2
}
