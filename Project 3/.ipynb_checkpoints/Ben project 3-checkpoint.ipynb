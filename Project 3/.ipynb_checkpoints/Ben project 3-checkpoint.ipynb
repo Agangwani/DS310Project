{
 "cells": [
  {
   "cell_type": "code",
   "execution_count": 1,
   "metadata": {},
   "outputs": [],
   "source": [
    "import numpy as np\n",
    "import pandas as pd\n",
    "from matplotlib import pyplot as plt\n",
    "from datetime import date, time, datetime\n",
    "from xgboost.sklearn import XGBClassifier\n"
   ]
  },
  {
   "cell_type": "markdown",
   "metadata": {},
   "source": [
    "# Sections :: \n",
    "## Introduction\n",
    "## Data Exploration\n",
    "## Explanation of Code\n",
    "## Results \n",
    "## Analysis\n",
    "\n",
    "Here we're importing our dataset, we use the sessions data later on to get the information of how many seconds they were on certain parts of the website. Our approach was to essentially get as many features as possible and then perform feature selection afterwards to see how the model changes. \n"
   ]
  },
  {
   "cell_type": "code",
   "execution_count": 2,
   "metadata": {},
   "outputs": [],
   "source": [
    "train_users = pd.read_csv(\"proj3_data/train_users.csv\",parse_dates=['timestamp_first_active','date_account_created','date_first_booking'])\n",
    "test_users = pd.read_csv(\"proj3_data/test_users.csv\",parse_dates=['timestamp_first_active','date_account_created','date_first_booking'])\n",
    "sessions = pd.read_csv(\"proj3_data/sessions.csv\")"
   ]
  },
  {
   "cell_type": "code",
   "execution_count": 3,
   "metadata": {},
   "outputs": [],
   "source": [
    "Y = train_users['country_destination'] # these are our labels\n",
    "train_users = train_users.drop('country_destination', axis =1)"
   ]
  },
  {
   "cell_type": "code",
   "execution_count": 4,
   "metadata": {},
   "outputs": [
    {
     "data": {
      "text/plain": [
       "Index(['id', 'date_account_created', 'timestamp_first_active',\n",
       "       'date_first_booking', 'gender', 'age', 'signup_method', 'signup_flow',\n",
       "       'language', 'affiliate_channel', 'affiliate_provider',\n",
       "       'first_affiliate_tracked', 'signup_app', 'first_device_type',\n",
       "       'first_browser'],\n",
       "      dtype='object')"
      ]
     },
     "execution_count": 4,
     "metadata": {},
     "output_type": "execute_result"
    }
   ],
   "source": [
    "\n",
    "train_users.columns # exploratory"
   ]
  },
  {
   "cell_type": "code",
   "execution_count": 5,
   "metadata": {},
   "outputs": [],
   "source": [
    "df_all = pd.concat((train_users, test_users), axis = 0, ignore_index= True)"
   ]
  },
  {
   "cell_type": "code",
   "execution_count": 6,
   "metadata": {},
   "outputs": [],
   "source": [
    "from sklearn.preprocessing import MinMaxScaler\n",
    "\n",
    "# Splitting date time data for date account created\n",
    "df_all['dac_year'] = df_all.date_account_created.dt.year\n",
    "df_all['dac_month'] = df_all.date_account_created.dt.month\n",
    "df_all['dac_day'] = df_all.date_account_created.dt.day\n",
    "df_all[\"dac_day_of_week\"] = df_all.date_account_created.dt.dayofweek\n",
    "\n",
    "# Splitting date time data for time first active\n",
    "df_all['tfa_year'] = df_all.timestamp_first_active.dt.year\n",
    "df_all['tfa_month'] = df_all.timestamp_first_active.dt.month\n",
    "df_all['tfa_day'] = df_all.timestamp_first_active.dt.day\n",
    "df_all['tfa_day_of_week'] = df_all.timestamp_first_active.dt.dayofweek"
   ]
  },
  {
   "cell_type": "code",
   "execution_count": 7,
   "metadata": {},
   "outputs": [],
   "source": [
    "df_all.drop('date_account_created',1, inplace=True)\n",
    "df_all.drop('timestamp_first_active',1, inplace=True)"
   ]
  },
  {
   "cell_type": "code",
   "execution_count": 8,
   "metadata": {},
   "outputs": [
    {
     "data": {
      "text/html": [
       "<div>\n",
       "<style scoped>\n",
       "    .dataframe tbody tr th:only-of-type {\n",
       "        vertical-align: middle;\n",
       "    }\n",
       "\n",
       "    .dataframe tbody tr th {\n",
       "        vertical-align: top;\n",
       "    }\n",
       "\n",
       "    .dataframe thead th {\n",
       "        text-align: right;\n",
       "    }\n",
       "</style>\n",
       "<table border=\"1\" class=\"dataframe\">\n",
       "  <thead>\n",
       "    <tr style=\"text-align: right;\">\n",
       "      <th></th>\n",
       "      <th>id</th>\n",
       "      <th>date_first_booking</th>\n",
       "      <th>gender</th>\n",
       "      <th>age</th>\n",
       "      <th>signup_method</th>\n",
       "      <th>signup_flow</th>\n",
       "      <th>language</th>\n",
       "      <th>affiliate_channel</th>\n",
       "      <th>affiliate_provider</th>\n",
       "      <th>first_affiliate_tracked</th>\n",
       "      <th>...</th>\n",
       "      <th>first_device_type</th>\n",
       "      <th>first_browser</th>\n",
       "      <th>dac_year</th>\n",
       "      <th>dac_month</th>\n",
       "      <th>dac_day</th>\n",
       "      <th>dac_day_of_week</th>\n",
       "      <th>tfa_year</th>\n",
       "      <th>tfa_month</th>\n",
       "      <th>tfa_day</th>\n",
       "      <th>tfa_day_of_week</th>\n",
       "    </tr>\n",
       "  </thead>\n",
       "  <tbody>\n",
       "    <tr>\n",
       "      <th>0</th>\n",
       "      <td>gxn3p5htnn</td>\n",
       "      <td>NaT</td>\n",
       "      <td>-unknown-</td>\n",
       "      <td>NaN</td>\n",
       "      <td>facebook</td>\n",
       "      <td>0</td>\n",
       "      <td>en</td>\n",
       "      <td>direct</td>\n",
       "      <td>direct</td>\n",
       "      <td>untracked</td>\n",
       "      <td>...</td>\n",
       "      <td>Mac Desktop</td>\n",
       "      <td>Chrome</td>\n",
       "      <td>2010</td>\n",
       "      <td>6</td>\n",
       "      <td>28</td>\n",
       "      <td>0</td>\n",
       "      <td>2009</td>\n",
       "      <td>3</td>\n",
       "      <td>19</td>\n",
       "      <td>3</td>\n",
       "    </tr>\n",
       "    <tr>\n",
       "      <th>1</th>\n",
       "      <td>820tgsjxq7</td>\n",
       "      <td>NaT</td>\n",
       "      <td>MALE</td>\n",
       "      <td>38.0</td>\n",
       "      <td>facebook</td>\n",
       "      <td>0</td>\n",
       "      <td>en</td>\n",
       "      <td>seo</td>\n",
       "      <td>google</td>\n",
       "      <td>untracked</td>\n",
       "      <td>...</td>\n",
       "      <td>Mac Desktop</td>\n",
       "      <td>Chrome</td>\n",
       "      <td>2011</td>\n",
       "      <td>5</td>\n",
       "      <td>25</td>\n",
       "      <td>2</td>\n",
       "      <td>2009</td>\n",
       "      <td>5</td>\n",
       "      <td>23</td>\n",
       "      <td>5</td>\n",
       "    </tr>\n",
       "    <tr>\n",
       "      <th>2</th>\n",
       "      <td>4ft3gnwmtx</td>\n",
       "      <td>2010-08-02</td>\n",
       "      <td>FEMALE</td>\n",
       "      <td>56.0</td>\n",
       "      <td>basic</td>\n",
       "      <td>3</td>\n",
       "      <td>en</td>\n",
       "      <td>direct</td>\n",
       "      <td>direct</td>\n",
       "      <td>untracked</td>\n",
       "      <td>...</td>\n",
       "      <td>Windows Desktop</td>\n",
       "      <td>IE</td>\n",
       "      <td>2010</td>\n",
       "      <td>9</td>\n",
       "      <td>28</td>\n",
       "      <td>1</td>\n",
       "      <td>2009</td>\n",
       "      <td>6</td>\n",
       "      <td>9</td>\n",
       "      <td>1</td>\n",
       "    </tr>\n",
       "    <tr>\n",
       "      <th>3</th>\n",
       "      <td>bjjt8pjhuk</td>\n",
       "      <td>2012-09-08</td>\n",
       "      <td>FEMALE</td>\n",
       "      <td>42.0</td>\n",
       "      <td>facebook</td>\n",
       "      <td>0</td>\n",
       "      <td>en</td>\n",
       "      <td>direct</td>\n",
       "      <td>direct</td>\n",
       "      <td>untracked</td>\n",
       "      <td>...</td>\n",
       "      <td>Mac Desktop</td>\n",
       "      <td>Firefox</td>\n",
       "      <td>2011</td>\n",
       "      <td>12</td>\n",
       "      <td>5</td>\n",
       "      <td>0</td>\n",
       "      <td>2009</td>\n",
       "      <td>10</td>\n",
       "      <td>31</td>\n",
       "      <td>5</td>\n",
       "    </tr>\n",
       "    <tr>\n",
       "      <th>4</th>\n",
       "      <td>87mebub9p4</td>\n",
       "      <td>2010-02-18</td>\n",
       "      <td>-unknown-</td>\n",
       "      <td>41.0</td>\n",
       "      <td>basic</td>\n",
       "      <td>0</td>\n",
       "      <td>en</td>\n",
       "      <td>direct</td>\n",
       "      <td>direct</td>\n",
       "      <td>untracked</td>\n",
       "      <td>...</td>\n",
       "      <td>Mac Desktop</td>\n",
       "      <td>Chrome</td>\n",
       "      <td>2010</td>\n",
       "      <td>9</td>\n",
       "      <td>14</td>\n",
       "      <td>1</td>\n",
       "      <td>2009</td>\n",
       "      <td>12</td>\n",
       "      <td>8</td>\n",
       "      <td>1</td>\n",
       "    </tr>\n",
       "    <tr>\n",
       "      <th>...</th>\n",
       "      <td>...</td>\n",
       "      <td>...</td>\n",
       "      <td>...</td>\n",
       "      <td>...</td>\n",
       "      <td>...</td>\n",
       "      <td>...</td>\n",
       "      <td>...</td>\n",
       "      <td>...</td>\n",
       "      <td>...</td>\n",
       "      <td>...</td>\n",
       "      <td>...</td>\n",
       "      <td>...</td>\n",
       "      <td>...</td>\n",
       "      <td>...</td>\n",
       "      <td>...</td>\n",
       "      <td>...</td>\n",
       "      <td>...</td>\n",
       "      <td>...</td>\n",
       "      <td>...</td>\n",
       "      <td>...</td>\n",
       "      <td>...</td>\n",
       "    </tr>\n",
       "    <tr>\n",
       "      <th>275542</th>\n",
       "      <td>cv0na2lf5a</td>\n",
       "      <td>NaT</td>\n",
       "      <td>-unknown-</td>\n",
       "      <td>31.0</td>\n",
       "      <td>basic</td>\n",
       "      <td>0</td>\n",
       "      <td>en</td>\n",
       "      <td>direct</td>\n",
       "      <td>direct</td>\n",
       "      <td>untracked</td>\n",
       "      <td>...</td>\n",
       "      <td>Windows Desktop</td>\n",
       "      <td>IE</td>\n",
       "      <td>2014</td>\n",
       "      <td>9</td>\n",
       "      <td>30</td>\n",
       "      <td>1</td>\n",
       "      <td>2014</td>\n",
       "      <td>9</td>\n",
       "      <td>30</td>\n",
       "      <td>1</td>\n",
       "    </tr>\n",
       "    <tr>\n",
       "      <th>275543</th>\n",
       "      <td>zp8xfonng8</td>\n",
       "      <td>NaT</td>\n",
       "      <td>-unknown-</td>\n",
       "      <td>NaN</td>\n",
       "      <td>basic</td>\n",
       "      <td>23</td>\n",
       "      <td>ko</td>\n",
       "      <td>direct</td>\n",
       "      <td>direct</td>\n",
       "      <td>untracked</td>\n",
       "      <td>...</td>\n",
       "      <td>Android Phone</td>\n",
       "      <td>-unknown-</td>\n",
       "      <td>2014</td>\n",
       "      <td>9</td>\n",
       "      <td>30</td>\n",
       "      <td>1</td>\n",
       "      <td>2014</td>\n",
       "      <td>9</td>\n",
       "      <td>30</td>\n",
       "      <td>1</td>\n",
       "    </tr>\n",
       "    <tr>\n",
       "      <th>275544</th>\n",
       "      <td>fa6260ziny</td>\n",
       "      <td>NaT</td>\n",
       "      <td>-unknown-</td>\n",
       "      <td>NaN</td>\n",
       "      <td>basic</td>\n",
       "      <td>0</td>\n",
       "      <td>de</td>\n",
       "      <td>direct</td>\n",
       "      <td>direct</td>\n",
       "      <td>linked</td>\n",
       "      <td>...</td>\n",
       "      <td>Windows Desktop</td>\n",
       "      <td>Firefox</td>\n",
       "      <td>2014</td>\n",
       "      <td>9</td>\n",
       "      <td>30</td>\n",
       "      <td>1</td>\n",
       "      <td>2014</td>\n",
       "      <td>9</td>\n",
       "      <td>30</td>\n",
       "      <td>1</td>\n",
       "    </tr>\n",
       "    <tr>\n",
       "      <th>275545</th>\n",
       "      <td>87k0fy4ugm</td>\n",
       "      <td>NaT</td>\n",
       "      <td>-unknown-</td>\n",
       "      <td>NaN</td>\n",
       "      <td>basic</td>\n",
       "      <td>0</td>\n",
       "      <td>en</td>\n",
       "      <td>sem-brand</td>\n",
       "      <td>google</td>\n",
       "      <td>omg</td>\n",
       "      <td>...</td>\n",
       "      <td>Mac Desktop</td>\n",
       "      <td>Safari</td>\n",
       "      <td>2014</td>\n",
       "      <td>9</td>\n",
       "      <td>30</td>\n",
       "      <td>1</td>\n",
       "      <td>2014</td>\n",
       "      <td>9</td>\n",
       "      <td>30</td>\n",
       "      <td>1</td>\n",
       "    </tr>\n",
       "    <tr>\n",
       "      <th>275546</th>\n",
       "      <td>9uqfg8txu3</td>\n",
       "      <td>NaT</td>\n",
       "      <td>FEMALE</td>\n",
       "      <td>49.0</td>\n",
       "      <td>basic</td>\n",
       "      <td>0</td>\n",
       "      <td>en</td>\n",
       "      <td>other</td>\n",
       "      <td>other</td>\n",
       "      <td>tracked-other</td>\n",
       "      <td>...</td>\n",
       "      <td>Windows Desktop</td>\n",
       "      <td>Chrome</td>\n",
       "      <td>2014</td>\n",
       "      <td>9</td>\n",
       "      <td>30</td>\n",
       "      <td>1</td>\n",
       "      <td>2014</td>\n",
       "      <td>9</td>\n",
       "      <td>30</td>\n",
       "      <td>1</td>\n",
       "    </tr>\n",
       "  </tbody>\n",
       "</table>\n",
       "<p>275547 rows × 21 columns</p>\n",
       "</div>"
      ],
      "text/plain": [
       "                id date_first_booking     gender   age signup_method  \\\n",
       "0       gxn3p5htnn                NaT  -unknown-   NaN      facebook   \n",
       "1       820tgsjxq7                NaT       MALE  38.0      facebook   \n",
       "2       4ft3gnwmtx         2010-08-02     FEMALE  56.0         basic   \n",
       "3       bjjt8pjhuk         2012-09-08     FEMALE  42.0      facebook   \n",
       "4       87mebub9p4         2010-02-18  -unknown-  41.0         basic   \n",
       "...            ...                ...        ...   ...           ...   \n",
       "275542  cv0na2lf5a                NaT  -unknown-  31.0         basic   \n",
       "275543  zp8xfonng8                NaT  -unknown-   NaN         basic   \n",
       "275544  fa6260ziny                NaT  -unknown-   NaN         basic   \n",
       "275545  87k0fy4ugm                NaT  -unknown-   NaN         basic   \n",
       "275546  9uqfg8txu3                NaT     FEMALE  49.0         basic   \n",
       "\n",
       "        signup_flow language affiliate_channel affiliate_provider  \\\n",
       "0                 0       en            direct             direct   \n",
       "1                 0       en               seo             google   \n",
       "2                 3       en            direct             direct   \n",
       "3                 0       en            direct             direct   \n",
       "4                 0       en            direct             direct   \n",
       "...             ...      ...               ...                ...   \n",
       "275542            0       en            direct             direct   \n",
       "275543           23       ko            direct             direct   \n",
       "275544            0       de            direct             direct   \n",
       "275545            0       en         sem-brand             google   \n",
       "275546            0       en             other              other   \n",
       "\n",
       "       first_affiliate_tracked  ... first_device_type first_browser dac_year  \\\n",
       "0                    untracked  ...       Mac Desktop        Chrome     2010   \n",
       "1                    untracked  ...       Mac Desktop        Chrome     2011   \n",
       "2                    untracked  ...   Windows Desktop            IE     2010   \n",
       "3                    untracked  ...       Mac Desktop       Firefox     2011   \n",
       "4                    untracked  ...       Mac Desktop        Chrome     2010   \n",
       "...                        ...  ...               ...           ...      ...   \n",
       "275542               untracked  ...   Windows Desktop            IE     2014   \n",
       "275543               untracked  ...     Android Phone     -unknown-     2014   \n",
       "275544                  linked  ...   Windows Desktop       Firefox     2014   \n",
       "275545                     omg  ...       Mac Desktop        Safari     2014   \n",
       "275546           tracked-other  ...   Windows Desktop        Chrome     2014   \n",
       "\n",
       "        dac_month  dac_day  dac_day_of_week  tfa_year  tfa_month  tfa_day  \\\n",
       "0               6       28                0      2009          3       19   \n",
       "1               5       25                2      2009          5       23   \n",
       "2               9       28                1      2009          6        9   \n",
       "3              12        5                0      2009         10       31   \n",
       "4               9       14                1      2009         12        8   \n",
       "...           ...      ...              ...       ...        ...      ...   \n",
       "275542          9       30                1      2014          9       30   \n",
       "275543          9       30                1      2014          9       30   \n",
       "275544          9       30                1      2014          9       30   \n",
       "275545          9       30                1      2014          9       30   \n",
       "275546          9       30                1      2014          9       30   \n",
       "\n",
       "        tfa_day_of_week  \n",
       "0                     3  \n",
       "1                     5  \n",
       "2                     1  \n",
       "3                     5  \n",
       "4                     1  \n",
       "...                 ...  \n",
       "275542                1  \n",
       "275543                1  \n",
       "275544                1  \n",
       "275545                1  \n",
       "275546                1  \n",
       "\n",
       "[275547 rows x 21 columns]"
      ]
     },
     "execution_count": 8,
     "metadata": {},
     "output_type": "execute_result"
    }
   ],
   "source": [
    "df_all"
   ]
  },
  {
   "cell_type": "code",
   "execution_count": 9,
   "metadata": {},
   "outputs": [],
   "source": [
    "#df_all.loc[df_all.age > 100, 'age'] = np.nan\n",
    "#df_all.loc[df_all.age < 18, 'age'] = np.nan\n",
    "\n",
    "age_values = df_all.age.values\n",
    "df_all['age'] = np.where(age_values>1000, np.random.randint(28, 43), age_values)\n",
    "df_all['age'] = df_all['age'].fillna(np.random.randint(28, 43))"
   ]
  },
  {
   "cell_type": "code",
   "execution_count": 10,
   "metadata": {},
   "outputs": [],
   "source": [
    "by_signup_device = df_all.groupby(['signup_method', 'first_device_type'])\n",
    "def impute_median(series):\n",
    "    return series.fillna(series.median())\n",
    "df_all.age = by_signup_device['age'].transform(impute_median)"
   ]
  },
  {
   "cell_type": "code",
   "execution_count": 11,
   "metadata": {},
   "outputs": [],
   "source": [
    "tracked = []\n",
    "\n",
    "for i in df_all['first_affiliate_tracked']:\n",
    "    if i == \"untracked\" or i == \"\":\n",
    "        isTracked = 0\n",
    "    else:\n",
    "        isTracked = 1\n",
    "    tracked.append(isTracked)\n",
    "\n",
    "df_all['is_first_affiliate_tracked'] = tracked"
   ]
  },
  {
   "cell_type": "code",
   "execution_count": 12,
   "metadata": {},
   "outputs": [],
   "source": [
    "seconds = sessions.groupby('user_id', as_index=False).agg({\"secs_elapsed\": \"sum\"})\n",
    "df_all = pd.merge(df_all, seconds, left_on=\"id\", right_on=\"user_id\", how=\"left\")\n",
    "df_all['secs_elapsed'] = df_all['secs_elapsed'].fillna(0)"
   ]
  },
  {
   "cell_type": "code",
   "execution_count": 24,
   "metadata": {},
   "outputs": [],
   "source": [
    "method = pd.get_dummies(df_all[[\"signup_method\"]])\n",
    "affch = pd.get_dummies(df_all[[\"affiliate_channel\"]])\n",
    "affprov = pd.get_dummies(df_all[[\"affiliate_provider\"]])\n",
    "firstdevice = pd.get_dummies(df_all[[\"first_device_type\"]])\n",
    "signupFlow = pd.get_dummies(df_all[[\"signup_flow\"]].astype(str))\n",
    "signup = pd.get_dummies(df_all[[\"signup_app\"]])\n",
    "genderdum = pd.get_dummies(df_all[[\"gender\"]])\n",
    "langdum = pd.get_dummies(df_all[[\"language\"]])\n",
    "browser = pd.get_dummies(df_all[[\"first_browser\"]])\n",
    "\n",
    "df2 = df_all\n",
    "\n",
    "df2 = pd.concat([df2.reset_index(drop=True),method.reset_index(drop=True)], axis=1)\n",
    "df2 = pd.concat([df2.reset_index(drop=True),affch.reset_index(drop=True)], axis=1)\n",
    "df2 = pd.concat([df2.reset_index(drop=True),affprov.reset_index(drop=True)], axis=1)\n",
    "df2 = pd.concat([df2.reset_index(drop=True),firstdevice.reset_index(drop=True)], axis=1)\n",
    "df2 = pd.concat([df2.reset_index(drop=True),signupFlow.reset_index(drop=True)], axis=1)\n",
    "df2 = pd.concat([df2.reset_index(drop=True),genderdum.reset_index(drop=True)], axis=1)\n",
    "df2 = pd.concat([df2.reset_index(drop=True),signup.reset_index(drop=True)], axis=1)\n",
    "df2 = pd.concat([df2.reset_index(drop=True),langdum.reset_index(drop=True)], axis=1)\n",
    "df2 = pd.concat([df2.reset_index(drop=True),browser.reset_index(drop=True)], axis=1)"
   ]
  },
  {
   "cell_type": "code",
   "execution_count": 25,
   "metadata": {},
   "outputs": [],
   "source": [
    "df2 = df2.drop(['id',  'date_first_booking','gender', \n",
    "          'signup_method',  'affiliate_channel', 'affiliate_provider', 'first_device_type', \n",
    "          'first_browser', 'signup_app', 'first_browser'], axis=1)"
   ]
  },
  {
   "cell_type": "code",
   "execution_count": 26,
   "metadata": {},
   "outputs": [],
   "source": [
    "df2 = df2.drop(\"language\", axis=1)"
   ]
  },
  {
   "cell_type": "code",
   "execution_count": 27,
   "metadata": {},
   "outputs": [],
   "source": [
    "df2 = df2.drop('signup_flow', axis=1)\n",
    "df2 = df2.drop(['first_affiliate_tracked'], axis=1)"
   ]
  },
  {
   "cell_type": "code",
   "execution_count": 28,
   "metadata": {},
   "outputs": [],
   "source": [
    "id_test = test_users['id']"
   ]
  },
  {
   "cell_type": "code",
   "execution_count": null,
   "metadata": {},
   "outputs": [],
   "source": [
    "print(len(Y.unique()))\n",
    "print(Y.unique())"
   ]
  },
  {
   "cell_type": "code",
   "execution_count": null,
   "metadata": {},
   "outputs": [],
   "source": [
    "print(df2.shape)\n",
    "print(len(Y))\n",
    "#print(train.shape)\n",
    "print(df_all.shape)"
   ]
  },
  {
   "cell_type": "code",
   "execution_count": null,
   "metadata": {},
   "outputs": [],
   "source": [
    "df_all.info()"
   ]
  },
  {
   "cell_type": "code",
   "execution_count": 29,
   "metadata": {},
   "outputs": [],
   "source": [
    "df2 = df2.drop(\"user_id\", axis = 1)\n"
   ]
  },
  {
   "cell_type": "code",
   "execution_count": 30,
   "metadata": {},
   "outputs": [],
   "source": [
    "#We got this from feature selection \n",
    "\n",
    "df2 = df2.drop(['gender_-unknown-', 'signup_method_facebook', 'age', 'affiliate_channel_content', 'first_browser_-unknown-', 'signup_app_Android', 'signup_app_iOS', 'signup_flow_1', 'signup_method_basic', 'first_device_type_Other/Unknown', 'gender_MALE', 'signup_app_Web', 'signup_flow_2', 'language_en', 'tfa_year', 'signup_flow_3', 'signup_flow_0', 'signup_app_Moweb', 'affiliate_channel_direct', 'first_device_type_Mac Desktop', 'signup_flow_25', 'is_first_affiliate_tracked', 'affiliate_provider_meetup', 'affiliate_provider_facebook', 'secs_elapsed', 'gender_FEMALE', 'affiliate_channel_sem-non-brand', 'signup_flow_12', 'dac_year', 'affiliate_channel_other', 'first_device_type_Android Phone', 'affiliate_provider_other', 'first_browser_Chrome', 'first_device_type_SmartPhone (Other)', 'first_browser_AOL Explorer', 'signup_flow_24', 'signup_flow_5', 'affiliate_channel_api', 'first_browser_Firefox', 'language_ko', 'language_it', 'language_zh', 'affiliate_provider_craigslist', 'first_browser_Camino', 'affiliate_provider_vast', 'first_browser_Silk', 'language_ja', 'signup_flow_8', 'language_fi', 'language_fr', 'dac_month', 'first_device_type_Windows Desktop', 'affiliate_channel_seo', 'tfa_month', 'first_device_type_iPhone', 'first_browser_IE', 'first_browser_Android Browser', 'affiliate_channel_remarketing', 'language_es', 'language_da', 'first_browser_Mobile Safari', 'language_de', 'first_browser_Safari', 'affiliate_provider_google', 'affiliate_provider_facebook-open-graph', 'first_browser_Chrome Mobile', 'affiliate_provider_padmapper', 'signup_flow_23', 'signup_flow_21', 'affiliate_provider_direct', 'affiliate_channel_sem-brand', 'first_device_type_iPad', 'language_pt', 'dac_day', 'first_browser_Chromium', 'gender_OTHER', 'dac_day_of_week', 'tfa_day', 'affiliate_provider_bing', 'tfa_day_of_week', 'language_ru', 'first_device_type_Desktop (Other)', 'affiliate_provider_yahoo', 'affiliate_provider_gsp', 'first_device_type_Android Tablet', 'first_browser_Opera', 'signup_flow_6', 'affiliate_provider_email-marketing', 'language_nl', 'language_sv', 'signup_method_google', 'first_browser_BlackBerry Browser'], axis =1)"
   ]
  },
  {
   "cell_type": "code",
   "execution_count": 31,
   "metadata": {},
   "outputs": [],
   "source": [
    "from sklearn.preprocessing import LabelEncoder\n",
    "from sklearn import model_selection\n",
    "\n",
    "\n",
    "\n",
    "#Y = train_users['country_destination'] # these are our labels\n",
    "#train_users = train_users.drop('country_destination', axis =1)\n",
    "\n",
    "\n",
    "\n",
    "train = df2.iloc[0:len(train_users),:]\n",
    "test = df2.iloc[len(train_users):,:]\n",
    "\n",
    "\n",
    "X_train, X_test, y_train, y_test = model_selection.train_test_split(\n",
    "    train, Y, test_size=0.33, random_state=42)\n",
    "\n",
    "\n",
    "#train_users_n = train_users.shape[0] # comment\n",
    "#X_train = df2.values[:train_users_n] # comment\n",
    "le = LabelEncoder() # don't uncommment\n",
    "#y_train = le.fit_transform(Y)\n",
    "\n",
    "y_train = le.fit_transform(y_train)\n",
    "y_test = le.fit_transform(y_test)   \n",
    "\n",
    "\n",
    "#X_test = df2.values[train_users_n:]\n",
    "\n",
    "\n",
    "def generate_answer(y_pred, classifer_name):\n",
    "    #Taking the 5 classes with highest probabilities\n",
    "    ids = []  #list of ids\n",
    "    cts = []  #list of countries\n",
    "    for i in range(len(id_test)):\n",
    "        idx = id_test[i]\n",
    "        ids += [idx] * 12\n",
    "        cts += le.inverse_transform(np.argsort(y_pred[i])[::-1])[:12].tolist()\n",
    "    \n",
    "    sub = pd.DataFrame(np.column_stack((ids, cts)), columns=['id', 'country'])\n",
    "    sub.to_csv(classifer_name+'.csv',index=False)\n",
    "    return sub"
   ]
  },
  {
   "cell_type": "code",
   "execution_count": null,
   "metadata": {},
   "outputs": [],
   "source": [
    "len(y_train)\n",
    "len(X_train)\n",
    "len(X_test)"
   ]
  },
  {
   "cell_type": "code",
   "execution_count": null,
   "metadata": {},
   "outputs": [],
   "source": [
    "train.head()"
   ]
  },
  {
   "cell_type": "code",
   "execution_count": 21,
   "metadata": {},
   "outputs": [],
   "source": [
    "\n",
    "xgb = XGBClassifier(max_depth=6, learning_rate=0.3, n_estimators=25,\n",
    "                    objective='multi:softprob', subsample=0.5, colsample_bytree=0.5, seed=0)                  \n",
    "xgb.fit(X_train, y_train)\n",
    "y_pred_xgb = xgb.predict_proba(X_test)"
   ]
  },
  {
   "cell_type": "code",
   "execution_count": null,
   "metadata": {},
   "outputs": [],
   "source": []
  },
  {
   "cell_type": "code",
   "execution_count": 34,
   "metadata": {},
   "outputs": [],
   "source": [
    "\n",
    "xgb = XGBClassifier(max_depth=6, learning_rate=0.3, n_estimators=25,\n",
    "                    objective='multi:softprob', subsample=0.5, colsample_bytree=0.5, seed=0, nthread = -1)                  \n",
    "xgb.fit(train, Y)\n",
    "Y_predict = xgb.predict_proba(test)"
   ]
  },
  {
   "cell_type": "code",
   "execution_count": 35,
   "metadata": {},
   "outputs": [
    {
     "data": {
      "text/html": [
       "<div>\n",
       "<style scoped>\n",
       "    .dataframe tbody tr th:only-of-type {\n",
       "        vertical-align: middle;\n",
       "    }\n",
       "\n",
       "    .dataframe tbody tr th {\n",
       "        vertical-align: top;\n",
       "    }\n",
       "\n",
       "    .dataframe thead th {\n",
       "        text-align: right;\n",
       "    }\n",
       "</style>\n",
       "<table border=\"1\" class=\"dataframe\">\n",
       "  <thead>\n",
       "    <tr style=\"text-align: right;\">\n",
       "      <th></th>\n",
       "      <th>id</th>\n",
       "      <th>country</th>\n",
       "    </tr>\n",
       "  </thead>\n",
       "  <tbody>\n",
       "    <tr>\n",
       "      <th>0</th>\n",
       "      <td>5uwns89zht</td>\n",
       "      <td>NDF</td>\n",
       "    </tr>\n",
       "    <tr>\n",
       "      <th>1</th>\n",
       "      <td>5uwns89zht</td>\n",
       "      <td>US</td>\n",
       "    </tr>\n",
       "    <tr>\n",
       "      <th>2</th>\n",
       "      <td>5uwns89zht</td>\n",
       "      <td>other</td>\n",
       "    </tr>\n",
       "    <tr>\n",
       "      <th>3</th>\n",
       "      <td>5uwns89zht</td>\n",
       "      <td>FR</td>\n",
       "    </tr>\n",
       "    <tr>\n",
       "      <th>4</th>\n",
       "      <td>5uwns89zht</td>\n",
       "      <td>IT</td>\n",
       "    </tr>\n",
       "    <tr>\n",
       "      <th>...</th>\n",
       "      <td>...</td>\n",
       "      <td>...</td>\n",
       "    </tr>\n",
       "    <tr>\n",
       "      <th>745147</th>\n",
       "      <td>9uqfg8txu3</td>\n",
       "      <td>CA</td>\n",
       "    </tr>\n",
       "    <tr>\n",
       "      <th>745148</th>\n",
       "      <td>9uqfg8txu3</td>\n",
       "      <td>DE</td>\n",
       "    </tr>\n",
       "    <tr>\n",
       "      <th>745149</th>\n",
       "      <td>9uqfg8txu3</td>\n",
       "      <td>NL</td>\n",
       "    </tr>\n",
       "    <tr>\n",
       "      <th>745150</th>\n",
       "      <td>9uqfg8txu3</td>\n",
       "      <td>AU</td>\n",
       "    </tr>\n",
       "    <tr>\n",
       "      <th>745151</th>\n",
       "      <td>9uqfg8txu3</td>\n",
       "      <td>PT</td>\n",
       "    </tr>\n",
       "  </tbody>\n",
       "</table>\n",
       "<p>745152 rows × 2 columns</p>\n",
       "</div>"
      ],
      "text/plain": [
       "                id country\n",
       "0       5uwns89zht     NDF\n",
       "1       5uwns89zht      US\n",
       "2       5uwns89zht   other\n",
       "3       5uwns89zht      FR\n",
       "4       5uwns89zht      IT\n",
       "...            ...     ...\n",
       "745147  9uqfg8txu3      CA\n",
       "745148  9uqfg8txu3      DE\n",
       "745149  9uqfg8txu3      NL\n",
       "745150  9uqfg8txu3      AU\n",
       "745151  9uqfg8txu3      PT\n",
       "\n",
       "[745152 rows x 2 columns]"
      ]
     },
     "execution_count": 35,
     "metadata": {},
     "output_type": "execute_result"
    }
   ],
   "source": [
    "generate_answer(Y_predict, 'XGB')"
   ]
  },
  {
   "cell_type": "code",
   "execution_count": null,
   "metadata": {},
   "outputs": [],
   "source": [
    "from numpy import loadtxt\n",
    "from xgboost import XGBClassifier\n",
    "from xgboost import plot_importance\n",
    "from matplotlib import pyplot"
   ]
  },
  {
   "cell_type": "code",
   "execution_count": null,
   "metadata": {},
   "outputs": [],
   "source": []
  },
  {
   "cell_type": "code",
   "execution_count": null,
   "metadata": {},
   "outputs": [],
   "source": [
    "plot_importance(xgb)\n",
    "pyplot.show()"
   ]
  },
  {
   "cell_type": "code",
   "execution_count": null,
   "metadata": {},
   "outputs": [],
   "source": [
    "importance = xgb.feature_importances_\n",
    "importance_df = pd.DataFrame(importance, index=X_train.columns, \n",
    "                      columns=[\"Importance\"])"
   ]
  },
  {
   "cell_type": "code",
   "execution_count": null,
   "metadata": {},
   "outputs": [],
   "source": [
    "importance_df = importance_df.sort_values(by = ['Importance'], ascending = False)"
   ]
  },
  {
   "cell_type": "code",
   "execution_count": null,
   "metadata": {},
   "outputs": [],
   "source": []
  },
  {
   "cell_type": "code",
   "execution_count": null,
   "metadata": {},
   "outputs": [],
   "source": [
    "importance_df.to_csv('importance3.csv')"
   ]
  },
  {
   "cell_type": "code",
   "execution_count": null,
   "metadata": {},
   "outputs": [],
   "source": [
    "trim = importance_df[importance_df.Importance > 0]"
   ]
  },
  {
   "cell_type": "code",
   "execution_count": null,
   "metadata": {},
   "outputs": [],
   "source": []
  },
  {
   "cell_type": "code",
   "execution_count": null,
   "metadata": {},
   "outputs": [],
   "source": [
    "trim.to_csv('trim.csv')"
   ]
  },
  {
   "cell_type": "code",
   "execution_count": null,
   "metadata": {},
   "outputs": [],
   "source": [
    "indexNamesArr = trim.index.values\n",
    "listoftrim = list(indexNamesArr)"
   ]
  },
  {
   "cell_type": "code",
   "execution_count": null,
   "metadata": {},
   "outputs": [],
   "source": [
    "train = train[listoftrim]\n",
    "test = test[listoftrim]"
   ]
  },
  {
   "cell_type": "code",
   "execution_count": null,
   "metadata": {},
   "outputs": [],
   "source": [
    "print(listoftrim)"
   ]
  },
  {
   "cell_type": "code",
   "execution_count": null,
   "metadata": {},
   "outputs": [],
   "source": [
    "'''\n",
    "['gender_-unknown-', 'signup_method_facebook', 'age', 'affiliate_channel_content', 'first_browser_-unknown-', 'signup_app_Android', 'signup_app_iOS', 'signup_flow_1', 'signup_method_basic', 'first_device_type_Other/Unknown', 'gender_MALE', 'signup_app_Web', 'signup_flow_2', 'language_en', 'tfa_year', 'signup_flow_3', 'signup_flow_0', 'signup_app_Moweb', 'affiliate_channel_direct', 'first_device_type_Mac Desktop', 'signup_flow_25', 'is_first_affiliate_tracked', 'affiliate_provider_meetup', 'affiliate_provider_facebook', 'secs_elapsed', 'gender_FEMALE', 'affiliate_channel_sem-non-brand', 'signup_flow_12', 'dac_year', 'affiliate_channel_other', 'first_device_type_Android Phone', 'affiliate_provider_other', 'first_browser_Chrome', 'first_device_type_SmartPhone (Other)', 'first_browser_AOL Explorer', 'signup_flow_24', 'signup_flow_5', 'affiliate_channel_api', 'first_browser_Firefox', 'language_ko', 'language_it', 'language_zh', 'affiliate_provider_craigslist', 'first_browser_Camino', 'affiliate_provider_vast', 'first_browser_Silk', 'language_ja', 'signup_flow_8', 'language_fi', 'language_fr', 'dac_month', 'first_device_type_Windows Desktop', 'affiliate_channel_seo', 'tfa_month', 'first_device_type_iPhone', 'first_browser_IE', 'first_browser_Android Browser', 'affiliate_channel_remarketing', 'language_es', 'language_da', 'first_browser_Mobile Safari', 'language_de', 'first_browser_Safari', 'affiliate_provider_google', 'affiliate_provider_facebook-open-graph', 'first_browser_Chrome Mobile', 'affiliate_provider_padmapper', 'signup_flow_23', 'signup_flow_21', 'affiliate_provider_direct', 'affiliate_channel_sem-brand', 'first_device_type_iPad', 'language_pt', 'dac_day', 'first_browser_Chromium', 'gender_OTHER', 'dac_day_of_week', 'tfa_day', 'affiliate_provider_bing', 'tfa_day_of_week', 'language_ru', 'first_device_type_Desktop (Other)', 'affiliate_provider_yahoo', 'affiliate_provider_gsp', 'first_device_type_Android Tablet', 'first_browser_Opera', 'signup_flow_6', 'affiliate_provider_email-marketing', 'language_nl', 'language_sv', 'signup_method_google', 'first_browser_BlackBerry Browser']\n",
    "trim list \n",
    "''''''"
   ]
  },
  {
   "cell_type": "code",
   "execution_count": null,
   "metadata": {},
   "outputs": [],
   "source": [
    "train"
   ]
  },
  {
   "cell_type": "code",
   "execution_count": null,
   "metadata": {},
   "outputs": [],
   "source": [
    "Y_Predict = xgb.predict_proba(test)"
   ]
  },
  {
   "cell_type": "code",
   "execution_count": null,
   "metadata": {},
   "outputs": [],
   "source": [
    "len(y_pred_xgb)"
   ]
  },
  {
   "cell_type": "code",
   "execution_count": null,
   "metadata": {},
   "outputs": [],
   "source": [
    "\n",
    "X_train.shape"
   ]
  },
  {
   "cell_type": "code",
   "execution_count": null,
   "metadata": {},
   "outputs": [],
   "source": [
    "generate_answer(y_pred_xgb, 'XGB')"
   ]
  },
  {
   "cell_type": "code",
   "execution_count": null,
   "metadata": {},
   "outputs": [],
   "source": [
    "submit = generate_answer(Y_Predict, 'XGB')"
   ]
  },
  {
   "cell_type": "code",
   "execution_count": null,
   "metadata": {},
   "outputs": [],
   "source": [
    "submit"
   ]
  },
  {
   "cell_type": "code",
   "execution_count": null,
   "metadata": {},
   "outputs": [],
   "source": [
    "from sklearn.model_selection import cross_val_score\n",
    "from sklearn.metrics import classification_report\n",
    "ids = []  #list of ids\n",
    "cts = []  #list of countries\n",
    "y_predicted = y_pred_xgb\n",
    "for i in range(len(y_pred_xgb)):\n",
    "    #idx = id_test[i]\n",
    "    #ids += [idx] * 5\n",
    "    cts += le.inverse_transform(np.argsort(y_predicted[i])[::-1])[:1].tolist()\n",
    "\n",
    "#scores = cross_val_score(xgb, X_train, y_train, cv = 10)\n",
    "#multilabel_confusion_matrix(y_test, y_pred_xgb)"
   ]
  },
  {
   "cell_type": "code",
   "execution_count": null,
   "metadata": {},
   "outputs": [],
   "source": [
    "print(len(cts))\n",
    "print(len(y_test))\n",
    "print(len(y_pred_xgb))\n",
    "print(y_pred_xgb[0])\n",
    "print(le.inverse_transform(np.argsort(y_pred_xgb[0])[::-1])[:1].tolist())"
   ]
  },
  {
   "cell_type": "code",
   "execution_count": null,
   "metadata": {},
   "outputs": [],
   "source": [
    "print(classification_report(y_test, cts))"
   ]
  },
  {
   "cell_type": "code",
   "execution_count": null,
   "metadata": {},
   "outputs": [],
   "source": [
    "from sklearn.metrics import ndcg_score\n",
    "#print(y_test)\n",
    "#print(y_pred_xgb)\n",
    "#print(len(y_test))\n",
    "#print(len(y_pred_xgb))\n",
    "\n",
    "\n",
    "print(y_test[0])\n",
    "print(y_pred_xgb[0])\n",
    "print(len(y_pred_xgb[0]))\n",
    "\n",
    "\n",
    "\n",
    "testArray = [[0,0,0,1,0,0,0,0,0,0,0,0]]\n",
    "print(len(testArray))\n",
    "testArray2 = [y_pred_xgb[0]]\n",
    "\n",
    "\n",
    "\n",
    "#print(cts[0])\n",
    "ndcg_score(testArray, testArray2)"
   ]
  },
  {
   "cell_type": "code",
   "execution_count": null,
   "metadata": {},
   "outputs": [],
   "source": [
    "\n",
    "\n",
    "submission = pd.DataFrame(Y_Predict)\n",
    "test_users = pd.read_csv(r\"C:\\Users\\Ben\\Desktop\\Project3_DS_310\\test_users.csv\")\n",
    "submission[\"id\"] = test_users[\"id\"]\n",
    "submission.columns = ['country', 'id']\n",
    "submission = submission[['id', 'country']]\n",
    "submission"
   ]
  },
  {
   "cell_type": "code",
   "execution_count": null,
   "metadata": {},
   "outputs": [],
   "source": [
    "submit.to_csv(\"Proj3Sub4.csv\")"
   ]
  }
 ],
 "metadata": {
  "kernelspec": {
   "display_name": "Python 3",
   "language": "python",
   "name": "python3"
  },
  "language_info": {
   "codemirror_mode": {
    "name": "ipython",
    "version": 3
   },
   "file_extension": ".py",
   "mimetype": "text/x-python",
   "name": "python",
   "nbconvert_exporter": "python",
   "pygments_lexer": "ipython3",
   "version": "3.8.3"
  }
 },
 "nbformat": 4,
 "nbformat_minor": 4
}
