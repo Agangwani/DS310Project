{
 "cells": [
  {
   "cell_type": "markdown",
   "metadata": {},
   "source": [
    "# AirBnB Classification Project 3 \n",
    "## Aman Gangwani, Ben Giles, Owen FinkBeiner \n",
    "# our kaggle score\n",
    "![title](\"img/picture.png\")\n"
   ]
  },
  {
   "cell_type": "code",
   "execution_count": 120,
   "metadata": {},
   "outputs": [],
   "source": [
    "import numpy as np\n",
    "import pandas as pd\n",
    "from matplotlib import pyplot as plt\n",
    "from datetime import date, time, datetime\n",
    "from xgboost.sklearn import XGBClassifier\n",
    "import seaborn as sns\n"
   ]
  },
  {
   "cell_type": "code",
   "execution_count": null,
   "metadata": {},
   "outputs": [],
   "source": []
  },
  {
   "cell_type": "markdown",
   "metadata": {},
   "source": [
    "# Sections :: \n",
    "\n",
    "# Introduction to the problem :\n",
    "\n",
    "Recently there's been a surge in the peer-to-peer economy that AirBnB encapsulates. AirBnB is a business that allows homeowners to rent out their homes or properties for cheap to travelers who are also looking for equally cheap accomodations. Rather than booking costly hotels, travelers now have the ability to support local economies and enjoy further immersion into the host country's culture. \n",
    "\n",
    "Throughout this project, we will be looking at data provided by AirBnB to predict where a new user will book their first travel experience. By doing so, AirBnB hopes to share personalized content with those users, decrease the wait time until the first booking, and better anticipate the demand of the consumers. \n",
    "\n",
    "To complete this project, we took a features from 2 of the 3-4 datasets provided, the major train_users features that contain all of the training labels and data, and the sessions data which provides information on how people navigated the website. After processing all our data, we used an xgboost classifier to predict our values. We tried a few different classifiers but found that an XGBoost gave us our largest base value that we could improve upon. \n",
    "\n",
    "\n",
    "\n",
    "\n",
    "# Dataset exploration and data creation\n",
    "Here we're importing our dataset, we use the sessions data later on to get the information of how many seconds they were on certain parts of the website. Our approach was to essentially get as many features as possible and then perform feature selection afterwards to see how the model changes. \n"
   ]
  },
  {
   "cell_type": "code",
   "execution_count": 118,
   "metadata": {},
   "outputs": [],
   "source": [
    "train_users = pd.read_csv(\"proj3_data/train_users.csv\",parse_dates=['timestamp_first_active','date_account_created','date_first_booking'])\n",
    "test_users = pd.read_csv(\"proj3_data/test_users.csv\",parse_dates=['timestamp_first_active','date_account_created','date_first_booking'])\n",
    "sessions = pd.read_csv(\"proj3_data/sessions.csv\")"
   ]
  },
  {
   "cell_type": "code",
   "execution_count": 121,
   "metadata": {},
   "outputs": [
    {
     "data": {
      "image/png": "[encoded data removed]",
      "text/plain": [
       "<Figure size 1008x576 with 1 Axes>"
      ]
     },
     "metadata": {
      "needs_background": "light"
     },
     "output_type": "display_data"
    }
   ],
   "source": [
    "# Exploration before we move forward\n",
    "# Plot ideas came from https://www.kaggle.com/krutarthhd/airbnb-eda-and-xgboost so we could view the distribution \n",
    "# after we make certain changes.\n",
    "#Finding Destination Distribution.\n",
    "df_train = train_users\n",
    "\n",
    "\n",
    "plt.figure(figsize=(14,8))\n",
    "order1 = df_train['country_destination'].value_counts().index\n",
    "sns.countplot(data = df_train, x = 'country_destination', order = order1, color = sns.color_palette()[1])\n",
    "plt.xlabel('Destination')\n",
    "plt.ylabel('Count')\n",
    "plt.title('Destination Distribution')\n",
    "order2 = df_train['country_destination'].value_counts()\n",
    "\n",
    "for i in range(order2.shape[0]):\n",
    "    count = order2[i]\n",
    "    strt='{:0.1f}%'.format(100*count / df_train.shape[0])\n",
    "    plt.text(i,count+1000,strt,ha='center')"
   ]
  },
  {
   "cell_type": "code",
   "execution_count": 107,
   "metadata": {},
   "outputs": [],
   "source": [
    "Y = train_users['country_destination'] # these are our labels\n",
    "train_users = train_users.drop('country_destination', axis =1)"
   ]
  },
  {
   "cell_type": "code",
   "execution_count": 123,
   "metadata": {},
   "outputs": [
    {
     "data": {
      "text/plain": [
       "NDF      124543\n",
       "US        62376\n",
       "other     10094\n",
       "FR         5023\n",
       "IT         2835\n",
       "GB         2324\n",
       "ES         2249\n",
       "CA         1428\n",
       "DE         1061\n",
       "NL          762\n",
       "AU          539\n",
       "PT          217\n",
       "Name: country_destination, dtype: int64"
      ]
     },
     "execution_count": 123,
     "metadata": {},
     "output_type": "execute_result"
    }
   ],
   "source": [
    "#data is pretty badly skewed. \n",
    "Y.value_counts()"
   ]
  },
  {
   "cell_type": "code",
   "execution_count": 124,
   "metadata": {},
   "outputs": [
    {
     "data": {
      "text/plain": [
       "Index(['id', 'date_account_created', 'timestamp_first_active',\n",
       "       'date_first_booking', 'gender', 'age', 'signup_method', 'signup_flow',\n",
       "       'language', 'affiliate_channel', 'affiliate_provider',\n",
       "       'first_affiliate_tracked', 'signup_app', 'first_device_type',\n",
       "       'first_browser', 'country_destination'],\n",
       "      dtype='object')"
      ]
     },
     "execution_count": 124,
     "metadata": {},
     "output_type": "execute_result"
    }
   ],
   "source": [
    "train_users.columns # exploratory"
   ]
  },
  {
   "cell_type": "markdown",
   "metadata": {},
   "source": [
    "# Columns: \n",
    "\n",
    "## id: user id \n",
    "\n",
    "## date_account_created: the date of account creation\n",
    "\n",
    "## timestamp_first_active: timestamp of the first activity, note that it can be earlier than date_account_created or date_first_booking because a user can search before signing up\n",
    "\n",
    "## date_first_booking: date of first booking\n",
    "\n",
    "## gender\n",
    "\n",
    "## age\n",
    "\n",
    "## signup_method\n",
    "\n",
    "## signup_flow: the page a user came to signup up from\n",
    "\n",
    "## language: international language preference\n",
    "\n",
    "## affiliate_channel: what kind of paid marketing\n",
    "\n",
    "## affiliate_provider: where the marketing is e.g. google, craigslist, other\n",
    "\n",
    "## first_affiliate_tracked: whats the first marketing the user interacted with before the signing up\n",
    "\n",
    "## signup_app\n",
    "\n",
    "## first_device_type\n",
    "\n",
    "## first_browser\n",
    "\n",
    "## country_destination: this is the target variable you are to predict\n",
    "\n",
    "\n"
   ]
  },
  {
   "cell_type": "code",
   "execution_count": 125,
   "metadata": {},
   "outputs": [
    {
     "data": {
      "text/html": [
       "<div>\n",
       "<style scoped>\n",
       "    .dataframe tbody tr th:only-of-type {\n",
       "        vertical-align: middle;\n",
       "    }\n",
       "\n",
       "    .dataframe tbody tr th {\n",
       "        vertical-align: top;\n",
       "    }\n",
       "\n",
       "    .dataframe thead th {\n",
       "        text-align: right;\n",
       "    }\n",
       "</style>\n",
       "<table border=\"1\" class=\"dataframe\">\n",
       "  <thead>\n",
       "    <tr style=\"text-align: right;\">\n",
       "      <th></th>\n",
       "      <th>user_id</th>\n",
       "      <th>action</th>\n",
       "      <th>action_type</th>\n",
       "      <th>action_detail</th>\n",
       "      <th>device_type</th>\n",
       "      <th>secs_elapsed</th>\n",
       "    </tr>\n",
       "  </thead>\n",
       "  <tbody>\n",
       "    <tr>\n",
       "      <th>0</th>\n",
       "      <td>d1mm9tcy42</td>\n",
       "      <td>lookup</td>\n",
       "      <td>NaN</td>\n",
       "      <td>NaN</td>\n",
       "      <td>Windows Desktop</td>\n",
       "      <td>319.0</td>\n",
       "    </tr>\n",
       "    <tr>\n",
       "      <th>1</th>\n",
       "      <td>d1mm9tcy42</td>\n",
       "      <td>search_results</td>\n",
       "      <td>click</td>\n",
       "      <td>view_search_results</td>\n",
       "      <td>Windows Desktop</td>\n",
       "      <td>67753.0</td>\n",
       "    </tr>\n",
       "    <tr>\n",
       "      <th>2</th>\n",
       "      <td>d1mm9tcy42</td>\n",
       "      <td>lookup</td>\n",
       "      <td>NaN</td>\n",
       "      <td>NaN</td>\n",
       "      <td>Windows Desktop</td>\n",
       "      <td>301.0</td>\n",
       "    </tr>\n",
       "    <tr>\n",
       "      <th>3</th>\n",
       "      <td>d1mm9tcy42</td>\n",
       "      <td>search_results</td>\n",
       "      <td>click</td>\n",
       "      <td>view_search_results</td>\n",
       "      <td>Windows Desktop</td>\n",
       "      <td>22141.0</td>\n",
       "    </tr>\n",
       "    <tr>\n",
       "      <th>4</th>\n",
       "      <td>d1mm9tcy42</td>\n",
       "      <td>lookup</td>\n",
       "      <td>NaN</td>\n",
       "      <td>NaN</td>\n",
       "      <td>Windows Desktop</td>\n",
       "      <td>435.0</td>\n",
       "    </tr>\n",
       "  </tbody>\n",
       "</table>\n",
       "</div>"
      ],
      "text/plain": [
       "      user_id          action action_type        action_detail  \\\n",
       "0  d1mm9tcy42          lookup         NaN                  NaN   \n",
       "1  d1mm9tcy42  search_results       click  view_search_results   \n",
       "2  d1mm9tcy42          lookup         NaN                  NaN   \n",
       "3  d1mm9tcy42  search_results       click  view_search_results   \n",
       "4  d1mm9tcy42          lookup         NaN                  NaN   \n",
       "\n",
       "       device_type  secs_elapsed  \n",
       "0  Windows Desktop         319.0  \n",
       "1  Windows Desktop       67753.0  \n",
       "2  Windows Desktop         301.0  \n",
       "3  Windows Desktop       22141.0  \n",
       "4  Windows Desktop         435.0  "
      ]
     },
     "execution_count": 125,
     "metadata": {},
     "output_type": "execute_result"
    }
   ],
   "source": [
    "sessions.head()"
   ]
  },
  {
   "cell_type": "markdown",
   "metadata": {},
   "source": [
    "# sessions.csv - web sessions log for users\n",
    "\n",
    "## user_id: to be joined with the column 'id' in users table\n",
    "\n",
    "## action - lookup, search results, etc. large number of them \n",
    "\n",
    "## action_type - clicks, scrolls, etc. \n",
    "\n",
    "## action_detail - view search results, etc.\n",
    "\n",
    "## device_type - windows, mac, etc.\n",
    "\n",
    "## secs_elapsed - this is what we want we're basically aggregating the seconds for each person. \n"
   ]
  },
  {
   "cell_type": "markdown",
   "metadata": {},
   "source": [
    "## Now we're just going to be adding the train and test sets for data processing so we don't need to do these steps for both of them separately \n"
   ]
  },
  {
   "cell_type": "code",
   "execution_count": 126,
   "metadata": {},
   "outputs": [],
   "source": [
    "df_all = pd.concat((train_users, test_users), axis = 0, ignore_index= True)"
   ]
  },
  {
   "cell_type": "markdown",
   "metadata": {},
   "source": [
    "Create some variables that involve splitting up our DAC and TFA into the year month and day of week. No processing needed because we're parsing using parse_dates parameter "
   ]
  },
  {
   "cell_type": "code",
   "execution_count": 127,
   "metadata": {},
   "outputs": [],
   "source": [
    "from sklearn.preprocessing import MinMaxScaler\n",
    "\n",
    "# Splitting date time data for date account created\n",
    "df_all['dac_year'] = df_all.date_account_created.dt.year\n",
    "df_all['dac_month'] = df_all.date_account_created.dt.month\n",
    "df_all['dac_day'] = df_all.date_account_created.dt.day\n",
    "df_all[\"dac_day_of_week\"] = df_all.date_account_created.dt.dayofweek\n",
    "\n",
    "# Splitting date time data for time first active\n",
    "df_all['tfa_year'] = df_all.timestamp_first_active.dt.year\n",
    "df_all['tfa_month'] = df_all.timestamp_first_active.dt.month\n",
    "df_all['tfa_day'] = df_all.timestamp_first_active.dt.day\n",
    "df_all['tfa_day_of_week'] = df_all.timestamp_first_active.dt.dayofweek"
   ]
  },
  {
   "cell_type": "code",
   "execution_count": 128,
   "metadata": {},
   "outputs": [],
   "source": [
    "#Now that we created the variables let's drop these columns so we don't forget to do that later.\n",
    "df_all.drop('date_account_created',1, inplace=True)\n",
    "df_all.drop('timestamp_first_active',1, inplace=True)"
   ]
  },
  {
   "cell_type": "code",
   "execution_count": 129,
   "metadata": {},
   "outputs": [
    {
     "data": {
      "text/html": [
       "<div>\n",
       "<style scoped>\n",
       "    .dataframe tbody tr th:only-of-type {\n",
       "        vertical-align: middle;\n",
       "    }\n",
       "\n",
       "    .dataframe tbody tr th {\n",
       "        vertical-align: top;\n",
       "    }\n",
       "\n",
       "    .dataframe thead th {\n",
       "        text-align: right;\n",
       "    }\n",
       "</style>\n",
       "<table border=\"1\" class=\"dataframe\">\n",
       "  <thead>\n",
       "    <tr style=\"text-align: right;\">\n",
       "      <th></th>\n",
       "      <th>id</th>\n",
       "      <th>date_first_booking</th>\n",
       "      <th>gender</th>\n",
       "      <th>age</th>\n",
       "      <th>signup_method</th>\n",
       "      <th>signup_flow</th>\n",
       "      <th>language</th>\n",
       "      <th>affiliate_channel</th>\n",
       "      <th>affiliate_provider</th>\n",
       "      <th>first_affiliate_tracked</th>\n",
       "      <th>...</th>\n",
       "      <th>first_browser</th>\n",
       "      <th>country_destination</th>\n",
       "      <th>dac_year</th>\n",
       "      <th>dac_month</th>\n",
       "      <th>dac_day</th>\n",
       "      <th>dac_day_of_week</th>\n",
       "      <th>tfa_year</th>\n",
       "      <th>tfa_month</th>\n",
       "      <th>tfa_day</th>\n",
       "      <th>tfa_day_of_week</th>\n",
       "    </tr>\n",
       "  </thead>\n",
       "  <tbody>\n",
       "    <tr>\n",
       "      <th>0</th>\n",
       "      <td>gxn3p5htnn</td>\n",
       "      <td>NaT</td>\n",
       "      <td>-unknown-</td>\n",
       "      <td>NaN</td>\n",
       "      <td>facebook</td>\n",
       "      <td>0</td>\n",
       "      <td>en</td>\n",
       "      <td>direct</td>\n",
       "      <td>direct</td>\n",
       "      <td>untracked</td>\n",
       "      <td>...</td>\n",
       "      <td>Chrome</td>\n",
       "      <td>NDF</td>\n",
       "      <td>2010</td>\n",
       "      <td>6</td>\n",
       "      <td>28</td>\n",
       "      <td>0</td>\n",
       "      <td>2009</td>\n",
       "      <td>3</td>\n",
       "      <td>19</td>\n",
       "      <td>3</td>\n",
       "    </tr>\n",
       "    <tr>\n",
       "      <th>1</th>\n",
       "      <td>820tgsjxq7</td>\n",
       "      <td>NaT</td>\n",
       "      <td>MALE</td>\n",
       "      <td>38.0</td>\n",
       "      <td>facebook</td>\n",
       "      <td>0</td>\n",
       "      <td>en</td>\n",
       "      <td>seo</td>\n",
       "      <td>google</td>\n",
       "      <td>untracked</td>\n",
       "      <td>...</td>\n",
       "      <td>Chrome</td>\n",
       "      <td>NDF</td>\n",
       "      <td>2011</td>\n",
       "      <td>5</td>\n",
       "      <td>25</td>\n",
       "      <td>2</td>\n",
       "      <td>2009</td>\n",
       "      <td>5</td>\n",
       "      <td>23</td>\n",
       "      <td>5</td>\n",
       "    </tr>\n",
       "    <tr>\n",
       "      <th>2</th>\n",
       "      <td>4ft3gnwmtx</td>\n",
       "      <td>2010-08-02</td>\n",
       "      <td>FEMALE</td>\n",
       "      <td>56.0</td>\n",
       "      <td>basic</td>\n",
       "      <td>3</td>\n",
       "      <td>en</td>\n",
       "      <td>direct</td>\n",
       "      <td>direct</td>\n",
       "      <td>untracked</td>\n",
       "      <td>...</td>\n",
       "      <td>IE</td>\n",
       "      <td>US</td>\n",
       "      <td>2010</td>\n",
       "      <td>9</td>\n",
       "      <td>28</td>\n",
       "      <td>1</td>\n",
       "      <td>2009</td>\n",
       "      <td>6</td>\n",
       "      <td>9</td>\n",
       "      <td>1</td>\n",
       "    </tr>\n",
       "    <tr>\n",
       "      <th>3</th>\n",
       "      <td>bjjt8pjhuk</td>\n",
       "      <td>2012-09-08</td>\n",
       "      <td>FEMALE</td>\n",
       "      <td>42.0</td>\n",
       "      <td>facebook</td>\n",
       "      <td>0</td>\n",
       "      <td>en</td>\n",
       "      <td>direct</td>\n",
       "      <td>direct</td>\n",
       "      <td>untracked</td>\n",
       "      <td>...</td>\n",
       "      <td>Firefox</td>\n",
       "      <td>other</td>\n",
       "      <td>2011</td>\n",
       "      <td>12</td>\n",
       "      <td>5</td>\n",
       "      <td>0</td>\n",
       "      <td>2009</td>\n",
       "      <td>10</td>\n",
       "      <td>31</td>\n",
       "      <td>5</td>\n",
       "    </tr>\n",
       "    <tr>\n",
       "      <th>4</th>\n",
       "      <td>87mebub9p4</td>\n",
       "      <td>2010-02-18</td>\n",
       "      <td>-unknown-</td>\n",
       "      <td>41.0</td>\n",
       "      <td>basic</td>\n",
       "      <td>0</td>\n",
       "      <td>en</td>\n",
       "      <td>direct</td>\n",
       "      <td>direct</td>\n",
       "      <td>untracked</td>\n",
       "      <td>...</td>\n",
       "      <td>Chrome</td>\n",
       "      <td>US</td>\n",
       "      <td>2010</td>\n",
       "      <td>9</td>\n",
       "      <td>14</td>\n",
       "      <td>1</td>\n",
       "      <td>2009</td>\n",
       "      <td>12</td>\n",
       "      <td>8</td>\n",
       "      <td>1</td>\n",
       "    </tr>\n",
       "    <tr>\n",
       "      <th>...</th>\n",
       "      <td>...</td>\n",
       "      <td>...</td>\n",
       "      <td>...</td>\n",
       "      <td>...</td>\n",
       "      <td>...</td>\n",
       "      <td>...</td>\n",
       "      <td>...</td>\n",
       "      <td>...</td>\n",
       "      <td>...</td>\n",
       "      <td>...</td>\n",
       "      <td>...</td>\n",
       "      <td>...</td>\n",
       "      <td>...</td>\n",
       "      <td>...</td>\n",
       "      <td>...</td>\n",
       "      <td>...</td>\n",
       "      <td>...</td>\n",
       "      <td>...</td>\n",
       "      <td>...</td>\n",
       "      <td>...</td>\n",
       "      <td>...</td>\n",
       "    </tr>\n",
       "    <tr>\n",
       "      <th>275542</th>\n",
       "      <td>cv0na2lf5a</td>\n",
       "      <td>NaT</td>\n",
       "      <td>-unknown-</td>\n",
       "      <td>31.0</td>\n",
       "      <td>basic</td>\n",
       "      <td>0</td>\n",
       "      <td>en</td>\n",
       "      <td>direct</td>\n",
       "      <td>direct</td>\n",
       "      <td>untracked</td>\n",
       "      <td>...</td>\n",
       "      <td>IE</td>\n",
       "      <td>NaN</td>\n",
       "      <td>2014</td>\n",
       "      <td>9</td>\n",
       "      <td>30</td>\n",
       "      <td>1</td>\n",
       "      <td>2014</td>\n",
       "      <td>9</td>\n",
       "      <td>30</td>\n",
       "      <td>1</td>\n",
       "    </tr>\n",
       "    <tr>\n",
       "      <th>275543</th>\n",
       "      <td>zp8xfonng8</td>\n",
       "      <td>NaT</td>\n",
       "      <td>-unknown-</td>\n",
       "      <td>NaN</td>\n",
       "      <td>basic</td>\n",
       "      <td>23</td>\n",
       "      <td>ko</td>\n",
       "      <td>direct</td>\n",
       "      <td>direct</td>\n",
       "      <td>untracked</td>\n",
       "      <td>...</td>\n",
       "      <td>-unknown-</td>\n",
       "      <td>NaN</td>\n",
       "      <td>2014</td>\n",
       "      <td>9</td>\n",
       "      <td>30</td>\n",
       "      <td>1</td>\n",
       "      <td>2014</td>\n",
       "      <td>9</td>\n",
       "      <td>30</td>\n",
       "      <td>1</td>\n",
       "    </tr>\n",
       "    <tr>\n",
       "      <th>275544</th>\n",
       "      <td>fa6260ziny</td>\n",
       "      <td>NaT</td>\n",
       "      <td>-unknown-</td>\n",
       "      <td>NaN</td>\n",
       "      <td>basic</td>\n",
       "      <td>0</td>\n",
       "      <td>de</td>\n",
       "      <td>direct</td>\n",
       "      <td>direct</td>\n",
       "      <td>linked</td>\n",
       "      <td>...</td>\n",
       "      <td>Firefox</td>\n",
       "      <td>NaN</td>\n",
       "      <td>2014</td>\n",
       "      <td>9</td>\n",
       "      <td>30</td>\n",
       "      <td>1</td>\n",
       "      <td>2014</td>\n",
       "      <td>9</td>\n",
       "      <td>30</td>\n",
       "      <td>1</td>\n",
       "    </tr>\n",
       "    <tr>\n",
       "      <th>275545</th>\n",
       "      <td>87k0fy4ugm</td>\n",
       "      <td>NaT</td>\n",
       "      <td>-unknown-</td>\n",
       "      <td>NaN</td>\n",
       "      <td>basic</td>\n",
       "      <td>0</td>\n",
       "      <td>en</td>\n",
       "      <td>sem-brand</td>\n",
       "      <td>google</td>\n",
       "      <td>omg</td>\n",
       "      <td>...</td>\n",
       "      <td>Safari</td>\n",
       "      <td>NaN</td>\n",
       "      <td>2014</td>\n",
       "      <td>9</td>\n",
       "      <td>30</td>\n",
       "      <td>1</td>\n",
       "      <td>2014</td>\n",
       "      <td>9</td>\n",
       "      <td>30</td>\n",
       "      <td>1</td>\n",
       "    </tr>\n",
       "    <tr>\n",
       "      <th>275546</th>\n",
       "      <td>9uqfg8txu3</td>\n",
       "      <td>NaT</td>\n",
       "      <td>FEMALE</td>\n",
       "      <td>49.0</td>\n",
       "      <td>basic</td>\n",
       "      <td>0</td>\n",
       "      <td>en</td>\n",
       "      <td>other</td>\n",
       "      <td>other</td>\n",
       "      <td>tracked-other</td>\n",
       "      <td>...</td>\n",
       "      <td>Chrome</td>\n",
       "      <td>NaN</td>\n",
       "      <td>2014</td>\n",
       "      <td>9</td>\n",
       "      <td>30</td>\n",
       "      <td>1</td>\n",
       "      <td>2014</td>\n",
       "      <td>9</td>\n",
       "      <td>30</td>\n",
       "      <td>1</td>\n",
       "    </tr>\n",
       "  </tbody>\n",
       "</table>\n",
       "<p>275547 rows × 22 columns</p>\n",
       "</div>"
      ],
      "text/plain": [
       "                id date_first_booking     gender   age signup_method  \\\n",
       "0       gxn3p5htnn                NaT  -unknown-   NaN      facebook   \n",
       "1       820tgsjxq7                NaT       MALE  38.0      facebook   \n",
       "2       4ft3gnwmtx         2010-08-02     FEMALE  56.0         basic   \n",
       "3       bjjt8pjhuk         2012-09-08     FEMALE  42.0      facebook   \n",
       "4       87mebub9p4         2010-02-18  -unknown-  41.0         basic   \n",
       "...            ...                ...        ...   ...           ...   \n",
       "275542  cv0na2lf5a                NaT  -unknown-  31.0         basic   \n",
       "275543  zp8xfonng8                NaT  -unknown-   NaN         basic   \n",
       "275544  fa6260ziny                NaT  -unknown-   NaN         basic   \n",
       "275545  87k0fy4ugm                NaT  -unknown-   NaN         basic   \n",
       "275546  9uqfg8txu3                NaT     FEMALE  49.0         basic   \n",
       "\n",
       "        signup_flow language affiliate_channel affiliate_provider  \\\n",
       "0                 0       en            direct             direct   \n",
       "1                 0       en               seo             google   \n",
       "2                 3       en            direct             direct   \n",
       "3                 0       en            direct             direct   \n",
       "4                 0       en            direct             direct   \n",
       "...             ...      ...               ...                ...   \n",
       "275542            0       en            direct             direct   \n",
       "275543           23       ko            direct             direct   \n",
       "275544            0       de            direct             direct   \n",
       "275545            0       en         sem-brand             google   \n",
       "275546            0       en             other              other   \n",
       "\n",
       "       first_affiliate_tracked  ... first_browser country_destination  \\\n",
       "0                    untracked  ...        Chrome                 NDF   \n",
       "1                    untracked  ...        Chrome                 NDF   \n",
       "2                    untracked  ...            IE                  US   \n",
       "3                    untracked  ...       Firefox               other   \n",
       "4                    untracked  ...        Chrome                  US   \n",
       "...                        ...  ...           ...                 ...   \n",
       "275542               untracked  ...            IE                 NaN   \n",
       "275543               untracked  ...     -unknown-                 NaN   \n",
       "275544                  linked  ...       Firefox                 NaN   \n",
       "275545                     omg  ...        Safari                 NaN   \n",
       "275546           tracked-other  ...        Chrome                 NaN   \n",
       "\n",
       "       dac_year dac_month  dac_day  dac_day_of_week  tfa_year  tfa_month  \\\n",
       "0          2010         6       28                0      2009          3   \n",
       "1          2011         5       25                2      2009          5   \n",
       "2          2010         9       28                1      2009          6   \n",
       "3          2011        12        5                0      2009         10   \n",
       "4          2010         9       14                1      2009         12   \n",
       "...         ...       ...      ...              ...       ...        ...   \n",
       "275542     2014         9       30                1      2014          9   \n",
       "275543     2014         9       30                1      2014          9   \n",
       "275544     2014         9       30                1      2014          9   \n",
       "275545     2014         9       30                1      2014          9   \n",
       "275546     2014         9       30                1      2014          9   \n",
       "\n",
       "        tfa_day  tfa_day_of_week  \n",
       "0            19                3  \n",
       "1            23                5  \n",
       "2             9                1  \n",
       "3            31                5  \n",
       "4             8                1  \n",
       "...         ...              ...  \n",
       "275542       30                1  \n",
       "275543       30                1  \n",
       "275544       30                1  \n",
       "275545       30                1  \n",
       "275546       30                1  \n",
       "\n",
       "[275547 rows x 22 columns]"
      ]
     },
     "execution_count": 129,
     "metadata": {},
     "output_type": "execute_result"
    }
   ],
   "source": [
    "df_all\n",
    "# View the data after creating those new variables to make sure they're created properly"
   ]
  },
  {
   "cell_type": "code",
   "execution_count": 130,
   "metadata": {},
   "outputs": [
    {
     "data": {
      "text/plain": [
       "id                              0\n",
       "date_first_booking         186639\n",
       "gender                          0\n",
       "age                        116866\n",
       "signup_method                   0\n",
       "signup_flow                     0\n",
       "language                        0\n",
       "affiliate_channel               0\n",
       "affiliate_provider              0\n",
       "first_affiliate_tracked      6085\n",
       "signup_app                      0\n",
       "first_device_type               0\n",
       "first_browser                   0\n",
       "country_destination         62096\n",
       "dac_year                        0\n",
       "dac_month                       0\n",
       "dac_day                         0\n",
       "dac_day_of_week                 0\n",
       "tfa_year                        0\n",
       "tfa_month                       0\n",
       "tfa_day                         0\n",
       "tfa_day_of_week                 0\n",
       "dtype: int64"
      ]
     },
     "execution_count": 130,
     "metadata": {},
     "output_type": "execute_result"
    }
   ],
   "source": [
    "df_all.isna().sum()"
   ]
  },
  {
   "cell_type": "markdown",
   "metadata": {},
   "source": [
    "here we see date_first_booking has a lot of NA values and so does age and first_affiliate_trakced\n",
    "\n",
    "\n",
    "Let's explore the age values to see what's happening here\n"
   ]
  },
  {
   "cell_type": "code",
   "execution_count": 131,
   "metadata": {},
   "outputs": [
    {
     "data": {
      "text/plain": [
       "count    158681.000000\n",
       "mean         47.145310\n",
       "std         142.629468\n",
       "min           1.000000\n",
       "25%          28.000000\n",
       "50%          33.000000\n",
       "75%          42.000000\n",
       "max        2014.000000\n",
       "Name: age, dtype: float64"
      ]
     },
     "execution_count": 131,
     "metadata": {},
     "output_type": "execute_result"
    }
   ],
   "source": [
    "df_all.age.value_counts()\n",
    "df_all.age.describe()"
   ]
  },
  {
   "cell_type": "code",
   "execution_count": 137,
   "metadata": {},
   "outputs": [
    {
     "data": {
      "image/png": "[encoded data removed]",
      "text/plain": [
       "<Figure size 1008x576 with 1 Axes>"
      ]
     },
     "metadata": {
      "needs_background": "light"
     },
     "output_type": "display_data"
    }
   ],
   "source": [
    "#Age distribution before we normalized. There are a LOT of NA values that aren't included in this because we're\n",
    "# dropping the NA values\n",
    "plt.figure(figsize=[14,8])\n",
    "sns.distplot(df_all.age.dropna(),bins=np.arange(18,100+5,5),color=sns.color_palette()[5],kde=False);\n",
    "plt.xlabel('Age of members')\n",
    "plt.ylabel('Count')\n",
    "plt.title('Age distribution of Users')\n",
    "plt.xlim(18,100);"
   ]
  },
  {
   "cell_type": "markdown",
   "metadata": {},
   "source": [
    "### As we can see, there is a ton of variablility in the age column but that seemed to be a good indicator of where people would book their flights so we wanted to normalize this in some way. \n",
    "\n",
    "The approach we took for this one was to find where the age values were greater than 1000 i.e. there was human error in inputting them, and then fill those values with a random int from 28 to 43 which was our 25% to 75% quantile range roughly. For the na values, we also just filled those up. We tried several different methods of filling the age values and found that this produced the best results by and large. "
   ]
  },
  {
   "cell_type": "code",
   "execution_count": 133,
   "metadata": {},
   "outputs": [],
   "source": [
    "#df_all.loc[df_all.age > 100, 'age'] = np.nan\n",
    "#df_all.loc[df_all.age < 18, 'age'] = np.nan\n",
    "\n",
    "age_values = df_all.age.values\n",
    "df_all['age'] = np.where(age_values>1000, np.random.randint(28, 43), age_values)\n",
    "df_all['age'] = df_all['age'].fillna(np.random.randint(28, 43))"
   ]
  },
  {
   "cell_type": "code",
   "execution_count": 134,
   "metadata": {},
   "outputs": [
    {
     "data": {
      "image/png": "[encoded data removed]",
      "text/plain": [
       "<Figure size 1008x576 with 1 Axes>"
      ]
     },
     "metadata": {
      "needs_background": "light"
     },
     "output_type": "display_data"
    }
   ],
   "source": [
    "#Plotting Age distribution of the members\n",
    "# After normalization with the random values  \n",
    "plt.figure(figsize=[14,8])\n",
    "sns.distplot(df_all.age.dropna(),bins=np.arange(18,100+5,5),color=sns.color_palette()[5],kde=False);\n",
    "plt.xlabel('Age of members')\n",
    "plt.ylabel('Count')\n",
    "plt.title('Age distribution of Users')\n",
    "plt.xlim(18,100);"
   ]
  },
  {
   "cell_type": "code",
   "execution_count": 13,
   "metadata": {},
   "outputs": [
    {
     "data": {
      "text/plain": [
       "count    275547.000000\n",
       "mean         35.234896\n",
       "std          10.645925\n",
       "min           1.000000\n",
       "25%          32.000000\n",
       "50%          33.000000\n",
       "75%          35.000000\n",
       "max         150.000000\n",
       "Name: age, dtype: float64"
      ]
     },
     "execution_count": 13,
     "metadata": {},
     "output_type": "execute_result"
    }
   ],
   "source": [
    "df_all.age.describe()\n",
    "# We still have some very obvious outliers, max age = 150, but this is much better than before \n",
    "# and we didn't mess with the distributions as much. "
   ]
  },
  {
   "cell_type": "code",
   "execution_count": 135,
   "metadata": {},
   "outputs": [
    {
     "data": {
      "image/png": "[encoded data removed]",
      "text/plain": [
       "<Figure size 1008x576 with 1 Axes>"
      ]
     },
     "metadata": {
      "needs_background": "light"
     },
     "output_type": "display_data"
    }
   ],
   "source": [
    "# relationship between gender and age \n",
    "\n",
    "plt.figure(figsize=[14,8])\n",
    "sns.boxplot(data=df_all,y='age',x='gender',color=sns.color_palette()[7]);\n",
    "plt.ylim(18,100)\n",
    "plt.xlabel('Gender');\n",
    "plt.ylabel('Age');\n",
    "plt.title('Gender-Age Distribution');"
   ]
  },
  {
   "cell_type": "code",
   "execution_count": 14,
   "metadata": {},
   "outputs": [],
   "source": [
    "#We're grouping up the signup devices and then filling the na withe the medians of our series. \n",
    "# this accomplishes normalization for our signup methods and first_device types\n",
    "\n",
    "by_signup_device = df_all.groupby(['signup_method', 'first_device_type'])\n",
    "def impute_median(series):\n",
    "    return series.fillna(series.median())\n",
    "df_all.age = by_signup_device['age'].transform(impute_median)"
   ]
  },
  {
   "cell_type": "code",
   "execution_count": 15,
   "metadata": {},
   "outputs": [],
   "source": [
    "# first affiliate tracked isn't necessarily important but we saw a few notebooks that used this \n",
    "# it basically tells us how the user found airbnb. We thought this would be a useful feature and turned this into a \n",
    "# a one hot encoded column. \n",
    "\n",
    "tracked = []\n",
    "for i in df_all['first_affiliate_tracked']:\n",
    "    if i == \"untracked\" or i == \"\":\n",
    "        isTracked = 0\n",
    "    else:\n",
    "        isTracked = 1\n",
    "    tracked.append(isTracked)\n",
    "\n",
    "df_all['is_first_affiliate_tracked'] = tracked"
   ]
  },
  {
   "cell_type": "markdown",
   "metadata": {},
   "source": [
    "This part is pretty important, we decided to group up the seconds information for sessions because we thought people who spent more time browsing the website would choose different locations. We decided to group these people all together and then merged that with our "
   ]
  },
  {
   "cell_type": "code",
   "execution_count": 16,
   "metadata": {},
   "outputs": [],
   "source": [
    "seconds = sessions.groupby('user_id', as_index=False).agg({\"secs_elapsed\": \"sum\"})\n",
    "df_all = pd.merge(df_all, seconds, left_on=\"id\", right_on=\"user_id\", how=\"left\")\n",
    "df_all['secs_elapsed'] = df_all['secs_elapsed'].fillna(0)"
   ]
  },
  {
   "cell_type": "code",
   "execution_count": 17,
   "metadata": {},
   "outputs": [],
   "source": [
    "df_all.secs_elapsed.value_counts()\n",
    "# so it looks like seconds elapsed has way too many 0 or NA values so we ended up dropping this from our dataframe\n",
    "\n",
    "df_all = df_all.drop('secs_elapsed', axis=1)"
   ]
  },
  {
   "cell_type": "code",
   "execution_count": 18,
   "metadata": {},
   "outputs": [
    {
     "data": {
      "text/plain": [
       "Index(['id', 'date_first_booking', 'gender', 'age', 'signup_method',\n",
       "       'signup_flow', 'language', 'affiliate_channel', 'affiliate_provider',\n",
       "       'first_affiliate_tracked', 'signup_app', 'first_device_type',\n",
       "       'first_browser', 'dac_year', 'dac_month', 'dac_day', 'dac_day_of_week',\n",
       "       'tfa_year', 'tfa_month', 'tfa_day', 'tfa_day_of_week',\n",
       "       'is_first_affiliate_tracked', 'user_id'],\n",
       "      dtype='object')"
      ]
     },
     "execution_count": 18,
     "metadata": {},
     "output_type": "execute_result"
    }
   ],
   "source": [
    "df_all.columns"
   ]
  },
  {
   "cell_type": "markdown",
   "metadata": {},
   "source": [
    "Here we're cerating dummy variables for each of the features seen below. These features are ones that contain alphanumeric values such as names. We're turning them into a dummy features to basically turn all of this into one hot encoding. Finally we added that to our original dataframe which is now called df2. "
   ]
  },
  {
   "cell_type": "code",
   "execution_count": 19,
   "metadata": {},
   "outputs": [],
   "source": [
    "method = pd.get_dummies(df_all[[\"signup_method\"]])\n",
    "affch = pd.get_dummies(df_all[[\"affiliate_channel\"]])\n",
    "affprov = pd.get_dummies(df_all[[\"affiliate_provider\"]])\n",
    "firstdevice = pd.get_dummies(df_all[[\"first_device_type\"]])\n",
    "signupFlow = pd.get_dummies(df_all[[\"signup_flow\"]].astype(str))\n",
    "signup = pd.get_dummies(df_all[[\"signup_app\"]])\n",
    "genderdum = pd.get_dummies(df_all[[\"gender\"]])\n",
    "langdum = pd.get_dummies(df_all[[\"language\"]])\n",
    "browser = pd.get_dummies(df_all[[\"first_browser\"]])\n",
    "\n",
    "df2 = df_all\n",
    "\n",
    "df2 = pd.concat([df2.reset_index(drop=True),method.reset_index(drop=True)], axis=1)\n",
    "df2 = pd.concat([df2.reset_index(drop=True),affch.reset_index(drop=True)], axis=1)\n",
    "df2 = pd.concat([df2.reset_index(drop=True),affprov.reset_index(drop=True)], axis=1)\n",
    "df2 = pd.concat([df2.reset_index(drop=True),firstdevice.reset_index(drop=True)], axis=1)\n",
    "df2 = pd.concat([df2.reset_index(drop=True),signupFlow.reset_index(drop=True)], axis=1)\n",
    "df2 = pd.concat([df2.reset_index(drop=True),genderdum.reset_index(drop=True)], axis=1)\n",
    "df2 = pd.concat([df2.reset_index(drop=True),signup.reset_index(drop=True)], axis=1)\n",
    "df2 = pd.concat([df2.reset_index(drop=True),langdum.reset_index(drop=True)], axis=1)\n",
    "df2 = pd.concat([df2.reset_index(drop=True),browser.reset_index(drop=True)], axis=1)"
   ]
  },
  {
   "cell_type": "code",
   "execution_count": 20,
   "metadata": {},
   "outputs": [],
   "source": [
    "df2 = df2.drop(['id',  'date_first_booking','gender', \n",
    "          'signup_method',  'affiliate_channel', 'affiliate_provider', 'first_device_type', \n",
    "          'first_browser', 'signup_app', 'first_browser', 'language', 'signup_flow', 'first_affiliate_tracked'], axis=1)"
   ]
  },
  {
   "cell_type": "code",
   "execution_count": 21,
   "metadata": {},
   "outputs": [],
   "source": [
    "id_test = test_users['id']"
   ]
  },
  {
   "cell_type": "code",
   "execution_count": 22,
   "metadata": {},
   "outputs": [
    {
     "name": "stdout",
     "output_type": "stream",
     "text": [
      "12\n",
      "['NDF' 'US' 'other' 'FR' 'CA' 'GB' 'ES' 'IT' 'PT' 'NL' 'DE' 'AU']\n"
     ]
    }
   ],
   "source": [
    "print(len(Y.unique()))\n",
    "print(Y.unique())"
   ]
  },
  {
   "cell_type": "code",
   "execution_count": 23,
   "metadata": {},
   "outputs": [
    {
     "name": "stdout",
     "output_type": "stream",
     "text": [
      "(275547, 157)\n",
      "213451\n",
      "(275547, 23)\n"
     ]
    }
   ],
   "source": [
    "print(df2.shape)\n",
    "print(len(Y))\n",
    "#print(train.shape)\n",
    "print(df_all.shape)"
   ]
  },
  {
   "cell_type": "code",
   "execution_count": 24,
   "metadata": {},
   "outputs": [
    {
     "name": "stdout",
     "output_type": "stream",
     "text": [
      "<class 'pandas.core.frame.DataFrame'>\n",
      "Int64Index: 275547 entries, 0 to 275546\n",
      "Data columns (total 23 columns):\n",
      " #   Column                      Non-Null Count   Dtype         \n",
      "---  ------                      --------------   -----         \n",
      " 0   id                          275547 non-null  object        \n",
      " 1   date_first_booking          88908 non-null   datetime64[ns]\n",
      " 2   gender                      275547 non-null  object        \n",
      " 3   age                         275547 non-null  float64       \n",
      " 4   signup_method               275547 non-null  object        \n",
      " 5   signup_flow                 275547 non-null  int64         \n",
      " 6   language                    275547 non-null  object        \n",
      " 7   affiliate_channel           275547 non-null  object        \n",
      " 8   affiliate_provider          275547 non-null  object        \n",
      " 9   first_affiliate_tracked     269462 non-null  object        \n",
      " 10  signup_app                  275547 non-null  object        \n",
      " 11  first_device_type           275547 non-null  object        \n",
      " 12  first_browser               275547 non-null  object        \n",
      " 13  dac_year                    275547 non-null  int64         \n",
      " 14  dac_month                   275547 non-null  int64         \n",
      " 15  dac_day                     275547 non-null  int64         \n",
      " 16  dac_day_of_week             275547 non-null  int64         \n",
      " 17  tfa_year                    275547 non-null  int64         \n",
      " 18  tfa_month                   275547 non-null  int64         \n",
      " 19  tfa_day                     275547 non-null  int64         \n",
      " 20  tfa_day_of_week             275547 non-null  int64         \n",
      " 21  is_first_affiliate_tracked  275547 non-null  int64         \n",
      " 22  user_id                     135483 non-null  object        \n",
      "dtypes: datetime64[ns](1), float64(1), int64(10), object(11)\n",
      "memory usage: 50.5+ MB\n"
     ]
    }
   ],
   "source": [
    "df_all.info()"
   ]
  },
  {
   "cell_type": "code",
   "execution_count": 25,
   "metadata": {},
   "outputs": [],
   "source": [
    "df2 = df2.drop(\"user_id\", axis = 1)\n"
   ]
  },
  {
   "cell_type": "code",
   "execution_count": 26,
   "metadata": {},
   "outputs": [],
   "source": [
    "#We got this from feature selection \n",
    "\n",
    "df2 = df2.drop(['gender_-unknown-', 'signup_method_facebook', 'age', 'affiliate_channel_content', 'first_browser_-unknown-', 'signup_app_Android', 'signup_app_iOS', 'signup_flow_1', 'signup_method_basic', 'first_device_type_Other/Unknown', 'gender_MALE', 'signup_app_Web', 'signup_flow_2', 'language_en', 'tfa_year', 'signup_flow_3', 'signup_flow_0', 'signup_app_Moweb', 'affiliate_channel_direct', 'first_device_type_Mac Desktop', 'signup_flow_25', 'is_first_affiliate_tracked', 'affiliate_provider_meetup', 'affiliate_provider_facebook', 'gender_FEMALE', 'affiliate_channel_sem-non-brand', 'signup_flow_12', 'dac_year', 'affiliate_channel_other', 'first_device_type_Android Phone', 'affiliate_provider_other', 'first_browser_Chrome', 'first_device_type_SmartPhone (Other)', 'first_browser_AOL Explorer', 'signup_flow_24', 'signup_flow_5', 'affiliate_channel_api', 'first_browser_Firefox', 'language_ko', 'language_it', 'language_zh', 'affiliate_provider_craigslist', 'first_browser_Camino', 'affiliate_provider_vast', 'first_browser_Silk', 'language_ja', 'signup_flow_8', 'language_fi', 'language_fr', 'dac_month', 'first_device_type_Windows Desktop', 'affiliate_channel_seo', 'tfa_month', 'first_device_type_iPhone', 'first_browser_IE', 'first_browser_Android Browser', 'affiliate_channel_remarketing', 'language_es', 'language_da', 'first_browser_Mobile Safari', 'language_de', 'first_browser_Safari', 'affiliate_provider_google', 'affiliate_provider_facebook-open-graph', 'first_browser_Chrome Mobile', 'affiliate_provider_padmapper', 'signup_flow_23', 'signup_flow_21', 'affiliate_provider_direct', 'affiliate_channel_sem-brand', 'first_device_type_iPad', 'language_pt', 'dac_day', 'first_browser_Chromium', 'gender_OTHER', 'dac_day_of_week', 'tfa_day', 'affiliate_provider_bing', 'tfa_day_of_week', 'language_ru', 'first_device_type_Desktop (Other)', 'affiliate_provider_yahoo', 'affiliate_provider_gsp', 'first_device_type_Android Tablet', 'first_browser_Opera', 'signup_flow_6', 'affiliate_provider_email-marketing', 'language_nl', 'language_sv', 'signup_method_google', 'first_browser_BlackBerry Browser'], axis =1)"
   ]
  },
  {
   "cell_type": "code",
   "execution_count": 28,
   "metadata": {},
   "outputs": [
    {
     "data": {
      "text/plain": [
       "0           NDF\n",
       "1           NDF\n",
       "2            US\n",
       "3         other\n",
       "4            US\n",
       "          ...  \n",
       "213446      NDF\n",
       "213447      NDF\n",
       "213448      NDF\n",
       "213449      NDF\n",
       "213450      NDF\n",
       "Name: country_destination, Length: 213451, dtype: object"
      ]
     },
     "execution_count": 28,
     "metadata": {},
     "output_type": "execute_result"
    }
   ],
   "source": [
    "Y"
   ]
  },
  {
   "cell_type": "code",
   "execution_count": 82,
   "metadata": {},
   "outputs": [],
   "source": [
    "from sklearn.preprocessing import LabelEncoder\n",
    "from sklearn import model_selection\n",
    "\n",
    "# We took this label encoding stuff from a separate notebook.\n",
    "vals = df2.values\n",
    "X = vals[:train_users.shape[0]]\n",
    "le = LabelEncoder()\n",
    "y = le.fit_transform(Y)   \n",
    "X_test = vals[train_users.shape[0]:]\n"
   ]
  },
  {
   "cell_type": "code",
   "execution_count": 83,
   "metadata": {},
   "outputs": [
    {
     "data": {
      "text/plain": [
       "XGBClassifier(base_score=0.5, booster='gbtree', colsample_bylevel=1,\n",
       "              colsample_bynode=1, colsample_bytree=0.5, gamma=0, gpu_id=-1,\n",
       "              importance_type='gain', interaction_constraints='',\n",
       "              learning_rate=0.3, max_delta_step=0, max_depth=6,\n",
       "              min_child_weight=1, missing=nan, monotone_constraints='()',\n",
       "              n_estimators=25, n_jobs=-1, nthread=-1, num_parallel_tree=1,\n",
       "              objective='multi:softprob', random_state=0, reg_alpha=0,\n",
       "              reg_lambda=1, scale_pos_weight=None, seed=0, subsample=0.5,\n",
       "              tree_method='exact', validate_parameters=1, verbosity=None)"
      ]
     },
     "execution_count": 83,
     "metadata": {},
     "output_type": "execute_result"
    }
   ],
   "source": [
    "\n",
    "xgb = XGBClassifier(max_depth=6, learning_rate=0.3, n_estimators=25,\n",
    "                    objective='multi:softprob', subsample=0.5, colsample_bytree=0.5, seed=0, nthread = -1)                  \n",
    "xgb.fit(X, y)\n",
    "\n"
   ]
  },
  {
   "cell_type": "code",
   "execution_count": 84,
   "metadata": {},
   "outputs": [],
   "source": [
    "y_pred = xgb.predict_proba(X_test)"
   ]
  },
  {
   "cell_type": "code",
   "execution_count": 85,
   "metadata": {},
   "outputs": [],
   "source": [
    "ids = []  #list of ids\n",
    "cts = []  #list of countries\n",
    "for i in range(len(id_test)):\n",
    "    idx = id_test[i]\n",
    "    ids += [idx] * 5\n",
    "    cts += le.inverse_transform(np.argsort(y_pred[i])[::-1])[:5].tolist()\n",
    "    \n",
    "\n",
    "#Generate submission\n",
    "sub = pd.DataFrame(np.column_stack((ids, cts)), columns=['id', 'country'])\n",
    "sub.to_csv('sub.csv',index=False)\n"
   ]
  },
  {
   "cell_type": "code",
   "execution_count": 99,
   "metadata": {},
   "outputs": [
    {
     "data": {
      "text/plain": [
       "NDF      62096\n",
       "FR       62096\n",
       "US       62096\n",
       "other    62096\n",
       "IT       62018\n",
       "ES          44\n",
       "GB          34\n",
       "Name: country, dtype: int64"
      ]
     },
     "execution_count": 99,
     "metadata": {},
     "output_type": "execute_result"
    }
   ],
   "source": [
    "set(cts)\n",
    "exploreCountries = pd.DataFrame(cts, columns = ['country'])\n",
    "exploreCountries.country.value_counts()"
   ]
  },
  {
   "cell_type": "markdown",
   "metadata": {},
   "source": [
    "# as we can see we're predicting roughly the same values for each of the classes but some classes are not included "
   ]
  },
  {
   "cell_type": "code",
   "execution_count": 60,
   "metadata": {},
   "outputs": [],
   "source": [
    "# train test split for analysis \n",
    "#Y = train_users['country_destination'] # these are our labels\n",
    "#train_users = train_users.drop('country_destination', axis =1)\n",
    "\n",
    "\n",
    "# Here we're using label encoding for the Y_train and y_test. This helped our accuracy alot. \n",
    "# We're honestly not entirely sure why this helped so much but it could be because it's easier for the model \n",
    "# to predict numerical values than it is to predict strings but we saw a bunch of kaggle notebooks doing this \n",
    "# thought it could be important, and our accuracy shot up alot. \n",
    "\n",
    "\n",
    "train = df2.iloc[0:len(train_users),:]\n",
    "le = LabelEncoder()\n",
    "#Ynew = le.fit_transform(Y)\n",
    "\n",
    "X_train, X_test, y_train, y_test = model_selection.train_test_split(\n",
    "    train, Y, test_size=0.33, random_state=42)\n",
    "\n",
    "\n",
    "#train_users_n = train_users.shape[0] # comment\n",
    "#X_train = df2.values[:train_users_n] # comment\n",
    "#le = LabelEncoder() # don't uncommment\n",
    "#y_train = le.fit_transform(Y)\n",
    "\n",
    "y_train = le.fit_transform(y_train)\n",
    "y_test = le.fit_transform(y_test)   \n",
    "\n",
    "\n",
    "#X_test = df2.values[train_users_n:]\n",
    "\n",
    "\n",
    "\n",
    "xgb = XGBClassifier(max_depth=6, learning_rate=0.3, n_estimators=25,\n",
    "                    objective='multi:softprob', subsample=0.5, colsample_bytree=0.5, seed=0)                  \n",
    "xgb.fit(X_train, y_train)\n",
    "y_pred_xgb = xgb.predict_proba(X_test)\n",
    "\n"
   ]
  },
  {
   "cell_type": "code",
   "execution_count": 47,
   "metadata": {},
   "outputs": [
    {
     "data": {
      "text/plain": [
       "array([[0.00351094, 0.00767762, 0.00580891, ..., 0.00207162, 0.28722212,\n",
       "        0.04675335],\n",
       "       [0.00351094, 0.00767762, 0.00580891, ..., 0.00207162, 0.28722212,\n",
       "        0.04675335],\n",
       "       [0.00351094, 0.00767762, 0.00580891, ..., 0.00207162, 0.28722212,\n",
       "        0.04675335],\n",
       "       ...,\n",
       "       [0.00351094, 0.00767762, 0.00580891, ..., 0.00207162, 0.28722212,\n",
       "        0.04675335],\n",
       "       [0.00351094, 0.00767762, 0.00580891, ..., 0.00207162, 0.28722212,\n",
       "        0.04675335],\n",
       "       [0.00351094, 0.00767762, 0.00580891, ..., 0.00207162, 0.28722212,\n",
       "        0.04675335]], dtype=float32)"
      ]
     },
     "execution_count": 47,
     "metadata": {},
     "output_type": "execute_result"
    }
   ],
   "source": [
    "y_pred_xgb"
   ]
  },
  {
   "cell_type": "code",
   "execution_count": 64,
   "metadata": {},
   "outputs": [],
   "source": [
    "from sklearn.metrics import classification_report, ndcg\n",
    "ids = []  #list of ids\n",
    "cts = []  #list of countries\n",
    "for i in range(len(y_pred_xgb)):\n",
    "    #idx = id_test[i]\n",
    "    #ids += [idx] * 5\n",
    "    cts += le.inverse_transform(np.argsort(y_pred_xgb[i])[::-1])[:1].tolist()\n",
    "\n",
    "y_test = le.inverse_transform(y_test)    \n",
    "#cts is our inverse transformed of y_pred_xgb\n",
    "#print(classification_report(y_test, cts))"
   ]
  },
  {
   "cell_type": "code",
   "execution_count": 113,
   "metadata": {},
   "outputs": [
    {
     "name": "stdout",
     "output_type": "stream",
     "text": [
      "{'AU', 'ES', 'CA', 'DE', 'other', 'US', 'GB', 'PT', 'IT', 'FR', 'NL', 'NDF'}\n",
      "{'ES', 'other', 'US', 'GB', 'FR', 'IT', 'NDF'}\n"
     ]
    }
   ],
   "source": [
    "print(set(y_test))\n",
    "print(set(cts))"
   ]
  },
  {
   "cell_type": "code",
   "execution_count": 79,
   "metadata": {},
   "outputs": [
    {
     "name": "stdout",
     "output_type": "stream",
     "text": [
      "              precision    recall  f1-score   support\n",
      "\n",
      "          AU       0.00      0.00      0.00       182\n",
      "          CA       0.00      0.00      0.00       456\n",
      "          DE       0.00      0.00      0.00       358\n",
      "          ES       0.00      0.00      0.00       743\n",
      "          FR       0.00      0.00      0.00      1645\n",
      "          GB       0.00      0.00      0.00       837\n",
      "          IT       0.00      0.00      0.00       952\n",
      "         NDF       0.58      1.00      0.73     40905\n",
      "          NL       0.00      0.00      0.00       241\n",
      "          PT       0.00      0.00      0.00        86\n",
      "          US       0.17      0.00      0.00     20714\n",
      "       other       0.00      0.00      0.00      3320\n",
      "\n",
      "    accuracy                           0.58     70439\n",
      "   macro avg       0.06      0.08      0.06     70439\n",
      "weighted avg       0.39      0.58      0.43     70439\n",
      "\n"
     ]
    },
    {
     "data": {
      "text/plain": [
       "array([[[70257,     0],\n",
       "        [  182,     0]],\n",
       "\n",
       "       [[69696,     0],\n",
       "        [  743,     0]],\n",
       "\n",
       "       [[69983,     0],\n",
       "        [  456,     0]],\n",
       "\n",
       "       [[70081,     0],\n",
       "        [  358,     0]],\n",
       "\n",
       "       [[70198,     0],\n",
       "        [  241,     0]],\n",
       "\n",
       "       [[67119,     0],\n",
       "        [ 3320,     0]],\n",
       "\n",
       "       [[49715,    10],\n",
       "        [20712,     2]],\n",
       "\n",
       "       [[69602,     0],\n",
       "        [  837,     0]],\n",
       "\n",
       "       [[70353,     0],\n",
       "        [   86,     0]],\n",
       "\n",
       "       [[68794,     0],\n",
       "        [ 1645,     0]],\n",
       "\n",
       "       [[69487,     0],\n",
       "        [  952,     0]],\n",
       "\n",
       "       [[    3, 29531],\n",
       "        [    9, 40896]]])"
      ]
     },
     "execution_count": 79,
     "metadata": {},
     "output_type": "execute_result"
    }
   ],
   "source": [
    "from sklearn.metrics import multilabel_confusion_matrix\n",
    "\n",
    "print(classification_report(y_test, cts))\n",
    "multilabel_confusion_matrix(y_test,cts, labels=list(set(Y)))"
   ]
  },
  {
   "cell_type": "markdown",
   "metadata": {},
   "source": [
    "# So as we can see from the classificaiton report, accuracy is not the best metric to use with this problem. From the train test split, it's obvious that our model is mostly predicting US and NDF values. This isn't very odd since the actual dataset is incredibly skewed towards the US and NDF labels. \n",
    "\n",
    "# However, when we look at the predictions on the entire dataset and not a split of it, we can see that our data is better distributed. We're predicting US, FR, NDF, etc. with the same amount of accuracy. This is odd because our data is skewed towards NDF and the US. We're not really sure why this is happening but it is noteworthy to report\n",
    "\n",
    "\n",
    "# Applications: So a real life application of this project is discussed in the introduction. AirBnB could use this report to help market to people if they were able to predict where that person is going to be making their first booking. They would be able to better forcast demand and also recruit new hosts in those countries. Based off of our analysis, it looks like currently most people are going to the US/France/Spain/Italy. Therefore, AirBnB could look into expanding into high demand areas within each of these countries. There is also an incredible amount of people that don't end up booking vacations (NDF values) which is an issue for AirBnB. A short survey on their website could reveal some more information but it could be dangerous to speculate on this. We believe that if AirBnB augmented the dataset, they could discover where people were looking before not choosing a location. There may be overlap in these areas and therefore this gives AirBnB a clear path forward on where to expand their operations to. "
   ]
  },
  {
   "cell_type": "markdown",
   "metadata": {},
   "source": [
    "# Appendix, extra information/ trial and error things to show our thought process, not going to be annotated. "
   ]
  },
  {
   "cell_type": "code",
   "execution_count": null,
   "metadata": {},
   "outputs": [],
   "source": []
  },
  {
   "cell_type": "markdown",
   "metadata": {},
   "source": [
    "# From the above section you saw we performed feature selection, we do that here. FEATURE SELECTION SECTION don't run this section below since it'll probably throw some errors. we ran this once with our model fit on a huge number of features. This is only for documentation purposes "
   ]
  },
  {
   "cell_type": "code",
   "execution_count": 36,
   "metadata": {},
   "outputs": [],
   "source": [
    "from numpy import loadtxt\n",
    "from xgboost import XGBClassifier\n",
    "from xgboost import plot_importance\n",
    "from matplotlib import pyplot"
   ]
  },
  {
   "cell_type": "code",
   "execution_count": 115,
   "metadata": {},
   "outputs": [
    {
     "data": {
      "image/png": "[encoded data removed]",
      "text/plain": [
       "<Figure size 432x288 with 1 Axes>"
      ]
     },
     "metadata": {
      "needs_background": "light"
     },
     "output_type": "display_data"
    }
   ],
   "source": [
    "plot_importance(xgb)\n",
    "pyplot.show()"
   ]
  },
  {
   "cell_type": "code",
   "execution_count": 114,
   "metadata": {},
   "outputs": [],
   "source": [
    "importance = xgb.feature_importances_\n",
    "importance_df = pd.DataFrame(importance, index=X_train.columns, \n",
    "                      columns=[\"Importance\"])"
   ]
  },
  {
   "cell_type": "code",
   "execution_count": null,
   "metadata": {},
   "outputs": [],
   "source": [
    "importance_df = importance_df.sort_values(by = ['Importance'], ascending = False)"
   ]
  },
  {
   "cell_type": "code",
   "execution_count": null,
   "metadata": {},
   "outputs": [],
   "source": [
    "importance_df.to_csv('importance3.csv')"
   ]
  },
  {
   "cell_type": "code",
   "execution_count": null,
   "metadata": {},
   "outputs": [],
   "source": [
    "trim = importance_df[importance_df.Importance > 0]"
   ]
  },
  {
   "cell_type": "code",
   "execution_count": null,
   "metadata": {},
   "outputs": [],
   "source": [
    "trim.to_csv('trim.csv')"
   ]
  },
  {
   "cell_type": "code",
   "execution_count": null,
   "metadata": {},
   "outputs": [],
   "source": [
    "indexNamesArr = trim.index.values\n",
    "listoftrim = list(indexNamesArr)"
   ]
  },
  {
   "cell_type": "code",
   "execution_count": null,
   "metadata": {},
   "outputs": [],
   "source": [
    "train = train[listoftrim]\n",
    "test = test[listoftrim]"
   ]
  },
  {
   "cell_type": "code",
   "execution_count": null,
   "metadata": {},
   "outputs": [],
   "source": [
    "print(listoftrim)"
   ]
  },
  {
   "cell_type": "markdown",
   "metadata": {},
   "source": [
    "''' Our trimmed features that we took out. these all had a 0 F1 score. \n",
    "['gender_-unknown-', 'signup_method_facebook', 'age', 'affiliate_channel_content', 'first_browser_-unknown-', 'signup_app_Android', 'signup_app_iOS', 'signup_flow_1', 'signup_method_basic', 'first_device_type_Other/Unknown', 'gender_MALE', 'signup_app_Web', 'signup_flow_2', 'language_en', 'tfa_year', 'signup_flow_3', 'signup_flow_0', 'signup_app_Moweb', 'affiliate_channel_direct', 'first_device_type_Mac Desktop', 'signup_flow_25', 'is_first_affiliate_tracked', 'affiliate_provider_meetup', 'affiliate_provider_facebook', 'gender_FEMALE', 'affiliate_channel_sem-non-brand', 'signup_flow_12', 'dac_year', 'affiliate_channel_other', 'first_device_type_Android Phone', 'affiliate_provider_other', 'first_browser_Chrome', 'first_device_type_SmartPhone (Other)', 'first_browser_AOL Explorer', 'signup_flow_24', 'signup_flow_5', 'affiliate_channel_api', 'first_browser_Firefox', 'language_ko', 'language_it', 'language_zh', 'affiliate_provider_craigslist', 'first_browser_Camino', 'affiliate_provider_vast', 'first_browser_Silk', 'language_ja', 'signup_flow_8', 'language_fi', 'language_fr', 'dac_month', 'first_device_type_Windows Desktop', 'affiliate_channel_seo', 'tfa_month', 'first_device_type_iPhone', 'first_browser_IE', 'first_browser_Android Browser', 'affiliate_channel_remarketing', 'language_es', 'language_da', 'first_browser_Mobile Safari', 'language_de', 'first_browser_Safari', 'affiliate_provider_google', 'affiliate_provider_facebook-open-graph', 'first_browser_Chrome Mobile', 'affiliate_provider_padmapper', 'signup_flow_23', 'signup_flow_21', 'affiliate_provider_direct', 'affiliate_channel_sem-brand', 'first_device_type_iPad', 'language_pt', 'dac_day', 'first_browser_Chromium', 'gender_OTHER', 'dac_day_of_week', 'tfa_day', 'affiliate_provider_bing', 'tfa_day_of_week', 'language_ru', 'first_device_type_Desktop (Other)', 'affiliate_provider_yahoo', 'affiliate_provider_gsp', 'first_device_type_Android Tablet', 'first_browser_Opera', 'signup_flow_6', 'affiliate_provider_email-marketing', 'language_nl', 'language_sv', 'signup_method_google', 'first_browser_BlackBerry Browser']\n",
    "trim list \n",
    "''''''"
   ]
  },
  {
   "cell_type": "code",
   "execution_count": null,
   "metadata": {},
   "outputs": [],
   "source": [
    "Y_Predict = xgb.predict_proba(test)"
   ]
  },
  {
   "cell_type": "code",
   "execution_count": null,
   "metadata": {},
   "outputs": [],
   "source": [
    "len(y_pred_xgb)"
   ]
  },
  {
   "cell_type": "code",
   "execution_count": null,
   "metadata": {},
   "outputs": [],
   "source": [
    "generate_answer(y_pred_xgb, 'XGB')"
   ]
  },
  {
   "cell_type": "code",
   "execution_count": null,
   "metadata": {},
   "outputs": [],
   "source": [
    "submit = generate_answer(Y_Predict, 'XGB')"
   ]
  },
  {
   "cell_type": "code",
   "execution_count": null,
   "metadata": {},
   "outputs": [],
   "source": [
    "submit"
   ]
  },
  {
   "cell_type": "code",
   "execution_count": null,
   "metadata": {},
   "outputs": [],
   "source": [
    "\n",
    "# This was us experimenting with the for loop that does inverse_transform. again, \n",
    "#do not run this it is not necessary this is only for documentation purposes\n",
    "from sklearn.model_selection import cross_val_score\n",
    "from sklearn.metrics import classification_report\n",
    "ids = []  #list of ids\n",
    "cts = []  #list of countries\n",
    "y_predicted = y_pred_xgb\n",
    "for i in range(len(y_pred_xgb)):\n",
    "    #idx = id_test[i]\n",
    "    #ids += [idx] * 5\n",
    "    cts += le.inverse_transform(np.argsort(y_predicted[i])[::-1])[:1].tolist()\n",
    "\n",
    "#scores = cross_val_score(xgb, X_train, y_train, cv = 10)\n",
    "#multilabel_confusion_matrix(y_test, y_pred_xgb)"
   ]
  },
  {
   "cell_type": "code",
   "execution_count": null,
   "metadata": {},
   "outputs": [],
   "source": [
    "# here we're experimenting with how to get the NDCG score for our report but we weren't able to figure it out\n",
    "# we're going to be showing the classification report instead. \n",
    "\n",
    "print(len(cts))\n",
    "print(len(y_test))\n",
    "print(len(y_pred_xgb))\n",
    "print(y_pred_xgb[0])\n",
    "print(le.inverse_transform(np.argsort(y_pred_xgb[0])[::-1])[:1].tolist())"
   ]
  },
  {
   "cell_type": "code",
   "execution_count": null,
   "metadata": {},
   "outputs": [],
   "source": [
    "from sklearn.metrics import ndcg_score\n",
    "\n",
    "# part 2 of experimenting with NDCG score, not required to run.\n",
    "\n",
    "#print(y_test)\n",
    "#print(y_pred_xgb)\n",
    "#print(len(y_test))\n",
    "#print(len(y_pred_xgb))\n",
    "\n",
    "print(y_test[0])\n",
    "print(y_pred_xgb[0])\n",
    "print(len(y_pred_xgb[0]))\n",
    "\n",
    "\n",
    "\n",
    "testArray = [[0,0,0,1,0,0,0,0,0,0,0,0]]\n",
    "print(len(testArray))\n",
    "testArray2 = [y_pred_xgb[0]]\n",
    "#print(cts[0])\n",
    "ndcg_score(testArray, testArray2)"
   ]
  }
 ],
 "metadata": {
  "kernelspec": {
   "display_name": "Python 3",
   "language": "python",
   "name": "python3"
  },
  "language_info": {
   "codemirror_mode": {
    "name": "ipython",
    "version": 3
   },
   "file_extension": ".py",
   "mimetype": "text/x-python",
   "name": "python",
   "nbconvert_exporter": "python",
   "pygments_lexer": "ipython3",
   "version": "3.8.3"
  }
 },
 "nbformat": 4,
 "nbformat_minor": 4
}
