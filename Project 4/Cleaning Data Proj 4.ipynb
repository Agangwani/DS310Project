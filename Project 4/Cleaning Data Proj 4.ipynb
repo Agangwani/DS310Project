{
 "cells": [
  {
   "cell_type": "code",
   "execution_count": 1,
   "metadata": {},
   "outputs": [],
   "source": [
    "import numpy as np\n",
    "import pandas as pd\n",
    "from matplotlib import pyplot as plt"
   ]
  },
  {
   "cell_type": "code",
   "execution_count": 2,
   "metadata": {},
   "outputs": [
    {
     "name": "stderr",
     "output_type": "stream",
     "text": [
      "C:\\Users\\owenf\\Anaconda3\\lib\\site-packages\\IPython\\core\\interactiveshell.py:2785: DtypeWarning: Columns (2,6,9,21,26,76,279,371,458,474,493,497,499,945,946) have mixed types. Specify dtype option on import or set low_memory=False.\n",
      "  interactivity=interactivity, compiler=compiler, result=result)\n"
     ]
    }
   ],
   "source": [
    "data = pd.read_csv(\"project_4_data.csv\")\n",
    "clean_data = pd.DataFrame()"
   ]
  },
  {
   "cell_type": "code",
   "execution_count": 3,
   "metadata": {},
   "outputs": [],
   "source": [
    "data = data[data['selfhomeless'] == 2]"
   ]
  },
  {
   "cell_type": "code",
   "execution_count": 4,
   "metadata": {},
   "outputs": [
    {
     "data": {
      "text/html": [
       "<div>\n",
       "<style scoped>\n",
       "    .dataframe tbody tr th:only-of-type {\n",
       "        vertical-align: middle;\n",
       "    }\n",
       "\n",
       "    .dataframe tbody tr th {\n",
       "        vertical-align: top;\n",
       "    }\n",
       "\n",
       "    .dataframe thead th {\n",
       "        text-align: right;\n",
       "    }\n",
       "</style>\n",
       "<table border=\"1\" class=\"dataframe\">\n",
       "  <thead>\n",
       "    <tr style=\"text-align: right;\">\n",
       "      <th></th>\n",
       "      <th>pid</th>\n",
       "      <th>screen1_sleep</th>\n",
       "      <th>screen1_sleep_18_text</th>\n",
       "      <th>screen_voucher</th>\n",
       "      <th>screen2_long</th>\n",
       "      <th>screen3_age</th>\n",
       "      <th>realm_score</th>\n",
       "      <th>consent</th>\n",
       "      <th>consent_agree</th>\n",
       "      <th>pid_20</th>\n",
       "      <th>...</th>\n",
       "      <th>new_helpseek_scale_1</th>\n",
       "      <th>new_helpseek_scale_2</th>\n",
       "      <th>new_helpseek_scale_3</th>\n",
       "      <th>new_helpseek_scale_4</th>\n",
       "      <th>new_helpseek_scale_5</th>\n",
       "      <th>new_helpseek_scale_6</th>\n",
       "      <th>new_helpseek_scale_7</th>\n",
       "      <th>new_helpseek_scale_8</th>\n",
       "      <th>sum_helpseek_scale</th>\n",
       "      <th>erorhosp_ever</th>\n",
       "    </tr>\n",
       "  </thead>\n",
       "  <tbody>\n",
       "    <tr>\n",
       "      <th>10</th>\n",
       "      <td>1006</td>\n",
       "      <td>15</td>\n",
       "      <td>.</td>\n",
       "      <td>NaN</td>\n",
       "      <td>NaN</td>\n",
       "      <td>22.0</td>\n",
       "      <td>9</td>\n",
       "      <td>1.0</td>\n",
       "      <td>2.0</td>\n",
       "      <td>7/11/16</td>\n",
       "      <td>...</td>\n",
       "      <td>3.0</td>\n",
       "      <td>3.0</td>\n",
       "      <td>3.0</td>\n",
       "      <td>3.0</td>\n",
       "      <td>3.0</td>\n",
       "      <td>3.0</td>\n",
       "      <td>3.0</td>\n",
       "      <td>3.0</td>\n",
       "      <td>24.0</td>\n",
       "      <td>1.0</td>\n",
       "    </tr>\n",
       "    <tr>\n",
       "      <th>11</th>\n",
       "      <td>1006</td>\n",
       "      <td>15</td>\n",
       "      <td>.</td>\n",
       "      <td>NaN</td>\n",
       "      <td>NaN</td>\n",
       "      <td>22.0</td>\n",
       "      <td>9</td>\n",
       "      <td>1.0</td>\n",
       "      <td>2.0</td>\n",
       "      <td>7/11/16</td>\n",
       "      <td>...</td>\n",
       "      <td>3.0</td>\n",
       "      <td>3.0</td>\n",
       "      <td>3.0</td>\n",
       "      <td>3.0</td>\n",
       "      <td>3.0</td>\n",
       "      <td>3.0</td>\n",
       "      <td>3.0</td>\n",
       "      <td>3.0</td>\n",
       "      <td>24.0</td>\n",
       "      <td>1.0</td>\n",
       "    </tr>\n",
       "    <tr>\n",
       "      <th>12</th>\n",
       "      <td>1006</td>\n",
       "      <td>15</td>\n",
       "      <td>.</td>\n",
       "      <td>NaN</td>\n",
       "      <td>NaN</td>\n",
       "      <td>22.0</td>\n",
       "      <td>9</td>\n",
       "      <td>1.0</td>\n",
       "      <td>2.0</td>\n",
       "      <td>7/11/16</td>\n",
       "      <td>...</td>\n",
       "      <td>3.0</td>\n",
       "      <td>3.0</td>\n",
       "      <td>3.0</td>\n",
       "      <td>3.0</td>\n",
       "      <td>3.0</td>\n",
       "      <td>3.0</td>\n",
       "      <td>3.0</td>\n",
       "      <td>3.0</td>\n",
       "      <td>24.0</td>\n",
       "      <td>1.0</td>\n",
       "    </tr>\n",
       "    <tr>\n",
       "      <th>13</th>\n",
       "      <td>1006</td>\n",
       "      <td>15</td>\n",
       "      <td>.</td>\n",
       "      <td>NaN</td>\n",
       "      <td>NaN</td>\n",
       "      <td>22.0</td>\n",
       "      <td>9</td>\n",
       "      <td>1.0</td>\n",
       "      <td>2.0</td>\n",
       "      <td>7/11/16</td>\n",
       "      <td>...</td>\n",
       "      <td>3.0</td>\n",
       "      <td>3.0</td>\n",
       "      <td>3.0</td>\n",
       "      <td>3.0</td>\n",
       "      <td>3.0</td>\n",
       "      <td>3.0</td>\n",
       "      <td>3.0</td>\n",
       "      <td>3.0</td>\n",
       "      <td>24.0</td>\n",
       "      <td>1.0</td>\n",
       "    </tr>\n",
       "    <tr>\n",
       "      <th>14</th>\n",
       "      <td>1006</td>\n",
       "      <td>15</td>\n",
       "      <td>.</td>\n",
       "      <td>NaN</td>\n",
       "      <td>NaN</td>\n",
       "      <td>22.0</td>\n",
       "      <td>9</td>\n",
       "      <td>1.0</td>\n",
       "      <td>2.0</td>\n",
       "      <td>7/11/16</td>\n",
       "      <td>...</td>\n",
       "      <td>3.0</td>\n",
       "      <td>3.0</td>\n",
       "      <td>3.0</td>\n",
       "      <td>3.0</td>\n",
       "      <td>3.0</td>\n",
       "      <td>3.0</td>\n",
       "      <td>3.0</td>\n",
       "      <td>3.0</td>\n",
       "      <td>24.0</td>\n",
       "      <td>1.0</td>\n",
       "    </tr>\n",
       "  </tbody>\n",
       "</table>\n",
       "<p>5 rows × 1210 columns</p>\n",
       "</div>"
      ],
      "text/plain": [
       "     pid  screen1_sleep screen1_sleep_18_text  screen_voucher  screen2_long  \\\n",
       "10  1006             15                     .             NaN           NaN   \n",
       "11  1006             15                     .             NaN           NaN   \n",
       "12  1006             15                     .             NaN           NaN   \n",
       "13  1006             15                     .             NaN           NaN   \n",
       "14  1006             15                     .             NaN           NaN   \n",
       "\n",
       "    screen3_age realm_score  consent  consent_agree   pid_20      ...        \\\n",
       "10         22.0           9      1.0            2.0  7/11/16      ...         \n",
       "11         22.0           9      1.0            2.0  7/11/16      ...         \n",
       "12         22.0           9      1.0            2.0  7/11/16      ...         \n",
       "13         22.0           9      1.0            2.0  7/11/16      ...         \n",
       "14         22.0           9      1.0            2.0  7/11/16      ...         \n",
       "\n",
       "   new_helpseek_scale_1 new_helpseek_scale_2  new_helpseek_scale_3  \\\n",
       "10                  3.0                  3.0                   3.0   \n",
       "11                  3.0                  3.0                   3.0   \n",
       "12                  3.0                  3.0                   3.0   \n",
       "13                  3.0                  3.0                   3.0   \n",
       "14                  3.0                  3.0                   3.0   \n",
       "\n",
       "    new_helpseek_scale_4 new_helpseek_scale_5  new_helpseek_scale_6  \\\n",
       "10                   3.0                  3.0                   3.0   \n",
       "11                   3.0                  3.0                   3.0   \n",
       "12                   3.0                  3.0                   3.0   \n",
       "13                   3.0                  3.0                   3.0   \n",
       "14                   3.0                  3.0                   3.0   \n",
       "\n",
       "    new_helpseek_scale_7  new_helpseek_scale_8  sum_helpseek_scale  \\\n",
       "10                   3.0                   3.0                24.0   \n",
       "11                   3.0                   3.0                24.0   \n",
       "12                   3.0                   3.0                24.0   \n",
       "13                   3.0                   3.0                24.0   \n",
       "14                   3.0                   3.0                24.0   \n",
       "\n",
       "    erorhosp_ever  \n",
       "10            1.0  \n",
       "11            1.0  \n",
       "12            1.0  \n",
       "13            1.0  \n",
       "14            1.0  \n",
       "\n",
       "[5 rows x 1210 columns]"
      ]
     },
     "execution_count": 4,
     "metadata": {},
     "output_type": "execute_result"
    }
   ],
   "source": [
    "data.head()"
   ]
  },
  {
   "cell_type": "code",
   "execution_count": 5,
   "metadata": {},
   "outputs": [],
   "source": [
    "clean_data['pid'] = data['pid']"
   ]
  },
  {
   "cell_type": "code",
   "execution_count": 6,
   "metadata": {},
   "outputs": [
    {
     "data": {
      "text/plain": [
       "8     1520\n",
       "15    1320\n",
       "5      405\n",
       "9      360\n",
       "17     275\n",
       "13     230\n",
       "16     205\n",
       "10     120\n",
       "1      115\n",
       "18      70\n",
       "3       45\n",
       "6       40\n",
       "11      25\n",
       "7       15\n",
       "14      15\n",
       "12      15\n",
       "2       10\n",
       "Name: screen1_sleep, dtype: int64"
      ]
     },
     "execution_count": 6,
     "metadata": {},
     "output_type": "execute_result"
    }
   ],
   "source": [
    "data['screen1_sleep'].value_counts()\n",
    "# Shelter: 8 or 9\n",
    "# Insecure: 15, 16, or 17\n",
    "# Secure: all others"
   ]
  },
  {
   "cell_type": "code",
   "execution_count": 7,
   "metadata": {},
   "outputs": [],
   "source": [
    "shelter = []\n",
    "insecure = []\n",
    "secure = []\n",
    "\n",
    "shelter_ = 0\n",
    "insecure_ = 0\n",
    "secure_ = 0\n",
    "\n",
    "for i in data['screen1_sleep']:\n",
    "    if i == 8 or i == 9:\n",
    "        shelter_ = 1\n",
    "    elif i == 15 or i == 16 or i == 17:\n",
    "        insecure_ = 1\n",
    "    else:\n",
    "        secure_ = 1\n",
    "    shelter.append(shelter_)\n",
    "    insecure.append(insecure_)\n",
    "    secure.append(secure_)\n",
    "\n",
    "clean_data['screen1_sleep_shelter'] = shelter\n",
    "clean_data['screen1_sleep_insecure'] = insecure\n",
    "clean_data['screen1_sleep_secure'] = secure"
   ]
  },
  {
   "cell_type": "code",
   "execution_count": 8,
   "metadata": {},
   "outputs": [],
   "source": [
    "clean_data['screen3_age'] = data['screen3_age']"
   ]
  },
  {
   "cell_type": "code",
   "execution_count": 9,
   "metadata": {},
   "outputs": [
    {
     "data": {
      "text/plain": [
       "9     1530\n",
       ".      815\n",
       "4      505\n",
       "9      440\n",
       "8      320\n",
       "8      240\n",
       "7      213\n",
       "7      207\n",
       "6      125\n",
       "6      105\n",
       "5       75\n",
       "4       65\n",
       "5       65\n",
       "10      15\n",
       "0       15\n",
       "0       15\n",
       "2       10\n",
       "1        5\n",
       "3        5\n",
       "3        5\n",
       "1        5\n",
       "Name: realm_score, dtype: int64"
      ]
     },
     "execution_count": 9,
     "metadata": {},
     "output_type": "execute_result"
    }
   ],
   "source": [
    "data['realm_score'].value_counts()"
   ]
  },
  {
   "cell_type": "code",
   "execution_count": 10,
   "metadata": {},
   "outputs": [],
   "source": [
    "help_needed = []\n",
    "\n",
    "for i in data['realm_score']:\n",
    "    if isinstance(i, int):\n",
    "        if i < 4:\n",
    "            help_ = 1\n",
    "        else:\n",
    "            help_ = 0\n",
    "    else:\n",
    "        help_ = 0\n",
    "    help_needed.append(help_)\n",
    "\n",
    "clean_data['realm_score_help_needed'] = help_needed"
   ]
  },
  {
   "cell_type": "code",
   "execution_count": 11,
   "metadata": {},
   "outputs": [],
   "source": [
    "data['genderidentity_3'] = data['genderidentity_3'].fillna(0)\n",
    "data['genderidentity_4'] = data['genderidentity_4'].fillna(0)\n",
    "data['genderidentity_5'] = data['genderidentity_5'].fillna(0)\n",
    "data['genderidentity_6'] = data['genderidentity_6'].fillna(0)\n",
    "clean_data['gender_identity_lgbt'] = data['genderidentity_3'] + data['genderidentity_4'] + data['genderidentity_5'] + data['genderidentity_6']"
   ]
  },
  {
   "cell_type": "code",
   "execution_count": 12,
   "metadata": {},
   "outputs": [],
   "source": [
    "clean_data['birthsex_male'] = data['birthsex']\n",
    "clean_data['birthsex_male'] = clean_data['birthsex_male'].replace(2, 0)"
   ]
  },
  {
   "cell_type": "code",
   "execution_count": 13,
   "metadata": {},
   "outputs": [],
   "source": [
    "lgbt = []\n",
    "\n",
    "for i in data['sexualorientation']:\n",
    "    if i == 2.0 or i == 5.0:\n",
    "        lgbt_ = 0\n",
    "    else:\n",
    "        lgbt_ = 1\n",
    "    lgbt.append(lgbt_)\n",
    "\n",
    "clean_data['sexualorientation_lgbt'] = lgbt"
   ]
  },
  {
   "cell_type": "code",
   "execution_count": 14,
   "metadata": {},
   "outputs": [],
   "source": [
    "clean_data['first_homeless'] = data['firsthomeless_1']\n",
    "clean_data['years_since_first_homeless'] = clean_data['screen3_age'] - clean_data['first_homeless']"
   ]
  },
  {
   "cell_type": "code",
   "execution_count": 15,
   "metadata": {},
   "outputs": [
    {
     "data": {
      "text/plain": [
       "1.0    2520\n",
       "0.0    1060\n",
       "Name: reasonhomeless_1, dtype: int64"
      ]
     },
     "execution_count": 15,
     "metadata": {},
     "output_type": "execute_result"
    }
   ],
   "source": [
    "data['reasonhomeless_1'].value_counts()"
   ]
  },
  {
   "cell_type": "code",
   "execution_count": 16,
   "metadata": {},
   "outputs": [],
   "source": [
    "clean_data['education'] = data['education']"
   ]
  },
  {
   "cell_type": "code",
   "execution_count": 17,
   "metadata": {},
   "outputs": [
    {
     "data": {
      "text/plain": [
       "1.0    3985\n",
       "2.0     800\n",
       "Name: inschool, dtype: int64"
      ]
     },
     "execution_count": 17,
     "metadata": {},
     "output_type": "execute_result"
    }
   ],
   "source": [
    "data['inschool'].value_counts()"
   ]
  },
  {
   "cell_type": "code",
   "execution_count": 18,
   "metadata": {},
   "outputs": [],
   "source": [
    "clean_data['inschool'] = data['inschool'] - 1"
   ]
  },
  {
   "cell_type": "code",
   "execution_count": 19,
   "metadata": {},
   "outputs": [
    {
     "data": {
      "text/plain": [
       " 1.0     350\n",
       " 2.0     235\n",
       " 3.0     205\n",
       " 4.0     165\n",
       " 25.0    145\n",
       " 5.0     105\n",
       " 7.0      95\n",
       " 10.0     85\n",
       " 8.0      65\n",
       " 13.0     45\n",
       " 6.0      40\n",
       " 14.0     40\n",
       " 11.0     35\n",
       " 15.0     35\n",
       " 12.0     35\n",
       " 18.0     30\n",
       " 16.0     25\n",
       " 9.0      25\n",
       " 17.0     15\n",
       " 23.0     15\n",
       " 20.0      5\n",
       " 22.0      5\n",
       " 24.0      5\n",
       "-99.0      5\n",
       " 21.0      5\n",
       "Name: ttlfcplacements_1, dtype: int64"
      ]
     },
     "execution_count": 19,
     "metadata": {},
     "output_type": "execute_result"
    }
   ],
   "source": [
    "data['ttlfcplacements_1'].value_counts()"
   ]
  },
  {
   "cell_type": "code",
   "execution_count": 20,
   "metadata": {},
   "outputs": [
    {
     "data": {
      "text/plain": [
       "2970"
      ]
     },
     "execution_count": 20,
     "metadata": {},
     "output_type": "execute_result"
    }
   ],
   "source": [
    "data['ttlfcplacements_1'].isna().sum()"
   ]
  },
  {
   "cell_type": "code",
   "execution_count": 21,
   "metadata": {},
   "outputs": [],
   "source": [
    "clean_data['foster_care_placements'] = data['ttlfcplacements_1'].replace(-99,0)\n",
    "clean_data['foster_care_placements'] = clean_data['foster_care_placements'].replace(np.nan,0)"
   ]
  },
  {
   "cell_type": "code",
   "execution_count": 22,
   "metadata": {},
   "outputs": [],
   "source": [
    "data['reasonhomeless_5'] = data['reasonhomeless_5'].fillna(0)\n",
    "data['reasonhomeless_6'] = data['reasonhomeless_6'].fillna(0)\n",
    "data['reasonhomeless_7'] = data['reasonhomeless_7'].fillna(0)\n",
    "data['reasonhomeless_8'] = data['reasonhomeless_8'].fillna(0)\n",
    "\n",
    "clean_data['reason_homeless_ran_away'] = data['reasonhomeless_5'] + data['reasonhomeless_6'] + data['reasonhomeless_7'] + data['reasonhomeless_8']"
   ]
  },
  {
   "cell_type": "code",
   "execution_count": 23,
   "metadata": {},
   "outputs": [
    {
     "data": {
      "text/plain": [
       "0.0    3975\n",
       "1.0     810\n",
       "Name: reason_homeless_ran_away, dtype: int64"
      ]
     },
     "execution_count": 23,
     "metadata": {},
     "output_type": "execute_result"
    }
   ],
   "source": [
    "clean_data['reason_homeless_ran_away'] = clean_data['reason_homeless_ran_away'].replace(2, 1)\n",
    "clean_data['reason_homeless_ran_away'] = clean_data['reason_homeless_ran_away'].replace(3, 1)\n",
    "clean_data['reason_homeless_ran_away'] = clean_data['reason_homeless_ran_away'].replace(4, 1)\n",
    "clean_data['reason_homeless_ran_away'].value_counts()"
   ]
  },
  {
   "cell_type": "code",
   "execution_count": 24,
   "metadata": {},
   "outputs": [],
   "source": [
    "clean_data['jjinvolve'] = data['jjinvolve'] - 1\n",
    "clean_data['jjinvolve'] = clean_data['jjinvolve'].fillna(0)"
   ]
  },
  {
   "cell_type": "code",
   "execution_count": 28,
   "metadata": {},
   "outputs": [],
   "source": [
    "clean_data['everarrest'] = data['everarrest'] - 1"
   ]
  },
  {
   "cell_type": "code",
   "execution_count": 36,
   "metadata": {},
   "outputs": [],
   "source": [
    "clean_data['jail_homeless'] = data['jail_homeless'] - 1\n",
    "clean_data['jail_homeless'] = clean_data['jail_homeless'].fillna(0)"
   ]
  },
  {
   "cell_type": "code",
   "execution_count": 44,
   "metadata": {},
   "outputs": [],
   "source": [
    "clean_data['incomegen_12mo_1'] = data['incomegen_12mo_1'] - 1\n",
    "clean_data['incomegen_12mo_2'] = data['incomegen_12mo_2'] - 1\n",
    "clean_data['incomegen_12mo_3'] = data['incomegen_12mo_3'] - 1\n",
    "clean_data['incomegen_12mo_4'] = data['incomegen_12mo_4'] - 1\n",
    "clean_data['incomegen_12mo_5'] = data['incomegen_12mo_5'] - 1\n",
    "clean_data['incomegen_12mo_6'] = data['incomegen_12mo_6'] - 1\n",
    "clean_data['incomegen_12mo_7'] = data['incomegen_12mo_7'] - 1\n",
    "clean_data['incomegen_12mo_8'] = data['incomegen_12mo_8'] - 1\n",
    "clean_data['incomegen_12mo_9'] = data['incomegen_12mo_9'] - 1\n",
    "clean_data['incomegen_12mo_10'] = data['incomegen_12mo_10'] - 1\n",
    "clean_data['incomegen_12mo_11'] = data['incomegen_12mo_11'] - 1\n",
    "clean_data['incomegen_12mo_12'] = data['incomegen_12mo_12'] - 1\n",
    "clean_data['incomegen_12mo_13'] = data['incomegen_12mo_13'] - 1\n",
    "clean_data['incomegen_12mo_14'] = data['incomegen_12mo_14'] - 1\n",
    "clean_data['incomegen_12mo_15'] = data['incomegen_12mo_15'] - 1\n",
    "clean_data['incomegen_12mo_16'] = data['incomegen_12mo_16'] - 1\n",
    "clean_data['incomegen_12mo_17'] = data['incomegen_12mo_17'] - 1"
   ]
  },
  {
   "cell_type": "code",
   "execution_count": 45,
   "metadata": {},
   "outputs": [],
   "source": [
    "clean_data['incomegen_12mo_1'] = clean_data['incomegen_12mo_1'].fillna(0)\n",
    "clean_data['incomegen_12mo_2'] = clean_data['incomegen_12mo_2'].fillna(0)\n",
    "clean_data['incomegen_12mo_3'] = clean_data['incomegen_12mo_3'].fillna(0)\n",
    "clean_data['incomegen_12mo_4'] = clean_data['incomegen_12mo_4'].fillna(0)\n",
    "clean_data['incomegen_12mo_5'] = clean_data['incomegen_12mo_5'].fillna(0)\n",
    "clean_data['incomegen_12mo_6'] = clean_data['incomegen_12mo_6'].fillna(0)\n",
    "clean_data['incomegen_12mo_7'] = clean_data['incomegen_12mo_7'].fillna(0)\n",
    "clean_data['incomegen_12mo_8'] = clean_data['incomegen_12mo_8'].fillna(0)\n",
    "clean_data['incomegen_12mo_9'] = clean_data['incomegen_12mo_9'].fillna(0)\n",
    "clean_data['incomegen_12mo_10'] = clean_data['incomegen_12mo_10'].fillna(0)\n",
    "clean_data['incomegen_12mo_11'] = clean_data['incomegen_12mo_11'].fillna(0)\n",
    "clean_data['incomegen_12mo_12'] = clean_data['incomegen_12mo_12'].fillna(0)\n",
    "clean_data['incomegen_12mo_13'] = clean_data['incomegen_12mo_13'].fillna(0)\n",
    "clean_data['incomegen_12mo_14'] = clean_data['incomegen_12mo_14'].fillna(0)\n",
    "clean_data['incomegen_12mo_15'] = clean_data['incomegen_12mo_15'].fillna(0)\n",
    "clean_data['incomegen_12mo_16'] = clean_data['incomegen_12mo_16'].fillna(0)\n",
    "clean_data['incomegen_12mo_17'] = clean_data['incomegen_12mo_17'].fillna(0)"
   ]
  },
  {
   "cell_type": "code",
   "execution_count": 47,
   "metadata": {},
   "outputs": [],
   "source": [
    "clean_data['working'] = data['working'] - 1\n",
    "clean_data['working'] = clean_data['working'].fillna(0)"
   ]
  },
  {
   "cell_type": "code",
   "execution_count": 50,
   "metadata": {},
   "outputs": [],
   "source": [
    "clean_data['ttllegalhours'] = data['ttllegalhours_1'].fillna(0)"
   ]
  },
  {
   "cell_type": "code",
   "execution_count": 55,
   "metadata": {},
   "outputs": [],
   "source": [
    "clean_data['sex_ever'] = data['sex_ever'] - 1\n",
    "clean_data['sex_ever'] = clean_data['sex_ever'].fillna(0)"
   ]
  },
  {
   "cell_type": "code",
   "execution_count": 58,
   "metadata": {},
   "outputs": [],
   "source": [
    "clean_data['sex_3mo'] = data['sex_3mo'] - 1\n",
    "clean_data['sex_3mo'] = clean_data['sex_3mo'].fillna(0)"
   ]
  },
  {
   "cell_type": "code",
   "execution_count": 60,
   "metadata": {},
   "outputs": [],
   "source": [
    "clean_data['num_sexpart_3mo'] = data['num_sexpart_3mo']\n",
    "clean_data['num_sexpart_3mo'] = clean_data['num_sexpart_3mo'].fillna(0)"
   ]
  },
  {
   "cell_type": "code",
   "execution_count": 62,
   "metadata": {},
   "outputs": [],
   "source": [
    "clean_data['condom_use_3mo_1'] = data['condom_use_3mo_1'].fillna(1)"
   ]
  },
  {
   "cell_type": "code",
   "execution_count": 64,
   "metadata": {},
   "outputs": [],
   "source": [
    "clean_data['last_sui'] = data['last_sui'] - 1\n",
    "clean_data['last_sui'] = clean_data['last_sui'].fillna(0)"
   ]
  },
  {
   "cell_type": "code",
   "execution_count": 68,
   "metadata": {},
   "outputs": [],
   "source": [
    "clean_data['ever_sextrade'] = data['ever_sextrade'] - 1\n",
    "clean_data['ever_sextrade'] = clean_data['ever_sextrade'].fillna(0)"
   ]
  },
  {
   "cell_type": "code",
   "execution_count": 69,
   "metadata": {},
   "outputs": [],
   "source": [
    "clean_data['ever_sextradetraffic'] = data['ever_sextradetraffic'] - 1\n",
    "clean_data['ever_sextradetraffic'] = clean_data['ever_sextradetraffic'].fillna(0)"
   ]
  },
  {
   "cell_type": "code",
   "execution_count": 70,
   "metadata": {},
   "outputs": [],
   "source": [
    "clean_data['hpv_2'] = data['hpv_2'].fillna(0)\n",
    "clean_data['hpv_2'] = clean_data['hpv_2'].replace(-99,0)"
   ]
  },
  {
   "cell_type": "code",
   "execution_count": 73,
   "metadata": {},
   "outputs": [],
   "source": [
    "std = []\n",
    "\n",
    "for i in data['std_status']:\n",
    "    if i == 2:\n",
    "        std_ = 1\n",
    "    else:\n",
    "        std_ = 0\n",
    "    std.append(std_)\n",
    "\n",
    "clean_data['std_pos'] = std"
   ]
  },
  {
   "cell_type": "code",
   "execution_count": 75,
   "metadata": {},
   "outputs": [],
   "source": [
    "hepC = []\n",
    "\n",
    "for i in data['hepc_status']:\n",
    "    if i == 2:\n",
    "        hepc_ = 1\n",
    "    else:\n",
    "        hepc_ = 0\n",
    "    hepC.append(hepc_)\n",
    "\n",
    "clean_data['hepC_pos'] = hepC"
   ]
  },
  {
   "cell_type": "code",
   "execution_count": 77,
   "metadata": {},
   "outputs": [],
   "source": [
    "clean_data['preg_numtimes'] = data['preg_numtimes'] - 1\n",
    "clean_data['preg_numtimes'] = clean_data['preg_numtimes'].fillna(0)"
   ]
  },
  {
   "cell_type": "code",
   "execution_count": 80,
   "metadata": {},
   "outputs": [],
   "source": [
    "clean_data['preg_numunplan'] = data['preg_numunplan'] - 1\n",
    "clean_data['preg_numunplan'] = clean_data['preg_numunplan'].fillna(0)"
   ]
  },
  {
   "cell_type": "code",
   "execution_count": 82,
   "metadata": {},
   "outputs": [],
   "source": [
    "clean_data['preg_numchildliving'] = data['preg_numchildliving'] - 1\n",
    "clean_data['preg_numchildliving'] = clean_data['preg_numchildliving'].fillna(0)"
   ]
  },
  {
   "cell_type": "code",
   "execution_count": 85,
   "metadata": {},
   "outputs": [],
   "source": [
    "clean_data['ace_emotabuse'] = data['ace_emotabuse'] - 1\n",
    "clean_data['ace_physicalabuse'] = data['ace_physicalabuse'] - 1\n",
    "clean_data['ace_sexualabuse'] = data['ace_sexualabuse'] - 1\n",
    "clean_data['ace_emotneglect'] = data['ace_emotneglect'] - 1\n",
    "clean_data['ace_physneglect'] = data['ace_physneglect'] - 1\n",
    "clean_data['ace_divorce'] = data['ace_divorce'] - 1\n",
    "clean_data['ace_domesticviol'] = data['ace_domesticviol'] - 1\n",
    "clean_data['ace_caregiversubstan'] = data['ace_caregiversubstan'] - 1\n",
    "clean_data['ace_caregiverdepress'] = data['ace_caregiverdepress'] - 1\n",
    "clean_data['ace_caregiverincar'] = data['ace_caregiverincar'] - 1"
   ]
  },
  {
   "cell_type": "code",
   "execution_count": 86,
   "metadata": {},
   "outputs": [],
   "source": [
    "clean_data['ace_emotabuse'] = clean_data['ace_emotabuse'].fillna(0)\n",
    "clean_data['ace_physicalabuse'] = clean_data['ace_physicalabuse'].fillna(0)\n",
    "clean_data['ace_sexualabuse'] = clean_data['ace_sexualabuse'].fillna(1)\n",
    "clean_data['ace_emotneglect'] = clean_data['ace_emotneglect'].fillna(0)\n",
    "clean_data['ace_physneglect'] = clean_data['ace_physneglect'].fillna(0)\n",
    "clean_data['ace_divorce'] = clean_data['ace_divorce'].fillna(0)\n",
    "clean_data['ace_domesticviol'] = clean_data['ace_domesticviol'].fillna(0)\n",
    "clean_data['ace_caregiversubstan'] = clean_data['ace_caregiversubstan'].fillna(0)\n",
    "clean_data['ace_caregiverdepress'] = clean_data['ace_caregiverdepress'].fillna(0)\n",
    "clean_data['ace_caregiverincar'] = clean_data['ace_caregiverincar'].fillna(0)"
   ]
  },
  {
   "cell_type": "code",
   "execution_count": 95,
   "metadata": {},
   "outputs": [],
   "source": [
    "clean_data['vict_robbery'] = data['vict_robbery'] - 1\n",
    "clean_data['vict_assltwweapon'] = data['vict_assltwweapon'] - 1\n",
    "clean_data['vict_assaultwoweapon'] = data['vict_assaultwoweapon'] - 1\n",
    "clean_data['vict_threatenassault'] = data['vict_threatenassault'] - 1\n",
    "\n",
    "clean_data['vict_biasattack_1'] = data['vict_biasattack_1'] - 1\n",
    "clean_data['vict_biasattack_2'] = data['vict_biasattack_2'] - 1\n",
    "clean_data['vict_biasattack_3'] = data['vict_biasattack_3'] - 1\n",
    "clean_data['vict_biasattack_4'] = data['vict_biasattack_4'] - 1\n",
    "clean_data['vict_biasattack_5'] = data['vict_biasattack_5'] - 1\n",
    "clean_data['vict_biasattack_6'] = data['vict_biasattack_6'] - 1\n",
    "clean_data['vict_biasattack_7'] = data['vict_biasattack_7'] - 1\n",
    "\n",
    "clean_data['vict_gang'] = data['vict_gang'] - 1\n",
    "clean_data['vict_witness'] = data['vict_witness'] - 1"
   ]
  },
  {
   "cell_type": "code",
   "execution_count": 96,
   "metadata": {},
   "outputs": [],
   "source": [
    "clean_data['vict_robbery'] = clean_data['vict_robbery'].fillna(0)\n",
    "clean_data['vict_assltwweapon'] = clean_data['vict_assltwweapon'].fillna(0)\n",
    "clean_data['vict_assaultwoweapon'] = clean_data['vict_assaultwoweapon'].fillna(0)\n",
    "clean_data['vict_threatenassault'] = clean_data['vict_threatenassault'].fillna(0)\n",
    "\n",
    "clean_data['vict_biasattack_1'] = clean_data['vict_biasattack_1'].fillna(0)\n",
    "clean_data['vict_biasattack_2'] = clean_data['vict_biasattack_2'].fillna(0)\n",
    "clean_data['vict_biasattack_3'] = clean_data['vict_biasattack_3'].fillna(0)\n",
    "clean_data['vict_biasattack_4'] = clean_data['vict_biasattack_4'].fillna(0)\n",
    "clean_data['vict_biasattack_5'] = clean_data['vict_biasattack_5'].fillna(0)\n",
    "clean_data['vict_biasattack_6'] = clean_data['vict_biasattack_6'].fillna(0)\n",
    "clean_data['vict_biasattack_7'] = clean_data['vict_biasattack_7'].fillna(0)\n",
    "\n",
    "clean_data['vict_gang'] = clean_data['vict_gang'].fillna(0)\n",
    "clean_data['vict_witness'] = clean_data['vict_witness'].fillna(0)"
   ]
  },
  {
   "cell_type": "code",
   "execution_count": 99,
   "metadata": {},
   "outputs": [],
   "source": [
    "ipv_vic = []\n",
    "\n",
    "for i in data['vict_ipv_vic']:\n",
    "    if i == 5:\n",
    "        ipv_vic_ = 1\n",
    "    else:\n",
    "        ipv_vic_ = 0\n",
    "    ipv_vic.append(ipv_vic_)\n",
    "\n",
    "clean_data['vict_ipv_vic'] = ipv_vic"
   ]
  },
  {
   "cell_type": "code",
   "execution_count": 100,
   "metadata": {},
   "outputs": [],
   "source": [
    "ipv_perp = []\n",
    "\n",
    "for i in data['vict_ipv_perp']:\n",
    "    if i == 5:\n",
    "        ipv_perp_ = 1\n",
    "    else:\n",
    "        ipv_perp_ = 0\n",
    "    ipv_perp.append(ipv_perp_)\n",
    "\n",
    "clean_data['vict_ipv_perp'] = ipv_perp"
   ]
  },
  {
   "cell_type": "code",
   "execution_count": 103,
   "metadata": {},
   "outputs": [],
   "source": [
    "clean_data['vict_sexlasslt'] = clean_data['vict_sexlasslt'].fillna(0)\n",
    "clean_data['vict_forcesex'] = clean_data['vict_forcesex'].fillna(0)\n",
    "clean_data['vict_sexlassltexam'] = clean_data['vict_sexlassltexam'].fillna(0)"
   ]
  },
  {
   "cell_type": "code",
   "execution_count": null,
   "metadata": {},
   "outputs": [],
   "source": [
    "clean_data['vict_sexlasslt'] = data['vict_sexlasslt']\n",
    "clean_data['vict_forcesex'] = data['vict_forcesex']\n",
    "clean_data['vict_sexlassltexam'] = data['vict_sexlassltexam']"
   ]
  },
  {
   "cell_type": "code",
   "execution_count": 105,
   "metadata": {},
   "outputs": [],
   "source": [
    "clean_data['cope_1'] = data['cope_1']\n",
    "clean_data['cope_2'] = data['cope_2']\n",
    "clean_data['cope_3'] = data['cope_3']\n",
    "clean_data['cope_4'] = data['cope_4']\n",
    "clean_data['cope_5'] = data['cope_5']\n",
    "clean_data['cope_6'] = data['cope_6']\n",
    "clean_data['cope_7'] = data['cope_7']\n",
    "clean_data['cope_8'] = data['cope_8']\n",
    "clean_data['cope_9'] = data['cope_9']\n",
    "clean_data['cope_10'] = data['cope_10']\n",
    "clean_data['cope_11'] = data['cope_11']\n",
    "clean_data['cope_12'] = data['cope_12']\n",
    "clean_data['cope_13'] = data['cope_13']\n",
    "clean_data['cope_14'] = data['cope_14']"
   ]
  },
  {
   "cell_type": "code",
   "execution_count": 106,
   "metadata": {},
   "outputs": [],
   "source": [
    "clean_data['cope_1'] = clean_data['cope_1'].fillna(1)\n",
    "clean_data['cope_2'] = clean_data['cope_2'].fillna(1)\n",
    "clean_data['cope_3'] = clean_data['cope_3'].fillna(1)\n",
    "clean_data['cope_4'] = clean_data['cope_4'].fillna(1)\n",
    "clean_data['cope_5'] = clean_data['cope_5'].fillna(1)\n",
    "clean_data['cope_6'] = clean_data['cope_6'].fillna(1)\n",
    "clean_data['cope_7'] = clean_data['cope_7'].fillna(1)\n",
    "clean_data['cope_8'] = clean_data['cope_8'].fillna(1)\n",
    "clean_data['cope_9'] = clean_data['cope_9'].fillna(1)\n",
    "clean_data['cope_10'] = clean_data['cope_10'].fillna(1)\n",
    "clean_data['cope_11'] = clean_data['cope_11'].fillna(1)\n",
    "clean_data['cope_12'] = clean_data['cope_12'].fillna(1)\n",
    "clean_data['cope_13'] = clean_data['cope_13'].fillna(1)\n",
    "clean_data['cope_14'] = clean_data['cope_14'].fillna(1)"
   ]
  },
  {
   "cell_type": "code",
   "execution_count": 108,
   "metadata": {},
   "outputs": [],
   "source": [
    "clean_data['descrim_1'] = data['descrim_1']\n",
    "clean_data['descrim_2'] = data['descrim_2']\n",
    "clean_data['descrim_3'] = data['descrim_3']\n",
    "clean_data['descrim_4'] = data['descrim_4']\n",
    "clean_data['descrim_5'] = data['descrim_5']"
   ]
  },
  {
   "cell_type": "code",
   "execution_count": 110,
   "metadata": {},
   "outputs": [],
   "source": [
    "clean_data['descrim_1'] = clean_data['descrim_1'].fillna(1)\n",
    "clean_data['descrim_2'] = clean_data['descrim_2'].fillna(1)\n",
    "clean_data['descrim_3'] = clean_data['descrim_3'].fillna(1)\n",
    "clean_data['descrim_4'] = clean_data['descrim_4'].fillna(1)\n",
    "clean_data['descrim_5'] = clean_data['descrim_5'].fillna(1)"
   ]
  },
  {
   "cell_type": "code",
   "execution_count": 113,
   "metadata": {},
   "outputs": [],
   "source": [
    "clean_data['discrim_reasons_1'] = data['discrim_reasons_1']\n",
    "clean_data['discrim_reasons_2'] = data['discrim_reasons_2']\n",
    "clean_data['discrim_reasons_3'] = data['discrim_reasons_3']\n",
    "clean_data['discrim_reasons_4'] = data['discrim_reasons_4']\n",
    "clean_data['discrim_reasons_5'] = data['discrim_reasons_5']\n",
    "clean_data['discrim_reasons_6'] = data['discrim_reasons_6']\n",
    "clean_data['discrim_reasons_7'] = data['discrim_reasons_7']\n",
    "clean_data['discrim_reasons_8'] = data['discrim_reasons_8']\n",
    "clean_data['discrim_reasons_9'] = data['discrim_reasons_9']\n",
    "clean_data['discrim_reasons_10'] = data['discrim_reasons_10']\n",
    "clean_data['discrim_reasons_11'] = data['discrim_reasons_11']\n",
    "clean_data['discrim_reasons_12'] = data['discrim_reasons_12']"
   ]
  },
  {
   "cell_type": "code",
   "execution_count": 114,
   "metadata": {},
   "outputs": [],
   "source": [
    "clean_data['discrim_reasons_1'] = clean_data['discrim_reasons_1'].fillna(0)\n",
    "clean_data['discrim_reasons_2'] = clean_data['discrim_reasons_2'].fillna(0)\n",
    "clean_data['discrim_reasons_3'] = clean_data['discrim_reasons_3'].fillna(0)\n",
    "clean_data['discrim_reasons_4'] = clean_data['discrim_reasons_4'].fillna(0)\n",
    "clean_data['discrim_reasons_5'] = clean_data['discrim_reasons_5'].fillna(0)\n",
    "clean_data['discrim_reasons_6'] = clean_data['discrim_reasons_6'].fillna(0)\n",
    "clean_data['discrim_reasons_7'] = clean_data['discrim_reasons_7'].fillna(0)\n",
    "clean_data['discrim_reasons_8'] = clean_data['discrim_reasons_8'].fillna(0)\n",
    "clean_data['discrim_reasons_9'] = clean_data['discrim_reasons_9'].fillna(0)\n",
    "clean_data['discrim_reasons_10'] = clean_data['discrim_reasons_10'].fillna(0)\n",
    "clean_data['discrim_reasons_11'] = clean_data['discrim_reasons_11'].fillna(0)\n",
    "clean_data['discrim_reasons_12'] = clean_data['discrim_reasons_12'].fillna(0)"
   ]
  },
  {
   "cell_type": "code",
   "execution_count": 117,
   "metadata": {},
   "outputs": [],
   "source": [
    "clean_data['stress_streets_4'] = data['stress_streets_4']\n",
    "clean_data['stress_streets_6'] = data['stress_streets_6']\n",
    "clean_data['stress_streets_7'] = data['stress_streets_7']\n",
    "clean_data['stress_streets_8'] = data['stress_streets_8']\n",
    "clean_data['stress_streets_9'] = data['stress_streets_9']\n",
    "clean_data['stress_streets_10'] = data['stress_streets_10']\n",
    "clean_data['stress_streets_11'] = data['stress_streets_11']\n",
    "clean_data['stress_streets_12'] = data['stress_streets_12']\n",
    "clean_data['stress_streets_14'] = data['stress_streets_14']\n",
    "clean_data['stress_streets_15'] = data['stress_streets_15']\n",
    "clean_data['stress_streets_16'] = data['stress_streets_16']\n",
    "clean_data['stress_streets_17'] = data['stress_streets_17']\n",
    "clean_data['stress_streets_18'] = data['stress_streets_18']\n",
    "clean_data['stress_streets_19'] = data['stress_streets_19']\n",
    "clean_data['stress_streets_20'] = data['stress_streets_20']"
   ]
  },
  {
   "cell_type": "code",
   "execution_count": 118,
   "metadata": {},
   "outputs": [],
   "source": [
    "clean_data['stress_streets_4'] = clean_data['stress_streets_4'].fillna(1)\n",
    "clean_data['stress_streets_6'] = clean_data['stress_streets_6'].fillna(1)\n",
    "clean_data['stress_streets_7'] = clean_data['stress_streets_7'].fillna(1)\n",
    "clean_data['stress_streets_8'] = clean_data['stress_streets_8'].fillna(1)\n",
    "clean_data['stress_streets_9'] = clean_data['stress_streets_9'].fillna(1)\n",
    "clean_data['stress_streets_10'] = clean_data['stress_streets_10'].fillna(1)\n",
    "clean_data['stress_streets_11'] = clean_data['stress_streets_11'].fillna(1)\n",
    "clean_data['stress_streets_12'] = clean_data['stress_streets_12'].fillna(1)\n",
    "clean_data['stress_streets_14'] = clean_data['stress_streets_14'].fillna(1)\n",
    "clean_data['stress_streets_15'] = clean_data['stress_streets_15'].fillna(1)\n",
    "clean_data['stress_streets_16'] = clean_data['stress_streets_16'].fillna(1)\n",
    "clean_data['stress_streets_17'] = clean_data['stress_streets_17'].fillna(1)\n",
    "clean_data['stress_streets_18'] = clean_data['stress_streets_18'].fillna(1)\n",
    "clean_data['stress_streets_19'] = clean_data['stress_streets_19'].fillna(1)\n",
    "clean_data['stress_streets_20'] = clean_data['stress_streets_20'].fillna(1)"
   ]
  },
  {
   "cell_type": "code",
   "execution_count": 120,
   "metadata": {},
   "outputs": [],
   "source": [
    "clean_data['mindfulness_1'] = data['mindfulness_1']\n",
    "clean_data['mindfulness_4'] = data['mindfulness_4']\n",
    "clean_data['mindfulness_5'] = data['mindfulness_5']\n",
    "clean_data['mindfulness_6'] = data['mindfulness_6']\n",
    "clean_data['mindfulness_7'] = data['mindfulness_7']\n",
    "clean_data['mindfulness_8'] = data['mindfulness_8']"
   ]
  },
  {
   "cell_type": "code",
   "execution_count": 121,
   "metadata": {},
   "outputs": [],
   "source": [
    "clean_data['mindfulness_1'] = clean_data['mindfulness_1'].fillna(1)\n",
    "clean_data['mindfulness_4'] = clean_data['mindfulness_4'].fillna(1)\n",
    "clean_data['mindfulness_5'] = clean_data['mindfulness_5'].fillna(1)\n",
    "clean_data['mindfulness_6'] = clean_data['mindfulness_6'].fillna(1)\n",
    "clean_data['mindfulness_7'] = clean_data['mindfulness_7'].fillna(1)\n",
    "clean_data['mindfulness_8'] = clean_data['mindfulness_8'].fillna(1)"
   ]
  },
  {
   "cell_type": "code",
   "execution_count": 123,
   "metadata": {},
   "outputs": [],
   "source": [
    "clean_data['witness_gun'] = data['witness_gun'] - 1\n",
    "clean_data['witness_gun_gang'] = data['witness_gun_gang'] - 1\n",
    "clean_data['perp_assltgun'] = data['perp_assltgun'] - 1\n",
    "clean_data['perp_gun_gang'] = data['perp_gun_gang'] - 1\n",
    "clean_data['vict_ass_gun'] = data['vict_ass_gun'] - 1\n",
    "clean_data['vict_ass_gun_gang'] = data['vict_ass_gun_gang'] - 1\n",
    "clean_data['vict_ass_gun_inj'] = data['vict_ass_gun_inj'] - 1\n",
    "clean_data['avoidpolice'] = data['avoidpolice'] - 1\n",
    "clean_data['gunaccess'] = data['gunaccess'] - 1\n",
    "clean_data['gang_cur'] = data['gang_cur'] - 1\n",
    "clean_data['gang_frmr'] = data['gang_frmr'] - 1"
   ]
  },
  {
   "cell_type": "code",
   "execution_count": 125,
   "metadata": {},
   "outputs": [],
   "source": [
    "clean_data['witness_gun'] = clean_data['witness_gun'].fillna(0)\n",
    "clean_data['witness_gun_gang'] = clean_data['witness_gun_gang'].fillna(0)\n",
    "clean_data['perp_assltgun'] = clean_data['perp_assltgun'].fillna(0)\n",
    "clean_data['perp_gun_gang'] = clean_data['perp_gun_gang'].fillna(0)\n",
    "clean_data['vict_ass_gun'] = clean_data['vict_ass_gun'].fillna(0)\n",
    "clean_data['vict_ass_gun_gang'] = clean_data['vict_ass_gun_gang'].fillna(0)\n",
    "clean_data['vict_ass_gun_inj'] = clean_data['vict_ass_gun_inj'].fillna(0)\n",
    "clean_data['avoidpolice'] = clean_data['avoidpolice'].fillna(0)\n",
    "clean_data['gunaccess'] = clean_data['gunaccess'].fillna(0)\n",
    "clean_data['gunaccess'] = clean_data['gunaccess'].replace(2, 1)\n",
    "clean_data['gang_cur'] = clean_data['gang_cur'].fillna(0)\n",
    "clean_data['gang_frmr'] = clean_data['gang_frmr'].fillna(0)"
   ]
  },
  {
   "cell_type": "code",
   "execution_count": 128,
   "metadata": {},
   "outputs": [],
   "source": [
    "clean_data['gang_age'] = data['gang_age_1'].fillna(30)"
   ]
  },
  {
   "cell_type": "code",
   "execution_count": 130,
   "metadata": {},
   "outputs": [],
   "source": [
    "clean_data['gang_provide_1'] = data['gang_provide_1'].fillna(0)\n",
    "clean_data['gang_provide_2'] = data['gang_provide_2'].fillna(0)\n",
    "clean_data['gang_provide_3'] = data['gang_provide_3'].fillna(0)\n",
    "clean_data['gang_provide_4'] = data['gang_provide_4'].fillna(0)\n",
    "clean_data['gang_provide_5'] = data['gang_provide_5'].fillna(0)\n",
    "clean_data['gang_provide_6'] = data['gang_provide_6'].fillna(0)\n",
    "clean_data['gang_provide_7'] = data['gang_provide_7'].fillna(0)\n",
    "clean_data['gang_provide_8'] = data['gang_provide_8'].fillna(0)\n",
    "clean_data['gang_provide_9'] = data['gang_provide_9'].fillna(0)"
   ]
  },
  {
   "cell_type": "code",
   "execution_count": 132,
   "metadata": {},
   "outputs": [],
   "source": [
    "same = []\n",
    "\n",
    "for i in data['gang_race']:\n",
    "    if i == 1:\n",
    "        same_ = 1\n",
    "    else:\n",
    "        same_ = 0\n",
    "    same.append(same_)\n",
    "\n",
    "clean_data['gang_same_race'] = same"
   ]
  },
  {
   "cell_type": "code",
   "execution_count": 134,
   "metadata": {},
   "outputs": [],
   "source": [
    "male = []\n",
    "female = []\n",
    "\n",
    "for i in data['gang_gender']:\n",
    "    if i == 1:\n",
    "        male_ = 1\n",
    "        female_ = 0\n",
    "    elif i == 2:\n",
    "        male_ = 0\n",
    "        female_ = 0\n",
    "    else:\n",
    "        male_ = 0\n",
    "        female_ = 0\n",
    "    male.append(male_)\n",
    "    female.append(female_)\n",
    "\n",
    "clean_data['gang_mostly_male'] = male\n",
    "clean_data['gang_mostly_female'] = female"
   ]
  },
  {
   "cell_type": "code",
   "execution_count": 136,
   "metadata": {},
   "outputs": [],
   "source": [
    "clean_data['gang_aff_1'] = data['gang_aff_1'].fillna(0)\n",
    "clean_data['gang_aff_2'] = data['gang_aff_2'].fillna(0)\n",
    "clean_data['gang_aff_3'] = data['gang_aff_3'].fillna(0)\n",
    "clean_data['gang_aff_4'] = data['gang_aff_4'].fillna(0)\n",
    "clean_data['gang_aff_5'] = data['gang_aff_5'].fillna(0)\n",
    "clean_data['gang_aff_6'] = data['gang_aff_6'].fillna(0)\n",
    "clean_data['gang_aff_7'] = data['gang_aff_7'].fillna(0)\n",
    "clean_data['gang_aff_8'] = data['gang_aff_8'].fillna(0)\n",
    "clean_data['gang_aff_9'] = data['gang_aff_9'].fillna(0)\n",
    "clean_data['gang_aff_10'] = data['gang_aff_10'].fillna(0)"
   ]
  },
  {
   "cell_type": "code",
   "execution_count": 138,
   "metadata": {},
   "outputs": [],
   "source": [
    "enc = []\n",
    "\n",
    "for i in data['gang_enc']:\n",
    "    if i == 2:\n",
    "        enc_ = 1\n",
    "    else:\n",
    "        enc_ = 0\n",
    "    enc.append(enc_)\n",
    "\n",
    "clean_data['gang_enc'] = enc"
   ]
  },
  {
   "cell_type": "code",
   "execution_count": 140,
   "metadata": {},
   "outputs": [],
   "source": [
    "clean_data['juggalo'] = data['juggalo'] - 1\n",
    "clean_data['juggalo'] = clean_data['juggalo'].fillna(0)"
   ]
  },
  {
   "cell_type": "code",
   "execution_count": 141,
   "metadata": {},
   "outputs": [
    {
     "data": {
      "text/html": [
       "<div>\n",
       "<style scoped>\n",
       "    .dataframe tbody tr th:only-of-type {\n",
       "        vertical-align: middle;\n",
       "    }\n",
       "\n",
       "    .dataframe tbody tr th {\n",
       "        vertical-align: top;\n",
       "    }\n",
       "\n",
       "    .dataframe thead th {\n",
       "        text-align: right;\n",
       "    }\n",
       "</style>\n",
       "<table border=\"1\" class=\"dataframe\">\n",
       "  <thead>\n",
       "    <tr style=\"text-align: right;\">\n",
       "      <th></th>\n",
       "      <th>pid</th>\n",
       "      <th>screen1_sleep_shelter</th>\n",
       "      <th>screen1_sleep_insecure</th>\n",
       "      <th>screen1_sleep_secure</th>\n",
       "      <th>screen3_age</th>\n",
       "      <th>realm_score_help_needed</th>\n",
       "      <th>gender_identity_lgbt</th>\n",
       "      <th>birthsex_male</th>\n",
       "      <th>sexualorientation_lgbt</th>\n",
       "      <th>first_homeless</th>\n",
       "      <th>...</th>\n",
       "      <th>gang_aff_3</th>\n",
       "      <th>gang_aff_4</th>\n",
       "      <th>gang_aff_5</th>\n",
       "      <th>gang_aff_6</th>\n",
       "      <th>gang_aff_7</th>\n",
       "      <th>gang_aff_8</th>\n",
       "      <th>gang_aff_9</th>\n",
       "      <th>gang_aff_10</th>\n",
       "      <th>gang_enc</th>\n",
       "      <th>juggalo</th>\n",
       "    </tr>\n",
       "  </thead>\n",
       "  <tbody>\n",
       "    <tr>\n",
       "      <th>10</th>\n",
       "      <td>1006</td>\n",
       "      <td>0</td>\n",
       "      <td>1</td>\n",
       "      <td>0</td>\n",
       "      <td>22.0</td>\n",
       "      <td>0</td>\n",
       "      <td>0.0</td>\n",
       "      <td>0.0</td>\n",
       "      <td>1</td>\n",
       "      <td>21.0</td>\n",
       "      <td>...</td>\n",
       "      <td>1.0</td>\n",
       "      <td>0.0</td>\n",
       "      <td>0.0</td>\n",
       "      <td>0.0</td>\n",
       "      <td>0.0</td>\n",
       "      <td>1.0</td>\n",
       "      <td>0.0</td>\n",
       "      <td>0.0</td>\n",
       "      <td>0</td>\n",
       "      <td>0.0</td>\n",
       "    </tr>\n",
       "    <tr>\n",
       "      <th>11</th>\n",
       "      <td>1006</td>\n",
       "      <td>0</td>\n",
       "      <td>1</td>\n",
       "      <td>0</td>\n",
       "      <td>22.0</td>\n",
       "      <td>0</td>\n",
       "      <td>0.0</td>\n",
       "      <td>0.0</td>\n",
       "      <td>1</td>\n",
       "      <td>21.0</td>\n",
       "      <td>...</td>\n",
       "      <td>1.0</td>\n",
       "      <td>0.0</td>\n",
       "      <td>0.0</td>\n",
       "      <td>0.0</td>\n",
       "      <td>0.0</td>\n",
       "      <td>1.0</td>\n",
       "      <td>0.0</td>\n",
       "      <td>0.0</td>\n",
       "      <td>0</td>\n",
       "      <td>0.0</td>\n",
       "    </tr>\n",
       "    <tr>\n",
       "      <th>12</th>\n",
       "      <td>1006</td>\n",
       "      <td>0</td>\n",
       "      <td>1</td>\n",
       "      <td>0</td>\n",
       "      <td>22.0</td>\n",
       "      <td>0</td>\n",
       "      <td>0.0</td>\n",
       "      <td>0.0</td>\n",
       "      <td>1</td>\n",
       "      <td>21.0</td>\n",
       "      <td>...</td>\n",
       "      <td>1.0</td>\n",
       "      <td>0.0</td>\n",
       "      <td>0.0</td>\n",
       "      <td>0.0</td>\n",
       "      <td>0.0</td>\n",
       "      <td>1.0</td>\n",
       "      <td>0.0</td>\n",
       "      <td>0.0</td>\n",
       "      <td>0</td>\n",
       "      <td>0.0</td>\n",
       "    </tr>\n",
       "    <tr>\n",
       "      <th>13</th>\n",
       "      <td>1006</td>\n",
       "      <td>0</td>\n",
       "      <td>1</td>\n",
       "      <td>0</td>\n",
       "      <td>22.0</td>\n",
       "      <td>0</td>\n",
       "      <td>0.0</td>\n",
       "      <td>0.0</td>\n",
       "      <td>1</td>\n",
       "      <td>21.0</td>\n",
       "      <td>...</td>\n",
       "      <td>1.0</td>\n",
       "      <td>0.0</td>\n",
       "      <td>0.0</td>\n",
       "      <td>0.0</td>\n",
       "      <td>0.0</td>\n",
       "      <td>1.0</td>\n",
       "      <td>0.0</td>\n",
       "      <td>0.0</td>\n",
       "      <td>0</td>\n",
       "      <td>0.0</td>\n",
       "    </tr>\n",
       "    <tr>\n",
       "      <th>14</th>\n",
       "      <td>1006</td>\n",
       "      <td>0</td>\n",
       "      <td>1</td>\n",
       "      <td>0</td>\n",
       "      <td>22.0</td>\n",
       "      <td>0</td>\n",
       "      <td>0.0</td>\n",
       "      <td>0.0</td>\n",
       "      <td>1</td>\n",
       "      <td>21.0</td>\n",
       "      <td>...</td>\n",
       "      <td>1.0</td>\n",
       "      <td>0.0</td>\n",
       "      <td>0.0</td>\n",
       "      <td>0.0</td>\n",
       "      <td>0.0</td>\n",
       "      <td>1.0</td>\n",
       "      <td>0.0</td>\n",
       "      <td>0.0</td>\n",
       "      <td>0</td>\n",
       "      <td>0.0</td>\n",
       "    </tr>\n",
       "  </tbody>\n",
       "</table>\n",
       "<p>5 rows × 166 columns</p>\n",
       "</div>"
      ],
      "text/plain": [
       "     pid  screen1_sleep_shelter  screen1_sleep_insecure  screen1_sleep_secure  \\\n",
       "10  1006                      0                       1                     0   \n",
       "11  1006                      0                       1                     0   \n",
       "12  1006                      0                       1                     0   \n",
       "13  1006                      0                       1                     0   \n",
       "14  1006                      0                       1                     0   \n",
       "\n",
       "    screen3_age  realm_score_help_needed  gender_identity_lgbt  birthsex_male  \\\n",
       "10         22.0                        0                   0.0            0.0   \n",
       "11         22.0                        0                   0.0            0.0   \n",
       "12         22.0                        0                   0.0            0.0   \n",
       "13         22.0                        0                   0.0            0.0   \n",
       "14         22.0                        0                   0.0            0.0   \n",
       "\n",
       "    sexualorientation_lgbt  first_homeless   ...     gang_aff_3  gang_aff_4  \\\n",
       "10                       1            21.0   ...            1.0         0.0   \n",
       "11                       1            21.0   ...            1.0         0.0   \n",
       "12                       1            21.0   ...            1.0         0.0   \n",
       "13                       1            21.0   ...            1.0         0.0   \n",
       "14                       1            21.0   ...            1.0         0.0   \n",
       "\n",
       "    gang_aff_5  gang_aff_6  gang_aff_7  gang_aff_8  gang_aff_9  gang_aff_10  \\\n",
       "10         0.0         0.0         0.0         1.0         0.0          0.0   \n",
       "11         0.0         0.0         0.0         1.0         0.0          0.0   \n",
       "12         0.0         0.0         0.0         1.0         0.0          0.0   \n",
       "13         0.0         0.0         0.0         1.0         0.0          0.0   \n",
       "14         0.0         0.0         0.0         1.0         0.0          0.0   \n",
       "\n",
       "    gang_enc  juggalo  \n",
       "10         0      0.0  \n",
       "11         0      0.0  \n",
       "12         0      0.0  \n",
       "13         0      0.0  \n",
       "14         0      0.0  \n",
       "\n",
       "[5 rows x 166 columns]"
      ]
     },
     "execution_count": 141,
     "metadata": {},
     "output_type": "execute_result"
    }
   ],
   "source": [
    "clean_data.head()"
   ]
  },
  {
   "cell_type": "code",
   "execution_count": null,
   "metadata": {},
   "outputs": [],
   "source": []
  }
 ],
 "metadata": {
  "kernelspec": {
   "display_name": "Python 3",
   "language": "python",
   "name": "python3"
  },
  "language_info": {
   "codemirror_mode": {
    "name": "ipython",
    "version": 3
   },
   "file_extension": ".py",
   "mimetype": "text/x-python",
   "name": "python",
   "nbconvert_exporter": "python",
   "pygments_lexer": "ipython3",
   "version": "3.6.5"
  }
 },
 "nbformat": 4,
 "nbformat_minor": 2
}
