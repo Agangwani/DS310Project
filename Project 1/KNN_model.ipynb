{
 "cells": [
  {
   "cell_type": "code",
   "execution_count": 196,
   "metadata": {},
   "outputs": [],
   "source": [
    "from sklearn.model_selection import train_test_split, GridSearchCV, cross_val_score\n",
    "from sklearn.preprocessing import StandardScaler\n",
    "from sklearn.linear_model import LogisticRegression\n",
    "from sklearn.neighbors import KNeighborsClassifier\n",
    "from sklearn.naive_bayes import GaussianNB\n",
    "from sklearn import metrics\n",
    "from sklearn.metrics import f1_score\n",
    "from sklearn.svm import SVC\n",
    "from sklearn.tree import DecisionTreeClassifier\n",
    "from sklearn.ensemble import GradientBoostingClassifier\n",
    "from collections import Counter\n",
    "import math\n",
    "import pandas as pd\n",
    "import numpy as np"
   ]
  },
  {
   "cell_type": "code",
   "execution_count": 169,
   "metadata": {},
   "outputs": [],
   "source": [
    "train_data = pd.read_csv(\"train.csv\", usecols=[\"class\", \"viewCount\", \"commentCount\", \"likeCount\", \"dislikeCount\"]) \n",
    "test_data = pd.read_csv(\"test_1.csv\", usecols=[\"ID\",\"viewCount\", \"commentCount\", \"likeCount\", \"dislikeCount\"])\n",
    "\n",
    "Y_train = train_data[\"class\"]\n",
    "\n",
    "X_train = train_data.drop(\"class\", axis=1)\n",
    "\n",
    "X_test = test_data.drop(\"ID\", axis=1)\n",
    "\n",
    "#X_train, X_val, Y_train, Y_val = train_test_split(X_train, Y_train, test_size=0.2, random_state=1)\n",
    "\n",
    "X_train = X_train.apply(lambda x: (x - np.min(x)) / (np.max(x) - np.min(x)))\n",
    "#X_val = X_val.apply(lambda x: (x - np.min(x)) / (np.max(x) - np.min(x)))\n",
    "X_test = X_test.apply(lambda x: (x - np.min(x)) / (np.max(x) - np.min(x)))"
   ]
  },
  {
   "cell_type": "code",
   "execution_count": 170,
   "metadata": {},
   "outputs": [
    {
     "data": {
      "text/plain": [
       "count      7105\n",
       "unique        2\n",
       "top       False\n",
       "freq       3557\n",
       "Name: class, dtype: object"
      ]
     },
     "execution_count": 170,
     "metadata": {},
     "output_type": "execute_result"
    }
   ],
   "source": [
    "Y_train.describe()"
   ]
  },
  {
   "cell_type": "code",
   "execution_count": 171,
   "metadata": {},
   "outputs": [
    {
     "data": {
      "text/html": [
       "<div>\n",
       "<style scoped>\n",
       "    .dataframe tbody tr th:only-of-type {\n",
       "        vertical-align: middle;\n",
       "    }\n",
       "\n",
       "    .dataframe tbody tr th {\n",
       "        vertical-align: top;\n",
       "    }\n",
       "\n",
       "    .dataframe thead th {\n",
       "        text-align: right;\n",
       "    }\n",
       "</style>\n",
       "<table border=\"1\" class=\"dataframe\">\n",
       "  <thead>\n",
       "    <tr style=\"text-align: right;\">\n",
       "      <th></th>\n",
       "      <th>viewCount</th>\n",
       "      <th>likeCount</th>\n",
       "      <th>dislikeCount</th>\n",
       "      <th>commentCount</th>\n",
       "      <th>class</th>\n",
       "    </tr>\n",
       "  </thead>\n",
       "  <tbody>\n",
       "    <tr>\n",
       "      <th>0</th>\n",
       "      <td>10509398.0</td>\n",
       "      <td>945921.0</td>\n",
       "      <td>5614.0</td>\n",
       "      <td>58844</td>\n",
       "      <td>True</td>\n",
       "    </tr>\n",
       "    <tr>\n",
       "      <th>1</th>\n",
       "      <td>4829.0</td>\n",
       "      <td>57.0</td>\n",
       "      <td>81.0</td>\n",
       "      <td>22</td>\n",
       "      <td>False</td>\n",
       "    </tr>\n",
       "    <tr>\n",
       "      <th>2</th>\n",
       "      <td>1015456.0</td>\n",
       "      <td>36679.0</td>\n",
       "      <td>492.0</td>\n",
       "      <td>3739</td>\n",
       "      <td>True</td>\n",
       "    </tr>\n",
       "    <tr>\n",
       "      <th>3</th>\n",
       "      <td>64629.0</td>\n",
       "      <td>2111.0</td>\n",
       "      <td>24.0</td>\n",
       "      <td>151</td>\n",
       "      <td>False</td>\n",
       "    </tr>\n",
       "    <tr>\n",
       "      <th>4</th>\n",
       "      <td>206468.0</td>\n",
       "      <td>1335.0</td>\n",
       "      <td>96.0</td>\n",
       "      <td>470</td>\n",
       "      <td>False</td>\n",
       "    </tr>\n",
       "  </tbody>\n",
       "</table>\n",
       "</div>"
      ],
      "text/plain": [
       "    viewCount  likeCount  dislikeCount  commentCount  class\n",
       "0  10509398.0   945921.0        5614.0         58844   True\n",
       "1      4829.0       57.0          81.0            22  False\n",
       "2   1015456.0    36679.0         492.0          3739   True\n",
       "3     64629.0     2111.0          24.0           151  False\n",
       "4    206468.0     1335.0          96.0           470  False"
      ]
     },
     "execution_count": 171,
     "metadata": {},
     "output_type": "execute_result"
    }
   ],
   "source": [
    "train_data.head()"
   ]
  },
  {
   "cell_type": "code",
   "execution_count": 172,
   "metadata": {},
   "outputs": [],
   "source": [
    "scaler = StandardScaler()\n",
    "scaler.fit(X_train)\n",
    "sc_transform = scaler.transform(X_train)\n",
    "X_train = pd.DataFrame(sc_transform)\n",
    "\n",
    "scaler.fit(X_val)\n",
    "sc_val_transform = scaler.transform(X_val)\n",
    "X_val = pd.DataFrame(sc_val_transform)"
   ]
  },
  {
   "cell_type": "code",
   "execution_count": 173,
   "metadata": {},
   "outputs": [
    {
     "data": {
      "text/html": [
       "<div>\n",
       "<style scoped>\n",
       "    .dataframe tbody tr th:only-of-type {\n",
       "        vertical-align: middle;\n",
       "    }\n",
       "\n",
       "    .dataframe tbody tr th {\n",
       "        vertical-align: top;\n",
       "    }\n",
       "\n",
       "    .dataframe thead th {\n",
       "        text-align: right;\n",
       "    }\n",
       "</style>\n",
       "<table border=\"1\" class=\"dataframe\">\n",
       "  <thead>\n",
       "    <tr style=\"text-align: right;\">\n",
       "      <th></th>\n",
       "      <th>0</th>\n",
       "      <th>1</th>\n",
       "      <th>2</th>\n",
       "      <th>3</th>\n",
       "    </tr>\n",
       "  </thead>\n",
       "  <tbody>\n",
       "    <tr>\n",
       "      <th>0</th>\n",
       "      <td>1.878598</td>\n",
       "      <td>4.063041</td>\n",
       "      <td>0.235600</td>\n",
       "      <td>2.145346</td>\n",
       "    </tr>\n",
       "    <tr>\n",
       "      <th>1</th>\n",
       "      <td>-0.422865</td>\n",
       "      <td>-0.295712</td>\n",
       "      <td>-0.197023</td>\n",
       "      <td>-0.279667</td>\n",
       "    </tr>\n",
       "    <tr>\n",
       "      <th>2</th>\n",
       "      <td>-0.201445</td>\n",
       "      <td>-0.126950</td>\n",
       "      <td>-0.164887</td>\n",
       "      <td>-0.126428</td>\n",
       "    </tr>\n",
       "    <tr>\n",
       "      <th>3</th>\n",
       "      <td>-0.409763</td>\n",
       "      <td>-0.286247</td>\n",
       "      <td>-0.201480</td>\n",
       "      <td>-0.274348</td>\n",
       "    </tr>\n",
       "    <tr>\n",
       "      <th>4</th>\n",
       "      <td>-0.378688</td>\n",
       "      <td>-0.289823</td>\n",
       "      <td>-0.195850</td>\n",
       "      <td>-0.261197</td>\n",
       "    </tr>\n",
       "  </tbody>\n",
       "</table>\n",
       "</div>"
      ],
      "text/plain": [
       "          0         1         2         3\n",
       "0  1.878598  4.063041  0.235600  2.145346\n",
       "1 -0.422865 -0.295712 -0.197023 -0.279667\n",
       "2 -0.201445 -0.126950 -0.164887 -0.126428\n",
       "3 -0.409763 -0.286247 -0.201480 -0.274348\n",
       "4 -0.378688 -0.289823 -0.195850 -0.261197"
      ]
     },
     "execution_count": 173,
     "metadata": {},
     "output_type": "execute_result"
    }
   ],
   "source": [
    "X_train.head()"
   ]
  },
  {
   "cell_type": "code",
   "execution_count": 174,
   "metadata": {},
   "outputs": [
    {
     "data": {
      "text/html": [
       "<div>\n",
       "<style scoped>\n",
       "    .dataframe tbody tr th:only-of-type {\n",
       "        vertical-align: middle;\n",
       "    }\n",
       "\n",
       "    .dataframe tbody tr th {\n",
       "        vertical-align: top;\n",
       "    }\n",
       "\n",
       "    .dataframe thead th {\n",
       "        text-align: right;\n",
       "    }\n",
       "</style>\n",
       "<table border=\"1\" class=\"dataframe\">\n",
       "  <thead>\n",
       "    <tr style=\"text-align: right;\">\n",
       "      <th></th>\n",
       "      <th>0</th>\n",
       "      <th>1</th>\n",
       "      <th>2</th>\n",
       "      <th>3</th>\n",
       "    </tr>\n",
       "  </thead>\n",
       "  <tbody>\n",
       "    <tr>\n",
       "      <th>0</th>\n",
       "      <td>-0.413014</td>\n",
       "      <td>-0.271104</td>\n",
       "      <td>-0.241256</td>\n",
       "      <td>-0.257085</td>\n",
       "    </tr>\n",
       "    <tr>\n",
       "      <th>1</th>\n",
       "      <td>-0.261337</td>\n",
       "      <td>-0.203567</td>\n",
       "      <td>-0.156429</td>\n",
       "      <td>-0.254071</td>\n",
       "    </tr>\n",
       "    <tr>\n",
       "      <th>2</th>\n",
       "      <td>-0.001008</td>\n",
       "      <td>-0.019026</td>\n",
       "      <td>-0.016738</td>\n",
       "      <td>-0.038561</td>\n",
       "    </tr>\n",
       "    <tr>\n",
       "      <th>3</th>\n",
       "      <td>-0.294585</td>\n",
       "      <td>-0.174212</td>\n",
       "      <td>-0.102656</td>\n",
       "      <td>-0.085054</td>\n",
       "    </tr>\n",
       "    <tr>\n",
       "      <th>4</th>\n",
       "      <td>-0.415968</td>\n",
       "      <td>-0.274386</td>\n",
       "      <td>-0.242149</td>\n",
       "      <td>-0.260137</td>\n",
       "    </tr>\n",
       "  </tbody>\n",
       "</table>\n",
       "</div>"
      ],
      "text/plain": [
       "          0         1         2         3\n",
       "0 -0.413014 -0.271104 -0.241256 -0.257085\n",
       "1 -0.261337 -0.203567 -0.156429 -0.254071\n",
       "2 -0.001008 -0.019026 -0.016738 -0.038561\n",
       "3 -0.294585 -0.174212 -0.102656 -0.085054\n",
       "4 -0.415968 -0.274386 -0.242149 -0.260137"
      ]
     },
     "execution_count": 174,
     "metadata": {},
     "output_type": "execute_result"
    }
   ],
   "source": [
    "X_val.head()"
   ]
  },
  {
   "cell_type": "code",
   "execution_count": 175,
   "metadata": {},
   "outputs": [],
   "source": [
    "def f1(y_true, y_pred):\n",
    "    return f1_score\n",
    "\n",
    "def fit_and_evaluate(model):\n",
    "    \n",
    "    model.fit(X_train, Y_train)\n",
    "    \n",
    "    model_pred = model.predict(X_val)\n",
    "    model_f1 = f1(Y_val, model_pred)\n",
    "    \n",
    "    return model_f1"
   ]
  },
  {
   "cell_type": "code",
   "execution_count": 176,
   "metadata": {},
   "outputs": [
    {
     "name": "stdout",
     "output_type": "stream",
     "text": [
      "Support Vector Classifier F1 score: 0.579216\n"
     ]
    }
   ],
   "source": [
    "svc = SVC()\n",
    "#svc_f1 = fit_and_evaluate(svc)\n",
    "svc.fit(X_train, Y_train)\n",
    "model_pred = svc.predict(X_val)\n",
    "model_f1 = f1_score(Y_val, model_pred)\n",
    "\n",
    "print('Support Vector Classifier F1 score: %f' % model_f1)"
   ]
  },
  {
   "cell_type": "code",
   "execution_count": 177,
   "metadata": {},
   "outputs": [
    {
     "name": "stdout",
     "output_type": "stream",
     "text": [
      "Decision Tree Classifier F1 score: 0.631949\n"
     ]
    }
   ],
   "source": [
    "dt = DecisionTreeClassifier()\n",
    "dt.fit(X_train, Y_train)\n",
    "model_pred = dt.predict(X_val)\n",
    "model_f1 = f1_score(Y_val, model_pred)\n",
    "\n",
    "print('Decision Tree Classifier F1 score: %f' % model_f1)"
   ]
  },
  {
   "cell_type": "code",
   "execution_count": 178,
   "metadata": {},
   "outputs": [
    {
     "name": "stdout",
     "output_type": "stream",
     "text": [
      "Logistic Regression F1 score: 0.522622\n"
     ]
    }
   ],
   "source": [
    "lr = LogisticRegression()\n",
    "lr.fit(X_train, Y_train)\n",
    "model_pred = lr.predict(X_val)\n",
    "model_f1 = f1_score(Y_val, model_pred)\n",
    "\n",
    "print('Logistic Regression F1 score: %f' % model_f1)"
   ]
  },
  {
   "cell_type": "code",
   "execution_count": 179,
   "metadata": {},
   "outputs": [
    {
     "name": "stdout",
     "output_type": "stream",
     "text": [
      "K Nearest Neighbors F1 score: 0.676775\n"
     ]
    }
   ],
   "source": [
    "knn = KNeighborsClassifier()\n",
    "knn.fit(X_train, Y_train)\n",
    "model_pred = knn.predict(X_val)\n",
    "model_f1 = f1_score(Y_val, model_pred)\n",
    "\n",
    "print('K Nearest Neighbors F1 score: %f' % model_f1)"
   ]
  },
  {
   "cell_type": "code",
   "execution_count": 180,
   "metadata": {},
   "outputs": [
    {
     "name": "stdout",
     "output_type": "stream",
     "text": [
      "Naive Bayes F1 score: 0.272076\n"
     ]
    }
   ],
   "source": [
    "nb = GaussianNB()\n",
    "nb.fit(X_train, Y_train)\n",
    "model_pred = nb.predict(X_val)\n",
    "model_f1 = f1_score(Y_val, model_pred)\n",
    "\n",
    "print('Naive Bayes F1 score: %f' % model_f1)"
   ]
  },
  {
   "cell_type": "code",
   "execution_count": 197,
   "metadata": {},
   "outputs": [],
   "source": [
    "knn_cv = KNeighborsClassifier()"
   ]
  },
  {
   "cell_type": "code",
   "execution_count": 199,
   "metadata": {},
   "outputs": [
    {
     "name": "stdout",
     "output_type": "stream",
     "text": [
      "[0.74824191 0.7742616  0.75580577 0.75915493 0.73802817]\n",
      "cv_scores mean:0.7550984770700094\n"
     ]
    }
   ],
   "source": [
    "cv_scores = cross_val_score(knn_cv, X_train, Y_train, cv=5)\n",
    "print(cv_scores)\n",
    "print('cv_scores mean:{}'.format(np.mean(cv_scores)))"
   ]
  },
  {
   "cell_type": "code",
   "execution_count": 219,
   "metadata": {},
   "outputs": [],
   "source": [
    "neighbors = list(range(1,30))\n",
    "\n",
    "hyperparameters = dict(n_neighbors=neighbors)"
   ]
  },
  {
   "cell_type": "code",
   "execution_count": 220,
   "metadata": {},
   "outputs": [],
   "source": [
    "knn_2 = KNeighborsClassifier()\n",
    "\n",
    "clf = GridSearchCV(knn_2, hyperparameters, cv=5)\n",
    "\n",
    "best_model = clf.fit(X_train, Y_train)"
   ]
  },
  {
   "cell_type": "code",
   "execution_count": 221,
   "metadata": {},
   "outputs": [
    {
     "name": "stdout",
     "output_type": "stream",
     "text": [
      "Best leaf_size: 25\n",
      "Best n_neighbors: 10\n"
     ]
    }
   ],
   "source": [
    "print('Best n_neighbors:', best_model.best_estimator_.get_params()['n_neighbors'])"
   ]
  },
  {
   "cell_type": "code",
   "execution_count": 222,
   "metadata": {},
   "outputs": [],
   "source": [
    "neighbors = best_model.best_estimator_.get_params()['n_neighbors']"
   ]
  },
  {
   "cell_type": "code",
   "execution_count": 223,
   "metadata": {},
   "outputs": [
    {
     "name": "stdout",
     "output_type": "stream",
     "text": [
      "Tuned KNN Model F1 score: 0.804928\n"
     ]
    }
   ],
   "source": [
    "knn_3 = KNeighborsClassifier(n_neighbors = neighbors)\n",
    "knn_3.fit(X_train, Y_train)\n",
    "model_pred = knn_3.predict(X_train)\n",
    "model_f1 = f1_score(Y_train, model_pred)\n",
    "\n",
    "print('Tuned KNN Model F1 score: %f' % model_f1)"
   ]
  },
  {
   "cell_type": "code",
   "execution_count": 224,
   "metadata": {},
   "outputs": [
    {
     "data": {
      "text/html": [
       "<div>\n",
       "<style scoped>\n",
       "    .dataframe tbody tr th:only-of-type {\n",
       "        vertical-align: middle;\n",
       "    }\n",
       "\n",
       "    .dataframe tbody tr th {\n",
       "        vertical-align: top;\n",
       "    }\n",
       "\n",
       "    .dataframe thead th {\n",
       "        text-align: right;\n",
       "    }\n",
       "</style>\n",
       "<table border=\"1\" class=\"dataframe\">\n",
       "  <thead>\n",
       "    <tr style=\"text-align: right;\">\n",
       "      <th></th>\n",
       "      <th>ID</th>\n",
       "      <th>class</th>\n",
       "    </tr>\n",
       "  </thead>\n",
       "  <tbody>\n",
       "    <tr>\n",
       "      <th>0</th>\n",
       "      <td>oRB8lJynqBA</td>\n",
       "      <td>False</td>\n",
       "    </tr>\n",
       "    <tr>\n",
       "      <th>1</th>\n",
       "      <td>of-UPoEnw_w</td>\n",
       "      <td>False</td>\n",
       "    </tr>\n",
       "    <tr>\n",
       "      <th>2</th>\n",
       "      <td>d28cz00HHto</td>\n",
       "      <td>False</td>\n",
       "    </tr>\n",
       "    <tr>\n",
       "      <th>3</th>\n",
       "      <td>Tftg_LnwTW0</td>\n",
       "      <td>False</td>\n",
       "    </tr>\n",
       "    <tr>\n",
       "      <th>4</th>\n",
       "      <td>qR0mkm65Whk</td>\n",
       "      <td>False</td>\n",
       "    </tr>\n",
       "  </tbody>\n",
       "</table>\n",
       "</div>"
      ],
      "text/plain": [
       "            ID  class\n",
       "0  oRB8lJynqBA  False\n",
       "1  of-UPoEnw_w  False\n",
       "2  d28cz00HHto  False\n",
       "3  Tftg_LnwTW0  False\n",
       "4  qR0mkm65Whk  False"
      ]
     },
     "execution_count": 224,
     "metadata": {},
     "output_type": "execute_result"
    }
   ],
   "source": [
    "Y_pred = knn_3.predict(X_test)\n",
    "\n",
    "test_data[\"class\"] = Y_pred\n",
    "#test_data[\"class\"] = test_data[\"class\"].map(lambda x: \"True\" if x==1 else \"False\")\n",
    "result = test_data[[\"ID\",\"class\"]]\n",
    "result.to_csv(\"result.csv\", index=False)\n",
    "result.head()"
   ]
  },
  {
   "cell_type": "code",
   "execution_count": null,
   "metadata": {},
   "outputs": [],
   "source": []
  }
 ],
 "metadata": {
  "kernelspec": {
   "display_name": "Python 3",
   "language": "python",
   "name": "python3"
  },
  "language_info": {
   "codemirror_mode": {
    "name": "ipython",
    "version": 3
   },
   "file_extension": ".py",
   "mimetype": "text/x-python",
   "name": "python",
   "nbconvert_exporter": "python",
   "pygments_lexer": "ipython3",
   "version": "3.6.5"
  }
 },
 "nbformat": 4,
 "nbformat_minor": 2
}
