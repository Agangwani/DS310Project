{
 "cells": [
  {
   "cell_type": "code",
   "execution_count": 1,
   "metadata": {},
   "outputs": [],
   "source": [
    "from sklearn.model_selection import train_test_split, GridSearchCV, cross_val_score\n",
    "from sklearn.preprocessing import StandardScaler\n",
    "from sklearn.linear_model import LogisticRegression\n",
    "from sklearn.neighbors import KNeighborsClassifier\n",
    "from sklearn.naive_bayes import GaussianNB\n",
    "from sklearn import metrics\n",
    "from sklearn.metrics import f1_score, make_scorer\n",
    "from sklearn.svm import SVC\n",
    "from sklearn.tree import DecisionTreeClassifier\n",
    "from sklearn.ensemble import GradientBoostingClassifier\n",
    "from collections import Counter\n",
    "import math\n",
    "import pandas as pd\n",
    "import numpy as np\n",
    "import matplotlib.pyplot as plt"
   ]
  },
  {
   "cell_type": "code",
   "execution_count": 2,
   "metadata": {},
   "outputs": [],
   "source": [
    "train_data = pd.read_csv(\"train.csv\", usecols=[\"class\", \"viewCount\", \"commentCount\", \"likeCount\", \"dislikeCount\"]) \n",
    "test_data = pd.read_csv(\"test_1.csv\", usecols=[\"ID\",\"viewCount\", \"commentCount\", \"likeCount\", \"dislikeCount\"])\n",
    "\n",
    "\n",
    "#include test train split. \n",
    "Y_train = train_data[\"class\"]\n",
    "\n",
    "X_train = train_data.drop(\"class\", axis=1)\n",
    "\n",
    "X_test = test_data.drop(\"ID\", axis=1)\n",
    "\n",
    "X_train = X_train.apply(lambda x: (x - np.min(x)) / (np.max(x) - np.min(x)))\n",
    "X_test = X_test.apply(lambda x: (x - np.min(x)) / (np.max(x) - np.min(x)))"
   ]
  },
  {
   "cell_type": "code",
   "execution_count": 3,
   "metadata": {},
   "outputs": [
    {
     "data": {
      "text/plain": [
       "count      7105\n",
       "unique        2\n",
       "top       False\n",
       "freq       3557\n",
       "Name: class, dtype: object"
      ]
     },
     "execution_count": 3,
     "metadata": {},
     "output_type": "execute_result"
    }
   ],
   "source": [
    "Y_train.describe()"
   ]
  },
  {
   "cell_type": "code",
   "execution_count": 4,
   "metadata": {},
   "outputs": [
    {
     "data": {
      "text/html": [
       "<div>\n",
       "<style scoped>\n",
       "    .dataframe tbody tr th:only-of-type {\n",
       "        vertical-align: middle;\n",
       "    }\n",
       "\n",
       "    .dataframe tbody tr th {\n",
       "        vertical-align: top;\n",
       "    }\n",
       "\n",
       "    .dataframe thead th {\n",
       "        text-align: right;\n",
       "    }\n",
       "</style>\n",
       "<table border=\"1\" class=\"dataframe\">\n",
       "  <thead>\n",
       "    <tr style=\"text-align: right;\">\n",
       "      <th></th>\n",
       "      <th>viewCount</th>\n",
       "      <th>likeCount</th>\n",
       "      <th>dislikeCount</th>\n",
       "      <th>commentCount</th>\n",
       "      <th>class</th>\n",
       "    </tr>\n",
       "  </thead>\n",
       "  <tbody>\n",
       "    <tr>\n",
       "      <th>0</th>\n",
       "      <td>10509398.0</td>\n",
       "      <td>945921.0</td>\n",
       "      <td>5614.0</td>\n",
       "      <td>58844</td>\n",
       "      <td>True</td>\n",
       "    </tr>\n",
       "    <tr>\n",
       "      <th>1</th>\n",
       "      <td>4829.0</td>\n",
       "      <td>57.0</td>\n",
       "      <td>81.0</td>\n",
       "      <td>22</td>\n",
       "      <td>False</td>\n",
       "    </tr>\n",
       "    <tr>\n",
       "      <th>2</th>\n",
       "      <td>1015456.0</td>\n",
       "      <td>36679.0</td>\n",
       "      <td>492.0</td>\n",
       "      <td>3739</td>\n",
       "      <td>True</td>\n",
       "    </tr>\n",
       "    <tr>\n",
       "      <th>3</th>\n",
       "      <td>64629.0</td>\n",
       "      <td>2111.0</td>\n",
       "      <td>24.0</td>\n",
       "      <td>151</td>\n",
       "      <td>False</td>\n",
       "    </tr>\n",
       "    <tr>\n",
       "      <th>4</th>\n",
       "      <td>206468.0</td>\n",
       "      <td>1335.0</td>\n",
       "      <td>96.0</td>\n",
       "      <td>470</td>\n",
       "      <td>False</td>\n",
       "    </tr>\n",
       "  </tbody>\n",
       "</table>\n",
       "</div>"
      ],
      "text/plain": [
       "    viewCount  likeCount  dislikeCount  commentCount  class\n",
       "0  10509398.0   945921.0        5614.0         58844   True\n",
       "1      4829.0       57.0          81.0            22  False\n",
       "2   1015456.0    36679.0         492.0          3739   True\n",
       "3     64629.0     2111.0          24.0           151  False\n",
       "4    206468.0     1335.0          96.0           470  False"
      ]
     },
     "execution_count": 4,
     "metadata": {},
     "output_type": "execute_result"
    }
   ],
   "source": [
    "train_data.head()"
   ]
  },
  {
   "cell_type": "code",
   "execution_count": 5,
   "metadata": {},
   "outputs": [],
   "source": [
    "scaler = StandardScaler()\n",
    "scaler.fit(X_train)\n",
    "sc_transform = scaler.transform(X_train)\n",
    "X_train = pd.DataFrame(sc_transform)"
   ]
  },
  {
   "cell_type": "code",
   "execution_count": 6,
   "metadata": {},
   "outputs": [
    {
     "data": {
      "text/html": [
       "<div>\n",
       "<style scoped>\n",
       "    .dataframe tbody tr th:only-of-type {\n",
       "        vertical-align: middle;\n",
       "    }\n",
       "\n",
       "    .dataframe tbody tr th {\n",
       "        vertical-align: top;\n",
       "    }\n",
       "\n",
       "    .dataframe thead th {\n",
       "        text-align: right;\n",
       "    }\n",
       "</style>\n",
       "<table border=\"1\" class=\"dataframe\">\n",
       "  <thead>\n",
       "    <tr style=\"text-align: right;\">\n",
       "      <th></th>\n",
       "      <th>0</th>\n",
       "      <th>1</th>\n",
       "      <th>2</th>\n",
       "      <th>3</th>\n",
       "    </tr>\n",
       "  </thead>\n",
       "  <tbody>\n",
       "    <tr>\n",
       "      <th>0</th>\n",
       "      <td>1.878598</td>\n",
       "      <td>4.063041</td>\n",
       "      <td>0.235600</td>\n",
       "      <td>2.145346</td>\n",
       "    </tr>\n",
       "    <tr>\n",
       "      <th>1</th>\n",
       "      <td>-0.422865</td>\n",
       "      <td>-0.295712</td>\n",
       "      <td>-0.197023</td>\n",
       "      <td>-0.279667</td>\n",
       "    </tr>\n",
       "    <tr>\n",
       "      <th>2</th>\n",
       "      <td>-0.201445</td>\n",
       "      <td>-0.126950</td>\n",
       "      <td>-0.164887</td>\n",
       "      <td>-0.126428</td>\n",
       "    </tr>\n",
       "    <tr>\n",
       "      <th>3</th>\n",
       "      <td>-0.409763</td>\n",
       "      <td>-0.286247</td>\n",
       "      <td>-0.201480</td>\n",
       "      <td>-0.274348</td>\n",
       "    </tr>\n",
       "    <tr>\n",
       "      <th>4</th>\n",
       "      <td>-0.378688</td>\n",
       "      <td>-0.289823</td>\n",
       "      <td>-0.195850</td>\n",
       "      <td>-0.261197</td>\n",
       "    </tr>\n",
       "  </tbody>\n",
       "</table>\n",
       "</div>"
      ],
      "text/plain": [
       "          0         1         2         3\n",
       "0  1.878598  4.063041  0.235600  2.145346\n",
       "1 -0.422865 -0.295712 -0.197023 -0.279667\n",
       "2 -0.201445 -0.126950 -0.164887 -0.126428\n",
       "3 -0.409763 -0.286247 -0.201480 -0.274348\n",
       "4 -0.378688 -0.289823 -0.195850 -0.261197"
      ]
     },
     "execution_count": 6,
     "metadata": {},
     "output_type": "execute_result"
    }
   ],
   "source": [
    "X_train.head()"
   ]
  },
  {
   "cell_type": "code",
   "execution_count": 7,
   "metadata": {},
   "outputs": [
    {
     "name": "stdout",
     "output_type": "stream",
     "text": [
      "Support Vector Classifier F1 score: 0.563908\n"
     ]
    }
   ],
   "source": [
    "svc = SVC()\n",
    "svc.fit(X_train, Y_train)\n",
    "model_pred = svc.predict(X_train)\n",
    "model_f1 = f1_score(Y_train, model_pred)\n",
    "\n",
    "print('Support Vector Classifier F1 score: %f' % model_f1)"
   ]
  },
  {
   "cell_type": "code",
   "execution_count": 8,
   "metadata": {},
   "outputs": [
    {
     "name": "stdout",
     "output_type": "stream",
     "text": [
      "[0.52339688 0.55584416 0.59538067 0.55478261 0.54323144]\n",
      "cv_scores mean:0.5545271506481484\n"
     ]
    }
   ],
   "source": [
    "svc = SVC()\n",
    "svc.fit(X_train, Y_train)\n",
    "model_pred = svc.predict(X_train)\n",
    "\n",
    "svc_scores = cross_val_score(svc, X_train, Y_train, cv=5, scoring = make_scorer(f1_score))\n",
    "print(svc_scores)\n",
    "print('cv_scores mean:{}'.format(np.mean(svc_scores)))"
   ]
  },
  {
   "cell_type": "code",
   "execution_count": 9,
   "metadata": {},
   "outputs": [
    {
     "name": "stdout",
     "output_type": "stream",
     "text": [
      "[0.71058164 0.70588235 0.7235543  0.72778167 0.72995781]\n",
      "cv_scores mean:0.7195515531972102\n"
     ]
    }
   ],
   "source": [
    "dt = DecisionTreeClassifier()\n",
    "dt.fit(X_train, Y_train)\n",
    "model_pred = dt.predict(X_train)\n",
    "\n",
    "dt_scores = cross_val_score(dt, X_train, Y_train, cv=5, scoring = make_scorer(f1_score))\n",
    "print(dt_scores)\n",
    "print('cv_scores mean:{}'.format(np.mean(dt_scores)))"
   ]
  },
  {
   "cell_type": "code",
   "execution_count": 10,
   "metadata": {},
   "outputs": [
    {
     "name": "stdout",
     "output_type": "stream",
     "text": [
      "[0.46828358 0.50275229 0.53503185 0.5        0.51192661]\n",
      "cv_scores mean:0.5035988656611758\n"
     ]
    }
   ],
   "source": [
    "lr = LogisticRegression()\n",
    "lr.fit(X_train, Y_train)\n",
    "model_pred = lr.predict(X_train)\n",
    "\n",
    "lr_scores = cross_val_score(lr, X_train, Y_train, cv=5, scoring = make_scorer(f1_score))\n",
    "print(lr_scores)\n",
    "print('cv_scores mean:{}'.format(np.mean(lr_scores)))"
   ]
  },
  {
   "cell_type": "markdown",
   "metadata": {},
   "source": [
    "### Starting KNN stuff here ###"
   ]
  },
  {
   "cell_type": "code",
   "execution_count": 11,
   "metadata": {},
   "outputs": [
    {
     "name": "stdout",
     "output_type": "stream",
     "text": [
      "[0.76247505 0.77576602 0.75668073 0.75910364 0.74469541]\n",
      "cv_scores mean:0.7597441707068162\n"
     ]
    }
   ],
   "source": [
    "knn = KNeighborsClassifier()\n",
    "knn.fit(X_train, Y_train)\n",
    "model_pred = knn.predict(X_train)\n",
    "\n",
    "knn_scores = cross_val_score(knn, X_train, Y_train, cv=5, scoring = make_scorer(f1_score))\n",
    "print(knn_scores)\n",
    "print('cv_scores mean:{}'.format(np.mean(knn_scores)))"
   ]
  },
  {
   "cell_type": "code",
   "execution_count": 12,
   "metadata": {},
   "outputs": [
    {
     "name": "stdout",
     "output_type": "stream",
     "text": [
      "[0.23095238 0.25059102 0.27610209 0.25977011 0.30665163]\n",
      "cv_scores mean:0.2648134470668429\n"
     ]
    }
   ],
   "source": [
    "nb = GaussianNB()\n",
    "nb.fit(X_train, Y_train)\n",
    "model_pred = nb.predict(X_train)\n",
    "\n",
    "nb_scores = cross_val_score(nb, X_train, Y_train, cv=5, scoring = make_scorer(f1_score))\n",
    "print(nb_scores)\n",
    "print('cv_scores mean:{}'.format(np.mean(nb_scores)))"
   ]
  },
  {
   "cell_type": "code",
   "execution_count": 13,
   "metadata": {},
   "outputs": [],
   "source": [
    "knn = KNeighborsClassifier()"
   ]
  },
  {
   "cell_type": "code",
   "execution_count": 14,
   "metadata": {},
   "outputs": [],
   "source": [
    "neighbors = list(range(1,30))\n",
    "\n",
    "hyperparameters = dict(n_neighbors=neighbors)"
   ]
  },
  {
   "cell_type": "code",
   "execution_count": 33,
   "metadata": {},
   "outputs": [],
   "source": [
    "knn_2 = KNeighborsClassifier(p=2)\n",
    "\n",
    "clf = GridSearchCV(knn_2, hyperparameters, cv=5)\n",
    "\n",
    "best_model = clf.fit(X_train, Y_train)\n",
    "#clf.cv_results_"
   ]
  },
  {
   "cell_type": "code",
   "execution_count": 30,
   "metadata": {},
   "outputs": [
    {
     "name": "stdout",
     "output_type": "stream",
     "text": [
      "[0.73004926 0.71878958 0.74820549 0.747924   0.75482055 0.75200563\n",
      " 0.7598874  0.76045039 0.75777621 0.76298381 0.75763547 0.76059113\n",
      " 0.75439831 0.75862069 0.7546798  0.75510204 0.75411682 0.75622801\n",
      " 0.75735398 0.75749472 0.75580577 0.75932442 0.75383533 0.75622801\n",
      " 0.75341309 0.75707248 0.75270936 0.75566502 0.75087966]\n"
     ]
    }
   ],
   "source": [
    "#clf_mean_scores = [result.mean_validation_score for result in clf.cv_results_]\n",
    "print(clf.cv_results_.get('mean_test_score'))"
   ]
  },
  {
   "cell_type": "code",
   "execution_count": 31,
   "metadata": {},
   "outputs": [
    {
     "data": {
      "text/plain": [
       "Text(0, 0.5, 'Cross-Validated Accuracy')"
      ]
     },
     "execution_count": 31,
     "metadata": {},
     "output_type": "execute_result"
    },
    {
     "data": {
      "image/png": "[encoded data removed]",
      "text/plain": [
       "<Figure size 432x288 with 1 Axes>"
      ]
     },
     "metadata": {
      "needs_background": "light"
     },
     "output_type": "display_data"
    }
   ],
   "source": [
    "plt.plot(neighbors, clf.cv_results_.get('mean_test_score'))\n",
    "plt.xlabel('Value of K for KNN')\n",
    "plt.ylabel('Cross-Validated Accuracy')"
   ]
  },
  {
   "cell_type": "code",
   "execution_count": 32,
   "metadata": {},
   "outputs": [
    {
     "ename": "NameError",
     "evalue": "name 'best_model' is not defined",
     "output_type": "error",
     "traceback": [
      "\u001b[0;31m---------------------------------------------------------------------------\u001b[0m",
      "\u001b[0;31mNameError\u001b[0m                                 Traceback (most recent call last)",
      "\u001b[0;32m<ipython-input-32-0c407765cdc9>\u001b[0m in \u001b[0;36m<module>\u001b[0;34m\u001b[0m\n\u001b[0;32m----> 1\u001b[0;31m \u001b[0mprint\u001b[0m\u001b[0;34m(\u001b[0m\u001b[0;34m'Best n_neighbors:'\u001b[0m\u001b[0;34m,\u001b[0m \u001b[0mbest_model\u001b[0m\u001b[0;34m.\u001b[0m\u001b[0mbest_estimator_\u001b[0m\u001b[0;34m.\u001b[0m\u001b[0mget_params\u001b[0m\u001b[0;34m(\u001b[0m\u001b[0;34m)\u001b[0m\u001b[0;34m[\u001b[0m\u001b[0;34m'n_neighbors'\u001b[0m\u001b[0;34m]\u001b[0m\u001b[0;34m)\u001b[0m\u001b[0;34m\u001b[0m\u001b[0;34m\u001b[0m\u001b[0m\n\u001b[0m",
      "\u001b[0;31mNameError\u001b[0m: name 'best_model' is not defined"
     ]
    }
   ],
   "source": [
    "print('Best n_neighbors:', best_model.best_estimator_.get_params()['n_neighbors'])"
   ]
  },
  {
   "cell_type": "code",
   "execution_count": null,
   "metadata": {},
   "outputs": [],
   "source": [
    "neighbors_val = best_model.best_estimator_.get_params()['n_neighbors']"
   ]
  },
  {
   "cell_type": "code",
   "execution_count": null,
   "metadata": {},
   "outputs": [],
   "source": [
    "model = KNeighborsClassifier(n_neighbors = neighbors_val)\n",
    "model.fit(X_train, Y_train)\n",
    "model_pred = model.predict(X_train)\n",
    "model_f1 = f1_score(Y_train, model_pred)\n",
    "\n",
    "print('KNN Model F1 score after hyperparameter tuning: %f' % model_f1)"
   ]
  },
  {
   "cell_type": "code",
   "execution_count": null,
   "metadata": {},
   "outputs": [],
   "source": [
    "Y_pred = model.predict(X_test)\n",
    "\n",
    "test_data[\"class\"] = Y_pred\n",
    "result = test_data[[\"ID\",\"class\"]]\n",
    "result.to_csv(\"result.csv\", index=False)\n",
    "result.head()"
   ]
  },
  {
   "cell_type": "code",
   "execution_count": null,
   "metadata": {},
   "outputs": [],
   "source": [
    "result.describe()"
   ]
  },
  {
   "cell_type": "code",
   "execution_count": null,
   "metadata": {},
   "outputs": [],
   "source": []
  }
 ],
 "metadata": {
  "kernelspec": {
   "display_name": "Python 3",
   "language": "python",
   "name": "python3"
  },
  "language_info": {
   "codemirror_mode": {
    "name": "ipython",
    "version": 3
   },
   "file_extension": ".py",
   "mimetype": "text/x-python",
   "name": "python",
   "nbconvert_exporter": "python",
   "pygments_lexer": "ipython3",
   "version": "3.8.3"
  }
 },
 "nbformat": 4,
 "nbformat_minor": 2
}
