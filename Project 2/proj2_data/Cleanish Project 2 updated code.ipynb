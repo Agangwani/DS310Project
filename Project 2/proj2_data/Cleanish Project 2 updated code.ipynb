{
 "cells": [
  {
   "cell_type": "code",
   "execution_count": 1,
   "metadata": {},
   "outputs": [],
   "source": [
    "from sklearn.model_selection import train_test_split, GridSearchCV, cross_val_score\n",
    "import seaborn as sns\n",
    "import math\n",
    "import pandas as pd\n",
    "import numpy as np\n",
    "import matplotlib.pyplot as plt\n",
    "import datetime\n",
    "from xgboost import XGBRegressor\n",
    "import xgboost as xgb\n",
    "from sklearn.datasets import make_regression\n",
    "from sklearn.ensemble import GradientBoostingRegressor\n",
    "from sklearn.metrics import mean_squared_error\n",
    "from sklearn.ensemble import RandomForestRegressor, RandomForestClassifier\n",
    "from sklearn.preprocessing import LabelEncoder"
   ]
  },
  {
   "cell_type": "code",
   "execution_count": 2,
   "metadata": {},
   "outputs": [
    {
     "data": {
      "text/plain": [
       "\"\\nTried these features not much difference: play around with them if you want. \\n\\n\\n\\ndf['log_popularity'] = np.log1p(df['popularity'])\\ntest['log_popularity'] = np.log1p(test['popularity'])\\ndf['log_budget'] = np.log1p(df['budget'])\\n\\ndf['ratio_budget_runtime'] = (df['log_budget'] / df['runtime'])\\ndf['ratio_budget_popularity'] = df['log_budget'] / df['log_popularity']\\ndf['ratio_budget_year'] = df['log_budget'] / df['release_year'] #\\ndf['budget_to_mean_year'] = df['log_budget'] / df.groupby('release_year')['log_budget'].transform('mean')\\ndf['ratio_popularity_year'] = df['log_popularity'] / df['release_year']\\ndf['popularity_to_mean_year'] = df['log_popularity'] / df.groupby('release_year')['log_popularity'].transform('mean')\\n\\ndf['ratio_budget_year'].fillna(df['ratio_budget_year'].mean(),inplace=True)\\ndf['budget_to_mean_year'].fillna(df['budget_to_mean_year'].mean(),inplace=True) #fill na with test vals?\\ndf['ratio_budget_runtime'].fillna(df['ratio_budget_runtime'].mean(),inplace=True) #fill na with test vals?\\n\\nle = LabelEncoder()\\ndf['prodcomp']=le.fit_transform(df['production_companies'])\\ntest['prodcomp']=le.fit_transform(test['production_companies'])\\n\\ngender of cast feature might help\\n\""
      ]
     },
     "execution_count": 2,
     "metadata": {},
     "output_type": "execute_result"
    }
   ],
   "source": [
    "'''\n",
    "Tried these features not much difference: play around with them if you want. \n",
    "\n",
    "\n",
    "\n",
    "df['log_popularity'] = np.log1p(df['popularity'])\n",
    "test['log_popularity'] = np.log1p(test['popularity'])\n",
    "df['log_budget'] = np.log1p(df['budget'])\n",
    "\n",
    "df['ratio_budget_runtime'] = (df['log_budget'] / df['runtime'])\n",
    "df['ratio_budget_popularity'] = df['log_budget'] / df['log_popularity']\n",
    "df['ratio_budget_year'] = df['log_budget'] / df['release_year'] #\n",
    "df['budget_to_mean_year'] = df['log_budget'] / df.groupby('release_year')['log_budget'].transform('mean')\n",
    "df['ratio_popularity_year'] = df['log_popularity'] / df['release_year']\n",
    "df['popularity_to_mean_year'] = df['log_popularity'] / df.groupby('release_year')['log_popularity'].transform('mean')\n",
    "\n",
    "df['ratio_budget_year'].fillna(df['ratio_budget_year'].mean(),inplace=True)\n",
    "df['budget_to_mean_year'].fillna(df['budget_to_mean_year'].mean(),inplace=True) #fill na with test vals?\n",
    "df['ratio_budget_runtime'].fillna(df['ratio_budget_runtime'].mean(),inplace=True) #fill na with test vals?\n",
    "\n",
    "le = LabelEncoder()\n",
    "df['prodcomp']=le.fit_transform(df['production_companies'])\n",
    "test['prodcomp']=le.fit_transform(test['production_companies'])\n",
    "\n",
    "gender of cast feature might help\n",
    "'''"
   ]
  },
  {
   "cell_type": "code",
   "execution_count": 3,
   "metadata": {},
   "outputs": [],
   "source": [
    "df = pd.read_csv(r\"C:\\Users\\Ben\\Desktop\\moviedata\\proj2train.csv\", header=0) \n",
    "df.head()\n",
    "test = pd.read_csv(r\"C:\\Users\\Ben\\Desktop\\moviedata\\proj2test.csv\")"
   ]
  },
  {
   "cell_type": "code",
   "execution_count": 4,
   "metadata": {},
   "outputs": [
    {
     "data": {
      "text/html": [
       "<div>\n",
       "<style scoped>\n",
       "    .dataframe tbody tr th:only-of-type {\n",
       "        vertical-align: middle;\n",
       "    }\n",
       "\n",
       "    .dataframe tbody tr th {\n",
       "        vertical-align: top;\n",
       "    }\n",
       "\n",
       "    .dataframe thead th {\n",
       "        text-align: right;\n",
       "    }\n",
       "</style>\n",
       "<table border=\"1\" class=\"dataframe\">\n",
       "  <thead>\n",
       "    <tr style=\"text-align: right;\">\n",
       "      <th></th>\n",
       "      <th>id</th>\n",
       "      <th>belongs_to_collection</th>\n",
       "      <th>budget</th>\n",
       "      <th>genres</th>\n",
       "      <th>homepage</th>\n",
       "      <th>imdb_id</th>\n",
       "      <th>original_language</th>\n",
       "      <th>original_title</th>\n",
       "      <th>overview</th>\n",
       "      <th>popularity</th>\n",
       "      <th>...</th>\n",
       "      <th>production_countries</th>\n",
       "      <th>release_date</th>\n",
       "      <th>runtime</th>\n",
       "      <th>spoken_languages</th>\n",
       "      <th>status</th>\n",
       "      <th>tagline</th>\n",
       "      <th>title</th>\n",
       "      <th>Keywords</th>\n",
       "      <th>cast</th>\n",
       "      <th>crew</th>\n",
       "    </tr>\n",
       "  </thead>\n",
       "  <tbody>\n",
       "    <tr>\n",
       "      <th>0</th>\n",
       "      <td>3001</td>\n",
       "      <td>[{'id': 34055, 'name': 'Pokémon Collection', '...</td>\n",
       "      <td>0</td>\n",
       "      <td>[{'id': 12, 'name': 'Adventure'}, {'id': 16, '...</td>\n",
       "      <td>http://www.pokemon.com/us/movies/movie-pokemon...</td>\n",
       "      <td>tt1226251</td>\n",
       "      <td>ja</td>\n",
       "      <td>ディアルガVSパルキアVSダークライ</td>\n",
       "      <td>Ash and friends (this time accompanied by newc...</td>\n",
       "      <td>3.851534</td>\n",
       "      <td>...</td>\n",
       "      <td>[{'iso_3166_1': 'JP', 'name': 'Japan'}, {'iso_...</td>\n",
       "      <td>7/14/07</td>\n",
       "      <td>90.0</td>\n",
       "      <td>[{'iso_639_1': 'en', 'name': 'English'}, {'iso...</td>\n",
       "      <td>Released</td>\n",
       "      <td>Somewhere Between Time &amp; Space... A Legend Is ...</td>\n",
       "      <td>Pokémon: The Rise of Darkrai</td>\n",
       "      <td>[{'id': 11451, 'name': 'pok√©mon'}, {'id': 115...</td>\n",
       "      <td>[{'cast_id': 3, 'character': 'Tonio', 'credit_...</td>\n",
       "      <td>[{'credit_id': '52fe44e7c3a368484e03d683', 'de...</td>\n",
       "    </tr>\n",
       "    <tr>\n",
       "      <th>1</th>\n",
       "      <td>3002</td>\n",
       "      <td>NaN</td>\n",
       "      <td>88000</td>\n",
       "      <td>[{'id': 27, 'name': 'Horror'}, {'id': 878, 'na...</td>\n",
       "      <td>NaN</td>\n",
       "      <td>tt0051380</td>\n",
       "      <td>en</td>\n",
       "      <td>Attack of the 50 Foot Woman</td>\n",
       "      <td>When an abused wife grows to giant size becaus...</td>\n",
       "      <td>3.559789</td>\n",
       "      <td>...</td>\n",
       "      <td>[{'iso_3166_1': 'US', 'name': 'United States o...</td>\n",
       "      <td>5/19/58</td>\n",
       "      <td>65.0</td>\n",
       "      <td>[{'iso_639_1': 'en', 'name': 'English'}]</td>\n",
       "      <td>Released</td>\n",
       "      <td>A titanic beauty spreads a macabre wave of hor...</td>\n",
       "      <td>Attack of the 50 Foot Woman</td>\n",
       "      <td>[{'id': 9748, 'name': 'revenge'}, {'id': 9951,...</td>\n",
       "      <td>[{'cast_id': 2, 'character': 'Nancy Fowler Arc...</td>\n",
       "      <td>[{'credit_id': '55807805c3a3685b1300060b', 'de...</td>\n",
       "    </tr>\n",
       "    <tr>\n",
       "      <th>2</th>\n",
       "      <td>3003</td>\n",
       "      <td>NaN</td>\n",
       "      <td>0</td>\n",
       "      <td>[{'id': 35, 'name': 'Comedy'}, {'id': 10749, '...</td>\n",
       "      <td>NaN</td>\n",
       "      <td>tt0118556</td>\n",
       "      <td>en</td>\n",
       "      <td>Addicted to Love</td>\n",
       "      <td>Good-natured astronomer Sam is devastated when...</td>\n",
       "      <td>8.085194</td>\n",
       "      <td>...</td>\n",
       "      <td>[{'iso_3166_1': 'US', 'name': 'United States o...</td>\n",
       "      <td>5/23/97</td>\n",
       "      <td>100.0</td>\n",
       "      <td>[{'iso_639_1': 'en', 'name': 'English'}]</td>\n",
       "      <td>Released</td>\n",
       "      <td>A Comedy About Lost Loves And Last Laughs</td>\n",
       "      <td>Addicted to Love</td>\n",
       "      <td>[{'id': 931, 'name': 'jealousy'}, {'id': 9673,...</td>\n",
       "      <td>[{'cast_id': 11, 'character': 'Maggie', 'credi...</td>\n",
       "      <td>[{'credit_id': '52fe4330c3a36847f8041367', 'de...</td>\n",
       "    </tr>\n",
       "    <tr>\n",
       "      <th>3</th>\n",
       "      <td>3004</td>\n",
       "      <td>NaN</td>\n",
       "      <td>6800000</td>\n",
       "      <td>[{'id': 18, 'name': 'Drama'}, {'id': 10752, 'n...</td>\n",
       "      <td>http://www.sonyclassics.com/incendies/</td>\n",
       "      <td>tt1255953</td>\n",
       "      <td>fr</td>\n",
       "      <td>Incendies</td>\n",
       "      <td>A mother's last wishes send twins Jeanne and S...</td>\n",
       "      <td>8.596012</td>\n",
       "      <td>...</td>\n",
       "      <td>[{'iso_3166_1': 'CA', 'name': 'Canada'}, {'iso...</td>\n",
       "      <td>9/4/10</td>\n",
       "      <td>130.0</td>\n",
       "      <td>[{'iso_639_1': 'fr', 'name': 'Français'}, {'is...</td>\n",
       "      <td>Released</td>\n",
       "      <td>The search began at the opening of their mothe...</td>\n",
       "      <td>Incendies</td>\n",
       "      <td>[{'id': 378, 'name': 'prison'}, {'id': 539, 'n...</td>\n",
       "      <td>[{'cast_id': 6, 'character': 'Nawal', 'credit_...</td>\n",
       "      <td>[{'credit_id': '56478092c3a36826140043af', 'de...</td>\n",
       "    </tr>\n",
       "    <tr>\n",
       "      <th>4</th>\n",
       "      <td>3005</td>\n",
       "      <td>NaN</td>\n",
       "      <td>2000000</td>\n",
       "      <td>[{'id': 36, 'name': 'History'}, {'id': 99, 'na...</td>\n",
       "      <td>NaN</td>\n",
       "      <td>tt0418753</td>\n",
       "      <td>en</td>\n",
       "      <td>Inside Deep Throat</td>\n",
       "      <td>In 1972, a seemingly typical shoestring budget...</td>\n",
       "      <td>3.217680</td>\n",
       "      <td>...</td>\n",
       "      <td>[{'iso_3166_1': 'US', 'name': 'United States o...</td>\n",
       "      <td>2/11/05</td>\n",
       "      <td>92.0</td>\n",
       "      <td>[{'iso_639_1': 'en', 'name': 'English'}]</td>\n",
       "      <td>Released</td>\n",
       "      <td>It was filmed in 6 days for 25 thousand dollar...</td>\n",
       "      <td>Inside Deep Throat</td>\n",
       "      <td>[{'id': 279, 'name': 'usa'}, {'id': 1228, 'nam...</td>\n",
       "      <td>[{'cast_id': 1, 'character': 'Narrator (voice)...</td>\n",
       "      <td>[{'credit_id': '52fe44ce9251416c75041967', 'de...</td>\n",
       "    </tr>\n",
       "  </tbody>\n",
       "</table>\n",
       "<p>5 rows × 22 columns</p>\n",
       "</div>"
      ],
      "text/plain": [
       "     id                              belongs_to_collection   budget  \\\n",
       "0  3001  [{'id': 34055, 'name': 'Pokémon Collection', '...        0   \n",
       "1  3002                                                NaN    88000   \n",
       "2  3003                                                NaN        0   \n",
       "3  3004                                                NaN  6800000   \n",
       "4  3005                                                NaN  2000000   \n",
       "\n",
       "                                              genres  \\\n",
       "0  [{'id': 12, 'name': 'Adventure'}, {'id': 16, '...   \n",
       "1  [{'id': 27, 'name': 'Horror'}, {'id': 878, 'na...   \n",
       "2  [{'id': 35, 'name': 'Comedy'}, {'id': 10749, '...   \n",
       "3  [{'id': 18, 'name': 'Drama'}, {'id': 10752, 'n...   \n",
       "4  [{'id': 36, 'name': 'History'}, {'id': 99, 'na...   \n",
       "\n",
       "                                            homepage    imdb_id  \\\n",
       "0  http://www.pokemon.com/us/movies/movie-pokemon...  tt1226251   \n",
       "1                                                NaN  tt0051380   \n",
       "2                                                NaN  tt0118556   \n",
       "3             http://www.sonyclassics.com/incendies/  tt1255953   \n",
       "4                                                NaN  tt0418753   \n",
       "\n",
       "  original_language               original_title  \\\n",
       "0                ja           ディアルガVSパルキアVSダークライ   \n",
       "1                en  Attack of the 50 Foot Woman   \n",
       "2                en             Addicted to Love   \n",
       "3                fr                    Incendies   \n",
       "4                en           Inside Deep Throat   \n",
       "\n",
       "                                            overview  popularity  ...  \\\n",
       "0  Ash and friends (this time accompanied by newc...    3.851534  ...   \n",
       "1  When an abused wife grows to giant size becaus...    3.559789  ...   \n",
       "2  Good-natured astronomer Sam is devastated when...    8.085194  ...   \n",
       "3  A mother's last wishes send twins Jeanne and S...    8.596012  ...   \n",
       "4  In 1972, a seemingly typical shoestring budget...    3.217680  ...   \n",
       "\n",
       "                                production_countries release_date runtime  \\\n",
       "0  [{'iso_3166_1': 'JP', 'name': 'Japan'}, {'iso_...      7/14/07    90.0   \n",
       "1  [{'iso_3166_1': 'US', 'name': 'United States o...      5/19/58    65.0   \n",
       "2  [{'iso_3166_1': 'US', 'name': 'United States o...      5/23/97   100.0   \n",
       "3  [{'iso_3166_1': 'CA', 'name': 'Canada'}, {'iso...       9/4/10   130.0   \n",
       "4  [{'iso_3166_1': 'US', 'name': 'United States o...      2/11/05    92.0   \n",
       "\n",
       "                                    spoken_languages    status  \\\n",
       "0  [{'iso_639_1': 'en', 'name': 'English'}, {'iso...  Released   \n",
       "1           [{'iso_639_1': 'en', 'name': 'English'}]  Released   \n",
       "2           [{'iso_639_1': 'en', 'name': 'English'}]  Released   \n",
       "3  [{'iso_639_1': 'fr', 'name': 'Français'}, {'is...  Released   \n",
       "4           [{'iso_639_1': 'en', 'name': 'English'}]  Released   \n",
       "\n",
       "                                             tagline  \\\n",
       "0  Somewhere Between Time & Space... A Legend Is ...   \n",
       "1  A titanic beauty spreads a macabre wave of hor...   \n",
       "2          A Comedy About Lost Loves And Last Laughs   \n",
       "3  The search began at the opening of their mothe...   \n",
       "4  It was filmed in 6 days for 25 thousand dollar...   \n",
       "\n",
       "                          title  \\\n",
       "0  Pokémon: The Rise of Darkrai   \n",
       "1   Attack of the 50 Foot Woman   \n",
       "2              Addicted to Love   \n",
       "3                     Incendies   \n",
       "4            Inside Deep Throat   \n",
       "\n",
       "                                            Keywords  \\\n",
       "0  [{'id': 11451, 'name': 'pok√©mon'}, {'id': 115...   \n",
       "1  [{'id': 9748, 'name': 'revenge'}, {'id': 9951,...   \n",
       "2  [{'id': 931, 'name': 'jealousy'}, {'id': 9673,...   \n",
       "3  [{'id': 378, 'name': 'prison'}, {'id': 539, 'n...   \n",
       "4  [{'id': 279, 'name': 'usa'}, {'id': 1228, 'nam...   \n",
       "\n",
       "                                                cast  \\\n",
       "0  [{'cast_id': 3, 'character': 'Tonio', 'credit_...   \n",
       "1  [{'cast_id': 2, 'character': 'Nancy Fowler Arc...   \n",
       "2  [{'cast_id': 11, 'character': 'Maggie', 'credi...   \n",
       "3  [{'cast_id': 6, 'character': 'Nawal', 'credit_...   \n",
       "4  [{'cast_id': 1, 'character': 'Narrator (voice)...   \n",
       "\n",
       "                                                crew  \n",
       "0  [{'credit_id': '52fe44e7c3a368484e03d683', 'de...  \n",
       "1  [{'credit_id': '55807805c3a3685b1300060b', 'de...  \n",
       "2  [{'credit_id': '52fe4330c3a36847f8041367', 'de...  \n",
       "3  [{'credit_id': '56478092c3a36826140043af', 'de...  \n",
       "4  [{'credit_id': '52fe44ce9251416c75041967', 'de...  \n",
       "\n",
       "[5 rows x 22 columns]"
      ]
     },
     "execution_count": 4,
     "metadata": {},
     "output_type": "execute_result"
    }
   ],
   "source": [
    "test.head()"
   ]
  },
  {
   "cell_type": "code",
   "execution_count": 5,
   "metadata": {},
   "outputs": [],
   "source": [
    "df['year'] = pd.DatetimeIndex(df['release_date']).year\n",
    "test['year'] = pd.DatetimeIndex(test['release_date']).year"
   ]
  },
  {
   "cell_type": "code",
   "execution_count": 6,
   "metadata": {},
   "outputs": [],
   "source": [
    "df['revenue'] = np.log1p(df['revenue'])"
   ]
  },
  {
   "cell_type": "code",
   "execution_count": 7,
   "metadata": {},
   "outputs": [],
   "source": [
    "def missing_values_table(df):\n",
    "        # Total missing values\n",
    "        mis_val = df.isnull().sum()\n",
    "        \n",
    "        # Percentage of missing values\n",
    "        mis_val_percent = 100 * df.isnull().sum() / len(df)\n",
    "        \n",
    "        # Make a table with the results\n",
    "        mis_val_table = pd.concat([mis_val, mis_val_percent], axis=1)\n",
    "        \n",
    "        # Rename the columns\n",
    "        mis_val_table_ren_columns = mis_val_table.rename(\n",
    "        columns = {0 : 'Missing Values', 1 : '% of Total Values'})\n",
    "        \n",
    "        # Sort the table by percentage of missing descending\n",
    "        mis_val_table_ren_columns = mis_val_table_ren_columns[\n",
    "            mis_val_table_ren_columns.iloc[:,1] != 0].sort_values(\n",
    "        '% of Total Values', ascending=False).round(1)\n",
    "        \n",
    "        # Print some summary information\n",
    "        print (\"Your selected dataframe has \" + str(df.shape[1]) + \" columns.\\n\"      \n",
    "            \"There are \" + str(mis_val_table_ren_columns.shape[0]) +\n",
    "              \" columns that have missing values.\")\n",
    "        \n",
    "        # Return the dataframe with missing information\n",
    "        return mis_val_table_ren_columns"
   ]
  },
  {
   "cell_type": "code",
   "execution_count": 8,
   "metadata": {},
   "outputs": [
    {
     "name": "stdout",
     "output_type": "stream",
     "text": [
      "Your selected dataframe has 24 columns.\n",
      "There are 13 columns that have missing values.\n"
     ]
    },
    {
     "data": {
      "text/html": [
       "<div>\n",
       "<style scoped>\n",
       "    .dataframe tbody tr th:only-of-type {\n",
       "        vertical-align: middle;\n",
       "    }\n",
       "\n",
       "    .dataframe tbody tr th {\n",
       "        vertical-align: top;\n",
       "    }\n",
       "\n",
       "    .dataframe thead th {\n",
       "        text-align: right;\n",
       "    }\n",
       "</style>\n",
       "<table border=\"1\" class=\"dataframe\">\n",
       "  <thead>\n",
       "    <tr style=\"text-align: right;\">\n",
       "      <th></th>\n",
       "      <th>Missing Values</th>\n",
       "      <th>% of Total Values</th>\n",
       "    </tr>\n",
       "  </thead>\n",
       "  <tbody>\n",
       "    <tr>\n",
       "      <th>belongs_to_collection</th>\n",
       "      <td>2396</td>\n",
       "      <td>79.9</td>\n",
       "    </tr>\n",
       "    <tr>\n",
       "      <th>homepage</th>\n",
       "      <td>2054</td>\n",
       "      <td>68.5</td>\n",
       "    </tr>\n",
       "    <tr>\n",
       "      <th>tagline</th>\n",
       "      <td>597</td>\n",
       "      <td>19.9</td>\n",
       "    </tr>\n",
       "    <tr>\n",
       "      <th>Keywords</th>\n",
       "      <td>276</td>\n",
       "      <td>9.2</td>\n",
       "    </tr>\n",
       "    <tr>\n",
       "      <th>production_companies</th>\n",
       "      <td>156</td>\n",
       "      <td>5.2</td>\n",
       "    </tr>\n",
       "    <tr>\n",
       "      <th>production_countries</th>\n",
       "      <td>55</td>\n",
       "      <td>1.8</td>\n",
       "    </tr>\n",
       "    <tr>\n",
       "      <th>spoken_languages</th>\n",
       "      <td>20</td>\n",
       "      <td>0.7</td>\n",
       "    </tr>\n",
       "    <tr>\n",
       "      <th>crew</th>\n",
       "      <td>16</td>\n",
       "      <td>0.5</td>\n",
       "    </tr>\n",
       "    <tr>\n",
       "      <th>cast</th>\n",
       "      <td>13</td>\n",
       "      <td>0.4</td>\n",
       "    </tr>\n",
       "    <tr>\n",
       "      <th>overview</th>\n",
       "      <td>8</td>\n",
       "      <td>0.3</td>\n",
       "    </tr>\n",
       "    <tr>\n",
       "      <th>genres</th>\n",
       "      <td>7</td>\n",
       "      <td>0.2</td>\n",
       "    </tr>\n",
       "    <tr>\n",
       "      <th>runtime</th>\n",
       "      <td>2</td>\n",
       "      <td>0.1</td>\n",
       "    </tr>\n",
       "    <tr>\n",
       "      <th>poster_path</th>\n",
       "      <td>1</td>\n",
       "      <td>0.0</td>\n",
       "    </tr>\n",
       "  </tbody>\n",
       "</table>\n",
       "</div>"
      ],
      "text/plain": [
       "                       Missing Values  % of Total Values\n",
       "belongs_to_collection            2396               79.9\n",
       "homepage                         2054               68.5\n",
       "tagline                           597               19.9\n",
       "Keywords                          276                9.2\n",
       "production_companies              156                5.2\n",
       "production_countries               55                1.8\n",
       "spoken_languages                   20                0.7\n",
       "crew                               16                0.5\n",
       "cast                               13                0.4\n",
       "overview                            8                0.3\n",
       "genres                              7                0.2\n",
       "runtime                             2                0.1\n",
       "poster_path                         1                0.0"
      ]
     },
     "execution_count": 8,
     "metadata": {},
     "output_type": "execute_result"
    }
   ],
   "source": [
    "missing_values_table(df)\n",
    "# we have a good amount of missing variables that have to be either dropped or filled as it is a kaggle competition and we cannot \n",
    "# drop rows on the test set"
   ]
  },
  {
   "cell_type": "code",
   "execution_count": 9,
   "metadata": {
    "scrolled": true
   },
   "outputs": [],
   "source": [
    "df['isbelongs_to_collectionNA'] = 0\n",
    "df.loc[df['belongs_to_collection'].isnull(), 'isbelongs_to_collectionNA'] = 1\n",
    "\n",
    "test['isbelongs_to_collectionNA'] = 0\n",
    "test.loc[test['belongs_to_collection'].isnull(), 'isbelongs_to_collectionNA'] = 1"
   ]
  },
  {
   "cell_type": "code",
   "execution_count": 10,
   "metadata": {},
   "outputs": [],
   "source": [
    "df['isTaglineNA'] = 0\n",
    "df.loc[df['tagline'].isnull(), 'isTaglineNA'] = 1\n",
    "test['isTaglineNA'] = 0\n",
    "test.loc[test['tagline'].isnull(), 'isTaglineNA'] = 1"
   ]
  },
  {
   "cell_type": "code",
   "execution_count": 11,
   "metadata": {},
   "outputs": [],
   "source": [
    "#not used\n",
    "df = df.drop([\"homepage\",\"belongs_to_collection\", \"poster_path\", 'tagline','Keywords'], axis = 1)\n",
    "test = test.drop([\"homepage\",\"belongs_to_collection\", \"poster_path\",'tagline','Keywords'], axis = 1)\n",
    "test['status'].fillna('Released',inplace=True)"
   ]
  },
  {
   "cell_type": "code",
   "execution_count": 12,
   "metadata": {},
   "outputs": [],
   "source": [
    "le = LabelEncoder()\n",
    "df['status']=le.fit_transform(df['status'])\n",
    "test['status']=le.fit_transform(test['status'])\n"
   ]
  },
  {
   "cell_type": "code",
   "execution_count": 13,
   "metadata": {},
   "outputs": [],
   "source": [
    "test['status']=le.fit_transform(test['status'])"
   ]
  },
  {
   "cell_type": "code",
   "execution_count": 14,
   "metadata": {},
   "outputs": [],
   "source": [
    "df['original_language']=le.fit_transform(df['original_language'])\n",
    "test['original_language']=le.fit_transform(test['original_language'])"
   ]
  },
  {
   "cell_type": "code",
   "execution_count": 15,
   "metadata": {},
   "outputs": [],
   "source": [
    "df['cast'].fillna('0',inplace=True)\n",
    "df['crew'].fillna('0',inplace=True)\n",
    "\n",
    "test['cast'].fillna('0',inplace=True)\n",
    "test['crew'].fillna('0',inplace=True)\n",
    "# since we count crew and cast alter it is fine to just fill with as we it wont affect the feature"
   ]
  },
  {
   "cell_type": "code",
   "execution_count": 16,
   "metadata": {},
   "outputs": [
    {
     "name": "stdout",
     "output_type": "stream",
     "text": [
      "[{'id': 18, 'name': 'Drama'}]\n",
      "[{'iso_639_1': 'en', 'name': 'English'}]\n",
      "[{'name': 'Paramount Pictures', 'id': 4}]\n",
      "[{'iso_3166_1': 'US', 'name': 'United States of America'}]\n"
     ]
    }
   ],
   "source": [
    "print (df['genres'].mode()[0])\n",
    "print (df['spoken_languages'].mode()[0])\n",
    "print (df['production_companies'].mode()[0])\n",
    "print (df['production_countries'].mode()[0])"
   ]
  },
  {
   "cell_type": "code",
   "execution_count": 17,
   "metadata": {},
   "outputs": [],
   "source": [
    "df['genres'].fillna(df['genres'].mode()[0], inplace=True)\n",
    "df['spoken_languages'].fillna(df['spoken_languages'].mode()[0], inplace=True)\n",
    "df['production_companies'].fillna(df['production_companies'].mode()[0], inplace=True)\n",
    "df['production_countries'].fillna(df['production_countries'].mode()[0], inplace=True)\n",
    "#test\n",
    "test['genres'].fillna(test['genres'].mode()[0], inplace=True)\n",
    "test['spoken_languages'].fillna(test['spoken_languages'].mode()[0], inplace=True)\n",
    "test['production_companies'].fillna(test['production_companies'].mode()[0], inplace=True)\n",
    "test['production_countries'].fillna(test['production_countries'].mode()[0], inplace=True)\n",
    "#print (df['spoken_languages'].mode()[0])\n",
    "#print (df['production_companies'].mode()[0])\n",
    "#print (df['production_countries'].mode()[0])"
   ]
  },
  {
   "cell_type": "code",
   "execution_count": 18,
   "metadata": {},
   "outputs": [
    {
     "name": "stdout",
     "output_type": "stream",
     "text": [
      "Your selected dataframe has 21 columns.\n",
      "There are 2 columns that have missing values.\n"
     ]
    },
    {
     "data": {
      "text/html": [
       "<div>\n",
       "<style scoped>\n",
       "    .dataframe tbody tr th:only-of-type {\n",
       "        vertical-align: middle;\n",
       "    }\n",
       "\n",
       "    .dataframe tbody tr th {\n",
       "        vertical-align: top;\n",
       "    }\n",
       "\n",
       "    .dataframe thead th {\n",
       "        text-align: right;\n",
       "    }\n",
       "</style>\n",
       "<table border=\"1\" class=\"dataframe\">\n",
       "  <thead>\n",
       "    <tr style=\"text-align: right;\">\n",
       "      <th></th>\n",
       "      <th>Missing Values</th>\n",
       "      <th>% of Total Values</th>\n",
       "    </tr>\n",
       "  </thead>\n",
       "  <tbody>\n",
       "    <tr>\n",
       "      <th>overview</th>\n",
       "      <td>8</td>\n",
       "      <td>0.3</td>\n",
       "    </tr>\n",
       "    <tr>\n",
       "      <th>runtime</th>\n",
       "      <td>2</td>\n",
       "      <td>0.1</td>\n",
       "    </tr>\n",
       "  </tbody>\n",
       "</table>\n",
       "</div>"
      ],
      "text/plain": [
       "          Missing Values  % of Total Values\n",
       "overview               8                0.3\n",
       "runtime                2                0.1"
      ]
     },
     "execution_count": 18,
     "metadata": {},
     "output_type": "execute_result"
    }
   ],
   "source": [
    "missing_values_table(df)"
   ]
  },
  {
   "cell_type": "code",
   "execution_count": 19,
   "metadata": {},
   "outputs": [
    {
     "data": {
      "text/plain": [
       "0       Ash and friends (this time accompanied by newc...\n",
       "1       When an abused wife grows to giant size becaus...\n",
       "2       Good-natured astronomer Sam is devastated when...\n",
       "3       A mother's last wishes send twins Jeanne and S...\n",
       "4       In 1972, a seemingly typical shoestring budget...\n",
       "                              ...                        \n",
       "4393    A young man is plunged into a life of subterfu...\n",
       "4394    Three friends, whose lives have been drifting ...\n",
       "4395    Frank Galvin is a down-on-his luck lawyer, red...\n",
       "4396    For 19-year-old Jay, fall should be about scho...\n",
       "4397    Twelve episodic tales in the life of a Parisia...\n",
       "Name: overview, Length: 4398, dtype: object"
      ]
     },
     "execution_count": 19,
     "metadata": {},
     "output_type": "execute_result"
    }
   ],
   "source": [
    "df[\"overview\"].fillna(0)\n",
    "test[\"overview\"].fillna(0)"
   ]
  },
  {
   "cell_type": "code",
   "execution_count": 20,
   "metadata": {},
   "outputs": [],
   "source": [
    "test['runtime'].fillna(test['runtime'].mean(),inplace=True)\n",
    "df['runtime'].fillna(test['runtime'].mean(),inplace=True)"
   ]
  },
  {
   "cell_type": "code",
   "execution_count": 22,
   "metadata": {},
   "outputs": [
    {
     "name": "stdout",
     "output_type": "stream",
     "text": [
      "       id  budget                         genres    imdb_id  \\\n",
      "828  3829       0  [{'id': 18, 'name': 'Drama'}]  tt0210130   \n",
      "\n",
      "     original_language              original_title  \\\n",
      "828                  9  Jails, Hospitals & Hip-Hop   \n",
      "\n",
      "                                              overview  popularity  \\\n",
      "828  Jails, Hospitals &amp; Hip-Hop is a cinematic ...    0.009057   \n",
      "\n",
      "                          production_companies  \\\n",
      "828  [{'name': 'Paramount Pictures', 'id': 4}]   \n",
      "\n",
      "                                  production_countries release_date  runtime  \\\n",
      "828  [{'iso_3166_1': 'US', 'name': 'United States o...          NaN     90.0   \n",
      "\n",
      "                             spoken_languages  status  \\\n",
      "828  [{'iso_639_1': 'en', 'name': 'English'}]       1   \n",
      "\n",
      "                          title cast crew  year  isbelongs_to_collectionNA  \\\n",
      "828  Jails, Hospitals & Hip-Hop   []    0   NaN                          1   \n",
      "\n",
      "     isTaglineNA  \n",
      "828            0  \n",
      "       id  budget                         genres    imdb_id  \\\n",
      "828  3829       0  [{'id': 18, 'name': 'Drama'}]  tt0210130   \n",
      "\n",
      "     original_language              original_title  \\\n",
      "828                  9  Jails, Hospitals & Hip-Hop   \n",
      "\n",
      "                                              overview  popularity  \\\n",
      "828  Jails, Hospitals &amp; Hip-Hop is a cinematic ...    0.009057   \n",
      "\n",
      "                          production_companies  \\\n",
      "828  [{'name': 'Paramount Pictures', 'id': 4}]   \n",
      "\n",
      "                                  production_countries release_date  runtime  \\\n",
      "828  [{'iso_3166_1': 'US', 'name': 'United States o...          NaN     90.0   \n",
      "\n",
      "                             spoken_languages  status  \\\n",
      "828  [{'iso_639_1': 'en', 'name': 'English'}]       1   \n",
      "\n",
      "                          title cast crew  year  isbelongs_to_collectionNA  \\\n",
      "828  Jails, Hospitals & Hip-Hop   []    0   NaN                          1   \n",
      "\n",
      "     isTaglineNA  \n",
      "828            0  \n"
     ]
    }
   ],
   "source": [
    "print(test[test['release_date'].isnull()])\n",
    "print(test[test['year'].isnull()])\n"
   ]
  },
  {
   "cell_type": "code",
   "execution_count": 23,
   "metadata": {},
   "outputs": [],
   "source": [
    "test['release_date'].fillna('3/20/01',inplace=True)"
   ]
  },
  {
   "cell_type": "code",
   "execution_count": 24,
   "metadata": {},
   "outputs": [],
   "source": [
    "test['year'].fillna(\"2000\", inplace = True)"
   ]
  },
  {
   "cell_type": "code",
   "execution_count": 25,
   "metadata": {},
   "outputs": [],
   "source": [
    "test['title'].fillna(test['original_title'],inplace=True)"
   ]
  },
  {
   "cell_type": "code",
   "execution_count": 26,
   "metadata": {},
   "outputs": [
    {
     "name": "stdout",
     "output_type": "stream",
     "text": [
      "Your selected dataframe has 20 columns.\n",
      "There are 1 columns that have missing values.\n"
     ]
    },
    {
     "data": {
      "text/html": [
       "<div>\n",
       "<style scoped>\n",
       "    .dataframe tbody tr th:only-of-type {\n",
       "        vertical-align: middle;\n",
       "    }\n",
       "\n",
       "    .dataframe tbody tr th {\n",
       "        vertical-align: top;\n",
       "    }\n",
       "\n",
       "    .dataframe thead th {\n",
       "        text-align: right;\n",
       "    }\n",
       "</style>\n",
       "<table border=\"1\" class=\"dataframe\">\n",
       "  <thead>\n",
       "    <tr style=\"text-align: right;\">\n",
       "      <th></th>\n",
       "      <th>Missing Values</th>\n",
       "      <th>% of Total Values</th>\n",
       "    </tr>\n",
       "  </thead>\n",
       "  <tbody>\n",
       "    <tr>\n",
       "      <th>overview</th>\n",
       "      <td>14</td>\n",
       "      <td>0.3</td>\n",
       "    </tr>\n",
       "  </tbody>\n",
       "</table>\n",
       "</div>"
      ],
      "text/plain": [
       "          Missing Values  % of Total Values\n",
       "overview              14                0.3"
      ]
     },
     "execution_count": 26,
     "metadata": {},
     "output_type": "execute_result"
    }
   ],
   "source": [
    "missing_values_table(test)"
   ]
  },
  {
   "cell_type": "code",
   "execution_count": 27,
   "metadata": {},
   "outputs": [],
   "source": [
    "df['year'] = pd.DatetimeIndex(df['release_date']).year\n",
    "test['year'] = pd.DatetimeIndex(test['release_date']).year"
   ]
  },
  {
   "cell_type": "code",
   "execution_count": 28,
   "metadata": {},
   "outputs": [],
   "source": [
    "Y = df[\"revenue\"]"
   ]
  },
  {
   "cell_type": "code",
   "execution_count": 29,
   "metadata": {},
   "outputs": [
    {
     "name": "stdout",
     "output_type": "stream",
     "text": [
      "<class 'pandas.core.frame.DataFrame'>\n",
      "RangeIndex: 3000 entries, 0 to 2999\n",
      "Data columns (total 21 columns):\n",
      " #   Column                     Non-Null Count  Dtype  \n",
      "---  ------                     --------------  -----  \n",
      " 0   id                         3000 non-null   int64  \n",
      " 1   budget                     3000 non-null   int64  \n",
      " 2   genres                     3000 non-null   object \n",
      " 3   imdb_id                    3000 non-null   object \n",
      " 4   original_language          3000 non-null   int32  \n",
      " 5   original_title             3000 non-null   object \n",
      " 6   overview                   2992 non-null   object \n",
      " 7   popularity                 3000 non-null   float64\n",
      " 8   production_companies       3000 non-null   object \n",
      " 9   production_countries       3000 non-null   object \n",
      " 10  release_date               3000 non-null   object \n",
      " 11  runtime                    3000 non-null   float64\n",
      " 12  spoken_languages           3000 non-null   object \n",
      " 13  status                     3000 non-null   int32  \n",
      " 14  title                      3000 non-null   object \n",
      " 15  cast                       3000 non-null   object \n",
      " 16  crew                       3000 non-null   object \n",
      " 17  revenue                    3000 non-null   float64\n",
      " 18  year                       3000 non-null   int64  \n",
      " 19  isbelongs_to_collectionNA  3000 non-null   int64  \n",
      " 20  isTaglineNA                3000 non-null   int64  \n",
      "dtypes: float64(3), int32(2), int64(5), object(11)\n",
      "memory usage: 468.9+ KB\n"
     ]
    }
   ],
   "source": [
    "df.info()"
   ]
  },
  {
   "cell_type": "code",
   "execution_count": 30,
   "metadata": {},
   "outputs": [
    {
     "data": {
      "text/plain": [
       "0    16.326300\n",
       "1    18.370959\n",
       "2    16.387512\n",
       "3    16.588099\n",
       "4    15.182615\n",
       "Name: revenue, dtype: float64"
      ]
     },
     "execution_count": 30,
     "metadata": {},
     "output_type": "execute_result"
    }
   ],
   "source": [
    "Y.head()"
   ]
  },
  {
   "cell_type": "code",
   "execution_count": 31,
   "metadata": {},
   "outputs": [],
   "source": [
    "#df[\"IsCollection\"].value_counts()"
   ]
  },
  {
   "cell_type": "code",
   "execution_count": 33,
   "metadata": {},
   "outputs": [],
   "source": [
    "df[\"budget_year_ratio\"] = df['budget'] / (df['year'] * df['year'])\n",
    "test[\"budget_year_ratio\"] = test['budget'] / (test['year'] * test['year'])"
   ]
  },
  {
   "cell_type": "code",
   "execution_count": 35,
   "metadata": {},
   "outputs": [],
   "source": [
    "#little function for for finding an overview\n",
    "def extractOverviewInfo(df):\n",
    "    df['has_overview'] = df['overview'].apply(lambda x: isinstance(x, str))\n",
    "    df['overview_len'] = df['overview'].apply(lambda x: len(x) if isinstance(x, str) else 0)\n",
    "    return df"
   ]
  },
  {
   "cell_type": "code",
   "execution_count": 36,
   "metadata": {},
   "outputs": [],
   "source": [
    "df = extractOverviewInfo(df)\n"
   ]
  },
  {
   "cell_type": "code",
   "execution_count": 37,
   "metadata": {},
   "outputs": [],
   "source": [
    "test = extractOverviewInfo(test)"
   ]
  },
  {
   "cell_type": "code",
   "execution_count": 38,
   "metadata": {},
   "outputs": [],
   "source": [
    "df['has_overview'] = df['has_overview'].astype(int)\n",
    "test['has_overview'] = test['has_overview'].astype(int)\n",
    "df = df.drop(['overview'], axis = 1)\n",
    "test = test.drop(['overview'], axis = 1)\n"
   ]
  },
  {
   "cell_type": "code",
   "execution_count": 40,
   "metadata": {},
   "outputs": [],
   "source": [
    "df['budget_runtime'] = (df['budget'] + 1)/(df['runtime']+1)\n",
    "df['poularity_year'] = (df['popularity']+1)/(df['year']+1)\n",
    "df['budget_popularity'] = (df['budget']+1)/(df['popularity']+1)\n",
    "df['budget_year'] = (df['budget'] + 1)/(df['year']+1)\n",
    "df['runtime_year'] = (df['runtime']+1)/(df['year']+1)\n",
    "\n",
    "#test\n"
   ]
  },
  {
   "cell_type": "code",
   "execution_count": 41,
   "metadata": {},
   "outputs": [],
   "source": [
    "test['budget_runtime'] = (test['budget'] + 1)/(test['runtime']+1)\n",
    "test['poularity_year'] = (test['popularity']+1)/(test['year']+1)\n",
    "test['budget_popularity'] = (test['budget']+1)/(test['popularity']+1)\n",
    "test['budget_year'] = (test['budget'] + 1)/(test['year']+1)\n",
    "test['runtime_year'] = (test['runtime']+1)/(test['year']+1)"
   ]
  },
  {
   "cell_type": "code",
   "execution_count": 45,
   "metadata": {},
   "outputs": [],
   "source": [
    "\n",
    "def date_features(df):\n",
    "    df['release_date'] = pd.to_datetime(df['release_date'])\n",
    "    df['release_month'] = df['release_date'].dt.month\n",
    "    df['release_day'] = df['release_date'].dt.day\n",
    "    #df['release_quarter'] = df['release_date'].dt.quarter\n",
    "    df['release_dayofweek'] = df['release_date'].dt.dayofweek\n",
    "    df.drop(columns=['release_date'], inplace=True)\n",
    "    return df\n",
    "\n",
    "df = date_features(df)\n",
    "test = date_features(test)\n"
   ]
  },
  {
   "cell_type": "code",
   "execution_count": null,
   "metadata": {},
   "outputs": [],
   "source": []
  },
  {
   "cell_type": "code",
   "execution_count": 46,
   "metadata": {},
   "outputs": [],
   "source": [
    "#df['revenue'] = np.log1p(df['revenue'])\n",
    "y = df[[\"revenue\"]] #can prob get rid of this"
   ]
  },
  {
   "cell_type": "code",
   "execution_count": 47,
   "metadata": {},
   "outputs": [],
   "source": [
    "members = df[\"cast\"]\n",
    "\n",
    "num_cast = []\n",
    "\n",
    "for i in members:\n",
    "    if isinstance(i, str):\n",
    "        number = sum(1 for c in i if c == \"{\")\n",
    "        num_cast.append(number)\n",
    "    else:\n",
    "        num_cast.append(0)\n",
    "\n",
    "df[\"num_cast\"] = num_cast"
   ]
  },
  {
   "cell_type": "code",
   "execution_count": 48,
   "metadata": {},
   "outputs": [],
   "source": [
    "members = df[\"crew\"]\n",
    "\n",
    "num_cast = []\n",
    "\n",
    "for i in members:\n",
    "    if isinstance(i, str):\n",
    "        number = sum(1 for c in i if c == \"{\")\n",
    "        num_cast.append(number)\n",
    "    else:\n",
    "        num_cast.append(0)\n",
    "\n",
    "df[\"num_crew\"] = num_cast"
   ]
  },
  {
   "cell_type": "code",
   "execution_count": 49,
   "metadata": {},
   "outputs": [],
   "source": [
    "num_male_cast = []\n",
    "num_female_cast = []\n",
    "num_unspecified_cast = []\n",
    "\n",
    "substring_male = \" 'gender': 2\"\n",
    "substring_female = \" 'gender': 1\"\n",
    "substring_unspecified = \" 'gender': 0\"\n",
    "\n",
    "for i in members:\n",
    "    if isinstance(i, str):\n",
    "        males = i.count(substring_male)\n",
    "        num_male_cast.append(males)\n",
    "    \n",
    "        females = i.count(substring_female)\n",
    "        num_female_cast.append(females)\n",
    "    \n",
    "        unspecified = i.count(substring_unspecified)\n",
    "        num_unspecified_cast.append(unspecified)\n",
    "    else:\n",
    "        num_male_cast.append(0)\n",
    "        num_female_cast.append(0)\n",
    "        num_unspecified_cast.append(0)\n",
    "\n",
    "df[\"num_male_cast\"] = num_male_cast\n",
    "df[\"num_female_cast\"] = num_female_cast\n",
    "df[\"num_unspecified_cast\"] = num_unspecified_cast\n",
    "\n",
    "df[\"cast_ratio_male\"] = df[\"num_male_cast\"] / (df[\"num_male_cast\"] + df[\"num_female_cast\"] + df[\"num_unspecified_cast\"])\n",
    "df[\"cast_ratio_female\"] = df[\"num_female_cast\"] / (df[\"num_male_cast\"] + df[\"num_female_cast\"] + df[\"num_unspecified_cast\"])\n",
    "df[\"cast_ratio_unspecified\"] = df[\"num_unspecified_cast\"] / (df[\"num_male_cast\"] + df[\"num_female_cast\"] + df[\"num_unspecified_cast\"])"
   ]
  },
  {
   "cell_type": "code",
   "execution_count": 50,
   "metadata": {},
   "outputs": [],
   "source": [
    "crew = df[\"crew\"]\n",
    "\n",
    "num_male_crew = []\n",
    "num_female_crew = []\n",
    "num_unspecified_crew = []\n",
    "\n",
    "substring_male = \"'gender\\': 2\"\n",
    "substring_female = \"'gender\\': 1\"\n",
    "substring_unspecified = \"'gender\\': 0\"\n",
    "\n",
    "for i in crew:\n",
    "    if isinstance(i, list):\n",
    "        string = str(i)\n",
    "        males = string.count(substring_male)\n",
    "        num_male_crew.append(males)\n",
    "    \n",
    "        females = string.count(substring_female)\n",
    "        num_female_crew.append(females)\n",
    "    \n",
    "        unspecified = string.count(substring_unspecified)\n",
    "        num_unspecified_crew.append(unspecified)\n",
    "    else:\n",
    "        num_male_crew.append(0)\n",
    "        num_female_crew.append(0)\n",
    "        num_unspecified_crew.append(0)\n",
    "\n",
    "df[\"num_male_crew\"] = num_male_crew\n",
    "df[\"num_female_crew\"] = num_female_crew\n",
    "df[\"num_unspecified_crew\"] = num_unspecified_crew\n",
    "\n",
    "df[\"crew_ratio_male\"] = df[\"num_male_crew\"] / (df[\"num_male_crew\"] + df[\"num_female_crew\"] + df[\"num_unspecified_crew\"])\n",
    "df[\"crew_ratio_female\"] = df[\"num_female_crew\"] / (df[\"num_male_crew\"] + df[\"num_female_crew\"] + df[\"num_unspecified_crew\"])\n",
    "df[\"crew_ratio_unspecified\"] = df[\"num_unspecified_crew\"] / (df[\"num_male_crew\"] + df[\"num_female_crew\"] + df[\"num_unspecified_crew\"])\n",
    "\n",
    "#move below here \n"
   ]
  },
  {
   "cell_type": "code",
   "execution_count": 51,
   "metadata": {},
   "outputs": [],
   "source": [
    "members = test[\"cast\"]\n",
    "\n",
    "num_cast = []\n",
    "\n",
    "for i in members:\n",
    "    if isinstance(i, str):\n",
    "        number = sum(1 for c in i if c == \"{\")\n",
    "        num_cast.append(number)\n",
    "    else:\n",
    "        num_cast.append(0)\n",
    "\n",
    "test[\"num_cast\"] = num_cast"
   ]
  },
  {
   "cell_type": "code",
   "execution_count": 52,
   "metadata": {},
   "outputs": [],
   "source": [
    "members = test[\"crew\"]\n",
    "\n",
    "num_cast = []\n",
    "\n",
    "for i in members:\n",
    "    if isinstance(i, str):\n",
    "        number = sum(1 for c in i if c == \"{\")\n",
    "        num_cast.append(number)\n",
    "    else:\n",
    "        num_cast.append(0)\n",
    "\n",
    "test[\"num_crew\"] = num_cast"
   ]
  },
  {
   "cell_type": "code",
   "execution_count": 53,
   "metadata": {},
   "outputs": [],
   "source": [
    "num_male_cast = []\n",
    "num_female_cast = []\n",
    "num_unspecified_cast = []\n",
    "\n",
    "substring_male = \" 'gender': 2\"\n",
    "substring_female = \" 'gender': 1\"\n",
    "substring_unspecified = \" 'gender': 0\"\n",
    "\n",
    "for i in members:\n",
    "    if isinstance(i, list):\n",
    "        males = i.count(substring_male)\n",
    "        num_male_cast.append(males)\n",
    "    \n",
    "        females = i.count(substring_female)\n",
    "        num_female_cast.append(females)\n",
    "    \n",
    "        unspecified = i.count(substring_unspecified)\n",
    "        num_unspecified_cast.append(unspecified)\n",
    "    else:\n",
    "        num_male_cast.append(0)\n",
    "        num_female_cast.append(0)\n",
    "        num_unspecified_cast.append(0)\n",
    "\n",
    "test[\"num_male_cast\"] = num_male_cast\n",
    "test[\"num_female_cast\"] = num_female_cast\n",
    "test[\"num_unspecified_cast\"] = num_unspecified_cast\n",
    "\n",
    "test[\"cast_ratio_male\"] = test[\"num_male_cast\"] / (test[\"num_male_cast\"] + test[\"num_female_cast\"] + test[\"num_unspecified_cast\"])\n",
    "test[\"cast_ratio_female\"] = test[\"num_female_cast\"] / (test[\"num_male_cast\"] + test[\"num_female_cast\"] + test[\"num_unspecified_cast\"])\n",
    "test[\"cast_ratio_unspecified\"] = test[\"num_unspecified_cast\"] / (test[\"num_male_cast\"] + test[\"num_female_cast\"] + test[\"num_unspecified_cast\"])"
   ]
  },
  {
   "cell_type": "code",
   "execution_count": 54,
   "metadata": {},
   "outputs": [
    {
     "name": "stdout",
     "output_type": "stream",
     "text": [
      "<class 'pandas.core.frame.DataFrame'>\n",
      "RangeIndex: 3000 entries, 0 to 2999\n",
      "Data columns (total 44 columns):\n",
      " #   Column                     Non-Null Count  Dtype  \n",
      "---  ------                     --------------  -----  \n",
      " 0   id                         3000 non-null   int64  \n",
      " 1   budget                     3000 non-null   int64  \n",
      " 2   genres                     3000 non-null   object \n",
      " 3   imdb_id                    3000 non-null   object \n",
      " 4   original_language          3000 non-null   int32  \n",
      " 5   original_title             3000 non-null   object \n",
      " 6   popularity                 3000 non-null   float64\n",
      " 7   production_companies       3000 non-null   object \n",
      " 8   production_countries       3000 non-null   object \n",
      " 9   runtime                    3000 non-null   float64\n",
      " 10  spoken_languages           3000 non-null   object \n",
      " 11  status                     3000 non-null   int32  \n",
      " 12  title                      3000 non-null   object \n",
      " 13  cast                       3000 non-null   object \n",
      " 14  crew                       3000 non-null   object \n",
      " 15  revenue                    3000 non-null   float64\n",
      " 16  year                       3000 non-null   int64  \n",
      " 17  isbelongs_to_collectionNA  3000 non-null   int64  \n",
      " 18  isTaglineNA                3000 non-null   int64  \n",
      " 19  budget_year_ratio          3000 non-null   float64\n",
      " 20  has_overview               3000 non-null   int32  \n",
      " 21  overview_len               3000 non-null   int64  \n",
      " 22  budget_runtime             3000 non-null   float64\n",
      " 23  poularity_year             3000 non-null   float64\n",
      " 24  budget_popularity          3000 non-null   float64\n",
      " 25  budget_year                3000 non-null   float64\n",
      " 26  runtime_year               3000 non-null   float64\n",
      " 27  release_month              3000 non-null   int64  \n",
      " 28  release_day                3000 non-null   int64  \n",
      " 29  release_dayofweek          3000 non-null   int64  \n",
      " 30  num_cast                   3000 non-null   int64  \n",
      " 31  num_crew                   3000 non-null   int64  \n",
      " 32  num_male_cast              3000 non-null   int64  \n",
      " 33  num_female_cast            3000 non-null   int64  \n",
      " 34  num_unspecified_cast       3000 non-null   int64  \n",
      " 35  cast_ratio_male            2984 non-null   float64\n",
      " 36  cast_ratio_female          2984 non-null   float64\n",
      " 37  cast_ratio_unspecified     2984 non-null   float64\n",
      " 38  num_male_crew              3000 non-null   int64  \n",
      " 39  num_female_crew            3000 non-null   int64  \n",
      " 40  num_unspecified_crew       3000 non-null   int64  \n",
      " 41  crew_ratio_male            0 non-null      float64\n",
      " 42  crew_ratio_female          0 non-null      float64\n",
      " 43  crew_ratio_unspecified     0 non-null      float64\n",
      "dtypes: float64(15), int32(3), int64(17), object(9)\n",
      "memory usage: 996.2+ KB\n"
     ]
    }
   ],
   "source": [
    "df.info()"
   ]
  },
  {
   "cell_type": "code",
   "execution_count": 55,
   "metadata": {},
   "outputs": [],
   "source": [
    "crew = test[\"crew\"]\n",
    "\n",
    "num_male_crew = []\n",
    "num_female_crew = []\n",
    "num_unspecified_crew = []\n",
    "\n",
    "substring_male = \"'gender\\': 2\"\n",
    "substring_female = \"'gender\\': 1\"\n",
    "substring_unspecified = \"'gender\\': 0\"\n",
    "\n",
    "for i in crew:\n",
    "    if isinstance(i, list):\n",
    "        string = str(i)\n",
    "        males = string.count(substring_male)\n",
    "        num_male_crew.append(males)\n",
    "    \n",
    "        females = string.count(substring_female)\n",
    "        num_female_crew.append(females)\n",
    "    \n",
    "        unspecified = string.count(substring_unspecified)\n",
    "        num_unspecified_crew.append(unspecified)\n",
    "    else:\n",
    "        num_male_crew.append(0)\n",
    "        num_female_crew.append(0)\n",
    "        num_unspecified_crew.append(0)\n",
    "\n",
    "test[\"num_male_crew\"] = num_male_crew\n",
    "test[\"num_female_crew\"] = num_female_crew\n",
    "test[\"num_unspecified_crew\"] = num_unspecified_crew\n",
    "\n",
    "test[\"crew_ratio_male\"] = test[\"num_male_crew\"] / (test[\"num_male_crew\"] + test[\"num_female_crew\"] + test[\"num_unspecified_crew\"])\n",
    "test[\"crew_ratio_female\"] = test[\"num_female_crew\"] / (test[\"num_male_crew\"] + test[\"num_female_crew\"] + test[\"num_unspecified_crew\"])\n",
    "test[\"crew_ratio_unspecified\"] = test[\"num_unspecified_crew\"] / (test[\"num_male_crew\"] + test[\"num_female_crew\"] + test[\"num_unspecified_crew\"])"
   ]
  },
  {
   "cell_type": "code",
   "execution_count": 60,
   "metadata": {},
   "outputs": [],
   "source": [
    "# Genre \n",
    "\n",
    "genres = df[\"genres\"]\n",
    "\n",
    "first = []\n",
    "second = []\n",
    "third = []\n",
    "fourth = []\n",
    "fifth = []\n",
    "sixth = []\n",
    "seventh = []\n",
    "\n",
    "for string in genres:\n",
    "    if isinstance(string, str):\n",
    "        splits = string.split(\"'\")\n",
    "        genre1 = splits[5]\n",
    "        first.append(genre1)\n",
    "        multiples1 = splits[7:]\n",
    "        if not multiples1:\n",
    "            second.append('NA')\n",
    "        else:\n",
    "            genre2 = multiples1[4]\n",
    "            second.append(genre2)\n",
    "        multiples2 = multiples1[7:]\n",
    "        if not multiples2:\n",
    "            third.append('NA')\n",
    "        else:\n",
    "            genre3 = multiples2[3]\n",
    "            third.append(genre3)\n",
    "        multiples3 = multiples2[6:]\n",
    "        if not multiples3:\n",
    "            fourth.append('NA')\n",
    "        else:\n",
    "            genre4 = multiples3[3]\n",
    "            fourth.append(genre4)\n",
    "        multiples4 = multiples3[5:]\n",
    "        if not multiples4:\n",
    "            fifth.append('NA')\n",
    "        else:\n",
    "            genre5 = multiples4[4]\n",
    "            fifth.append(genre5)\n",
    "        multiples5 = multiples4[6:]\n",
    "        if not multiples5:\n",
    "            sixth.append('NA')\n",
    "        else:\n",
    "            genre6 = multiples5[4]\n",
    "            sixth.append(genre6)\n",
    "        multiples6 = multiples5[6:]\n",
    "        if not multiples6:\n",
    "            seventh.append('NA')\n",
    "        else:\n",
    "            genre7 = multiples6[4]\n",
    "            seventh.append(genre7)\n",
    "    else:\n",
    "        first.append('NA')\n",
    "        second.append('NA')\n",
    "        third.append('NA')\n",
    "        fourth.append('NA')\n",
    "        fifth.append('NA')\n",
    "        sixth.append('NA')\n",
    "        seventh.append('NA')\n",
    "\n",
    "genres_list = list(zip(first, second, third, fourth, fifth, sixth, seventh))\n",
    "df[\"genres_list\"] = genres_list\n"
   ]
  },
  {
   "cell_type": "code",
   "execution_count": 61,
   "metadata": {},
   "outputs": [],
   "source": [
    "\n",
    "genresInMovie = df[\"genres_list\"]\n",
    "\n",
    "action = []\n",
    "adventure = []\n",
    "animation = []\n",
    "comedy = []\n",
    "crime = []\n",
    "documentary = []\n",
    "drama = []\n",
    "family = []\n",
    "fantasy = []\n",
    "foreign = []\n",
    "horror = []\n",
    "music = []\n",
    "mystery = []\n",
    "romance = []\n",
    "scifi = []\n",
    "thriller = []\n",
    "\n",
    "for movie in genresInMovie:\n",
    "    movie = list(movie)\n",
    "    \n",
    "    isAction = 0\n",
    "    isAdventure = 0\n",
    "    isAnimation = 0\n",
    "    isComedy = 0\n",
    "    isCrime = 0\n",
    "    isDocumentary = 0\n",
    "    isDrama = 0\n",
    "    isFamily = 0\n",
    "    isFantasy = 0\n",
    "    isForeign = 0\n",
    "    isHorror = 0\n",
    "    isMusic = 0\n",
    "    isMystery = 0\n",
    "    isRomance = 0\n",
    "    isSciFi = 0\n",
    "    isThriller = 0\n",
    "    \n",
    "    for genre in movie:\n",
    "        if genre == \"Action\":\n",
    "            isAction = 1\n",
    "        if genre == \"Adventure\":\n",
    "            isAdventure = 1\n",
    "        if genre == \"Animation\":\n",
    "            isAnimation = 1\n",
    "        if genre == \"Comedy\":\n",
    "            isComedy = 1\n",
    "        if genre == \"Crime\":\n",
    "            isCrime = 1\n",
    "        if genre == \"Documentary\":\n",
    "            isDocumentary = 1\n",
    "        if genre == \"Drama\":\n",
    "            isDrama = 1\n",
    "        if genre == \"Family\":\n",
    "            isFamily = 1\n",
    "        if genre == \"Fantasy\":\n",
    "            isFantasy = 1\n",
    "        if genre == \"Foreign\":\n",
    "            isForeign = 1\n",
    "        if genre == \"Horror\":\n",
    "            isHorror = 1\n",
    "        if genre == \"Music\":\n",
    "            isMusic = 1\n",
    "        if genre == \"Mystery\":\n",
    "            isMystery = 1\n",
    "        if genre == \"Romance\":\n",
    "            isRomance = 1\n",
    "        if genre == \"Science Fiction\":\n",
    "            isSciFi = 1\n",
    "        if genre == \"Thriller\":\n",
    "            isThriller = 1\n",
    "            \n",
    "    action.append(isAction)\n",
    "    adventure.append(isAdventure)\n",
    "    animation.append(isAnimation)\n",
    "    comedy.append(isComedy)\n",
    "    crime.append(isCrime)\n",
    "    documentary.append(isDocumentary)\n",
    "    drama.append(isDrama)\n",
    "    family.append(isFamily)\n",
    "    fantasy.append(isFantasy)\n",
    "    foreign.append(isForeign)\n",
    "    horror.append(isHorror)\n",
    "    music.append(isMusic)\n",
    "    mystery.append(isMystery)\n",
    "    romance.append(isRomance)\n",
    "    scifi.append(isSciFi)\n",
    "    thriller.append(isThriller)\n",
    "    \n",
    "df[\"isAction\"] = action\n",
    "df[\"isAdventure\"] = adventure\n",
    "df[\"isAnimation\"] = animation\n",
    "df[\"isComedy\"] = comedy\n",
    "df[\"isCrime\"] = crime\n",
    "df[\"isDocumentary\"] = documentary\n",
    "df[\"isDrama\"] = drama\n",
    "df[\"isFamily\"] = family\n",
    "df[\"isFantasy\"] = fantasy\n",
    "df[\"isForeign\"] = foreign\n",
    "df[\"isHorror\"] = horror\n",
    "df[\"isMusic\"] = music\n",
    "df[\"isMystery\"] = mystery\n",
    "df[\"isRomance\"] = romance\n",
    "df[\"isSciFi\"] = scifi\n",
    "df[\"isThriller\"] = thriller\n"
   ]
  },
  {
   "cell_type": "code",
   "execution_count": 62,
   "metadata": {},
   "outputs": [],
   "source": [
    "genres = test[\"genres\"]\n",
    "\n",
    "first = []\n",
    "second = []\n",
    "third = []\n",
    "fourth = []\n",
    "fifth = []\n",
    "sixth = []\n",
    "seventh = []\n",
    "\n",
    "for string in genres:\n",
    "    if isinstance(string, str):\n",
    "        splits = string.split(\"'\")\n",
    "        genre1 = splits[5]\n",
    "        first.append(genre1)\n",
    "        multiples1 = splits[7:]\n",
    "        if not multiples1:\n",
    "            second.append('NA')\n",
    "        else:\n",
    "            genre2 = multiples1[4]\n",
    "            second.append(genre2)\n",
    "        multiples2 = multiples1[7:]\n",
    "        if not multiples2:\n",
    "            third.append('NA')\n",
    "        else:\n",
    "            genre3 = multiples2[3]\n",
    "            third.append(genre3)\n",
    "        multiples3 = multiples2[6:]\n",
    "        if not multiples3:\n",
    "            fourth.append('NA')\n",
    "        else:\n",
    "            genre4 = multiples3[3]\n",
    "            fourth.append(genre4)\n",
    "        multiples4 = multiples3[5:]\n",
    "        if not multiples4:\n",
    "            fifth.append('NA')\n",
    "        else:\n",
    "            genre5 = multiples4[4]\n",
    "            fifth.append(genre5)\n",
    "        multiples5 = multiples4[6:]\n",
    "        if not multiples5:\n",
    "            sixth.append('NA')\n",
    "        else:\n",
    "            genre6 = multiples5[4]\n",
    "            sixth.append(genre6)\n",
    "        multiples6 = multiples5[6:]\n",
    "        if not multiples6:\n",
    "            seventh.append('NA')\n",
    "        else:\n",
    "            genre7 = multiples6[4]\n",
    "            seventh.append(genre7)\n",
    "    else:\n",
    "        first.append('NA')\n",
    "        second.append('NA')\n",
    "        third.append('NA')\n",
    "        fourth.append('NA')\n",
    "        fifth.append('NA')\n",
    "        sixth.append('NA')\n",
    "        seventh.append('NA')\n",
    "\n",
    "genres_list = list(zip(first, second, third, fourth, fifth, sixth, seventh))\n",
    "test[\"genres_list\"] = genres_list\n"
   ]
  },
  {
   "cell_type": "code",
   "execution_count": 63,
   "metadata": {},
   "outputs": [],
   "source": [
    "genresInMovie = test[\"genres_list\"]\n",
    "\n",
    "action = []\n",
    "adventure = []\n",
    "animation = []\n",
    "comedy = []\n",
    "crime = []\n",
    "documentary = []\n",
    "drama = []\n",
    "family = []\n",
    "fantasy = []\n",
    "foreign = []\n",
    "horror = []\n",
    "music = []\n",
    "mystery = []\n",
    "romance = []\n",
    "scifi = []\n",
    "thriller = []\n",
    "\n",
    "for movie in genresInMovie:\n",
    "    movie = list(movie)\n",
    "    \n",
    "    isAction = 0\n",
    "    isAdventure = 0\n",
    "    isAnimation = 0\n",
    "    isComedy = 0\n",
    "    isCrime = 0\n",
    "    isDocumentary = 0\n",
    "    isDrama = 0\n",
    "    isFamily = 0\n",
    "    isFantasy = 0\n",
    "    isForeign = 0\n",
    "    isHorror = 0\n",
    "    isMusic = 0\n",
    "    isMystery = 0\n",
    "    isRomance = 0\n",
    "    isSciFi = 0\n",
    "    isThriller = 0\n",
    "    \n",
    "    for genre in movie:\n",
    "        if genre == \"Action\":\n",
    "            isAction = 1\n",
    "        if genre == \"Adventure\":\n",
    "            isAdventure = 1\n",
    "        if genre == \"Animation\":\n",
    "            isAnimation = 1\n",
    "        if genre == \"Comedy\":\n",
    "            isComedy = 1\n",
    "        if genre == \"Crime\":\n",
    "            isCrime = 1\n",
    "        if genre == \"Documentary\":\n",
    "            isDocumentary = 1\n",
    "        if genre == \"Drama\":\n",
    "            isDrama = 1\n",
    "        if genre == \"Family\":\n",
    "            isFamily = 1\n",
    "        if genre == \"Fantasy\":\n",
    "            isFantasy = 1\n",
    "        if genre == \"Foreign\":\n",
    "            isForeign = 1\n",
    "        if genre == \"Horror\":\n",
    "            isHorror = 1\n",
    "        if genre == \"Music\":\n",
    "            isMusic = 1\n",
    "        if genre == \"Mystery\":\n",
    "            isMystery = 1\n",
    "        if genre == \"Romance\":\n",
    "            isRomance = 1\n",
    "        if genre == \"Science Fiction\":\n",
    "            isSciFi = 1\n",
    "        if genre == \"Thriller\":\n",
    "            isThriller = 1\n",
    "            \n",
    "    action.append(isAction)\n",
    "    adventure.append(isAdventure)\n",
    "    animation.append(isAnimation)\n",
    "    comedy.append(isComedy)\n",
    "    crime.append(isCrime)\n",
    "    documentary.append(isDocumentary)\n",
    "    drama.append(isDrama)\n",
    "    family.append(isFamily)\n",
    "    fantasy.append(isFantasy)\n",
    "    foreign.append(isForeign)\n",
    "    horror.append(isHorror)\n",
    "    music.append(isMusic)\n",
    "    mystery.append(isMystery)\n",
    "    romance.append(isRomance)\n",
    "    scifi.append(isSciFi)\n",
    "    thriller.append(isThriller)\n",
    "    \n",
    "test[\"isAction\"] = action\n",
    "test[\"isAdventure\"] = adventure\n",
    "test[\"isAnimation\"] = animation\n",
    "test[\"isComedy\"] = comedy\n",
    "test[\"isCrime\"] = crime\n",
    "test[\"isDocumentary\"] = documentary\n",
    "test[\"isDrama\"] = drama\n",
    "test[\"isFamily\"] = family\n",
    "test[\"isFantasy\"] = fantasy\n",
    "test[\"isForeign\"] = foreign\n",
    "test[\"isHorror\"] = horror\n",
    "test[\"isMusic\"] = music\n",
    "test[\"isMystery\"] = mystery\n",
    "test[\"isRomance\"] = romance\n",
    "test[\"isSciFi\"] = scifi\n",
    "test[\"isThriller\"] = thriller"
   ]
  },
  {
   "cell_type": "code",
   "execution_count": 64,
   "metadata": {
    "scrolled": true
   },
   "outputs": [
    {
     "name": "stdout",
     "output_type": "stream",
     "text": [
      "<class 'pandas.core.frame.DataFrame'>\n",
      "RangeIndex: 3000 entries, 0 to 2999\n",
      "Data columns (total 61 columns):\n",
      " #   Column                     Non-Null Count  Dtype  \n",
      "---  ------                     --------------  -----  \n",
      " 0   id                         3000 non-null   int64  \n",
      " 1   budget                     3000 non-null   int64  \n",
      " 2   genres                     3000 non-null   object \n",
      " 3   imdb_id                    3000 non-null   object \n",
      " 4   original_language          3000 non-null   int32  \n",
      " 5   original_title             3000 non-null   object \n",
      " 6   popularity                 3000 non-null   float64\n",
      " 7   production_companies       3000 non-null   object \n",
      " 8   production_countries       3000 non-null   object \n",
      " 9   runtime                    3000 non-null   float64\n",
      " 10  spoken_languages           3000 non-null   object \n",
      " 11  status                     3000 non-null   int32  \n",
      " 12  title                      3000 non-null   object \n",
      " 13  cast                       3000 non-null   object \n",
      " 14  crew                       3000 non-null   object \n",
      " 15  revenue                    3000 non-null   float64\n",
      " 16  year                       3000 non-null   int64  \n",
      " 17  isbelongs_to_collectionNA  3000 non-null   int64  \n",
      " 18  isTaglineNA                3000 non-null   int64  \n",
      " 19  budget_year_ratio          3000 non-null   float64\n",
      " 20  has_overview               3000 non-null   int32  \n",
      " 21  overview_len               3000 non-null   int64  \n",
      " 22  budget_runtime             3000 non-null   float64\n",
      " 23  poularity_year             3000 non-null   float64\n",
      " 24  budget_popularity          3000 non-null   float64\n",
      " 25  budget_year                3000 non-null   float64\n",
      " 26  runtime_year               3000 non-null   float64\n",
      " 27  release_month              3000 non-null   int64  \n",
      " 28  release_day                3000 non-null   int64  \n",
      " 29  release_dayofweek          3000 non-null   int64  \n",
      " 30  num_cast                   3000 non-null   int64  \n",
      " 31  num_crew                   3000 non-null   int64  \n",
      " 32  num_male_cast              3000 non-null   int64  \n",
      " 33  num_female_cast            3000 non-null   int64  \n",
      " 34  num_unspecified_cast       3000 non-null   int64  \n",
      " 35  cast_ratio_male            2984 non-null   float64\n",
      " 36  cast_ratio_female          2984 non-null   float64\n",
      " 37  cast_ratio_unspecified     2984 non-null   float64\n",
      " 38  num_male_crew              3000 non-null   int64  \n",
      " 39  num_female_crew            3000 non-null   int64  \n",
      " 40  num_unspecified_crew       3000 non-null   int64  \n",
      " 41  crew_ratio_male            0 non-null      float64\n",
      " 42  crew_ratio_female          0 non-null      float64\n",
      " 43  crew_ratio_unspecified     0 non-null      float64\n",
      " 44  genres_list                3000 non-null   object \n",
      " 45  isAction                   3000 non-null   int64  \n",
      " 46  isAdventure                3000 non-null   int64  \n",
      " 47  isAnimation                3000 non-null   int64  \n",
      " 48  isComedy                   3000 non-null   int64  \n",
      " 49  isCrime                    3000 non-null   int64  \n",
      " 50  isDocumentary              3000 non-null   int64  \n",
      " 51  isDrama                    3000 non-null   int64  \n",
      " 52  isFamily                   3000 non-null   int64  \n",
      " 53  isFantasy                  3000 non-null   int64  \n",
      " 54  isForeign                  3000 non-null   int64  \n",
      " 55  isHorror                   3000 non-null   int64  \n",
      " 56  isMusic                    3000 non-null   int64  \n",
      " 57  isMystery                  3000 non-null   int64  \n",
      " 58  isRomance                  3000 non-null   int64  \n",
      " 59  isSciFi                    3000 non-null   int64  \n",
      " 60  isThriller                 3000 non-null   int64  \n",
      "dtypes: float64(15), int32(3), int64(33), object(10)\n",
      "memory usage: 1.4+ MB\n"
     ]
    }
   ],
   "source": [
    "df.info()"
   ]
  },
  {
   "cell_type": "code",
   "execution_count": null,
   "metadata": {},
   "outputs": [],
   "source": [
    "'''\n",
    "Tried these features not much difference \n",
    "df['log_popularity'] = np.log1p(df['popularity'])\n",
    "test['log_popularity'] = np.log1p(test['popularity'])\n",
    "df['log_budget'] = np.log1p(df['budget'])\n",
    "\n",
    "df['ratio_budget_runtime'] = (df['log_budget'] / df['runtime'])\n",
    "df['ratio_budget_popularity'] = df['log_budget'] / df['log_popularity']\n",
    "df['ratio_budget_year'] = df['log_budget'] / df['release_year'] #\n",
    "df['budget_to_mean_year'] = df['log_budget'] / df.groupby('release_year')['log_budget'].transform('mean')\n",
    "df['ratio_popularity_year'] = df['log_popularity'] / df['release_year']\n",
    "df['popularity_to_mean_year'] = df['log_popularity'] / df.groupby('release_year')['log_popularity'].transform('mean')\n",
    "\n",
    "df['ratio_budget_year'].fillna(df['ratio_budget_year'].mean(),inplace=True)\n",
    "df['budget_to_mean_year'].fillna(df['budget_to_mean_year'].mean(),inplace=True) #fill na with test vals?\n",
    "df['ratio_budget_runtime'].fillna(df['ratio_budget_runtime'].mean(),inplace=True) #fill na with test vals?\n",
    "\n",
    "le = LabelEncoder()\n",
    "df['prodcomp']=le.fit_transform(df['production_companies'])\n",
    "test['prodcomp']=le.fit_transform(test['production_companies'])\n",
    "\n",
    "gender of cast feature might help\n",
    "'''"
   ]
  },
  {
   "cell_type": "code",
   "execution_count": null,
   "metadata": {},
   "outputs": [],
   "source": [
    "df.head()"
   ]
  },
  {
   "cell_type": "code",
   "execution_count": null,
   "metadata": {},
   "outputs": [],
   "source": [
    "df.info()"
   ]
  },
  {
   "cell_type": "code",
   "execution_count": 142,
   "metadata": {},
   "outputs": [],
   "source": [
    "X = df[[\"popularity\", \"runtime\", \"budget\", \"isbelongs_to_collectionNA\", \"isTaglineNA\",\"budget_year_ratio\", \"year\",'budget_runtime', 'poularity_year', 'budget_popularity','budget_year','runtime_year', 'has_overview', 'overview_len', \"num_cast\", 'num_crew',\"isAction\", \"isComedy\", \"isCrime\", \"isDocumentary\", 'isDrama', \"isFamily\",\"isFantasy\", \"isForeign\", \"isHorror\", \"isMusic\", \"isMystery\",\"isRomance\", \"isSciFi\", \"isThriller\", 'release_month', 'release_day','release_dayofweek'  \n",
    "        , \"status\", 'original_language',\"crew_ratio_male\", 'num_female_cast', 'num_male_cast', 'num_female_crew', 'num_male_crew']]\n",
    "# \"isAction\", \"isComedy\", \"isCrime\", \"isDocumentary\", 'isDrama', \"isFamily\",\"isFantasy\", \"isForeign\", \"isHorror\", \"isMusic\", \"isMystery\",\"isRomance\", \"isSciFi\", \"isThriller\"\n",
    "#X random forest model for some reason cannot handle the num_female_cast, num_male_cast etc variables, you will get an error if\n",
    "# you have those features in the X"
   ]
  },
  {
   "cell_type": "code",
   "execution_count": 139,
   "metadata": {},
   "outputs": [],
   "source": [
    "X_train, X_test, y_train, y_test = train_test_split(X, y, test_size=0.2, random_state=42)"
   ]
  },
  {
   "cell_type": "code",
   "execution_count": null,
   "metadata": {},
   "outputs": [],
   "source": [
    "#xgbr.fit(X_train, y_train)"
   ]
  },
  {
   "cell_type": "code",
   "execution_count": 140,
   "metadata": {},
   "outputs": [
    {
     "name": "stderr",
     "output_type": "stream",
     "text": [
      "C:\\Users\\Ben\\anaconda3\\envs\\myenv\\lib\\site-packages\\ipykernel_launcher.py:3: DataConversionWarning: A column-vector y was passed when a 1d array was expected. Please change the shape of y to (n_samples,), for example using ravel().\n",
      "  This is separate from the ipykernel package so we can avoid doing imports until\n"
     ]
    },
    {
     "data": {
      "text/plain": [
       "RandomForestRegressor(min_samples_leaf=5, n_estimators=60, n_jobs=-1,\n",
       "                      oob_score=True, random_state=42)"
      ]
     },
     "execution_count": 140,
     "metadata": {},
     "output_type": "execute_result"
    }
   ],
   "source": [
    "m = RandomForestRegressor(n_estimators=60, random_state = 42, min_samples_leaf = 5,\n",
    "                          n_jobs=-1, oob_score=True)\n",
    "m.fit(X_train, y_train)"
   ]
  },
  {
   "cell_type": "code",
   "execution_count": 71,
   "metadata": {},
   "outputs": [],
   "source": [
    "def rmse(y_pred, y_true):\n",
    "    return np.sqrt(mean_squared_error(y_pred, y_true))\n",
    "\n",
    "def print_rf_score(model):\n",
    "    print(f'Train R2:   {model.score(X_train, y_train)}')\n",
    "    print(f'Test R2:   {model.score(X_test, y_test)}')\n",
    "    print(f'Train RMSE: {rmse(model.predict(X_train), y_train)}')\n",
    "    print(f'Test RMSE: {rmse(model.predict(X_test), y_test)}')"
   ]
  },
  {
   "cell_type": "code",
   "execution_count": null,
   "metadata": {},
   "outputs": [],
   "source": []
  },
  {
   "cell_type": "code",
   "execution_count": 141,
   "metadata": {},
   "outputs": [
    {
     "name": "stdout",
     "output_type": "stream",
     "text": [
      "Train R2:   0.7710002981847681\n",
      "Test R2:   0.5422207268164349\n",
      "Train RMSE: 1.4729909716043725\n",
      "Test RMSE: 2.0198803099460236\n"
     ]
    }
   ],
   "source": [
    "print_rf_score(m)"
   ]
  },
  {
   "cell_type": "code",
   "execution_count": null,
   "metadata": {},
   "outputs": [],
   "source": [
    "from sklearn.model_selection import GridSearchCV\n",
    "\n",
    "param_grid = { \n",
    "    'n_estimators': [50,60,70,80,90,100,110,120,130,140,150,200,400, 500],\n",
    "    'max_depth' : [5,6,7,8,9,10,11,15,20],\n",
    "    'min_samples_leaf' : [4,5,6,7,8,9,10,15]\n",
    "}\n",
    "CV_rfc = GridSearchCV(estimator=m, param_grid=param_grid, cv= 5, verbose = 2, scoring = 'neg_mean_squared_error')\n",
    "CV_rfc.fit(X_train, y_train)\n",
    "print(CV_rfc.best_estimator_)\n",
    "bestResults = pd.DataFrame(CV_rfc.cv_results_)\n"
   ]
  },
  {
   "cell_type": "code",
   "execution_count": null,
   "metadata": {},
   "outputs": [],
   "source": [
    "#best RandomForestRegressor(max_depth=20, min_samples_leaf=10, n_estimators=500,\n",
    "                     # n_jobs=-1, oob_score=True, random_state=42)"
   ]
  },
  {
   "cell_type": "code",
   "execution_count": null,
   "metadata": {},
   "outputs": [],
   "source": [
    "m2 = RandomForestRegressor(max_depth=20, min_samples_leaf=10, n_estimators=500,\n",
    "                      n_jobs=-1, oob_score=True, random_state=42)\n",
    "m2.fit(X_train, y_train)"
   ]
  },
  {
   "cell_type": "code",
   "execution_count": null,
   "metadata": {},
   "outputs": [],
   "source": [
    "print_rf_score(m2)"
   ]
  },
  {
   "cell_type": "code",
   "execution_count": 127,
   "metadata": {},
   "outputs": [
    {
     "name": "stdout",
     "output_type": "stream",
     "text": [
      "[11:29:38] WARNING: src/objective/regression_obj.cu:152: reg:linear is now deprecated in favor of reg:squarederror.\n"
     ]
    },
    {
     "data": {
      "text/plain": [
       "XGBRegressor()"
      ]
     },
     "execution_count": 127,
     "metadata": {},
     "output_type": "execute_result"
    }
   ],
   "source": [
    "xgb3 = XGBRegressor(\n",
    "        n_estimators = 10000, \n",
    "        learning_rate = 0.001,\n",
    "        max_depth = 6, \n",
    "        subsample = 0.3, #.3\n",
    "        colsample_bytree = 0.6,\n",
    "        eta = .1,\n",
    "        )\n",
    "xgb3.fit(X_train, y_train)"
   ]
  },
  {
   "cell_type": "code",
   "execution_count": 128,
   "metadata": {},
   "outputs": [
    {
     "name": "stdout",
     "output_type": "stream",
     "text": [
      "Train R2:   0.6669720531158481\n",
      "Test R2:   0.5223153652874217\n",
      "Train RMSE: 1.7763272020769652\n",
      "Test RMSE: 2.06332770181094\n"
     ]
    }
   ],
   "source": [
    "print_rf_score(xgb3)"
   ]
  },
  {
   "cell_type": "code",
   "execution_count": 89,
   "metadata": {},
   "outputs": [
    {
     "name": "stdout",
     "output_type": "stream",
     "text": [
      "[11:21:29] WARNING: src/objective/regression_obj.cu:152: reg:linear is now deprecated in favor of reg:squarederror.\n"
     ]
    },
    {
     "data": {
      "text/plain": [
       "XGBRegressor(colsample_bytree=0.7, eta=0.01, eval_metric='rmse', max_depth=6,\n",
       "             min_child_weight=3, n_estimators=65, subsample=0.8)"
      ]
     },
     "execution_count": 89,
     "metadata": {},
     "output_type": "execute_result"
    }
   ],
   "source": [
    "xgbexp = XGBRegressor(objective = 'reg:linear',\n",
    "                                  eta = 0.01,\n",
    "                                  max_depth = 6,\n",
    "                                  min_child_weight = 3,\n",
    "                                  subsample = 0.8,\n",
    "                                  colsample_bytree = 0.7,\n",
    "                                  eval_metric = 'rmse',\n",
    "                                  n_estimators = 65)\n",
    "xgbexp.fit(X_train, y_train)"
   ]
  },
  {
   "cell_type": "code",
   "execution_count": 90,
   "metadata": {},
   "outputs": [
    {
     "name": "stdout",
     "output_type": "stream",
     "text": [
      "Train R2:   0.84042120788066\n",
      "Test R2:   0.5388474805448226\n",
      "Train RMSE: 1.2296180034534547\n",
      "Test RMSE: 2.027308614773055\n"
     ]
    }
   ],
   "source": [
    "print_rf_score(xgbexp)"
   ]
  },
  {
   "cell_type": "code",
   "execution_count": null,
   "metadata": {},
   "outputs": [],
   "source": [
    "'''\n",
    "try this \n",
    "\n",
    "(objective = 'reg:linear',\n",
    "                                  eta = 0.01,\n",
    "                                  max_depth = 6,\n",
    "                                  min_child_weight = 3,\n",
    "                                  subsample = 0.8,\n",
    "                                  colsample_bytree = 0.7,\n",
    "                                  eval_metric = 'rmse',\n",
    "                                  seed = 1,\n",
    "                                  n_estimators = 2800)\n",
    "'''"
   ]
  },
  {
   "cell_type": "code",
   "execution_count": null,
   "metadata": {},
   "outputs": [],
   "source": [
    "def algorithm_pipeline(X_train_data, X_test_data, y_train_data, y_test_data, \n",
    "                       model, param_grid, cv=10, scoring_fit='neg_mean_squared_error',\n",
    "                       do_probabilities = False):\n",
    "    gs = GridSearchCV(\n",
    "        estimator=model,\n",
    "        param_grid=param_grid, \n",
    "        cv=cv, \n",
    "        n_jobs=-1, \n",
    "        scoring=scoring_fit,\n",
    "        verbose=2\n",
    "    )\n",
    "    fitted_model = gs.fit(X_train_data, y_train_data)\n",
    "    \n",
    "    if do_probabilities:\n",
    "      pred = fitted_model.predict_proba(X_test_data)\n",
    "    else:\n",
    "      pred = fitted_model.predict(X_test_data)\n",
    "    \n",
    "    return fitted_model, pred"
   ]
  },
  {
   "cell_type": "code",
   "execution_count": null,
   "metadata": {},
   "outputs": [],
   "source": [
    "model = XGBRegressor()\n",
    "param_grid = {\n",
    "        'n_estimators': [10000],\n",
    "        'min_child_weight': [1, 5, 10],\n",
    "        #\"subsample\" : [.3, .6, 1.0],\n",
    "        'gamma': [0.5, 1, 1.5, 2],\n",
    "        \"eta\": [0.01, 0.1, 1],\n",
    "        #'colsample_bytree': [0.6, 0.8, 1.0],\n",
    "        'max_depth': [5,6,7]\n",
    "}\n",
    "\n",
    "model, pred = algorithm_pipeline(X_train, X_test, y_train, y_test, model, \n",
    "                                 param_grid, cv=5)\n",
    "\n",
    "# Root Mean Squared Error\n",
    "print(np.sqrt(-model.best_score_))\n",
    "print(model.best_params_)"
   ]
  },
  {
   "cell_type": "code",
   "execution_count": null,
   "metadata": {},
   "outputs": [],
   "source": [
    "# results 'eta': 0.01, 'gamma': 2, 'max_depth': 7, 'min_child_weight': 10, 'n_estimators': 10000"
   ]
  },
  {
   "cell_type": "code",
   "execution_count": 101,
   "metadata": {},
   "outputs": [],
   "source": [
    "xgb_full_train = XGBRegressor(objective = 'reg:squarederror',\n",
    "                                  eta = 0.01,\n",
    "                                  max_depth = 6,\n",
    "                                  min_child_weight = 3,\n",
    "                                  subsample = 0.8,\n",
    "                                  colsample_bytree = 0.7,\n",
    "                                  eval_metric = 'rmse',\n",
    "                                  seed = 1,\n",
    "                                  n_estimators = 2800)"
   ]
  },
  {
   "cell_type": "code",
   "execution_count": 102,
   "metadata": {},
   "outputs": [
    {
     "data": {
      "text/plain": [
       "XGBRegressor(colsample_bytree=0.7, eta=0.01, eval_metric='rmse', max_depth=6,\n",
       "             min_child_weight=3, n_estimators=2800,\n",
       "             objective='reg:squarederror', seed=1, subsample=0.8)"
      ]
     },
     "execution_count": 102,
     "metadata": {},
     "output_type": "execute_result"
    }
   ],
   "source": [
    "xgb_full_train.fit(X_train, y_train)"
   ]
  },
  {
   "cell_type": "code",
   "execution_count": 103,
   "metadata": {},
   "outputs": [
    {
     "name": "stdout",
     "output_type": "stream",
     "text": [
      "Train R2:   0.9999999631037635\n",
      "Test R2:   0.5206689593013087\n",
      "Train RMSE: 0.0005912534133853876\n",
      "Test RMSE: 2.066880414986628\n"
     ]
    }
   ],
   "source": [
    "print_rf_score(xgb_full_train)"
   ]
  },
  {
   "cell_type": "code",
   "execution_count": null,
   "metadata": {},
   "outputs": [],
   "source": [
    "\\"
   ]
  },
  {
   "cell_type": "code",
   "execution_count": null,
   "metadata": {},
   "outputs": [],
   "source": [
    "print_rf_score(xgb)"
   ]
  },
  {
   "cell_type": "code",
   "execution_count": 105,
   "metadata": {},
   "outputs": [],
   "source": [
    "predictdf= test[[\"popularity\", \"runtime\", \"budget\", \"isbelongs_to_collectionNA\", \"isTaglineNA\",\"budget_year_ratio\", \"year\",'budget_runtime', 'poularity_year', 'budget_popularity','budget_year','runtime_year', 'has_overview', 'overview_len', \"num_cast\", 'num_crew',\"isAction\", \"isComedy\", \"isCrime\", \"isDocumentary\", 'isDrama', \"isFamily\",\"isFantasy\", \"isForeign\", \"isHorror\", \"isMusic\", \"isMystery\",\"isRomance\", \"isSciFi\", \"isThriller\", 'release_month', 'release_day','release_dayofweek'  \n",
    "        , \"status\", 'original_language', \"crew_ratio_male\", 'num_female_cast', 'num_male_cast', 'num_female_crew', 'num_male_crew']]"
   ]
  },
  {
   "cell_type": "code",
   "execution_count": null,
   "metadata": {},
   "outputs": [],
   "source": []
  },
  {
   "cell_type": "code",
   "execution_count": 97,
   "metadata": {},
   "outputs": [],
   "source": [
    "# results 'eta': 0.01, 'gamma': 2, 'max_depth': 7, 'min_child_weight': 10, 'n_estimators': 10000\n",
    "xgb2 = XGBRegressor(\n",
    "        min_child_weight = 10,\n",
    "        max_depth = 7, \n",
    "        subsample = 0.3, #.3\n",
    "        colsample_bytree = 0.8,\n",
    "        gamma = 2,\n",
    "        n_estimators = 5000,\n",
    "        eta = 0.01)"
   ]
  },
  {
   "cell_type": "code",
   "execution_count": 99,
   "metadata": {},
   "outputs": [
    {
     "name": "stdout",
     "output_type": "stream",
     "text": [
      "[11:23:40] WARNING: src/objective/regression_obj.cu:152: reg:linear is now deprecated in favor of reg:squarederror.\n"
     ]
    },
    {
     "data": {
      "text/plain": [
       "XGBRegressor(colsample_bytree=0.8, eta=0.01, gamma=2, max_depth=7,\n",
       "             min_child_weight=10, n_estimators=5000, subsample=0.3)"
      ]
     },
     "execution_count": 99,
     "metadata": {},
     "output_type": "execute_result"
    }
   ],
   "source": [
    "xgb2.fit(X,y)"
   ]
  },
  {
   "cell_type": "code",
   "execution_count": null,
   "metadata": {},
   "outputs": [],
   "source": [
    "from sklearn.ensemble import GradientBoostingRegressor\n",
    "reg = GradientBoostingRegressor(n_estimators = 20, max_depth = 8, min_samples_leaf=5)\n",
    "reg.fit(X_train, y_train)"
   ]
  },
  {
   "cell_type": "code",
   "execution_count": null,
   "metadata": {},
   "outputs": [],
   "source": [
    "print_rf_score(reg)"
   ]
  },
  {
   "cell_type": "code",
   "execution_count": null,
   "metadata": {},
   "outputs": [],
   "source": [
    "xgb2.fit(X_train,y_train)"
   ]
  },
  {
   "cell_type": "code",
   "execution_count": 100,
   "metadata": {},
   "outputs": [
    {
     "name": "stdout",
     "output_type": "stream",
     "text": [
      "Train R2:   0.9845222617661307\n",
      "Test R2:   0.9841709331063097\n",
      "Train RMSE: 0.3829449751142106\n",
      "Test RMSE: 0.3755996943853204\n"
     ]
    }
   ],
   "source": [
    "print_rf_score(xgb2)"
   ]
  },
  {
   "cell_type": "code",
   "execution_count": null,
   "metadata": {},
   "outputs": [],
   "source": [
    "predictdf"
   ]
  },
  {
   "cell_type": "code",
   "execution_count": null,
   "metadata": {},
   "outputs": [],
   "source": [
    "predictarray = np.asarray(predictdf)"
   ]
  },
  {
   "cell_type": "code",
   "execution_count": null,
   "metadata": {},
   "outputs": [],
   "source": [
    "\n",
    "submission = m2.predict(predictdf)\n",
    "submission\n"
   ]
  },
  {
   "cell_type": "code",
   "execution_count": null,
   "metadata": {},
   "outputs": [],
   "source": [
    "submissionreg = reg.predict(predictdf)"
   ]
  },
  {
   "cell_type": "code",
   "execution_count": 129,
   "metadata": {},
   "outputs": [
    {
     "data": {
      "text/plain": [
       "array([13.361865, 12.876231, 13.779128, ..., 16.09991 , 13.097938,\n",
       "       12.501298], dtype=float32)"
      ]
     },
     "execution_count": 129,
     "metadata": {},
     "output_type": "execute_result"
    }
   ],
   "source": [
    "xgbsubmission = xgb3.predict(predictdf)\n",
    "xgbsubmission"
   ]
  },
  {
   "cell_type": "code",
   "execution_count": 130,
   "metadata": {},
   "outputs": [
    {
     "data": {
      "text/html": [
       "<div>\n",
       "<style scoped>\n",
       "    .dataframe tbody tr th:only-of-type {\n",
       "        vertical-align: middle;\n",
       "    }\n",
       "\n",
       "    .dataframe tbody tr th {\n",
       "        vertical-align: top;\n",
       "    }\n",
       "\n",
       "    .dataframe thead th {\n",
       "        text-align: right;\n",
       "    }\n",
       "</style>\n",
       "<table border=\"1\" class=\"dataframe\">\n",
       "  <thead>\n",
       "    <tr style=\"text-align: right;\">\n",
       "      <th></th>\n",
       "      <th>0</th>\n",
       "    </tr>\n",
       "  </thead>\n",
       "  <tbody>\n",
       "    <tr>\n",
       "      <th>0</th>\n",
       "      <td>13.361865</td>\n",
       "    </tr>\n",
       "    <tr>\n",
       "      <th>1</th>\n",
       "      <td>12.876231</td>\n",
       "    </tr>\n",
       "    <tr>\n",
       "      <th>2</th>\n",
       "      <td>13.779128</td>\n",
       "    </tr>\n",
       "    <tr>\n",
       "      <th>3</th>\n",
       "      <td>13.415666</td>\n",
       "    </tr>\n",
       "    <tr>\n",
       "      <th>4</th>\n",
       "      <td>12.808491</td>\n",
       "    </tr>\n",
       "    <tr>\n",
       "      <th>...</th>\n",
       "      <td>...</td>\n",
       "    </tr>\n",
       "    <tr>\n",
       "      <th>4393</th>\n",
       "      <td>15.738279</td>\n",
       "    </tr>\n",
       "    <tr>\n",
       "      <th>4394</th>\n",
       "      <td>15.608645</td>\n",
       "    </tr>\n",
       "    <tr>\n",
       "      <th>4395</th>\n",
       "      <td>16.099911</td>\n",
       "    </tr>\n",
       "    <tr>\n",
       "      <th>4396</th>\n",
       "      <td>13.097938</td>\n",
       "    </tr>\n",
       "    <tr>\n",
       "      <th>4397</th>\n",
       "      <td>12.501298</td>\n",
       "    </tr>\n",
       "  </tbody>\n",
       "</table>\n",
       "<p>4398 rows × 1 columns</p>\n",
       "</div>"
      ],
      "text/plain": [
       "              0\n",
       "0     13.361865\n",
       "1     12.876231\n",
       "2     13.779128\n",
       "3     13.415666\n",
       "4     12.808491\n",
       "...         ...\n",
       "4393  15.738279\n",
       "4394  15.608645\n",
       "4395  16.099911\n",
       "4396  13.097938\n",
       "4397  12.501298\n",
       "\n",
       "[4398 rows x 1 columns]"
      ]
     },
     "execution_count": 130,
     "metadata": {},
     "output_type": "execute_result"
    }
   ],
   "source": [
    "subdf = pd.DataFrame(xgbsubmission)\n",
    "subdf"
   ]
  },
  {
   "cell_type": "code",
   "execution_count": 131,
   "metadata": {},
   "outputs": [],
   "source": [
    "subdf[\"id\"] = test[\"id\"]\n",
    "subdf.columns = ['revenue', 'id']"
   ]
  },
  {
   "cell_type": "code",
   "execution_count": 132,
   "metadata": {},
   "outputs": [],
   "source": [
    "subdf = subdf[['id', 'revenue']]"
   ]
  },
  {
   "cell_type": "code",
   "execution_count": 133,
   "metadata": {},
   "outputs": [],
   "source": [
    "subdf['revenue'] = np.round(np.expm1(subdf[\"revenue\"]))"
   ]
  },
  {
   "cell_type": "code",
   "execution_count": 134,
   "metadata": {},
   "outputs": [
    {
     "data": {
      "text/html": [
       "<div>\n",
       "<style scoped>\n",
       "    .dataframe tbody tr th:only-of-type {\n",
       "        vertical-align: middle;\n",
       "    }\n",
       "\n",
       "    .dataframe tbody tr th {\n",
       "        vertical-align: top;\n",
       "    }\n",
       "\n",
       "    .dataframe thead th {\n",
       "        text-align: right;\n",
       "    }\n",
       "</style>\n",
       "<table border=\"1\" class=\"dataframe\">\n",
       "  <thead>\n",
       "    <tr style=\"text-align: right;\">\n",
       "      <th></th>\n",
       "      <th>id</th>\n",
       "      <th>revenue</th>\n",
       "    </tr>\n",
       "  </thead>\n",
       "  <tbody>\n",
       "    <tr>\n",
       "      <th>0</th>\n",
       "      <td>3001</td>\n",
       "      <td>635307.0</td>\n",
       "    </tr>\n",
       "    <tr>\n",
       "      <th>1</th>\n",
       "      <td>3002</td>\n",
       "      <td>390908.0</td>\n",
       "    </tr>\n",
       "    <tr>\n",
       "      <th>2</th>\n",
       "      <td>3003</td>\n",
       "      <td>964270.0</td>\n",
       "    </tr>\n",
       "    <tr>\n",
       "      <th>3</th>\n",
       "      <td>3004</td>\n",
       "      <td>670423.0</td>\n",
       "    </tr>\n",
       "    <tr>\n",
       "      <th>4</th>\n",
       "      <td>3005</td>\n",
       "      <td>365305.0</td>\n",
       "    </tr>\n",
       "    <tr>\n",
       "      <th>...</th>\n",
       "      <td>...</td>\n",
       "      <td>...</td>\n",
       "    </tr>\n",
       "    <tr>\n",
       "      <th>4393</th>\n",
       "      <td>7394</td>\n",
       "      <td>6839870.0</td>\n",
       "    </tr>\n",
       "    <tr>\n",
       "      <th>4394</th>\n",
       "      <td>7395</td>\n",
       "      <td>6008257.0</td>\n",
       "    </tr>\n",
       "    <tr>\n",
       "      <th>4395</th>\n",
       "      <td>7396</td>\n",
       "      <td>9819793.0</td>\n",
       "    </tr>\n",
       "    <tr>\n",
       "      <th>4396</th>\n",
       "      <td>7397</td>\n",
       "      <td>487934.0</td>\n",
       "    </tr>\n",
       "    <tr>\n",
       "      <th>4397</th>\n",
       "      <td>7398</td>\n",
       "      <td>268685.0</td>\n",
       "    </tr>\n",
       "  </tbody>\n",
       "</table>\n",
       "<p>4398 rows × 2 columns</p>\n",
       "</div>"
      ],
      "text/plain": [
       "        id    revenue\n",
       "0     3001   635307.0\n",
       "1     3002   390908.0\n",
       "2     3003   964270.0\n",
       "3     3004   670423.0\n",
       "4     3005   365305.0\n",
       "...    ...        ...\n",
       "4393  7394  6839870.0\n",
       "4394  7395  6008257.0\n",
       "4395  7396  9819793.0\n",
       "4396  7397   487934.0\n",
       "4397  7398   268685.0\n",
       "\n",
       "[4398 rows x 2 columns]"
      ]
     },
     "execution_count": 134,
     "metadata": {},
     "output_type": "execute_result"
    }
   ],
   "source": [
    "subdf"
   ]
  },
  {
   "cell_type": "code",
   "execution_count": 135,
   "metadata": {},
   "outputs": [],
   "source": [
    "subdf.to_csv(\"Submission14.csv\")"
   ]
  },
  {
   "cell_type": "code",
   "execution_count": null,
   "metadata": {},
   "outputs": [],
   "source": []
  },
  {
   "cell_type": "code",
   "execution_count": null,
   "metadata": {},
   "outputs": [],
   "source": [
    "# month released \n",
    "# week released etc. \n",
    "# number of keywords \n",
    "# cast gender? "
   ]
  }
 ],
 "metadata": {
  "kernelspec": {
   "display_name": "Python 3",
   "language": "python",
   "name": "python3"
  },
  "language_info": {
   "codemirror_mode": {
    "name": "ipython",
    "version": 3
   },
   "file_extension": ".py",
   "mimetype": "text/x-python",
   "name": "python",
   "nbconvert_exporter": "python",
   "pygments_lexer": "ipython3",
   "version": "3.7.9"
  }
 },
 "nbformat": 4,
 "nbformat_minor": 4
}
