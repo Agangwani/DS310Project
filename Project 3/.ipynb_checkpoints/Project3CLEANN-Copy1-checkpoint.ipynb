{
 "cells": [
  {
   "cell_type": "code",
   "execution_count": 1,
   "metadata": {},
   "outputs": [],
   "source": [
    "import numpy as np\n",
    "import pandas as pd\n",
    "from matplotlib import pyplot as plt\n",
    "from datetime import date, time, datetime"
   ]
  },
  {
   "cell_type": "code",
   "execution_count": 2,
   "metadata": {},
   "outputs": [],
   "source": [
    "train_users = pd.read_csv(\"proj3_data/train_users.csv\",parse_dates=['timestamp_first_active','date_account_created','date_first_booking'])\n",
    "test_users = pd.read_csv(\"proj3_data/test_users.csv\",parse_dates=['timestamp_first_active','date_account_created','date_first_booking'])\n",
    "sessions = pd.read_csv(\"proj3_data/sessions.csv\")"
   ]
  },
  {
   "cell_type": "code",
   "execution_count": 3,
   "metadata": {},
   "outputs": [],
   "source": [
    "Y = train_users['country_destination'] # these are our labels\n",
    "train_users = train_users.drop('country_destination', axis =1)"
   ]
  },
  {
   "cell_type": "code",
   "execution_count": 4,
   "metadata": {},
   "outputs": [
    {
     "data": {
      "text/plain": [
       "Index(['id', 'date_account_created', 'timestamp_first_active',\n",
       "       'date_first_booking', 'gender', 'age', 'signup_method', 'signup_flow',\n",
       "       'language', 'affiliate_channel', 'affiliate_provider',\n",
       "       'first_affiliate_tracked', 'signup_app', 'first_device_type',\n",
       "       'first_browser'],\n",
       "      dtype='object')"
      ]
     },
     "execution_count": 4,
     "metadata": {},
     "output_type": "execute_result"
    }
   ],
   "source": [
    "train_users.columns # exploratory "
   ]
  },
  {
   "cell_type": "code",
   "execution_count": 5,
   "metadata": {},
   "outputs": [],
   "source": [
    "df_all = pd.concat((train_users, test_users), axis = 0, ignore_index= True)"
   ]
  },
  {
   "cell_type": "code",
   "execution_count": 6,
   "metadata": {},
   "outputs": [],
   "source": [
    "from sklearn.preprocessing import MinMaxScaler\n",
    "\n",
    "# Splitting date time data for date account created\n",
    "df_all['dac_year'] = df_all.date_account_created.dt.year\n",
    "df_all['dac_month'] = df_all.date_account_created.dt.month\n",
    "df_all['dac_day'] = df_all.date_account_created.dt.day\n",
    "\n",
    "# Splitting date time data for time first active\n",
    "df_all['tfa_year'] = df_all.timestamp_first_active.dt.year\n",
    "df_all['tfa_month'] = df_all.timestamp_first_active.dt.month\n",
    "df_all['tfa_day'] = df_all.timestamp_first_active.dt.day\n",
    "\n",
    "df_all.drop('date_account_created',1, inplace=True)\n",
    "df_all.drop('timestamp_first_active',1, inplace=True)\n",
    "\n"
   ]
  },
  {
   "cell_type": "code",
   "execution_count": 7,
   "metadata": {},
   "outputs": [],
   "source": [
    "\n",
    "#df_all.loc[df_all.age > 100, 'age'] = np.nan\n",
    "#df_all.loc[df_all.age < 18, 'age'] = np.nan\n",
    "\n",
    "age_values = df_all.age.values\n",
    "df_all['age'] = np.where(age_values>1000, np.random.randint(28, 43), age_values)\n",
    "df_all['age'] = df_all['age'].fillna(np.random.randint(28, 43))\n",
    "\n"
   ]
  },
  {
   "cell_type": "code",
   "execution_count": 8,
   "metadata": {},
   "outputs": [],
   "source": [
    "by_signup_device = df_all.groupby(['signup_method', 'first_device_type'])\n",
    "def impute_median(series):\n",
    "    return series.fillna(series.median())\n",
    "df_all.age = by_signup_device['age'].transform(impute_median)"
   ]
  },
  {
   "cell_type": "code",
   "execution_count": 9,
   "metadata": {},
   "outputs": [],
   "source": [
    "tracked = []\n",
    "\n",
    "for i in df_all['first_affiliate_tracked']:\n",
    "    if i == \"untracked\" or i == \"\":\n",
    "        isTracked = 0\n",
    "    else:\n",
    "        isTracked = 1\n",
    "    tracked.append(isTracked)\n",
    "\n",
    "df_all['is_first_affiliate_tracked'] = tracked"
   ]
  },
  {
   "cell_type": "code",
   "execution_count": null,
   "metadata": {},
   "outputs": [],
   "source": []
  },
  {
   "cell_type": "code",
   "execution_count": 10,
   "metadata": {},
   "outputs": [],
   "source": [
    "#seconds = sessions.groupby('id', as_index=False).agg({\"secs_elapsed\": \"sum\"})\n",
    "#seconds.head()\n",
    "#df_all = pd.merge(df_all, seconds, on=\"id\", how=\"left\")\n",
    "#df_all['secs_elapsed'] = df_all['secs_elapsed'].fillna(0)"
   ]
  },
  {
   "cell_type": "code",
   "execution_count": 11,
   "metadata": {},
   "outputs": [],
   "source": [
    "method = pd.get_dummies(df_all[[\"signup_method\"]])\n",
    "affch = pd.get_dummies(df_all[[\"affiliate_channel\"]])\n",
    "affprov = pd.get_dummies(df_all[[\"affiliate_provider\"]])\n",
    "firstdevice = pd.get_dummies(df_all[[\"first_device_type\"]])\n",
    "signupFlow = pd.get_dummies(df_all[[\"signup_flow\"]].astype(str))\n",
    "signup = pd.get_dummies(df_all[[\"signup_app\"]])\n",
    "genderdum = pd.get_dummies(df_all[[\"gender\"]])\n",
    "langdum = pd.get_dummies(df_all[[\"language\"]])\n",
    "browser = pd.get_dummies(df_all[[\"first_browser\"]])\n",
    "\n",
    "df2 = df_all\n",
    "\n",
    "df2 = pd.concat([df2.reset_index(drop=True),method.reset_index(drop=True)], axis=1)\n",
    "df2 = pd.concat([df2.reset_index(drop=True),affch.reset_index(drop=True)], axis=1)\n",
    "df2 = pd.concat([df2.reset_index(drop=True),affprov.reset_index(drop=True)], axis=1)\n",
    "df2 = pd.concat([df2.reset_index(drop=True),firstdevice.reset_index(drop=True)], axis=1)\n",
    "df2 = pd.concat([df2.reset_index(drop=True),signupFlow.reset_index(drop=True)], axis=1)\n",
    "df2 = pd.concat([df2.reset_index(drop=True),genderdum.reset_index(drop=True)], axis=1)\n",
    "df2 = pd.concat([df2.reset_index(drop=True),signup.reset_index(drop=True)], axis=1)\n",
    "df2 = pd.concat([df2.reset_index(drop=True),langdum.reset_index(drop=True)], axis=1)\n",
    "df2 = pd.concat([df2.reset_index(drop=True),browser.reset_index(drop=True)], axis=1)"
   ]
  },
  {
   "cell_type": "code",
   "execution_count": 12,
   "metadata": {},
   "outputs": [],
   "source": [
    "df2 = df2.drop(['id',  'date_first_booking','gender', \n",
    "          'signup_method',  'affiliate_channel', 'affiliate_provider', 'first_device_type', \n",
    "          'first_browser', 'signup_app', 'first_browser'], axis=1)\n",
    "\n"
   ]
  },
  {
   "cell_type": "code",
   "execution_count": 13,
   "metadata": {},
   "outputs": [],
   "source": [
    "df2 = df2.drop(\"language\", axis=1)"
   ]
  },
  {
   "cell_type": "code",
   "execution_count": 14,
   "metadata": {},
   "outputs": [],
   "source": [
    "df2 = df2.drop('signup_flow', axis=1)\n",
    "df2 = df2.drop(['first_affiliate_tracked'], axis=1)"
   ]
  },
  {
   "cell_type": "code",
   "execution_count": 15,
   "metadata": {},
   "outputs": [],
   "source": [
    "id_test = test_users['id']"
   ]
  },
  {
   "cell_type": "code",
   "execution_count": 16,
   "metadata": {},
   "outputs": [],
   "source": [
    "from sklearn.preprocessing import LabelEncoder\n",
    "\n",
    "train_users_n = train_users.shape[0]\n",
    "X_train = df2.values[:train_users_n]\n",
    "le = LabelEncoder()\n",
    "y_train = le.fit_transform(Y)   \n",
    "X_test = df2.values[train_users_n:]\n",
    "\n",
    "\n",
    "def generate_answer(y_pred, classifer_name):\n",
    "    #Taking the 5 classes with highest probabilities\n",
    "    ids = []  #list of ids\n",
    "    cts = []  #list of countries\n",
    "    for i in range(len(id_test)):\n",
    "        idx = id_test[i]\n",
    "        ids += [idx] * 5\n",
    "        cts += le.inverse_transform(np.argsort(y_pred[i])[::-1])[:5].tolist()\n",
    "    \n",
    "    sub = pd.DataFrame(np.column_stack((ids, cts)), columns=['id', 'country'])\n",
    "    sub.to_csv(classifer_name+'.csv',index=False)\n",
    "    return sub"
   ]
  },
  {
   "cell_type": "code",
   "execution_count": null,
   "metadata": {},
   "outputs": [],
   "source": [
    "from xgboost.sklearn import XGBClassifier\n",
    "\n",
    "xgb = XGBClassifier(max_depth=6, learning_rate=0.3, n_estimators=25,\n",
    "                    objective='multi:softprob', subsample=0.5, colsample_bytree=0.5, seed=0)                  \n",
    "xgb.fit(X_train, y_train)\n",
    "y_pred_xgb = xgb.predict_proba(X_test)\n"
   ]
  },
  {
   "cell_type": "code",
   "execution_count": null,
   "metadata": {},
   "outputs": [],
   "source": [
    "generate_answer(y_pred_xgb, 'XGB')"
   ]
  },
  {
   "cell_type": "code",
   "execution_count": null,
   "metadata": {},
   "outputs": [],
   "source": [
    "from xgboost import plot_importance\n",
    "from matplotlib import pyplot\n",
    "plot_importance(age)\n",
    "pyplot.shot()"
   ]
  }
 ],
 "metadata": {
  "kernelspec": {
   "display_name": "Python 3",
   "language": "python",
   "name": "python3"
  }
 },
 "nbformat": 4,
 "nbformat_minor": 4
}
