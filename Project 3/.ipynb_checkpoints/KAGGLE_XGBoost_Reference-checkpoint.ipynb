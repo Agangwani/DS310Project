{
 "cells": [
  {
   "cell_type": "code",
   "execution_count": 1,
   "metadata": {},
   "outputs": [],
   "source": [
    "#importing neccessary libraries\n",
    "import pandas as pd\n",
    "import numpy as np\n",
    "import matplotlib.pyplot as plt\n",
    "%matplotlib inline\n",
    "import seaborn as sns\n",
    "import datetime\n",
    "from sklearn.preprocessing import LabelEncoder\n",
    "from xgboost.sklearn import XGBClassifier\n",
    "import warnings\n",
    "warnings.filterwarnings('ignore')\n"
   ]
  },
  {
   "cell_type": "markdown",
   "metadata": {},
   "source": [
    "# Loading the main train and test files.\n",
    "## We don't need the extras but we're using them for feature generation. "
   ]
  },
  {
   "cell_type": "code",
   "execution_count": 2,
   "metadata": {},
   "outputs": [
    {
     "data": {
      "text/plain": [
       "'print(\"TRAIN \\n\")\\n\\n\\nprint(df_train.head(5))\\nprint(\"COUNTRIES \\n\")\\nprint(countries.head(5))\\nprint(\"AGE GENDER\\n\")\\n\\n\\nprint(ageGenderBucket.head(5))\\nprint(\"SESSION\\n\")\\n\\n\\nprint(sessions.head(5))'"
      ]
     },
     "execution_count": 2,
     "metadata": {},
     "output_type": "execute_result"
    }
   ],
   "source": [
    "#Loading the Data\n",
    "df_train = pd.read_csv('train_users.csv')\n",
    "df_test = pd.read_csv('test_users.csv')\n",
    "df_train.shape, df_test.shape\n",
    "\n",
    "countries = pd.read_csv('countries.csv')\n",
    "\n",
    "ageGenderBucket = pd.read_csv('age_gender_bkts.csv')\n",
    "\n",
    "sessions = pd.read_csv('sessions.csv')\n",
    "\n",
    "\"\"\"print(\"TRAIN \\n\")\n",
    "\n",
    "\n",
    "print(df_train.head(5))\n",
    "print(\"COUNTRIES \\n\")\n",
    "print(countries.head(5))\n",
    "print(\"AGE GENDER\\n\")\n",
    "\n",
    "\n",
    "print(ageGenderBucket.head(5))\n",
    "print(\"SESSION\\n\")\n",
    "\n",
    "\n",
    "print(sessions.head(5))\"\"\"\n",
    "\n"
   ]
  },
  {
   "cell_type": "markdown",
   "metadata": {},
   "source": [
    "# This was testing for our sessions in order to see how to get certain data. We want to apply this to all our data so let's do this after we make it all.  "
   ]
  },
  {
   "cell_type": "markdown",
   "metadata": {},
   "source": [
    "#df_train.where(df_train == \"d1mm9tcy42\")\n",
    "above_35 = df_train[df_train[\"id\"] == \"d1mm9tcy42\"]\n",
    "above_35\n",
    "userIdTest = sessions[sessions[\"user_id\"] == \"d1mm9tcy42\"]\n",
    "print(userIdTest)\n",
    "\n",
    "df_train.country_destination.unique()\n",
    "#print(countries.country_destination == \"NDF\")\n",
    "\n",
    "sessions.action.unique()"
   ]
  },
  {
   "cell_type": "code",
   "execution_count": 3,
   "metadata": {},
   "outputs": [],
   "source": [
    "labels = df_train.country_destination.values\n",
    "id_test = df_test.id\n",
    "df_train.drop(['country_destination'], axis = 1)\n",
    "#Concatenating train and test data for EDA\n",
    "df_all = pd.concat((df_train, df_test), axis = 0, ignore_index= True)"
   ]
  },
  {
   "cell_type": "code",
   "execution_count": 46,
   "metadata": {},
   "outputs": [
    {
     "name": "stdout",
     "output_type": "stream",
     "text": [
      "['Windows Desktop' '-unknown-']\n",
      "Empty DataFrame\n",
      "Columns: [country_destination, language_levenshtein_distance, id, date_account_created, timestamp_first_active, date_first_booking, gender, age, signup_method, signup_flow, language, affiliate_channel, affiliate_provider, first_affiliate_tracked, signup_app, first_device_type, first_browser]\n",
      "Index: []\n"
     ]
    },
    {
     "data": {
      "text/html": [
       "<div>\n",
       "<style scoped>\n",
       "    .dataframe tbody tr th:only-of-type {\n",
       "        vertical-align: middle;\n",
       "    }\n",
       "\n",
       "    .dataframe tbody tr th {\n",
       "        vertical-align: top;\n",
       "    }\n",
       "\n",
       "    .dataframe thead th {\n",
       "        text-align: right;\n",
       "    }\n",
       "</style>\n",
       "<table border=\"1\" class=\"dataframe\">\n",
       "  <thead>\n",
       "    <tr style=\"text-align: right;\">\n",
       "      <th></th>\n",
       "      <th>id</th>\n",
       "      <th>date_account_created</th>\n",
       "      <th>timestamp_first_active</th>\n",
       "      <th>date_first_booking</th>\n",
       "      <th>gender</th>\n",
       "      <th>age</th>\n",
       "      <th>signup_method</th>\n",
       "      <th>signup_flow</th>\n",
       "      <th>language</th>\n",
       "      <th>affiliate_channel</th>\n",
       "      <th>affiliate_provider</th>\n",
       "      <th>first_affiliate_tracked</th>\n",
       "      <th>signup_app</th>\n",
       "      <th>first_device_type</th>\n",
       "      <th>first_browser</th>\n",
       "      <th>country_destination</th>\n",
       "    </tr>\n",
       "  </thead>\n",
       "  <tbody>\n",
       "    <tr>\n",
       "      <th>137021</th>\n",
       "      <td>d1mm9tcy42</td>\n",
       "      <td>2014-01-01</td>\n",
       "      <td>20140101000936</td>\n",
       "      <td>2014-01-04</td>\n",
       "      <td>MALE</td>\n",
       "      <td>62.0</td>\n",
       "      <td>basic</td>\n",
       "      <td>0</td>\n",
       "      <td>en</td>\n",
       "      <td>sem-non-brand</td>\n",
       "      <td>google</td>\n",
       "      <td>omg</td>\n",
       "      <td>Web</td>\n",
       "      <td>Windows Desktop</td>\n",
       "      <td>Chrome</td>\n",
       "      <td>other</td>\n",
       "    </tr>\n",
       "  </tbody>\n",
       "</table>\n",
       "</div>"
      ],
      "text/plain": [
       "                id date_account_created  timestamp_first_active  \\\n",
       "137021  d1mm9tcy42           2014-01-01          20140101000936   \n",
       "\n",
       "       date_first_booking gender   age signup_method  signup_flow language  \\\n",
       "137021         2014-01-04   MALE  62.0         basic            0       en   \n",
       "\n",
       "       affiliate_channel affiliate_provider first_affiliate_tracked  \\\n",
       "137021     sem-non-brand             google                     omg   \n",
       "\n",
       "       signup_app first_device_type first_browser country_destination  \n",
       "137021        Web   Windows Desktop        Chrome               other  "
      ]
     },
     "execution_count": 46,
     "metadata": {},
     "output_type": "execute_result"
    }
   ],
   "source": [
    "print(sessions[sessions.user_id==\"d1mm9tcy42\"].device_type.unique())\n",
    "\n",
    "print(df_all[df_all.id ==\"d1mm9tcy42\"])\n",
    "\n",
    "above_35 = df_train[df_train[\"id\"] == \"d1mm9tcy42\"]\n",
    "above_35"
   ]
  },
  {
   "cell_type": "code",
   "execution_count": 4,
   "metadata": {},
   "outputs": [
    {
     "data": {
      "text/plain": [
       "(275547, 16)"
      ]
     },
     "execution_count": 4,
     "metadata": {},
     "output_type": "execute_result"
    }
   ],
   "source": [
    "df_all.shape"
   ]
  },
  {
   "cell_type": "code",
   "execution_count": 5,
   "metadata": {
    "scrolled": true
   },
   "outputs": [
    {
     "data": {
      "text/html": [
       "<div>\n",
       "<style scoped>\n",
       "    .dataframe tbody tr th:only-of-type {\n",
       "        vertical-align: middle;\n",
       "    }\n",
       "\n",
       "    .dataframe tbody tr th {\n",
       "        vertical-align: top;\n",
       "    }\n",
       "\n",
       "    .dataframe thead th {\n",
       "        text-align: right;\n",
       "    }\n",
       "</style>\n",
       "<table border=\"1\" class=\"dataframe\">\n",
       "  <thead>\n",
       "    <tr style=\"text-align: right;\">\n",
       "      <th></th>\n",
       "      <th>id</th>\n",
       "      <th>date_account_created</th>\n",
       "      <th>timestamp_first_active</th>\n",
       "      <th>date_first_booking</th>\n",
       "      <th>gender</th>\n",
       "      <th>age</th>\n",
       "      <th>signup_method</th>\n",
       "      <th>signup_flow</th>\n",
       "      <th>language</th>\n",
       "      <th>affiliate_channel</th>\n",
       "      <th>affiliate_provider</th>\n",
       "      <th>first_affiliate_tracked</th>\n",
       "      <th>signup_app</th>\n",
       "      <th>first_device_type</th>\n",
       "      <th>first_browser</th>\n",
       "      <th>country_destination</th>\n",
       "    </tr>\n",
       "  </thead>\n",
       "  <tbody>\n",
       "    <tr>\n",
       "      <th>0</th>\n",
       "      <td>gxn3p5htnn</td>\n",
       "      <td>2010-06-28</td>\n",
       "      <td>20090319043255</td>\n",
       "      <td>NaN</td>\n",
       "      <td>-unknown-</td>\n",
       "      <td>NaN</td>\n",
       "      <td>facebook</td>\n",
       "      <td>0</td>\n",
       "      <td>en</td>\n",
       "      <td>direct</td>\n",
       "      <td>direct</td>\n",
       "      <td>untracked</td>\n",
       "      <td>Web</td>\n",
       "      <td>Mac Desktop</td>\n",
       "      <td>Chrome</td>\n",
       "      <td>NDF</td>\n",
       "    </tr>\n",
       "    <tr>\n",
       "      <th>1</th>\n",
       "      <td>820tgsjxq7</td>\n",
       "      <td>2011-05-25</td>\n",
       "      <td>20090523174809</td>\n",
       "      <td>NaN</td>\n",
       "      <td>MALE</td>\n",
       "      <td>38.0</td>\n",
       "      <td>facebook</td>\n",
       "      <td>0</td>\n",
       "      <td>en</td>\n",
       "      <td>seo</td>\n",
       "      <td>google</td>\n",
       "      <td>untracked</td>\n",
       "      <td>Web</td>\n",
       "      <td>Mac Desktop</td>\n",
       "      <td>Chrome</td>\n",
       "      <td>NDF</td>\n",
       "    </tr>\n",
       "    <tr>\n",
       "      <th>2</th>\n",
       "      <td>4ft3gnwmtx</td>\n",
       "      <td>2010-09-28</td>\n",
       "      <td>20090609231247</td>\n",
       "      <td>2010-08-02</td>\n",
       "      <td>FEMALE</td>\n",
       "      <td>56.0</td>\n",
       "      <td>basic</td>\n",
       "      <td>3</td>\n",
       "      <td>en</td>\n",
       "      <td>direct</td>\n",
       "      <td>direct</td>\n",
       "      <td>untracked</td>\n",
       "      <td>Web</td>\n",
       "      <td>Windows Desktop</td>\n",
       "      <td>IE</td>\n",
       "      <td>US</td>\n",
       "    </tr>\n",
       "    <tr>\n",
       "      <th>3</th>\n",
       "      <td>bjjt8pjhuk</td>\n",
       "      <td>2011-12-05</td>\n",
       "      <td>20091031060129</td>\n",
       "      <td>2012-09-08</td>\n",
       "      <td>FEMALE</td>\n",
       "      <td>42.0</td>\n",
       "      <td>facebook</td>\n",
       "      <td>0</td>\n",
       "      <td>en</td>\n",
       "      <td>direct</td>\n",
       "      <td>direct</td>\n",
       "      <td>untracked</td>\n",
       "      <td>Web</td>\n",
       "      <td>Mac Desktop</td>\n",
       "      <td>Firefox</td>\n",
       "      <td>other</td>\n",
       "    </tr>\n",
       "    <tr>\n",
       "      <th>4</th>\n",
       "      <td>87mebub9p4</td>\n",
       "      <td>2010-09-14</td>\n",
       "      <td>20091208061105</td>\n",
       "      <td>2010-02-18</td>\n",
       "      <td>-unknown-</td>\n",
       "      <td>41.0</td>\n",
       "      <td>basic</td>\n",
       "      <td>0</td>\n",
       "      <td>en</td>\n",
       "      <td>direct</td>\n",
       "      <td>direct</td>\n",
       "      <td>untracked</td>\n",
       "      <td>Web</td>\n",
       "      <td>Mac Desktop</td>\n",
       "      <td>Chrome</td>\n",
       "      <td>US</td>\n",
       "    </tr>\n",
       "  </tbody>\n",
       "</table>\n",
       "</div>"
      ],
      "text/plain": [
       "           id date_account_created  timestamp_first_active date_first_booking  \\\n",
       "0  gxn3p5htnn           2010-06-28          20090319043255                NaN   \n",
       "1  820tgsjxq7           2011-05-25          20090523174809                NaN   \n",
       "2  4ft3gnwmtx           2010-09-28          20090609231247         2010-08-02   \n",
       "3  bjjt8pjhuk           2011-12-05          20091031060129         2012-09-08   \n",
       "4  87mebub9p4           2010-09-14          20091208061105         2010-02-18   \n",
       "\n",
       "      gender   age signup_method  signup_flow language affiliate_channel  \\\n",
       "0  -unknown-   NaN      facebook            0       en            direct   \n",
       "1       MALE  38.0      facebook            0       en               seo   \n",
       "2     FEMALE  56.0         basic            3       en            direct   \n",
       "3     FEMALE  42.0      facebook            0       en            direct   \n",
       "4  -unknown-  41.0         basic            0       en            direct   \n",
       "\n",
       "  affiliate_provider first_affiliate_tracked signup_app first_device_type  \\\n",
       "0             direct               untracked        Web       Mac Desktop   \n",
       "1             google               untracked        Web       Mac Desktop   \n",
       "2             direct               untracked        Web   Windows Desktop   \n",
       "3             direct               untracked        Web       Mac Desktop   \n",
       "4             direct               untracked        Web       Mac Desktop   \n",
       "\n",
       "  first_browser country_destination  \n",
       "0        Chrome                 NDF  \n",
       "1        Chrome                 NDF  \n",
       "2            IE                  US  \n",
       "3       Firefox               other  \n",
       "4        Chrome                  US  "
      ]
     },
     "execution_count": 5,
     "metadata": {},
     "output_type": "execute_result"
    }
   ],
   "source": [
    "df_all.head()"
   ]
  },
  {
   "cell_type": "code",
   "execution_count": 18,
   "metadata": {},
   "outputs": [
    {
     "name": "stdout",
     "output_type": "stream",
     "text": [
      "  country_destination  language_levenshtein_distance\n",
      "0                  AU                           0.00\n",
      "1                  CA                           0.00\n",
      "2                  DE                          72.61\n",
      "3                  ES                          92.25\n",
      "4                  FR                          92.06\n",
      "5                  GB                           0.00\n",
      "6                  IT                          89.40\n",
      "7                  NL                          63.22\n",
      "8                  PT                          95.45\n",
      "9                  US                           0.00\n"
     ]
    },
    {
     "data": {
      "text/html": [
       "<div>\n",
       "<style scoped>\n",
       "    .dataframe tbody tr th:only-of-type {\n",
       "        vertical-align: middle;\n",
       "    }\n",
       "\n",
       "    .dataframe tbody tr th {\n",
       "        vertical-align: top;\n",
       "    }\n",
       "\n",
       "    .dataframe thead th {\n",
       "        text-align: right;\n",
       "    }\n",
       "</style>\n",
       "<table border=\"1\" class=\"dataframe\">\n",
       "  <thead>\n",
       "    <tr style=\"text-align: right;\">\n",
       "      <th></th>\n",
       "      <th>country_destination</th>\n",
       "      <th>language_levenshtein_distance</th>\n",
       "      <th>id</th>\n",
       "      <th>date_account_created</th>\n",
       "      <th>timestamp_first_active</th>\n",
       "      <th>date_first_booking</th>\n",
       "      <th>gender</th>\n",
       "      <th>age</th>\n",
       "      <th>signup_method</th>\n",
       "      <th>signup_flow</th>\n",
       "      <th>language</th>\n",
       "      <th>affiliate_channel</th>\n",
       "      <th>affiliate_provider</th>\n",
       "      <th>first_affiliate_tracked</th>\n",
       "      <th>signup_app</th>\n",
       "      <th>first_device_type</th>\n",
       "      <th>first_browser</th>\n",
       "    </tr>\n",
       "  </thead>\n",
       "  <tbody>\n",
       "    <tr>\n",
       "      <th>0</th>\n",
       "      <td>AU</td>\n",
       "      <td>0.0</td>\n",
       "      <td>9kyyikfd0n</td>\n",
       "      <td>2010-07-13</td>\n",
       "      <td>20100713005813</td>\n",
       "      <td>2010-07-14</td>\n",
       "      <td>MALE</td>\n",
       "      <td>37.0</td>\n",
       "      <td>facebook</td>\n",
       "      <td>2</td>\n",
       "      <td>en</td>\n",
       "      <td>direct</td>\n",
       "      <td>direct</td>\n",
       "      <td>untracked</td>\n",
       "      <td>Web</td>\n",
       "      <td>Windows Desktop</td>\n",
       "      <td>IE</td>\n",
       "    </tr>\n",
       "    <tr>\n",
       "      <th>1</th>\n",
       "      <td>AU</td>\n",
       "      <td>0.0</td>\n",
       "      <td>j37yqxs2mv</td>\n",
       "      <td>2010-07-17</td>\n",
       "      <td>20100717200206</td>\n",
       "      <td>2010-09-08</td>\n",
       "      <td>MALE</td>\n",
       "      <td>44.0</td>\n",
       "      <td>basic</td>\n",
       "      <td>2</td>\n",
       "      <td>en</td>\n",
       "      <td>direct</td>\n",
       "      <td>direct</td>\n",
       "      <td>untracked</td>\n",
       "      <td>Web</td>\n",
       "      <td>Windows Desktop</td>\n",
       "      <td>Chrome</td>\n",
       "    </tr>\n",
       "    <tr>\n",
       "      <th>2</th>\n",
       "      <td>AU</td>\n",
       "      <td>0.0</td>\n",
       "      <td>ufql1b9dd6</td>\n",
       "      <td>2010-10-02</td>\n",
       "      <td>20101002235537</td>\n",
       "      <td>2010-10-09</td>\n",
       "      <td>-unknown-</td>\n",
       "      <td>33.0</td>\n",
       "      <td>basic</td>\n",
       "      <td>2</td>\n",
       "      <td>en</td>\n",
       "      <td>direct</td>\n",
       "      <td>direct</td>\n",
       "      <td>NaN</td>\n",
       "      <td>Web</td>\n",
       "      <td>Other/Unknown</td>\n",
       "      <td>-unknown-</td>\n",
       "    </tr>\n",
       "    <tr>\n",
       "      <th>3</th>\n",
       "      <td>AU</td>\n",
       "      <td>0.0</td>\n",
       "      <td>7i1wc34vxj</td>\n",
       "      <td>2010-11-09</td>\n",
       "      <td>20101109013423</td>\n",
       "      <td>2010-11-09</td>\n",
       "      <td>FEMALE</td>\n",
       "      <td>33.0</td>\n",
       "      <td>facebook</td>\n",
       "      <td>3</td>\n",
       "      <td>en</td>\n",
       "      <td>direct</td>\n",
       "      <td>direct</td>\n",
       "      <td>linked</td>\n",
       "      <td>Web</td>\n",
       "      <td>Mac Desktop</td>\n",
       "      <td>Chrome</td>\n",
       "    </tr>\n",
       "    <tr>\n",
       "      <th>4</th>\n",
       "      <td>AU</td>\n",
       "      <td>0.0</td>\n",
       "      <td>au8il8tsax</td>\n",
       "      <td>2010-11-10</td>\n",
       "      <td>20101110094308</td>\n",
       "      <td>2010-11-10</td>\n",
       "      <td>-unknown-</td>\n",
       "      <td>30.0</td>\n",
       "      <td>facebook</td>\n",
       "      <td>3</td>\n",
       "      <td>en</td>\n",
       "      <td>direct</td>\n",
       "      <td>direct</td>\n",
       "      <td>untracked</td>\n",
       "      <td>Web</td>\n",
       "      <td>Mac Desktop</td>\n",
       "      <td>Firefox</td>\n",
       "    </tr>\n",
       "    <tr>\n",
       "      <th>...</th>\n",
       "      <td>...</td>\n",
       "      <td>...</td>\n",
       "      <td>...</td>\n",
       "      <td>...</td>\n",
       "      <td>...</td>\n",
       "      <td>...</td>\n",
       "      <td>...</td>\n",
       "      <td>...</td>\n",
       "      <td>...</td>\n",
       "      <td>...</td>\n",
       "      <td>...</td>\n",
       "      <td>...</td>\n",
       "      <td>...</td>\n",
       "      <td>...</td>\n",
       "      <td>...</td>\n",
       "      <td>...</td>\n",
       "      <td>...</td>\n",
       "    </tr>\n",
       "    <tr>\n",
       "      <th>78809</th>\n",
       "      <td>US</td>\n",
       "      <td>0.0</td>\n",
       "      <td>ezuin5g4lu</td>\n",
       "      <td>2014-06-30</td>\n",
       "      <td>20140630224832</td>\n",
       "      <td>2015-01-27</td>\n",
       "      <td>-unknown-</td>\n",
       "      <td>33.0</td>\n",
       "      <td>basic</td>\n",
       "      <td>0</td>\n",
       "      <td>en</td>\n",
       "      <td>sem-brand</td>\n",
       "      <td>google</td>\n",
       "      <td>omg</td>\n",
       "      <td>Web</td>\n",
       "      <td>Windows Desktop</td>\n",
       "      <td>Chrome</td>\n",
       "    </tr>\n",
       "    <tr>\n",
       "      <th>78810</th>\n",
       "      <td>US</td>\n",
       "      <td>0.0</td>\n",
       "      <td>a1rvlsdijt</td>\n",
       "      <td>2014-06-30</td>\n",
       "      <td>20140630225157</td>\n",
       "      <td>2015-01-23</td>\n",
       "      <td>FEMALE</td>\n",
       "      <td>50.0</td>\n",
       "      <td>basic</td>\n",
       "      <td>0</td>\n",
       "      <td>en</td>\n",
       "      <td>sem-brand</td>\n",
       "      <td>google</td>\n",
       "      <td>omg</td>\n",
       "      <td>Web</td>\n",
       "      <td>Windows Desktop</td>\n",
       "      <td>Chrome</td>\n",
       "    </tr>\n",
       "    <tr>\n",
       "      <th>78811</th>\n",
       "      <td>US</td>\n",
       "      <td>0.0</td>\n",
       "      <td>msucfwmlzc</td>\n",
       "      <td>2014-06-30</td>\n",
       "      <td>20140630234729</td>\n",
       "      <td>2015-03-16</td>\n",
       "      <td>MALE</td>\n",
       "      <td>43.0</td>\n",
       "      <td>basic</td>\n",
       "      <td>0</td>\n",
       "      <td>en</td>\n",
       "      <td>direct</td>\n",
       "      <td>direct</td>\n",
       "      <td>untracked</td>\n",
       "      <td>Web</td>\n",
       "      <td>Windows Desktop</td>\n",
       "      <td>Firefox</td>\n",
       "    </tr>\n",
       "    <tr>\n",
       "      <th>78812</th>\n",
       "      <td>US</td>\n",
       "      <td>0.0</td>\n",
       "      <td>0k26r3mir0</td>\n",
       "      <td>2014-06-30</td>\n",
       "      <td>20140630235340</td>\n",
       "      <td>2014-07-13</td>\n",
       "      <td>FEMALE</td>\n",
       "      <td>36.0</td>\n",
       "      <td>basic</td>\n",
       "      <td>0</td>\n",
       "      <td>en</td>\n",
       "      <td>sem-brand</td>\n",
       "      <td>google</td>\n",
       "      <td>linked</td>\n",
       "      <td>Web</td>\n",
       "      <td>Mac Desktop</td>\n",
       "      <td>Safari</td>\n",
       "    </tr>\n",
       "    <tr>\n",
       "      <th>78813</th>\n",
       "      <td>US</td>\n",
       "      <td>0.0</td>\n",
       "      <td>qbxza0xojf</td>\n",
       "      <td>2014-06-30</td>\n",
       "      <td>20140630235547</td>\n",
       "      <td>2014-07-02</td>\n",
       "      <td>FEMALE</td>\n",
       "      <td>23.0</td>\n",
       "      <td>basic</td>\n",
       "      <td>0</td>\n",
       "      <td>en</td>\n",
       "      <td>sem-brand</td>\n",
       "      <td>google</td>\n",
       "      <td>omg</td>\n",
       "      <td>Web</td>\n",
       "      <td>Windows Desktop</td>\n",
       "      <td>IE</td>\n",
       "    </tr>\n",
       "  </tbody>\n",
       "</table>\n",
       "<p>78814 rows × 17 columns</p>\n",
       "</div>"
      ],
      "text/plain": [
       "      country_destination  language_levenshtein_distance          id  \\\n",
       "0                      AU                            0.0  9kyyikfd0n   \n",
       "1                      AU                            0.0  j37yqxs2mv   \n",
       "2                      AU                            0.0  ufql1b9dd6   \n",
       "3                      AU                            0.0  7i1wc34vxj   \n",
       "4                      AU                            0.0  au8il8tsax   \n",
       "...                   ...                            ...         ...   \n",
       "78809                  US                            0.0  ezuin5g4lu   \n",
       "78810                  US                            0.0  a1rvlsdijt   \n",
       "78811                  US                            0.0  msucfwmlzc   \n",
       "78812                  US                            0.0  0k26r3mir0   \n",
       "78813                  US                            0.0  qbxza0xojf   \n",
       "\n",
       "      date_account_created  timestamp_first_active date_first_booking  \\\n",
       "0               2010-07-13          20100713005813         2010-07-14   \n",
       "1               2010-07-17          20100717200206         2010-09-08   \n",
       "2               2010-10-02          20101002235537         2010-10-09   \n",
       "3               2010-11-09          20101109013423         2010-11-09   \n",
       "4               2010-11-10          20101110094308         2010-11-10   \n",
       "...                    ...                     ...                ...   \n",
       "78809           2014-06-30          20140630224832         2015-01-27   \n",
       "78810           2014-06-30          20140630225157         2015-01-23   \n",
       "78811           2014-06-30          20140630234729         2015-03-16   \n",
       "78812           2014-06-30          20140630235340         2014-07-13   \n",
       "78813           2014-06-30          20140630235547         2014-07-02   \n",
       "\n",
       "          gender   age signup_method  signup_flow language affiliate_channel  \\\n",
       "0           MALE  37.0      facebook            2       en            direct   \n",
       "1           MALE  44.0         basic            2       en            direct   \n",
       "2      -unknown-  33.0         basic            2       en            direct   \n",
       "3         FEMALE  33.0      facebook            3       en            direct   \n",
       "4      -unknown-  30.0      facebook            3       en            direct   \n",
       "...          ...   ...           ...          ...      ...               ...   \n",
       "78809  -unknown-  33.0         basic            0       en         sem-brand   \n",
       "78810     FEMALE  50.0         basic            0       en         sem-brand   \n",
       "78811       MALE  43.0         basic            0       en            direct   \n",
       "78812     FEMALE  36.0         basic            0       en         sem-brand   \n",
       "78813     FEMALE  23.0         basic            0       en         sem-brand   \n",
       "\n",
       "      affiliate_provider first_affiliate_tracked signup_app first_device_type  \\\n",
       "0                 direct               untracked        Web   Windows Desktop   \n",
       "1                 direct               untracked        Web   Windows Desktop   \n",
       "2                 direct                     NaN        Web     Other/Unknown   \n",
       "3                 direct                  linked        Web       Mac Desktop   \n",
       "4                 direct               untracked        Web       Mac Desktop   \n",
       "...                  ...                     ...        ...               ...   \n",
       "78809             google                     omg        Web   Windows Desktop   \n",
       "78810             google                     omg        Web   Windows Desktop   \n",
       "78811             direct               untracked        Web   Windows Desktop   \n",
       "78812             google                  linked        Web       Mac Desktop   \n",
       "78813             google                     omg        Web   Windows Desktop   \n",
       "\n",
       "      first_browser  \n",
       "0                IE  \n",
       "1            Chrome  \n",
       "2         -unknown-  \n",
       "3            Chrome  \n",
       "4           Firefox  \n",
       "...             ...  \n",
       "78809        Chrome  \n",
       "78810        Chrome  \n",
       "78811       Firefox  \n",
       "78812        Safari  \n",
       "78813            IE  \n",
       "\n",
       "[78814 rows x 17 columns]"
      ]
     },
     "execution_count": 18,
     "metadata": {},
     "output_type": "execute_result"
    }
   ],
   "source": [
    "temp = countries[['country_destination','language_levenshtein_distance']]\n",
    "print(temp)\n",
    "df_all = pd.merge(temp, df_all)\n",
    "df_all[]\n",
    "#countries"
   ]
  },
  {
   "cell_type": "code",
   "execution_count": null,
   "metadata": {},
   "outputs": [],
   "source": [
    "df_all[]"
   ]
  },
  {
   "cell_type": "code",
   "execution_count": 12,
   "metadata": {},
   "outputs": [
    {
     "name": "stdout",
     "output_type": "stream",
     "text": [
      "date_first_booking has 186639 null values.\n",
      "\n",
      "age has 116866 null values.\n",
      "\n",
      "first_affiliate_tracked has 6085 null values.\n",
      "\n",
      "country_destination has 62096 null values.\n",
      "\n"
     ]
    }
   ],
   "source": [
    "#Finding the number of null entries in each column.\n",
    "for i in df_all.columns:\n",
    "    ab = df_all[i].isnull().sum()\n",
    "    if ab != 0:\n",
    "        print(i + \" has {} null values.\".format(ab))\n",
    "        print()"
   ]
  },
  {
   "cell_type": "code",
   "execution_count": null,
   "metadata": {
    "scrolled": false
   },
   "outputs": [],
   "source": [
    "df_all.info()"
   ]
  },
  {
   "cell_type": "code",
   "execution_count": null,
   "metadata": {},
   "outputs": [],
   "source": []
  },
  {
   "cell_type": "code",
   "execution_count": null,
   "metadata": {},
   "outputs": [],
   "source": [
    "df_all = df_all.drop(['id','country_destination','date_first_booking'], axis = 1)"
   ]
  },
  {
   "cell_type": "code",
   "execution_count": null,
   "metadata": {},
   "outputs": [],
   "source": [
    "for i in df_all.columns:\n",
    "    ab = df_all[i].isnull().sum()\n",
    "    if ab != 0:\n",
    "        print(i + \" has {} null values.\".format(ab))\n",
    "        print()"
   ]
  },
  {
   "cell_type": "code",
   "execution_count": null,
   "metadata": {},
   "outputs": [],
   "source": [
    "df_all.head()"
   ]
  },
  {
   "cell_type": "code",
   "execution_count": null,
   "metadata": {},
   "outputs": [],
   "source": [
    "df_all.gender.value_counts()"
   ]
  },
  {
   "cell_type": "code",
   "execution_count": null,
   "metadata": {},
   "outputs": [],
   "source": [
    "df_all.age.describe()"
   ]
  },
  {
   "cell_type": "code",
   "execution_count": null,
   "metadata": {},
   "outputs": [],
   "source": [
    "df_all[df_all['age']<15].age = np.nan\n",
    "df_all[df_all['age']>=100].age = np.nan"
   ]
  },
  {
   "cell_type": "code",
   "execution_count": null,
   "metadata": {},
   "outputs": [],
   "source": [
    "#Converting below columns as categories for plotting in graphs\n",
    "categorical_features = [\n",
    "    'affiliate_channel',\n",
    "    'affiliate_provider',\n",
    "    'first_affiliate_tracked',\n",
    "    'first_browser',\n",
    "    'first_device_type',\n",
    "    'gender',\n",
    "    'language',\n",
    "    'signup_app',\n",
    "    'signup_method',\n",
    "    'signup_flow'\n",
    "]\n",
    "\n",
    "for categorical_feature in categorical_features:\n",
    "    df_all[categorical_feature] = df_all[categorical_feature].astype('category')"
   ]
  },
  {
   "cell_type": "code",
   "execution_count": null,
   "metadata": {},
   "outputs": [],
   "source": [
    "df_all['date_account_created'] = pd.to_datetime(df_all['date_account_created'])\n",
    "df_all['timestamp_first_active'] = pd.to_datetime(df_all['timestamp_first_active'], format='%Y%m%d%H%M%S')"
   ]
  },
  {
   "cell_type": "markdown",
   "metadata": {},
   "source": [
    "# Visualizations"
   ]
  },
  {
   "cell_type": "markdown",
   "metadata": {},
   "source": [
    "#### Univariate plots"
   ]
  },
  {
   "cell_type": "code",
   "execution_count": null,
   "metadata": {},
   "outputs": [],
   "source": [
    "sns.set_style('whitegrid')\n",
    "sns.set_context(\"talk\")"
   ]
  },
  {
   "cell_type": "code",
   "execution_count": null,
   "metadata": {},
   "outputs": [],
   "source": [
    "#Finding the gender distribution\n",
    "\n",
    "plt.figure(figsize=(14,8))\n",
    "order1 = df_all['gender'].value_counts().index\n",
    "sns.countplot(data = df_all, x = 'gender', order = order1, color = sns.color_palette()[0])\n",
    "plt.xlabel('Gender')\n",
    "plt.ylabel('Count')\n",
    "plt.title('Gender Distribution')\n",
    "order2 = df_all['gender'].value_counts()\n",
    "\n",
    "for i in range(order2.shape[0]):\n",
    "    count = order2[i]\n",
    "    strt='{:0.1f}%'.format(100*count / df_all.shape[0])\n",
    "    plt.text(i,count+1000,strt,ha='center')"
   ]
  },
  {
   "cell_type": "code",
   "execution_count": null,
   "metadata": {},
   "outputs": [],
   "source": [
    "#Finding Destination Distribution.\n",
    "\n",
    "plt.figure(figsize=(14,8))\n",
    "order1 = df_train['country_destination'].value_counts().index\n",
    "sns.countplot(data = df_train, x = 'country_destination', order = order1, color = sns.color_palette()[1])\n",
    "plt.xlabel('Destination')\n",
    "plt.ylabel('Count')\n",
    "plt.title('Destination Distribution')\n",
    "order2 = df_train['country_destination'].value_counts()\n",
    "\n",
    "for i in range(order2.shape[0]):\n",
    "    count = order2[i]\n",
    "    strt='{:0.1f}%'.format(100*count / df_train.shape[0])\n",
    "    plt.text(i,count+1000,strt,ha='center')"
   ]
  },
  {
   "cell_type": "code",
   "execution_count": null,
   "metadata": {},
   "outputs": [],
   "source": [
    "#Extracting year for date_account_created\n",
    "df_all['acc_year'] = df_all['date_account_created'].dt.year\n",
    "\n",
    "\n",
    "df1 = df_all.groupby('acc_year').count()\n",
    "df1.head()\n",
    "\n",
    "years = [2010,2011,2012,2013,2014]\n",
    "yearsOrder=pd.api.types.CategoricalDtype(ordered=True, categories=years)\n",
    "df1.reset_index(inplace = True)\n",
    "df1.acc_year = df1.acc_year.astype(yearsOrder)"
   ]
  },
  {
   "cell_type": "code",
   "execution_count": null,
   "metadata": {},
   "outputs": [],
   "source": [
    "#Finding year-wise distribution\n",
    "\n",
    "plt.figure(figsize=[14,8])\n",
    "sns.barplot(data=df1,x='acc_year',y='affiliate_provider',color=sns.color_palette()[2]);\n",
    "plt.title('Year wise distribution');\n",
    "plt.xlabel('Year')\n",
    "plt.ylabel('Counts')\n",
    "for i in range(df1.shape[0]):\n",
    "    count=df1.iloc[i]['affiliate_provider']\n",
    "    strt='{:0.2f}%'.format(100*count/df_all.shape[0])\n",
    "    plt.text(i,count+1000,strt,ha='center')"
   ]
  },
  {
   "cell_type": "code",
   "execution_count": null,
   "metadata": {},
   "outputs": [],
   "source": [
    "# Creating a month centered dataframe for 2014\n",
    "df2 = df_all[df_all['date_account_created'].dt.year==2014]\n",
    "df2['monthYear14'] = df2['date_account_created'].map(lambda x: x.strftime('%m-%Y'))\n",
    "df2 = df2.groupby('monthYear14').count()"
   ]
  },
  {
   "cell_type": "code",
   "execution_count": null,
   "metadata": {},
   "outputs": [],
   "source": [
    "#Number of accounts created in different month of 2014\n",
    "\n",
    "plt.figure(figsize=[14,8])\n",
    "sns.barplot(data=df2,x=df2.index,y='affiliate_provider',color=sns.color_palette()[3]);\n",
    "plt.title('2014 month wise distribution');\n",
    "plt.xlabel('Month-Year')\n",
    "plt.ylabel('Counts')\n",
    "for i in range(df2.shape[0]):\n",
    "    count=df2.iloc[i]['affiliate_provider']\n",
    "    strt='{:0.2f}%'.format(100*count/df_all.shape[0])\n",
    "    plt.text(i,count+100,strt,ha='center')"
   ]
  },
  {
   "cell_type": "code",
   "execution_count": null,
   "metadata": {},
   "outputs": [],
   "source": [
    "#Dividing member ages into various bins\n",
    "\n",
    "df_all['member_age_bins']=df_all['age'].apply(lambda x: '18 - 20' if 18<x<=20\n",
    "                                                  else '20 - 30' if 20<x<=30\n",
    "                                                  else '30 - 40' if 30<x<=40\n",
    "                                                  else '40 - 50' if 40<x<=50\n",
    "                                                  else '50 - 60' if 50<x<=60\n",
    "                                                  else '60-70' if 60<x<=70\n",
    "                                                  else '70+' if 70<x<=100\n",
    "                                                  else np.nan)"
   ]
  },
  {
   "cell_type": "code",
   "execution_count": null,
   "metadata": {},
   "outputs": [],
   "source": [
    "df_all.head()"
   ]
  },
  {
   "cell_type": "code",
   "execution_count": null,
   "metadata": {},
   "outputs": [],
   "source": [
    "# Creating a month centered dataframe for 2014\n",
    "\n",
    "df3 = df_all[df_all['date_account_created'].dt.year==2013]\n",
    "df3['monthYear13'] = df3['date_account_created'].map(lambda x: x.strftime('%m-%Y'))\n",
    "df3 = df3.groupby('monthYear13').count()"
   ]
  },
  {
   "cell_type": "code",
   "execution_count": null,
   "metadata": {},
   "outputs": [],
   "source": [
    "#Number of accounts created in different month of 2014\n",
    "\n",
    "plt.figure(figsize=[14,8])\n",
    "sns.barplot(data=df3,x=df3.index,y='affiliate_provider',color=sns.color_palette()[4]);\n",
    "plt.title('2013 month wise distribution');\n",
    "plt.xlabel('Month-Year')\n",
    "plt.ylabel('Counts')\n",
    "for i in range(df3.shape[0]):\n",
    "    count=df3.iloc[i]['affiliate_provider']\n",
    "    strt='{:0.2f}%'.format(100*count/df_all.shape[0])\n",
    "    plt.text(i,count+100,strt,ha='center')"
   ]
  },
  {
   "cell_type": "code",
   "execution_count": null,
   "metadata": {},
   "outputs": [],
   "source": [
    "#Plotting Age distribution of the members\n",
    "plt.figure(figsize=[14,8])\n",
    "sns.distplot(df_all.age.dropna(),bins=np.arange(18,100+5,5),color=sns.color_palette()[5],kde=False);\n",
    "plt.xlabel('Age of members')\n",
    "plt.ylabel('Count')\n",
    "plt.title('Age distribution of Users')\n",
    "plt.xlim(18,100);"
   ]
  },
  {
   "cell_type": "markdown",
   "metadata": {},
   "source": [
    "#### Bivariate Plots"
   ]
  },
  {
   "cell_type": "code",
   "execution_count": null,
   "metadata": {},
   "outputs": [],
   "source": [
    "#Destination-Age distribution plot\n",
    "\n",
    "plt.figure(figsize=[14,8])\n",
    "sns.boxplot(data=df_train,y='age',x='country_destination',color=sns.color_palette()[6]);\n",
    "plt.ylim(18,100)\n",
    "plt.xlabel('Country');\n",
    "plt.ylabel('Age');\n",
    "plt.title('Country-Age Distribution');"
   ]
  },
  {
   "cell_type": "code",
   "execution_count": null,
   "metadata": {},
   "outputs": [],
   "source": [
    "#Gender-Age Distribution plot\n",
    "\n",
    "plt.figure(figsize=[14,8])\n",
    "sns.boxplot(data=df_all,y='age',x='gender',color=sns.color_palette()[7]);\n",
    "plt.ylim(18,100)\n",
    "plt.xlabel('Gender');\n",
    "plt.ylabel('Age');\n",
    "plt.title('Gender-Age Distribution');"
   ]
  },
  {
   "cell_type": "code",
   "execution_count": null,
   "metadata": {
    "scrolled": false
   },
   "outputs": [],
   "source": [
    "#Gender-Destination Distribution Plot\n",
    "\n",
    "plt.figure(figsize=(14,8))\n",
    "order1 = df_train['country_destination'].value_counts().index\n",
    "sns.countplot(data = df_train, x = 'country_destination', order = order1,hue='gender')\n",
    "plt.xlabel('Destination')\n",
    "plt.ylabel('Count')\n",
    "plt.title('Gender-Destination Distribution')\n",
    "order2 = df_train['country_destination'].value_counts()"
   ]
  },
  {
   "cell_type": "code",
   "execution_count": null,
   "metadata": {},
   "outputs": [],
   "source": [
    "df3 = df_all[df_all['date_account_created'].dt.year==2013]\n",
    "df3['monthYear13'] = df3['date_account_created'].map(lambda x: x.strftime('%m-%Y'))\n",
    "\n",
    "df3= df3.groupby(['monthYear13','member_age_bins']).count()\n",
    "\n",
    "df3.reset_index(inplace=True)"
   ]
  },
  {
   "cell_type": "code",
   "execution_count": null,
   "metadata": {},
   "outputs": [],
   "source": [
    "#Age wise distribution of the booking in different months of 2013\n",
    "\n",
    "plt.figure(figsize=[14,8])\n",
    "sns.pointplot(data=df3,x='monthYear13',y='affiliate_provider',hue='member_age_bins');\n",
    "plt.title('2013 month-age wise distribution');\n",
    "plt.xlabel('Month-Year')\n",
    "plt.ylabel('Counts')"
   ]
  },
  {
   "cell_type": "code",
   "execution_count": null,
   "metadata": {},
   "outputs": [],
   "source": [
    "df3 = df_all[df_all['date_account_created'].dt.year==2013]\n",
    "df3['monthYear13'] = df3['date_account_created'].map(lambda x: x.strftime('%m-%Y'))\n",
    "\n",
    "df3= df3.groupby(['monthYear13','gender']).count()\n",
    "\n",
    "df3.reset_index(inplace=True)"
   ]
  },
  {
   "cell_type": "code",
   "execution_count": null,
   "metadata": {},
   "outputs": [],
   "source": [
    "#Gender wise distribution of the booking in different months of 2013\n",
    "\n",
    "plt.figure(figsize=[14,8])\n",
    "sns.pointplot(data=df3,x='monthYear13',y='affiliate_provider',hue='gender');\n",
    "plt.title('2013 month-gender wise distribution');\n",
    "plt.xlabel('Month-Year')\n",
    "plt.ylabel('Counts')"
   ]
  },
  {
   "cell_type": "markdown",
   "metadata": {},
   "source": [
    "#### Multivariate Plot"
   ]
  },
  {
   "cell_type": "code",
   "execution_count": null,
   "metadata": {},
   "outputs": [],
   "source": [
    "#Relation ship between age-gender-destination\n",
    "\n",
    "plt.figure(figsize=[14,8])\n",
    "sns.boxplot(data=df_train,y='age',x='country_destination',hue='gender');\n",
    "plt.ylim(18,100)\n",
    "plt.xlabel('Country');\n",
    "plt.ylabel('Age');\n",
    "plt.title('Country-Age Distribution');"
   ]
  },
  {
   "cell_type": "markdown",
   "metadata": {},
   "source": [
    "# Computation for the Booking Destination"
   ]
  },
  {
   "cell_type": "code",
   "execution_count": null,
   "metadata": {},
   "outputs": [],
   "source": [
    "df_train = df_train.drop(['country_destination'], axis=1)"
   ]
  },
  {
   "cell_type": "code",
   "execution_count": null,
   "metadata": {},
   "outputs": [],
   "source": [
    "dfWork = pd.concat((df_train, df_test), axis=0, ignore_index=True)\n",
    "dfWork = dfWork.drop(['id', 'date_first_booking'], axis=1)\n",
    "#Filling nan\n",
    "dfWork = dfWork.fillna(-1)\n"
   ]
  },
  {
   "cell_type": "markdown",
   "metadata": {},
   "source": [
    "### Feature Engineering"
   ]
  },
  {
   "cell_type": "code",
   "execution_count": null,
   "metadata": {},
   "outputs": [],
   "source": [
    "#date_account_created\n",
    "\n",
    "dac = np.vstack(dfWork.date_account_created.astype(str).apply(lambda x: list(map(int, x.split('-')))).values)\n",
    "dfWork['dac_year'] = dac[:,0]\n",
    "dfWork['dac_month'] = dac[:,1]\n",
    "dfWork['dac_day'] = dac[:,2]\n",
    "dfWork = dfWork.drop(['date_account_created'], axis=1)"
   ]
  },
  {
   "cell_type": "code",
   "execution_count": null,
   "metadata": {},
   "outputs": [],
   "source": [
    "#timestamp_first_active\n",
    "\n",
    "tfa = np.vstack(dfWork.timestamp_first_active.astype(str).apply(lambda x: list(map(int, [x[:4],x[4:6],x[6:8],x[8:10],x[10:12],x[12:14]]))).values)\n",
    "dfWork['tfa_year'] = tfa[:,0]\n",
    "dfWork['tfa_month'] = tfa[:,1]\n",
    "dfWork['tfa_day'] = tfa[:,2]\n",
    "dfWork = dfWork.drop(['timestamp_first_active'], axis=1)"
   ]
  },
  {
   "cell_type": "code",
   "execution_count": null,
   "metadata": {},
   "outputs": [],
   "source": [
    "av = dfWork.age.values\n",
    "dfWork['age'] = np.where(np.logical_or(av<14, av>100), -1, av)"
   ]
  },
  {
   "cell_type": "markdown",
   "metadata": {},
   "source": [
    "### One hot Encoding"
   ]
  },
  {
   "cell_type": "code",
   "execution_count": null,
   "metadata": {},
   "outputs": [],
   "source": [
    "#One-hot-encoding features\n",
    "ohe_feats = ['gender', 'signup_method', 'signup_flow', 'language', 'affiliate_channel',\n",
    "             'affiliate_provider', 'first_affiliate_tracked', 'signup_app', 'first_device_type', 'first_browser'] \n",
    "for f in ohe_feats:\n",
    "    dfWork_dummy = pd.get_dummies(dfWork[f], prefix=f)\n",
    "    dfWork = dfWork.drop([f], axis=1)\n",
    "    dfWork = pd.concat((dfWork, dfWork_dummy), axis=1)"
   ]
  },
  {
   "cell_type": "code",
   "execution_count": null,
   "metadata": {},
   "outputs": [],
   "source": [
    "#Splitting train and test\n",
    "vals = dfWork.values\n",
    "X = vals[:df_train.shape[0]]\n",
    "le = LabelEncoder()\n",
    "y = le.fit_transform(labels)   \n",
    "X_test = vals[df_train.shape[0]:]"
   ]
  },
  {
   "cell_type": "code",
   "execution_count": null,
   "metadata": {},
   "outputs": [],
   "source": [
    "#Classifier\n",
    "xgb = XGBClassifier(max_depth=6, learning_rate=0.3, n_estimators=25,\n",
    "                    objective='multi:softprob', subsample=0.5, colsample_bytree=0.5, seed=0)                  \n",
    "xgb.fit(X, y)"
   ]
  },
  {
   "cell_type": "code",
   "execution_count": null,
   "metadata": {},
   "outputs": [],
   "source": [
    "#Prediction\n",
    "y_pred = xgb.predict_proba(X_test)"
   ]
  },
  {
   "cell_type": "code",
   "execution_count": null,
   "metadata": {},
   "outputs": [],
   "source": [
    "#Taking the 5 classes with highest probabilities\n",
    "ids = []  #list of ids\n",
    "cts = []  #list of countries\n",
    "for i in range(len(id_test)):\n",
    "    idx = id_test[i]\n",
    "    ids += [idx] * 5\n",
    "    cts += le.inverse_transform(np.argsort(y_pred[i])[::-1])[:5].tolist()"
   ]
  },
  {
   "cell_type": "code",
   "execution_count": null,
   "metadata": {},
   "outputs": [],
   "source": [
    "#Generate submission\n",
    "sub = pd.DataFrame(np.column_stack((ids, cts)), columns=['id', 'country'])\n",
    "sub.to_csv('sub.csv',index=False)"
   ]
  }
 ],
 "metadata": {
  "kernelspec": {
   "display_name": "Python 3",
   "language": "python",
   "name": "python3"
  },
  "language_info": {
   "codemirror_mode": {
    "name": "ipython",
    "version": 3
   },
   "file_extension": ".py",
   "mimetype": "text/x-python",
   "name": "python",
   "nbconvert_exporter": "python",
   "pygments_lexer": "ipython3",
   "version": "3.8.3"
  }
 },
 "nbformat": 4,
 "nbformat_minor": 4
}
